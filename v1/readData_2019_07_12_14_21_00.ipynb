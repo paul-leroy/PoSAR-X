{
 "cells": [
  {
   "cell_type": "code",
   "execution_count": null,
   "metadata": {},
   "outputs": [],
   "source": [
    "import numpy as np\n",
    "import matplotlib.pyplot as plt"
   ]
  },
  {
   "cell_type": "code",
   "execution_count": null,
   "metadata": {},
   "outputs": [],
   "source": [
    "%matplotlib qt5"
   ]
  },
  {
   "cell_type": "code",
   "execution_count": null,
   "metadata": {},
   "outputs": [],
   "source": [
    "%load_ext autoreload\n",
    "%autoreload 2"
   ]
  },
  {
   "cell_type": "code",
   "execution_count": null,
   "metadata": {},
   "outputs": [],
   "source": [
    "import sys"
   ]
  },
  {
   "cell_type": "code",
   "execution_count": null,
   "metadata": {},
   "outputs": [],
   "source": [
    "sys.path.insert(0, \"/home/pleroy/DEV/processing/PoSAR-MC\")\n",
    "from posarmctools.readdata import *"
   ]
  },
  {
   "cell_type": "code",
   "execution_count": null,
   "metadata": {},
   "outputs": [],
   "source": [
    "sys.path.insert(0, \"/home/pleroy/DEV/processing/focalization_python\")\n",
    "from posarutils.other.read_data_and_build_rd import *\n",
    "from posarutils.other.PosarMCParameters import *"
   ]
  },
  {
   "cell_type": "code",
   "execution_count": null,
   "metadata": {},
   "outputs": [],
   "source": [
    "data_date = \"2019_07_12_14_21_00\"\n",
    "data_dir = f\"/home/pleroy/DATA/PoSAR-X/PIMA-1/2019_07_12/{data_date}\""
   ]
  },
  {
   "cell_type": "code",
   "execution_count": null,
   "metadata": {},
   "outputs": [],
   "source": [
    "params_filename = data_dir + \"/\" + data_date + \"_parameters.xml\"\n",
    "params = PosarXParameters( params_filename )\n",
    "params.print()"
   ]
  },
  {
   "cell_type": "code",
   "execution_count": null,
   "metadata": {},
   "outputs": [],
   "source": [
    "buffersPerFile = params.buffersPerFile\n",
    "samplesPerRamp = params.samplesPerRamp\n",
    "rampsPerFile = params.rampsPerFile\n",
    "samplesPerFile = samplesPerRamp * rampsPerFile\n",
    "\n",
    "print( \"buffersPerFile = {}, samplesPerRamp = {}, rampsPerFile = {}\".format(\n",
    "    buffersPerFile, samplesPerRamp, rampsPerFile )\n",
    "     )\n",
    "\n",
    "# selection in record\n",
    "firstFile = 0\n",
    "nbFiles = 64\n",
    "lastFile = firstFile + nbFiles - 1\n",
    "firstBuffer = firstFile * buffersPerFile"
   ]
  },
  {
   "cell_type": "markdown",
   "metadata": {},
   "source": [
    "# Read the data"
   ]
  },
  {
   "cell_type": "code",
   "execution_count": null,
   "metadata": {},
   "outputs": [],
   "source": [
    "scalingFactor = 2 / 65535 \n",
    "offset = -32768"
   ]
  },
  {
   "cell_type": "code",
   "execution_count": null,
   "metadata": {},
   "outputs": [],
   "source": [
    "timeSerie_A = np.zeros( samplesPerFile )\n",
    "adc_A = np.zeros( (nbFiles, samplesPerFile) )"
   ]
  },
  {
   "cell_type": "code",
   "execution_count": null,
   "metadata": {},
   "outputs": [],
   "source": [
    "lastBuffer = (nbFiles-1) * buffersPerFile + firstBuffer\n",
    "for k in range( nbFiles ):\n",
    "    \n",
    "    # read the data\n",
    "    nb = str( int( k * buffersPerFile + firstBuffer) )\n",
    "    filename = data_dir + \"/record\" + nb + \".bin\"\n",
    "    readFileADLINKCh0( filename, samplesPerFile, timeSerie_A )\n",
    "    \n",
    "    print(\"k = {}, block = {} / {}\".format(k, nb, lastBuffer))\n",
    "    \n",
    "    adc_A[ k, : ] = (timeSerie_A + offset) * scalingFactor"
   ]
  },
  {
   "cell_type": "code",
   "execution_count": null,
   "metadata": {},
   "outputs": [],
   "source": [
    "A_reshaped = adc_A.reshape(nbFiles * rampsPerFile, samplesPerRamp)"
   ]
  },
  {
   "cell_type": "markdown",
   "metadata": {},
   "source": [
    "## Spectrum"
   ]
  },
  {
   "cell_type": "markdown",
   "metadata": {},
   "source": [
    "### No window"
   ]
  },
  {
   "cell_type": "code",
   "execution_count": null,
   "metadata": {},
   "outputs": [],
   "source": [
    "samplesPerDownRamp = int(samplesPerRamp/2)"
   ]
  },
  {
   "cell_type": "code",
   "execution_count": null,
   "metadata": {},
   "outputs": [],
   "source": [
    "fft_A = np.fft.ifft(A_reshaped[:, 0:samplesPerDownRamp], axis=1)"
   ]
  },
  {
   "cell_type": "code",
   "execution_count": null,
   "metadata": {},
   "outputs": [],
   "source": [
    "fft_abs = 20 * np.log10( np.abs( fft_A ) )"
   ]
  },
  {
   "cell_type": "code",
   "execution_count": null,
   "metadata": {},
   "outputs": [],
   "source": [
    "fig, ax = plt.subplots(1,1)\n",
    "ax.imshow( fft_abs[::100, 500:2000] )\n",
    "title = \"no window \" + data_date\n",
    "ax.set_title(title)\n",
    "fig.savefig( f\"{data_dir}/{title}.png\" )"
   ]
  },
  {
   "cell_type": "markdown",
   "metadata": {},
   "source": [
    "### Hanning"
   ]
  },
  {
   "cell_type": "code",
   "execution_count": null,
   "metadata": {},
   "outputs": [],
   "source": [
    "hanning = np.hanning(samplesPerDownRamp)"
   ]
  },
  {
   "cell_type": "code",
   "execution_count": null,
   "metadata": {},
   "outputs": [],
   "source": [
    "fft_A_hanning = np.fft.ifft(A_reshaped[:, 0:samplesPerDownRamp]*hanning, axis=1)"
   ]
  },
  {
   "cell_type": "code",
   "execution_count": null,
   "metadata": {},
   "outputs": [],
   "source": [
    "fft_abs_hanning = 20 * np.log10( np.abs( fft_A_hanning ) )"
   ]
  },
  {
   "cell_type": "code",
   "execution_count": null,
   "metadata": {},
   "outputs": [],
   "source": [
    "fig, ax = plt.subplots(1,1)\n",
    "ax.imshow( fft_abs_hanning[::100, 500:2000] )\n",
    "title = \"hanning \" + data_date\n",
    "ax.set_title(title)\n",
    "fig.savefig( f\"{data_dir}/{title}.png\" )"
   ]
  },
  {
   "cell_type": "markdown",
   "metadata": {},
   "source": [
    "### Compare data"
   ]
  },
  {
   "cell_type": "code",
   "execution_count": null,
   "metadata": {},
   "outputs": [],
   "source": [
    "idxLine = 0\n",
    "fig, ax = plt.subplots(1,1)\n",
    "ax.plot( fft_abs[idxLine,:], label=\"raw\"  )\n",
    "ax.plot( fft_abs_hanning[idxLine,:], label=\"hanning\"  )\n",
    "ax.legend()\n",
    "ax.grid()"
   ]
  },
  {
   "cell_type": "markdown",
   "metadata": {},
   "source": [
    "# Build RD"
   ]
  },
  {
   "cell_type": "markdown",
   "metadata": {},
   "source": [
    "**Check that the first ramp is an up ramp**"
   ]
  },
  {
   "cell_type": "code",
   "execution_count": null,
   "metadata": {},
   "outputs": [],
   "source": [
    "fig, ax = plt.subplots(1,1)\n",
    "ax.plot( A_reshaped[0, :] )\n",
    "title = \"first acquisition \" + data_date\n",
    "ax.set_title(title)\n",
    "ax.grid()\n",
    "fig.savefig( f\"{data_dir}/{title}.png\", bbox_inches='tight')"
   ]
  },
  {
   "cell_type": "markdown",
   "metadata": {},
   "source": [
    "**Set the shifted flag properly**"
   ]
  },
  {
   "cell_type": "code",
   "execution_count": null,
   "metadata": {},
   "outputs": [],
   "source": [
    "upOrDown = \"Up\"\n",
    "#upOrDown = \"Down\"\n",
    "\n",
    "if upOrDown == \"Down\":\n",
    "    rampDownFirst = 1\n",
    "    withHanning = 1\n",
    "    RDc = build_rd_from_data_rampDown( params, A_reshaped, rampDownFirst, withHanning )\n",
    "elif upOrDown == \"Up\":\n",
    "    rampUpFirst = 0\n",
    "    withHanning = 1\n",
    "    RDc = build_rd_from_data_rampUp( params, A_reshaped, rampUpFirst, withHanning )"
   ]
  },
  {
   "cell_type": "markdown",
   "metadata": {},
   "source": [
    "## Save data"
   ]
  },
  {
   "cell_type": "code",
   "execution_count": null,
   "metadata": {},
   "outputs": [],
   "source": [
    "if withHanning:\n",
    "    hanning = \"_hanning\"\n",
    "else:\n",
    "    hanning = \"\""
   ]
  },
  {
   "cell_type": "code",
   "execution_count": null,
   "metadata": {},
   "outputs": [],
   "source": [
    "coupling_RD = np.average(RDc, 0)\n",
    "coupling_name = f'{data_dir}/coupling_RD_files_{firstFile}_{lastFile}_ramp{upOrDown}{hanning}.npy'\n",
    "print( f\"load {coupling_name}\")\n",
    "np.save( coupling_name, coupling_RD )"
   ]
  },
  {
   "cell_type": "code",
   "execution_count": null,
   "metadata": {},
   "outputs": [],
   "source": [
    "plt.figure()\n",
    "plt.plot(np.abs(coupling_RD), 'k', label='coupling')\n",
    "plt.legend()\n",
    "plt.grid()"
   ]
  },
  {
   "cell_type": "code",
   "execution_count": null,
   "metadata": {},
   "outputs": [],
   "source": [
    "RD1_name = f'{data_dir}/RD_files_{firstFile}_{lastFile}_ramp{upOrDown}{hanning}.npy'\n",
    "print( f\"load {RD1_name}\")\n",
    "np.save( RD1_name, RDc) "
   ]
  },
  {
   "cell_type": "code",
   "execution_count": null,
   "metadata": {},
   "outputs": [],
   "source": []
  }
 ],
 "metadata": {
  "kernelspec": {
   "display_name": "Python 3",
   "language": "python",
   "name": "python3"
  },
  "language_info": {
   "codemirror_mode": {
    "name": "ipython",
    "version": 3
   },
   "file_extension": ".py",
   "mimetype": "text/x-python",
   "name": "python",
   "nbconvert_exporter": "python",
   "pygments_lexer": "ipython3",
   "version": "3.7.3"
  },
  "toc": {
   "base_numbering": 1,
   "nav_menu": {},
   "number_sections": true,
   "sideBar": true,
   "skip_h1_title": false,
   "title_cell": "Table of Contents",
   "title_sidebar": "Contents",
   "toc_cell": false,
   "toc_position": {},
   "toc_section_display": true,
   "toc_window_display": true
  },
  "varInspector": {
   "cols": {
    "lenName": 16,
    "lenType": 16,
    "lenVar": 40
   },
   "kernels_config": {
    "python": {
     "delete_cmd_postfix": "",
     "delete_cmd_prefix": "del ",
     "library": "var_list.py",
     "varRefreshCmd": "print(var_dic_list())"
    },
    "r": {
     "delete_cmd_postfix": ") ",
     "delete_cmd_prefix": "rm(",
     "library": "var_list.r",
     "varRefreshCmd": "cat(var_dic_list()) "
    }
   },
   "types_to_exclude": [
    "module",
    "function",
    "builtin_function_or_method",
    "instance",
    "_Feature"
   ],
   "window_display": false
  }
 },
 "nbformat": 4,
 "nbformat_minor": 2
}
