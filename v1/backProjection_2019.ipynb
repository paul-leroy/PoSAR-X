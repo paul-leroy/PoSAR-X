{
 "cells": [
  {
   "cell_type": "markdown",
   "metadata": {},
   "source": [
    "# Initialization"
   ]
  },
  {
   "cell_type": "code",
   "execution_count": 1,
   "metadata": {},
   "outputs": [],
   "source": [
    "import logging, os, sys, time\n",
    "\n",
    "import numpy as np\n",
    "import matplotlib.pyplot as plt\n",
    "from scipy import signal\n",
    "\n",
    "sys.path.insert(0, \"/home/pleroy/DEV/processing/PoSAR-MC\")\n",
    "import backprojection as tdbp\n",
    "from posarmctools import getNotebookLogger\n",
    "\n",
    "sys.path.insert(0, \"/home/pleroy/DEV/processing/focalization_python\")\n",
    "import posarutils.process.disp_PoSAR_img as disp\n",
    "from posarutils.process.disp_PoSAR_img import OPTt\n",
    "from posarutils.process.filtering import box_filter\n",
    "\n",
    "sys.path.insert(0, \"/home/pleroy/DEV/DIADEM\")\n",
    "import toolsdiadem.tools as dia\n",
    "\n",
    "# this is for the sceneReferencePoint.py module\n",
    "sys.path.insert(0, \"/home/pleroy/DATA/PoSAR-X/PIMA-1\")"
   ]
  },
  {
   "cell_type": "code",
   "execution_count": 2,
   "metadata": {},
   "outputs": [],
   "source": [
    "%matplotlib qt5\n",
    "eps = np.finfo(float).eps"
   ]
  },
  {
   "cell_type": "code",
   "execution_count": 3,
   "metadata": {},
   "outputs": [],
   "source": [
    "%load_ext autoreload\n",
    "%autoreload 2"
   ]
  },
  {
   "cell_type": "code",
   "execution_count": 4,
   "metadata": {},
   "outputs": [],
   "source": [
    "logger = getNotebookLogger(logging.INFO)"
   ]
  },
  {
   "cell_type": "code",
   "execution_count": 5,
   "metadata": {},
   "outputs": [],
   "source": [
    "libraryFilename = \"/home/pleroy/DEV/processing/PoSAR-MC/backprojection/ccpp/libbackprojection/liblibbackprojection.so\""
   ]
  },
  {
   "cell_type": "code",
   "execution_count": 6,
   "metadata": {},
   "outputs": [],
   "source": [
    "lib = tdbp.Lib(libraryFilename)"
   ]
  },
  {
   "cell_type": "markdown",
   "metadata": {},
   "source": [
    "# Load focusing configuration and data"
   ]
  },
  {
   "cell_type": "code",
   "execution_count": 7,
   "metadata": {},
   "outputs": [
    {
     "name": "stdout",
     "output_type": "stream",
     "text": [
      "======= Conf\n",
      "rec_dir /home/pleroy/DATA/PoSAR-X/PIMA-1/2019_07_12/2019_07_12_14_12_21\n",
      "======= Track\n",
      "======= Load analytic signal...\n",
      "load /home/pleroy/DATA/PoSAR-X/PIMA-1/2019_07_12/OUT/2019_07_12_14_12_21/Sa_files_0_58_rampUp_hanning.npy\n",
      "sa.shape (59000, 5000)\n",
      "existing analytic signal found and loaded\n",
      "======= Load antenna positions...\n",
      "load /home/pleroy/DATA/PoSAR-X/PIMA-1/2019_07_12/OUT/2019_07_12_14_12_21/n_time_xyz_nav_a.npy\n",
      "xa.shape (59000,)\n",
      "xa_mean = 1326910.42, ya_mean = 7218872.38, za_mean = 449.61\n",
      "======= Load Digital Terrain Elevation Data...\n",
      "get dataset\n",
      "build meshgrids\n",
      "build rectBivariateSpline\n",
      "======= Scene\n",
      "buildSceneGroundRange\n",
      "======= Set focusingParameters\n",
      "Nf 5000, Naz 59000, phi_a_deg 10.0, azRes 0.086\n",
      "range from 0.00m to 2499.95m, resolution = 0.5m, oversampled = 0.05m, \n"
     ]
    }
   ],
   "source": [
    "# 2020 06 25\n",
    "focusingDir = \"/home/pleroy/DATA/PoSAR-X/PIMA-1/2019_07_12/FOCUSING\"\n",
    "#ini = \"2019_07_12_14_12_21.ini\"\n",
    "#ini = \"2019_07_12_14_14_43.ini\"\n",
    "#ini = \"2019_07_12_14_18_28.ini\"\n",
    "ini = \"2019_07_12_14_12_21_center.ini\"\n",
    "\n",
    "focusing = tdbp.Focusing(os.path.join(focusingDir, ini), tag=\"Sa\", alongTrack=0, pointsFile=\"py\")"
   ]
  },
  {
   "cell_type": "markdown",
   "metadata": {},
   "source": [
    "## Compute scene elevations"
   ]
  },
  {
   "cell_type": "code",
   "execution_count": null,
   "metadata": {},
   "outputs": [],
   "source": [
    "focusing.rebuildScene()"
   ]
  },
  {
   "cell_type": "code",
   "execution_count": 8,
   "metadata": {},
   "outputs": [
    {
     "data": {
      "text/plain": [
       "[<matplotlib.lines.Line2D at 0x7f940c784d60>]"
      ]
     },
     "execution_count": 8,
     "metadata": {},
     "output_type": "execute_result"
    }
   ],
   "source": [
    "fig, ax = plt.subplots(1,1)\n",
    "x = focusing.scene.X\n",
    "y = focusing.scene.Y\n",
    "ax.set_aspect('equal')\n",
    "ax.plot(focusing.xa, focusing.ya)\n",
    "ax.plot(x, y, '.k')\n",
    "ax.grid()\n",
    "focusing.addPtsEpsg(ax, ['s0', 's1', 's2', 's3', 's4', 's5', 's6', 's7'])\n",
    "focusing.addPtsEpsg(ax, ['h0', 'h1', 'h2', 'h3'])\n",
    "ax.plot(focusing.scene.targetX, focusing.scene.targetY, 'o', label=\"scene.target\")\n",
    "ax.plot(focusing.track.refX, focusing.track.refY, 'D', label=\"track.ref\")\n",
    "#ax.plot(focusing.scene.refX, focusing.scene.refY, 'D', label=\"scene.ref\")\n",
    "#ax.plot(focusing.scene.closestApproach[0], focusing.scene.closestApproach[1], 'o')"
   ]
  },
  {
   "cell_type": "markdown",
   "metadata": {},
   "source": [
    "# Focalization"
   ]
  },
  {
   "cell_type": "code",
   "execution_count": 9,
   "metadata": {},
   "outputs": [
    {
     "name": "stdout",
     "output_type": "stream",
     "text": [
      "focusedImg.shape = (800, 800)\n",
      "execution time = 826.0886006355286\n"
     ]
    }
   ],
   "source": [
    "t = time.time()\n",
    "\n",
    "focusedImg  = np.zeros( (focusing.scene.nY, focusing.scene.nX), dtype=complex )\n",
    "print( \"focusedImg.shape = {}\".format( focusedImg.shape ) )\n",
    "\n",
    "lib.so.backProjectionOmpGroundRange_LETG(focusing.scene.X.reshape(focusing.scene.X.size), \n",
    "                                         focusing.scene.Y.reshape(focusing.scene.Y.size),\n",
    "                                         focusing.sceneZ.reshape(focusing.sceneZ.size),\n",
    "                                         focusing.r_over,\n",
    "                                         focusing.sa.reshape(focusing.sa.size),\n",
    "                                         focusing.xyz.reshape(focusing.xyz.size), \n",
    "                                         focusedImg.reshape(focusedImg.size),\n",
    "                                         focusing.parameters)\n",
    "\n",
    "elapsed = time.time() - t\n",
    "print(\"execution time = \" + str(elapsed))"
   ]
  },
  {
   "cell_type": "code",
   "execution_count": 1,
   "metadata": {},
   "outputs": [
    {
     "ename": "NameError",
     "evalue": "name 'tdbp' is not defined",
     "output_type": "error",
     "traceback": [
      "\u001b[0;31m---------------------------------------------------------------------------\u001b[0m",
      "\u001b[0;31mNameError\u001b[0m                                 Traceback (most recent call last)",
      "\u001b[0;32m<ipython-input-1-d03cf7d52237>\u001b[0m in \u001b[0;36m<module>\u001b[0;34m\u001b[0m\n\u001b[0;32m----> 1\u001b[0;31m \u001b[0mmyImg\u001b[0m \u001b[0;34m=\u001b[0m \u001b[0mtdbp\u001b[0m\u001b[0;34m.\u001b[0m\u001b[0mImg\u001b[0m\u001b[0;34m(\u001b[0m\u001b[0mfocusedImg\u001b[0m\u001b[0;34m)\u001b[0m\u001b[0;34m\u001b[0m\u001b[0;34m\u001b[0m\u001b[0m\n\u001b[0m\u001b[1;32m      2\u001b[0m \u001b[0;31m#min_dB = -34.70, max_dB = 67.19, med_dB = 28.79\u001b[0m\u001b[0;34m\u001b[0m\u001b[0;34m\u001b[0m\u001b[0;34m\u001b[0m\u001b[0m\n",
      "\u001b[0;31mNameError\u001b[0m: name 'tdbp' is not defined"
     ]
    }
   ],
   "source": [
    "myImg = tdbp.Img(focusedImg)\n",
    "#min_dB = -34.70, max_dB = 67.19, med_dB = 28.79"
   ]
  },
  {
   "cell_type": "markdown",
   "metadata": {},
   "source": [
    "# Plot image"
   ]
  },
  {
   "cell_type": "markdown",
   "metadata": {},
   "source": [
    "## imshow"
   ]
  },
  {
   "cell_type": "code",
   "execution_count": 11,
   "metadata": {},
   "outputs": [],
   "source": [
    "cmap = 'jet'"
   ]
  },
  {
   "cell_type": "code",
   "execution_count": 14,
   "metadata": {},
   "outputs": [],
   "source": [
    "left = focusing.conf.xMax\n",
    "right = focusing.conf.xMin\n",
    "bottom = focusing.conf.yMax\n",
    "top = focusing.conf.yMin\n",
    "extent = [left, right, bottom, top]\n",
    "vmin = myImg.max_dB - 40 # 60 pour ground range, 40 pour slant range\n",
    "vmax = myImg.max_dB\n",
    "#vmin = myImg.med_dB - 15\n",
    "#vmax = myImg.med_dB + 15\n",
    "\n",
    "axTitle = f\"{focusing.conf.data_date}\\n{focusing.conf.groundOrSlant}, {focusing.conf.phi_a_deg:.1f}°\"\\\n",
    "            + f\", dx {focusing.conf.d_x}, dx {focusing.conf.d_y}\"\\\n",
    "            + f\", {focusing.conf.window}\"\n",
    "\n",
    "if 0:\n",
    "    fig, (ax0, ax1) = plt.subplots(1, 2, figsize=(10, 5), sharex=True, sharey=True)\n",
    "    #im0 = ax0.imshow(myImg.img_dB, cmap=cmap, extent=extent)\n",
    "    #im1 = ax1.imshow(myImg.box_dB(3), cmap=cmap, extent=extent)\n",
    "    #im0 = ax0.imshow(myImg.img_dB, cmap=cmap, vmin=vmin, vmax=vmax, extent=extent)\n",
    "    #im1 = ax1.imshow(myImg.box_dB(3), cmap=cmap, extent=extent)\n",
    "    dia.addColorBar(im0, ax0)\n",
    "    dia.addColorBar(im1, ax1)\n",
    "else:\n",
    "    fig, ax0 = plt.subplots(1, 1)\n",
    "    #im0 = ax0.imshow(myImg.img_dB, cmap=cmap, vmin=vmin, vmax=vmax, extent=extent)\n",
    "    #im0 = ax0.imshow(myImg.img_dB, cmap=cmap, extent=extent)\n",
    "    im0 = ax0.imshow(myImg.img_dB, cmap=cmap, vmin=vmin, vmax=vmax)\n",
    "    dia.addColorBar(im0, ax0)\n",
    "    ax0.set_title(axTitle)\n",
    "    ax0.set_aspect('equal')"
   ]
  },
  {
   "cell_type": "code",
   "execution_count": null,
   "metadata": {},
   "outputs": [],
   "source": [
    "plt.figure()\n",
    "#for idx in range(345, 355, 1):\n",
    "#    plt.plot(myImg.img_dB.T[idx, :], label=f\"{idx}\")\n",
    "idx = 273\n",
    "toPlot = myImg.img_dB.T[idx, :]\n",
    "maxVal = np.amax(toPlot)\n",
    "xAxis = np.arange(focusing.conf.xMax, focusing.conf.xMin, -focusing.conf.d_x)\n",
    "yAxis = np.arange(focusing.conf.yMin, focusing.conf.yMax, focusing.conf.d_y)\n",
    "plt.plot(yAxis, toPlot, label=f\"coupe à x = {xAxis[idx]:.2f}\")\n",
    "plt.axhline(y=maxVal, color =\"green\", linestyle =\"--\") \n",
    "plt.axhline(y=maxVal - 3, color =\"green\", linestyle =\":\") \n",
    "plt.grid()\n",
    "plt.legend()\n",
    "plt.xlabel(\"y [m]\")\n",
    "plt.ylabel(\"[dB]\")"
   ]
  },
  {
   "cell_type": "markdown",
   "metadata": {},
   "source": [
    "## resample"
   ]
  },
  {
   "cell_type": "code",
   "execution_count": null,
   "metadata": {},
   "outputs": [],
   "source": [
    "coef = 4\n",
    "newImg = signal.resample(focusedImg, focusedImg.shape[0]*coef, axis=0)\n",
    "newImg = signal.resample(newImg, focusedImg.shape[1]*coef, axis=1)\n",
    "newMyImg = tdbp.Img(newImg)"
   ]
  },
  {
   "cell_type": "code",
   "execution_count": null,
   "metadata": {},
   "outputs": [],
   "source": [
    "plt.figure()\n",
    "#for idx in range(345, 355, 1):\n",
    "#    plt.plot(myImg.img_dB.T[idx, :], label=f\"{idx}\")\n",
    "idxAlt = idx * coef\n",
    "toPlot = newMyImg.img_dB.T[idxAlt, :]\n",
    "maxVal = np.amax(toPlot)\n",
    "xAxis = np.arange(focusing.conf.xMax, focusing.conf.xMin, -focusing.conf.d_x / coef)\n",
    "yAxis = np.arange(focusing.conf.yMin, focusing.conf.yMax, focusing.conf.d_y / coef)\n",
    "plt.plot(yAxis, toPlot, label=f\"coupe à x = {xAxis[idxAlt]:.2f}\")\n",
    "plt.axhline(y = maxVal, color =\"green\", linestyle =\"--\") \n",
    "plt.axhline(y = maxVal - 3, color =\"green\", linestyle =\":\") \n",
    "plt.grid()\n",
    "plt.legend()\n",
    "plt.xlabel(\"y [m]\")\n",
    "plt.ylabel(\"[dB]\")"
   ]
  },
  {
   "cell_type": "code",
   "execution_count": null,
   "metadata": {},
   "outputs": [],
   "source": [
    "fig, ax0 = plt.subplots(1, 1, figsize=(10, 5))\n",
    "im0 = ax0.imshow(newMyImg.img_dB, cmap=cmap, vmin=vmin, vmax=vmax)\n",
    "dia.addColorBar(im0, ax0)"
   ]
  },
  {
   "cell_type": "markdown",
   "metadata": {},
   "source": [
    "## pcolormesh box_filter"
   ]
  },
  {
   "cell_type": "code",
   "execution_count": 15,
   "metadata": {},
   "outputs": [],
   "source": [
    "z = myImg.box_dB(3)"
   ]
  },
  {
   "cell_type": "code",
   "execution_count": 16,
   "metadata": {},
   "outputs": [],
   "source": [
    "fig, ax = plt.subplots(1,1)\n",
    "x = focusing.scene.X\n",
    "y = focusing.scene.Y\n",
    "im = ax.pcolormesh(x, y, z, cmap='jet')\n",
    "ax.set_aspect('equal')\n",
    "#ax.plot(focusing.xa, focusing.ya)\n",
    "plt.colorbar(im)\n",
    "ax.grid()\n",
    "#ax.plot(focusing.conf.ptsEpsg['corner'][0], focusing.conf.ptsEpsg['corner'][1], 'og', markeredgecolor = 'black')"
   ]
  },
  {
   "cell_type": "code",
   "execution_count": 17,
   "metadata": {},
   "outputs": [],
   "source": [
    "vmin = 0\n",
    "vmax = 40\n",
    "\n",
    "fig, ax = plt.subplots(1,1)\n",
    "x = focusing.scene.X\n",
    "y = focusing.scene.Y\n",
    "im = ax.pcolormesh(x, y, z, cmap='jet', vmin=vmin, vmax=vmax)\n",
    "ax.set_aspect('equal')\n",
    "ax.plot(focusing.xa, focusing.ya)\n",
    "plt.colorbar(im)\n",
    "ax.grid()\n",
    "#focusing.addPtsEpsg(ax, ['corner'])\n",
    "#focusing.addPtsEpsg(ax, ['h0', 'h1', 'h2', 'h3'])"
   ]
  },
  {
   "cell_type": "markdown",
   "metadata": {},
   "source": [
    "## Dynamic range"
   ]
  },
  {
   "cell_type": "code",
   "execution_count": 18,
   "metadata": {},
   "outputs": [
    {
     "name": "stdout",
     "output_type": "stream",
     "text": [
      "min -28.8, max 16.2\n"
     ]
    }
   ],
   "source": [
    "imgDyn = myImg.dynamicRange(dynRange=60, db=1, size=3)"
   ]
  },
  {
   "cell_type": "code",
   "execution_count": 24,
   "metadata": {},
   "outputs": [],
   "source": [
    "fig, ax = plt.subplots(1,1)\n",
    "im = ax.pcolormesh(x, y, z, cmap=cmap, vmin=-10, vmax=40)\n",
    "dia.addColorBar(im, ax)\n",
    "ax.grid()\n",
    "#focusing.addPtsEpsg(ax, ['c2'])\n",
    "focusing.addPtsEpsg(ax, ['h0', 'h1', 'h2', 'h3'])"
   ]
  },
  {
   "cell_type": "markdown",
   "metadata": {},
   "source": [
    "# Build GeoTIFF"
   ]
  },
  {
   "cell_type": "code",
   "execution_count": 21,
   "metadata": {},
   "outputs": [],
   "source": [
    "tiffName = os.path.join(focusing.out_dir, focusing.conf.name + \".tif\")"
   ]
  },
  {
   "cell_type": "code",
   "execution_count": 27,
   "metadata": {},
   "outputs": [],
   "source": [
    "myTiff = tdbp.Tiff(tiffName, focusing, z, cmap='gray')"
   ]
  },
  {
   "cell_type": "markdown",
   "metadata": {},
   "source": [
    "# Save focused image"
   ]
  },
  {
   "cell_type": "code",
   "execution_count": 23,
   "metadata": {},
   "outputs": [],
   "source": [
    "myImg.save(focusing)"
   ]
  },
  {
   "cell_type": "code",
   "execution_count": 26,
   "metadata": {},
   "outputs": [
    {
     "data": {
      "text/plain": [
       "176.22486700487016"
      ]
     },
     "execution_count": 26,
     "metadata": {},
     "output_type": "execute_result"
    }
   ],
   "source": [
    "focusing.track.theta*180/np.pi"
   ]
  },
  {
   "cell_type": "code",
   "execution_count": null,
   "metadata": {},
   "outputs": [],
   "source": []
  }
 ],
 "metadata": {
  "kernelspec": {
   "display_name": "Python 3",
   "language": "python",
   "name": "python3"
  },
  "language_info": {
   "codemirror_mode": {
    "name": "ipython",
    "version": 3
   },
   "file_extension": ".py",
   "mimetype": "text/x-python",
   "name": "python",
   "nbconvert_exporter": "python",
   "pygments_lexer": "ipython3",
   "version": "3.8.5"
  },
  "toc": {
   "base_numbering": 1,
   "nav_menu": {},
   "number_sections": true,
   "sideBar": true,
   "skip_h1_title": false,
   "title_cell": "Table of Contents",
   "title_sidebar": "Contents",
   "toc_cell": false,
   "toc_position": {
    "height": "calc(100% - 180px)",
    "left": "10px",
    "top": "150px",
    "width": "332px"
   },
   "toc_section_display": true,
   "toc_window_display": true
  },
  "varInspector": {
   "cols": {
    "lenName": 16,
    "lenType": 16,
    "lenVar": 40
   },
   "kernels_config": {
    "python": {
     "delete_cmd_postfix": "",
     "delete_cmd_prefix": "del ",
     "library": "var_list.py",
     "varRefreshCmd": "print(var_dic_list())"
    },
    "r": {
     "delete_cmd_postfix": ") ",
     "delete_cmd_prefix": "rm(",
     "library": "var_list.r",
     "varRefreshCmd": "cat(var_dic_list()) "
    }
   },
   "types_to_exclude": [
    "module",
    "function",
    "builtin_function_or_method",
    "instance",
    "_Feature"
   ],
   "window_display": false
  }
 },
 "nbformat": 4,
 "nbformat_minor": 4
}
