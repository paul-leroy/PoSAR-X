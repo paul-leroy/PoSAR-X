{
 "cells": [
  {
   "cell_type": "code",
   "execution_count": 1,
   "metadata": {},
   "outputs": [
    {
     "name": "stderr",
     "output_type": "stream",
     "text": [
      "/usr/lib64/python3.8/site-packages/pyproj/crs/crs.py:280: FutureWarning: '+init=<authority>:<code>' syntax is deprecated. '<authority>:<code>' is the preferred initialization method. When making the change, be mindful of axis order changes: https://pyproj4.github.io/pyproj/stable/gotchas.html#axis-order-changes-in-proj-6\n",
      "  projstring = _prepare_from_string(projparams)\n",
      "/usr/lib64/python3.8/site-packages/pyproj/crs/crs.py:280: FutureWarning: '+init=<authority>:<code>' syntax is deprecated. '<authority>:<code>' is the preferred initialization method. When making the change, be mindful of axis order changes: https://pyproj4.github.io/pyproj/stable/gotchas.html#axis-order-changes-in-proj-6\n",
      "  projstring = _prepare_from_string(projparams)\n",
      "/usr/lib64/python3.8/site-packages/pyproj/crs/crs.py:280: FutureWarning: '+init=<authority>:<code>' syntax is deprecated. '<authority>:<code>' is the preferred initialization method. When making the change, be mindful of axis order changes: https://pyproj4.github.io/pyproj/stable/gotchas.html#axis-order-changes-in-proj-6\n",
      "  projstring = _prepare_from_string(projparams)\n",
      "/usr/lib64/python3.8/site-packages/pyproj/crs/crs.py:280: FutureWarning: '+init=<authority>:<code>' syntax is deprecated. '<authority>:<code>' is the preferred initialization method. When making the change, be mindful of axis order changes: https://pyproj4.github.io/pyproj/stable/gotchas.html#axis-order-changes-in-proj-6\n",
      "  projstring = _prepare_from_string(projparams)\n",
      "/usr/lib64/python3.8/site-packages/pyproj/crs/crs.py:280: FutureWarning: '+init=<authority>:<code>' syntax is deprecated. '<authority>:<code>' is the preferred initialization method. When making the change, be mindful of axis order changes: https://pyproj4.github.io/pyproj/stable/gotchas.html#axis-order-changes-in-proj-6\n",
      "  projstring = _prepare_from_string(projparams)\n"
     ]
    }
   ],
   "source": [
    "import sys\n",
    "\n",
    "import numpy as np\n",
    "import matplotlib.pyplot as plt\n",
    "\n",
    "sys.path.insert(0, \"/home/pleroy/DEV/processing/PoSAR-MC\")\n",
    "import posarmctools.posar as posar\n",
    "from posarmctools.read_data_and_build_rd import build_rd_from_data_rampUp, build_rd_from_data_rampDown"
   ]
  },
  {
   "cell_type": "code",
   "execution_count": 2,
   "metadata": {},
   "outputs": [],
   "source": [
    "%matplotlib qt5"
   ]
  },
  {
   "cell_type": "code",
   "execution_count": 3,
   "metadata": {},
   "outputs": [],
   "source": [
    "%load_ext autoreload\n",
    "%autoreload 2"
   ]
  },
  {
   "cell_type": "code",
   "execution_count": 4,
   "metadata": {},
   "outputs": [
    {
     "name": "stdout",
     "output_type": "stream",
     "text": [
      "rec_dir /home/pleroy/DATA/PoSAR-X/PIMA-1/2019_07_12/2019_07_12_14_12_21\n"
     ]
    }
   ],
   "source": [
    "data_date = \"2019_07_12_14_12_21\"\n",
    "rec_dir = f\"/home/pleroy/DATA/PoSAR-X/PIMA-1/2019_07_12/{data_date}\"\n",
    "record = posar.Record(rec_dir, \"record\", \"bin\", version=\"X_v1\")"
   ]
  },
  {
   "cell_type": "markdown",
   "metadata": {},
   "source": [
    "# Read the data"
   ]
  },
  {
   "cell_type": "code",
   "execution_count": 5,
   "metadata": {},
   "outputs": [
    {
     "name": "stdout",
     "output_type": "stream",
     "text": [
      "reading binaries from 0 to 116\n",
      "number of files to read 59, samplesPerFile 20000000\n",
      "samplesPerRamp 20000, rampsPerFile 1000\n",
      "reading /home/pleroy/DATA/PoSAR-X/PIMA-1/2019_07_12/2019_07_12_14_12_21/record0.bin\n",
      "reading /home/pleroy/DATA/PoSAR-X/PIMA-1/2019_07_12/2019_07_12_14_12_21/record2.bin\n",
      "reading /home/pleroy/DATA/PoSAR-X/PIMA-1/2019_07_12/2019_07_12_14_12_21/record4.bin\n",
      "reading /home/pleroy/DATA/PoSAR-X/PIMA-1/2019_07_12/2019_07_12_14_12_21/record6.bin\n",
      "reading /home/pleroy/DATA/PoSAR-X/PIMA-1/2019_07_12/2019_07_12_14_12_21/record8.bin\n",
      "reading /home/pleroy/DATA/PoSAR-X/PIMA-1/2019_07_12/2019_07_12_14_12_21/record10.bin\n",
      "reading /home/pleroy/DATA/PoSAR-X/PIMA-1/2019_07_12/2019_07_12_14_12_21/record12.bin\n",
      "reading /home/pleroy/DATA/PoSAR-X/PIMA-1/2019_07_12/2019_07_12_14_12_21/record14.bin\n",
      "reading /home/pleroy/DATA/PoSAR-X/PIMA-1/2019_07_12/2019_07_12_14_12_21/record16.bin\n",
      "reading /home/pleroy/DATA/PoSAR-X/PIMA-1/2019_07_12/2019_07_12_14_12_21/record18.bin\n",
      "reading /home/pleroy/DATA/PoSAR-X/PIMA-1/2019_07_12/2019_07_12_14_12_21/record20.bin\n",
      "reading /home/pleroy/DATA/PoSAR-X/PIMA-1/2019_07_12/2019_07_12_14_12_21/record22.bin\n",
      "reading /home/pleroy/DATA/PoSAR-X/PIMA-1/2019_07_12/2019_07_12_14_12_21/record24.bin\n",
      "reading /home/pleroy/DATA/PoSAR-X/PIMA-1/2019_07_12/2019_07_12_14_12_21/record26.bin\n",
      "reading /home/pleroy/DATA/PoSAR-X/PIMA-1/2019_07_12/2019_07_12_14_12_21/record28.bin\n",
      "reading /home/pleroy/DATA/PoSAR-X/PIMA-1/2019_07_12/2019_07_12_14_12_21/record30.bin\n",
      "reading /home/pleroy/DATA/PoSAR-X/PIMA-1/2019_07_12/2019_07_12_14_12_21/record32.bin\n",
      "reading /home/pleroy/DATA/PoSAR-X/PIMA-1/2019_07_12/2019_07_12_14_12_21/record34.bin\n",
      "reading /home/pleroy/DATA/PoSAR-X/PIMA-1/2019_07_12/2019_07_12_14_12_21/record36.bin\n",
      "reading /home/pleroy/DATA/PoSAR-X/PIMA-1/2019_07_12/2019_07_12_14_12_21/record38.bin\n",
      "reading /home/pleroy/DATA/PoSAR-X/PIMA-1/2019_07_12/2019_07_12_14_12_21/record40.bin\n",
      "reading /home/pleroy/DATA/PoSAR-X/PIMA-1/2019_07_12/2019_07_12_14_12_21/record42.bin\n",
      "reading /home/pleroy/DATA/PoSAR-X/PIMA-1/2019_07_12/2019_07_12_14_12_21/record44.bin\n",
      "reading /home/pleroy/DATA/PoSAR-X/PIMA-1/2019_07_12/2019_07_12_14_12_21/record46.bin\n",
      "reading /home/pleroy/DATA/PoSAR-X/PIMA-1/2019_07_12/2019_07_12_14_12_21/record48.bin\n",
      "reading /home/pleroy/DATA/PoSAR-X/PIMA-1/2019_07_12/2019_07_12_14_12_21/record50.bin\n",
      "reading /home/pleroy/DATA/PoSAR-X/PIMA-1/2019_07_12/2019_07_12_14_12_21/record52.bin\n",
      "reading /home/pleroy/DATA/PoSAR-X/PIMA-1/2019_07_12/2019_07_12_14_12_21/record54.bin\n",
      "reading /home/pleroy/DATA/PoSAR-X/PIMA-1/2019_07_12/2019_07_12_14_12_21/record56.bin\n",
      "reading /home/pleroy/DATA/PoSAR-X/PIMA-1/2019_07_12/2019_07_12_14_12_21/record58.bin\n",
      "reading /home/pleroy/DATA/PoSAR-X/PIMA-1/2019_07_12/2019_07_12_14_12_21/record60.bin\n",
      "reading /home/pleroy/DATA/PoSAR-X/PIMA-1/2019_07_12/2019_07_12_14_12_21/record62.bin\n",
      "reading /home/pleroy/DATA/PoSAR-X/PIMA-1/2019_07_12/2019_07_12_14_12_21/record64.bin\n",
      "reading /home/pleroy/DATA/PoSAR-X/PIMA-1/2019_07_12/2019_07_12_14_12_21/record66.bin\n",
      "reading /home/pleroy/DATA/PoSAR-X/PIMA-1/2019_07_12/2019_07_12_14_12_21/record68.bin\n",
      "reading /home/pleroy/DATA/PoSAR-X/PIMA-1/2019_07_12/2019_07_12_14_12_21/record70.bin\n",
      "reading /home/pleroy/DATA/PoSAR-X/PIMA-1/2019_07_12/2019_07_12_14_12_21/record72.bin\n",
      "reading /home/pleroy/DATA/PoSAR-X/PIMA-1/2019_07_12/2019_07_12_14_12_21/record74.bin\n",
      "reading /home/pleroy/DATA/PoSAR-X/PIMA-1/2019_07_12/2019_07_12_14_12_21/record76.bin\n",
      "reading /home/pleroy/DATA/PoSAR-X/PIMA-1/2019_07_12/2019_07_12_14_12_21/record78.bin\n",
      "reading /home/pleroy/DATA/PoSAR-X/PIMA-1/2019_07_12/2019_07_12_14_12_21/record80.bin\n",
      "reading /home/pleroy/DATA/PoSAR-X/PIMA-1/2019_07_12/2019_07_12_14_12_21/record82.bin\n",
      "reading /home/pleroy/DATA/PoSAR-X/PIMA-1/2019_07_12/2019_07_12_14_12_21/record84.bin\n",
      "reading /home/pleroy/DATA/PoSAR-X/PIMA-1/2019_07_12/2019_07_12_14_12_21/record86.bin\n",
      "reading /home/pleroy/DATA/PoSAR-X/PIMA-1/2019_07_12/2019_07_12_14_12_21/record88.bin\n",
      "reading /home/pleroy/DATA/PoSAR-X/PIMA-1/2019_07_12/2019_07_12_14_12_21/record90.bin\n",
      "reading /home/pleroy/DATA/PoSAR-X/PIMA-1/2019_07_12/2019_07_12_14_12_21/record92.bin\n",
      "reading /home/pleroy/DATA/PoSAR-X/PIMA-1/2019_07_12/2019_07_12_14_12_21/record94.bin\n",
      "reading /home/pleroy/DATA/PoSAR-X/PIMA-1/2019_07_12/2019_07_12_14_12_21/record96.bin\n",
      "reading /home/pleroy/DATA/PoSAR-X/PIMA-1/2019_07_12/2019_07_12_14_12_21/record98.bin\n",
      "reading /home/pleroy/DATA/PoSAR-X/PIMA-1/2019_07_12/2019_07_12_14_12_21/record100.bin\n",
      "reading /home/pleroy/DATA/PoSAR-X/PIMA-1/2019_07_12/2019_07_12_14_12_21/record102.bin\n",
      "reading /home/pleroy/DATA/PoSAR-X/PIMA-1/2019_07_12/2019_07_12_14_12_21/record104.bin\n",
      "reading /home/pleroy/DATA/PoSAR-X/PIMA-1/2019_07_12/2019_07_12_14_12_21/record106.bin\n",
      "reading /home/pleroy/DATA/PoSAR-X/PIMA-1/2019_07_12/2019_07_12_14_12_21/record108.bin\n",
      "reading /home/pleroy/DATA/PoSAR-X/PIMA-1/2019_07_12/2019_07_12_14_12_21/record110.bin\n",
      "reading /home/pleroy/DATA/PoSAR-X/PIMA-1/2019_07_12/2019_07_12_14_12_21/record112.bin\n",
      "reading /home/pleroy/DATA/PoSAR-X/PIMA-1/2019_07_12/2019_07_12_14_12_21/record114.bin\n",
      "reading /home/pleroy/DATA/PoSAR-X/PIMA-1/2019_07_12/2019_07_12_14_12_21/record116.bin\n"
     ]
    }
   ],
   "source": [
    "A_reshaped = record.readBins(\"ADLINKCh0\")"
   ]
  },
  {
   "cell_type": "markdown",
   "metadata": {},
   "source": [
    "## Spectrum"
   ]
  },
  {
   "cell_type": "markdown",
   "metadata": {},
   "source": [
    "### No window"
   ]
  },
  {
   "cell_type": "code",
   "execution_count": null,
   "metadata": {},
   "outputs": [],
   "source": [
    "samplesPerDownRamp = int(record.parameters.samplesPerRamp/2)"
   ]
  },
  {
   "cell_type": "code",
   "execution_count": null,
   "metadata": {},
   "outputs": [],
   "source": [
    "fft_A = np.fft.ifft(A_reshaped[:, 0:samplesPerDownRamp], axis=1)"
   ]
  },
  {
   "cell_type": "code",
   "execution_count": null,
   "metadata": {},
   "outputs": [],
   "source": [
    "fft_abs = 20 * np.log10(np.abs(fft_A))"
   ]
  },
  {
   "cell_type": "code",
   "execution_count": null,
   "metadata": {},
   "outputs": [],
   "source": [
    "fig, ax = plt.subplots(1,1)\n",
    "ax.imshow(fft_abs[::100, 400:1500], cmap='jet')\n",
    "title = \"no window \" + data_date\n",
    "ax.set_title(title)\n",
    "fig.savefig( f\"{record.out_dir}/{title}.png\" )"
   ]
  },
  {
   "cell_type": "markdown",
   "metadata": {},
   "source": [
    "### Hanning"
   ]
  },
  {
   "cell_type": "code",
   "execution_count": null,
   "metadata": {},
   "outputs": [],
   "source": [
    "hanning = np.hanning(samplesPerDownRamp)"
   ]
  },
  {
   "cell_type": "code",
   "execution_count": null,
   "metadata": {},
   "outputs": [],
   "source": [
    "fft_A_hanning = np.fft.ifft(A_reshaped[:, 0:samplesPerDownRamp]*hanning, axis=1)"
   ]
  },
  {
   "cell_type": "code",
   "execution_count": null,
   "metadata": {},
   "outputs": [],
   "source": [
    "fft_abs_hanning = 20 * np.log10(np.abs(fft_A_hanning))"
   ]
  },
  {
   "cell_type": "code",
   "execution_count": null,
   "metadata": {},
   "outputs": [],
   "source": [
    "fig, ax = plt.subplots(1,1)\n",
    "ax.imshow(fft_abs_hanning[::100, 400:1500], cmap='jet')\n",
    "title = \"hanning \" + data_date\n",
    "ax.set_title(title)\n",
    "fig.savefig(f\"{record.out_dir}/{title}.png\")"
   ]
  },
  {
   "cell_type": "markdown",
   "metadata": {},
   "source": [
    "### Compare data"
   ]
  },
  {
   "cell_type": "code",
   "execution_count": null,
   "metadata": {},
   "outputs": [],
   "source": [
    "idxLine = 0\n",
    "fig, ax = plt.subplots(1,1)\n",
    "ax.plot( fft_abs[idxLine,:], label=\"raw\"  )\n",
    "ax.plot( fft_abs_hanning[idxLine,:], label=\"hanning\"  )\n",
    "ax.legend()\n",
    "ax.grid()"
   ]
  },
  {
   "cell_type": "markdown",
   "metadata": {},
   "source": [
    "# Build RD"
   ]
  },
  {
   "cell_type": "markdown",
   "metadata": {},
   "source": [
    "**Check that the first ramp is an up ramp**"
   ]
  },
  {
   "cell_type": "code",
   "execution_count": null,
   "metadata": {},
   "outputs": [],
   "source": [
    "fig, ax = plt.subplots(1,1)\n",
    "ax.plot( A_reshaped[0, :] )\n",
    "title = \"first acquisition \" + data_date\n",
    "ax.set_title(title)\n",
    "ax.grid()\n",
    "fig.savefig( f\"{rec_dir}/{title}.png\", bbox_inches='tight')"
   ]
  },
  {
   "cell_type": "markdown",
   "metadata": {},
   "source": [
    "**Set the shifted flag properly**"
   ]
  },
  {
   "cell_type": "code",
   "execution_count": 6,
   "metadata": {},
   "outputs": [
    {
     "name": "stdout",
     "output_type": "stream",
     "text": [
      "build rd from ramp up\n",
      "shape of the samples matrix = (59000, 20000)\n",
      "ramp down first in the data files\n",
      "with Hanning window\n"
     ]
    }
   ],
   "source": [
    "upOrDown = \"Up\"\n",
    "#upOrDown = \"Down\"\n",
    "\n",
    "if upOrDown == \"Down\":\n",
    "    rampDownFirst = 1\n",
    "    withHanning = 1\n",
    "    RDc = build_rd_from_data_rampDown( record.parameters, A_reshaped, rampDownFirst, withHanning )\n",
    "elif upOrDown == \"Up\":\n",
    "    rampUpFirst = 0\n",
    "    withHanning = 1\n",
    "    RDc = build_rd_from_data_rampUp( record.parameters, A_reshaped, rampUpFirst, withHanning )"
   ]
  },
  {
   "cell_type": "markdown",
   "metadata": {},
   "source": [
    "## Save data"
   ]
  },
  {
   "cell_type": "code",
   "execution_count": 7,
   "metadata": {},
   "outputs": [],
   "source": [
    "if withHanning:\n",
    "    hanning = \"_hanning\"\n",
    "else:\n",
    "    hanning = \"\""
   ]
  },
  {
   "cell_type": "code",
   "execution_count": 8,
   "metadata": {},
   "outputs": [
    {
     "ename": "NameError",
     "evalue": "name 'firstFile' is not defined",
     "output_type": "error",
     "traceback": [
      "\u001b[0;31m---------------------------------------------------------------------------\u001b[0m",
      "\u001b[0;31mNameError\u001b[0m                                 Traceback (most recent call last)",
      "\u001b[0;32m<ipython-input-8-61198cf2025b>\u001b[0m in \u001b[0;36m<module>\u001b[0;34m\u001b[0m\n\u001b[1;32m      1\u001b[0m \u001b[0mcoupling_RD\u001b[0m \u001b[0;34m=\u001b[0m \u001b[0mnp\u001b[0m\u001b[0;34m.\u001b[0m\u001b[0maverage\u001b[0m\u001b[0;34m(\u001b[0m\u001b[0mRDc\u001b[0m\u001b[0;34m,\u001b[0m \u001b[0;36m0\u001b[0m\u001b[0;34m)\u001b[0m\u001b[0;34m\u001b[0m\u001b[0;34m\u001b[0m\u001b[0m\n\u001b[0;32m----> 2\u001b[0;31m \u001b[0mcoupling_name\u001b[0m \u001b[0;34m=\u001b[0m \u001b[0;34mf'{record.out_dir}/coupling_RD_files_{firstFile}_{lastFile}_ramp{upOrDown}{hanning}.npy'\u001b[0m\u001b[0;34m\u001b[0m\u001b[0;34m\u001b[0m\u001b[0m\n\u001b[0m\u001b[1;32m      3\u001b[0m \u001b[0mprint\u001b[0m\u001b[0;34m(\u001b[0m \u001b[0;34mf\"load {coupling_name}\"\u001b[0m\u001b[0;34m)\u001b[0m\u001b[0;34m\u001b[0m\u001b[0;34m\u001b[0m\u001b[0m\n\u001b[1;32m      4\u001b[0m \u001b[0mnp\u001b[0m\u001b[0;34m.\u001b[0m\u001b[0msave\u001b[0m\u001b[0;34m(\u001b[0m \u001b[0mcoupling_name\u001b[0m\u001b[0;34m,\u001b[0m \u001b[0mcoupling_RD\u001b[0m \u001b[0;34m)\u001b[0m\u001b[0;34m\u001b[0m\u001b[0;34m\u001b[0m\u001b[0m\n",
      "\u001b[0;31mNameError\u001b[0m: name 'firstFile' is not defined"
     ]
    }
   ],
   "source": [
    "coupling_RD = np.average(RDc, 0)\n",
    "coupling_name = f'{record.out_dir}/coupling_RD_files_{firstFile}_{lastFile}_ramp{upOrDown}{hanning}.npy'\n",
    "print( f\"load {coupling_name}\")\n",
    "np.save( coupling_name, coupling_RD )"
   ]
  },
  {
   "cell_type": "code",
   "execution_count": null,
   "metadata": {},
   "outputs": [],
   "source": [
    "plt.figure()\n",
    "plt.plot(np.abs(coupling_RD), 'k', label='coupling')\n",
    "plt.legend()\n",
    "plt.grid()"
   ]
  },
  {
   "cell_type": "code",
   "execution_count": null,
   "metadata": {},
   "outputs": [],
   "source": [
    "RD1_name = f'{record.out_dir}/RD_files_{firstFile}_{lastFile}_ramp{upOrDown}{hanning}.npy'\n",
    "print( f\"load {RD1_name}\")\n",
    "np.save( RD1_name, RDc) "
   ]
  },
  {
   "cell_type": "markdown",
   "metadata": {},
   "source": [
    "# Build analytic signal"
   ]
  },
  {
   "cell_type": "code",
   "execution_count": 9,
   "metadata": {},
   "outputs": [],
   "source": [
    "sys.path.insert(0, \"/home/pleroy/DEV/processing/PoSAR-MC\")\n",
    "import backprojection as tdbp"
   ]
  },
  {
   "cell_type": "code",
   "execution_count": 10,
   "metadata": {},
   "outputs": [
    {
     "name": "stdout",
     "output_type": "stream",
     "text": [
      "rec_dir /home/pleroy/DATA/PoSAR-X/PIMA-1/2019_07_12/2019_07_12_14_12_21\n"
     ]
    }
   ],
   "source": [
    "conf = tdbp.Conf(\"/home/pleroy/DATA/PoSAR-X/PIMA-1/2019_07_12/FOCUSING/2019_07_12_14_12_21.ini\")"
   ]
  },
  {
   "cell_type": "code",
   "execution_count": 11,
   "metadata": {},
   "outputs": [],
   "source": [
    "signal = tdbp.Signal(conf)"
   ]
  },
  {
   "cell_type": "code",
   "execution_count": 12,
   "metadata": {},
   "outputs": [
    {
     "name": "stdout",
     "output_type": "stream",
     "text": [
      "shape of the samples matrix = (59000, 20000), build analytic signal:\n",
      " *** rampUpFirst: 0 (1 => the first ramp is a ramp up)\n",
      " *** window: hanning\n",
      " *** ramp: Up\n",
      "analytic signal built\n"
     ]
    }
   ],
   "source": [
    "signal.build(A_reshaped)"
   ]
  },
  {
   "cell_type": "code",
   "execution_count": 13,
   "metadata": {},
   "outputs": [],
   "source": [
    "b = np.fft.ifftshift(RDc, 1)"
   ]
  },
  {
   "cell_type": "code",
   "execution_count": 14,
   "metadata": {},
   "outputs": [
    {
     "data": {
      "text/plain": [
       "array([[0.00360113-0.00541644j, 0.00360113-0.00543715j,\n",
       "        0.00347905-0.00552212j, ..., 0.0039063 -0.00509091j,\n",
       "        0.00378423-0.00528294j, 0.0037232 -0.00537437j],\n",
       "       [0.00369268-0.00545221j, 0.00347905-0.00556984j,\n",
       "        0.00344853-0.00547979j, ..., 0.00366215-0.00524398j,\n",
       "        0.00354009-0.00524835j, 0.00366216-0.00518781j],\n",
       "       [0.00378424-0.00545965j, 0.00354009-0.00558116j,\n",
       "        0.00344853-0.00549947j, ..., 0.00375371-0.00522518j,\n",
       "        0.0037232 -0.00526826j, 0.00381475-0.00519508j],\n",
       "       ...,\n",
       "       [0.00427253-0.00518752j, 0.00421149-0.00525053j,\n",
       "        0.00411993-0.00537313j, ..., 0.00448614-0.0049587j ,\n",
       "        0.00442511-0.00502131j, 0.0043946 -0.00509507j],\n",
       "       [0.0043946 -0.00509296j, 0.00418097-0.00516199j,\n",
       "        0.00418096-0.00537197j, ..., 0.00466925-0.00499136j,\n",
       "        0.00427252-0.00504993j, 0.0043946 -0.00504318j],\n",
       "       [0.00411994-0.00532107j, 0.00418097-0.00529706j,\n",
       "        0.00408941-0.00534178j, ..., 0.00433355-0.00482191j,\n",
       "        0.00442511-0.00505455j, 0.00430304-0.00507721j]])"
      ]
     },
     "execution_count": 14,
     "metadata": {},
     "output_type": "execute_result"
    }
   ],
   "source": [
    "signal.sa"
   ]
  },
  {
   "cell_type": "code",
   "execution_count": 15,
   "metadata": {},
   "outputs": [
    {
     "data": {
      "text/plain": [
       "array([[0.00360113-0.00541644j, 0.00360113-0.00543715j,\n",
       "        0.00347905-0.00552212j, ..., 0.0039063 -0.00509091j,\n",
       "        0.00378423-0.00528294j, 0.0037232 -0.00537437j],\n",
       "       [0.00369268-0.00545221j, 0.00347905-0.00556984j,\n",
       "        0.00344853-0.00547979j, ..., 0.00366215-0.00524398j,\n",
       "        0.00354009-0.00524835j, 0.00366216-0.00518781j],\n",
       "       [0.00378424-0.00545965j, 0.00354009-0.00558116j,\n",
       "        0.00344853-0.00549947j, ..., 0.00375371-0.00522518j,\n",
       "        0.0037232 -0.00526826j, 0.00381475-0.00519508j],\n",
       "       ...,\n",
       "       [0.00427253-0.00518752j, 0.00421149-0.00525053j,\n",
       "        0.00411993-0.00537313j, ..., 0.00448614-0.0049587j ,\n",
       "        0.00442511-0.00502131j, 0.0043946 -0.00509507j],\n",
       "       [0.0043946 -0.00509296j, 0.00418097-0.00516199j,\n",
       "        0.00418096-0.00537197j, ..., 0.00466925-0.00499136j,\n",
       "        0.00427252-0.00504993j, 0.0043946 -0.00504318j],\n",
       "       [0.00411994-0.00532107j, 0.00418097-0.00529706j,\n",
       "        0.00408941-0.00534178j, ..., 0.00433355-0.00482191j,\n",
       "        0.00442511-0.00505455j, 0.00430304-0.00507721j]])"
      ]
     },
     "execution_count": 15,
     "metadata": {},
     "output_type": "execute_result"
    }
   ],
   "source": [
    "b"
   ]
  },
  {
   "cell_type": "code",
   "execution_count": 43,
   "metadata": {},
   "outputs": [
    {
     "name": "stdout",
     "output_type": "stream",
     "text": [
      "save /home/pleroy/DATA/PoSAR-X/PIMA-1/2019_07_12/OUT/2019_07_12_14_12_21/coupling_Sa_files_0_58_rampUp_hanning.npy\n",
      "save /home/pleroy/DATA/PoSAR-X/PIMA-1/2019_07_12/OUT/2019_07_12_14_12_21/Sa_files_0_58_rampUp_hanning.npy\n"
     ]
    }
   ],
   "source": [
    "signal.save()"
   ]
  },
  {
   "cell_type": "code",
   "execution_count": null,
   "metadata": {},
   "outputs": [],
   "source": []
  }
 ],
 "metadata": {
  "kernelspec": {
   "display_name": "Python 3",
   "language": "python",
   "name": "python3"
  },
  "language_info": {
   "codemirror_mode": {
    "name": "ipython",
    "version": 3
   },
   "file_extension": ".py",
   "mimetype": "text/x-python",
   "name": "python",
   "nbconvert_exporter": "python",
   "pygments_lexer": "ipython3",
   "version": "3.8.3"
  },
  "toc": {
   "base_numbering": 1,
   "nav_menu": {},
   "number_sections": true,
   "sideBar": true,
   "skip_h1_title": false,
   "title_cell": "Table of Contents",
   "title_sidebar": "Contents",
   "toc_cell": false,
   "toc_position": {},
   "toc_section_display": true,
   "toc_window_display": true
  },
  "varInspector": {
   "cols": {
    "lenName": 16,
    "lenType": 16,
    "lenVar": 40
   },
   "kernels_config": {
    "python": {
     "delete_cmd_postfix": "",
     "delete_cmd_prefix": "del ",
     "library": "var_list.py",
     "varRefreshCmd": "print(var_dic_list())"
    },
    "r": {
     "delete_cmd_postfix": ") ",
     "delete_cmd_prefix": "rm(",
     "library": "var_list.r",
     "varRefreshCmd": "cat(var_dic_list()) "
    }
   },
   "types_to_exclude": [
    "module",
    "function",
    "builtin_function_or_method",
    "instance",
    "_Feature"
   ],
   "window_display": false
  }
 },
 "nbformat": 4,
 "nbformat_minor": 4
}
