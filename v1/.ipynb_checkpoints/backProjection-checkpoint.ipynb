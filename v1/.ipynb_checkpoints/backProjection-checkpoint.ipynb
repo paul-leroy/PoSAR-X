{
 "cells": [
  {
   "cell_type": "markdown",
   "metadata": {},
   "source": [
    "# Initialization"
   ]
  },
  {
   "cell_type": "code",
   "execution_count": 1,
   "metadata": {},
   "outputs": [],
   "source": [
    "import logging, os, sys, time\n",
    "\n",
    "import numpy as np\n",
    "import matplotlib.pyplot as plt\n",
    "\n",
    "sys.path.insert(0, \"/home/pleroy/DEV/processing/PoSAR-MC\")\n",
    "import backprojection as tdbp\n",
    "from posarmctools import getNotebookLogger\n",
    "\n",
    "sys.path.insert(0, \"/home/pleroy/DEV/processing/focalization_python\")\n",
    "import posarutils.process.disp_PoSAR_img as disp\n",
    "from posarutils.process.disp_PoSAR_img import OPTt\n",
    "from posarutils.process.filtering import box_filter\n",
    "\n",
    "sys.path.insert(0, \"/home/pleroy/DEV/DIADEM\")\n",
    "import toolsdiadem.tools as dia\n",
    "\n",
    "# this is for the sceneReferencePoint.py module\n",
    "sys.path.insert(0, \"/home/pleroy/DATA/PoSAR-X/PIMA-1\")"
   ]
  },
  {
   "cell_type": "code",
   "execution_count": 2,
   "metadata": {},
   "outputs": [],
   "source": [
    "%matplotlib qt5\n",
    "eps = np.finfo(float).eps"
   ]
  },
  {
   "cell_type": "code",
   "execution_count": 3,
   "metadata": {},
   "outputs": [],
   "source": [
    "%load_ext autoreload\n",
    "%autoreload 2"
   ]
  },
  {
   "cell_type": "code",
   "execution_count": 4,
   "metadata": {},
   "outputs": [],
   "source": [
    "logger = getNotebookLogger(logging.INFO)"
   ]
  },
  {
   "cell_type": "code",
   "execution_count": 5,
   "metadata": {},
   "outputs": [],
   "source": [
    "libraryFilename = \"/home/pleroy/DEV/processing/PoSAR-MC/backprojection/ccpp/libbackprojection/liblibbackprojection.so\""
   ]
  },
  {
   "cell_type": "code",
   "execution_count": 6,
   "metadata": {},
   "outputs": [],
   "source": [
    "lib = tdbp.Lib(libraryFilename)"
   ]
  },
  {
   "cell_type": "markdown",
   "metadata": {},
   "source": [
    "# Load focusing configuration and data"
   ]
  },
  {
   "cell_type": "code",
   "execution_count": 64,
   "metadata": {},
   "outputs": [
    {
     "name": "stdout",
     "output_type": "stream",
     "text": [
      "======= Conf\n",
      "rec_dir /home/pleroy/DATA/PoSAR-X/PIMA-2/2020_06_25/2020_06_25_11_57_59\n",
      "======= Track\n",
      "======= Load analytic signal...\n",
      "load /home/pleroy/DATA/PoSAR-X/PIMA-2/2020_06_25/OUT/2020_06_25_11_57_59/Sa_files_0_56_rampUp_None.npy\n",
      "sa.shape (57000, 5000)\n",
      "existing analytic signal found and loaded\n",
      "======= Load antenna positions...\n",
      "load /home/pleroy/DATA/PoSAR-X/PIMA-2/2020_06_25/OUT/2020_06_25_11_57_59/n_time_xyz_nav_a.npy\n",
      "xa.shape (57000,)\n",
      "xa_mean = 1326869.63, ya_mean = 7218883.32, za_mean = 500.65\n",
      "======= Load Digital Terrain Elevation Data...\n",
      "get dataset\n",
      "build meshgrids\n",
      "build rectBivariateSpline\n",
      "======= Scene\n",
      "buildSceneSlantRange\n",
      "closestApproachXY 349.48924534082937, closestApproachXYZ 538.6340831872086, h0 409.85844258966085\n",
      "======= Set focusingParameters\n",
      "Nf 5000, Naz 57000\n",
      "range from 0.00m to 1249.97m, resolution = 0.25m, oversampled = 0.025m, \n"
     ]
    }
   ],
   "source": [
    "#ini = \"/home/pleroy/DATA/PoSAR-X/PIMA-1/2019_07_12/FOCUSING/2019_07_12_14_12_21.ini\"\n",
    "#ini = \"/home/pleroy/DATA/PoSAR-X/PIMA-1/2019_07_12/FOCUSING/2019_07_12_14_14_43.ini\"\n",
    "#ini = \"/home/pleroy/DATA/PoSAR-X/PIMA-1/2019_07_12/FOCUSING/2019_07_12_14_18_28.ini\"\n",
    "#ini = \"/home/pleroy/DATA/PoSAR-X/PIMA-1/2019_07_12/FOCUSING/2019_07_12_14_12_21_center.ini\"\n",
    "# PIMA-2\n",
    "#ini = \"/home/pleroy/DATA/PoSAR-X/PIMA-2/2020_06_23/FOCUSING/2020_06_23_18_36_24.ini\"\n",
    "#ini = \"/home/pleroy/DATA/PoSAR-X/PIMA-2/2020_06_23/FOCUSING/2020_06_23_18_38_34.ini\"\n",
    "#ini = \"/home/pleroy/DATA/PoSAR-X/PIMA-2/2020_06_23/FOCUSING/2020_06_23_18_42_20.ini\"\n",
    "#ini = \"/home/pleroy/DATA/PoSAR-X/PIMA-2/2020_06_23/FOCUSING/2020_06_23_18_44_48.ini\"\n",
    "# 2020 06 25\n",
    "focusingDir = \"/home/pleroy/DATA/PoSAR-X/PIMA-2/2020_06_25/FOCUSING\"\n",
    "#ini = \"2020_06_25_11_57_59.ini\"\n",
    "#ini = \"2020_06_25_11_57_59_c2.ini\"\n",
    "#ini = \"2020_06_25_11_57_59_c2_noWin.ini\"\n",
    "#ini = \"2020_06_25_11_57_59_sr.ini\"\n",
    "ini = \"2020_06_25_11_57_59_sr_noWin.ini\"\n",
    "#ini = \"2020_06_25_12_04_34.ini\"\n",
    "#ini = \"2020_06_25_12_11_37.ini\"\n",
    "focusing = tdbp.Focusing(os.path.join(focusingDir, ini), tag=\"Sa\", alongTrack=1, pointsFile=\"ini\")"
   ]
  },
  {
   "cell_type": "markdown",
   "metadata": {},
   "source": [
    "## Compute scene elevations"
   ]
  },
  {
   "cell_type": "code",
   "execution_count": 65,
   "metadata": {},
   "outputs": [
    {
     "data": {
      "text/plain": [
       "[<matplotlib.lines.Line2D at 0x7ff1862d9160>]"
      ]
     },
     "execution_count": 65,
     "metadata": {},
     "output_type": "execute_result"
    }
   ],
   "source": [
    "fig, ax = plt.subplots(1,1)\n",
    "x = focusing.scene.X\n",
    "y = focusing.scene.Y\n",
    "ax.set_aspect('equal')\n",
    "ax.plot(focusing.xa, focusing.ya)\n",
    "ax.plot(x, y, '.k')\n",
    "ax.grid()\n",
    "focusing.addPtsEpsg(ax, ['c0', 'c1', 'c2', 'c3', 'c4'])\n",
    "focusing.addPtsEpsg(ax, ['h0', 'h1', 'h2', 'h3'])\n",
    "ax.plot(focusing.scene.centerX, focusing.scene.centerY, 'o')"
   ]
  },
  {
   "cell_type": "markdown",
   "metadata": {},
   "source": [
    "# Focalization"
   ]
  },
  {
   "cell_type": "code",
   "execution_count": 66,
   "metadata": {},
   "outputs": [
    {
     "name": "stdout",
     "output_type": "stream",
     "text": [
      "focusedImg.shape = (400, 500)\n",
      "execution time = 525.3961038589478\n"
     ]
    }
   ],
   "source": [
    "t = time.time()\n",
    "\n",
    "focusedImg  = np.zeros( (focusing.scene.nY, focusing.scene.nX), dtype=complex )\n",
    "print( \"focusedImg.shape = {}\".format( focusedImg.shape ) )\n",
    "\n",
    "lib.so.backProjectionOmpGroundRange_LETG(focusing.scene.X.reshape(focusing.scene.X.size), \n",
    "                                         focusing.scene.Y.reshape(focusing.scene.Y.size),\n",
    "                                         focusing.sceneZ.reshape(focusing.sceneZ.size),\n",
    "                                         focusing.r_over,\n",
    "                                         focusing.sa.reshape(focusing.sa.size),\n",
    "                                         focusing.xyz.reshape(focusing.xyz.size), \n",
    "                                         focusedImg.reshape(focusedImg.size),\n",
    "                                         focusing.parameters)\n",
    "\n",
    "elapsed = time.time() - t\n",
    "print(\"execution time = \" + str(elapsed))"
   ]
  },
  {
   "cell_type": "code",
   "execution_count": 74,
   "metadata": {},
   "outputs": [
    {
     "name": "stdout",
     "output_type": "stream",
     "text": [
      "min_dB = -27.25, max_dB = 60.80, med_dB = 28.79\n"
     ]
    }
   ],
   "source": [
    "myImg = tdbp.Img(focusedImg)\n",
    "#min_dB = -34.70, max_dB = 67.19, med_dB = 28.79"
   ]
  },
  {
   "cell_type": "markdown",
   "metadata": {},
   "source": [
    "# Plot image"
   ]
  },
  {
   "cell_type": "markdown",
   "metadata": {},
   "source": [
    "## imshow"
   ]
  },
  {
   "cell_type": "code",
   "execution_count": 68,
   "metadata": {},
   "outputs": [],
   "source": [
    "cmap = 'jet'"
   ]
  },
  {
   "cell_type": "code",
   "execution_count": 80,
   "metadata": {},
   "outputs": [],
   "source": [
    "left = focusing.conf.xMax\n",
    "right = focusing.conf.xMin\n",
    "bottom = focusing.conf.yMax\n",
    "top = focusing.conf.yMin\n",
    "extent = [left, right, bottom, top]\n",
    "fig, (ax0, ax1) = plt.subplots(1, 2, figsize=(10, 5), sharex=True, sharey=True)\n",
    "#im0 = ax0.imshow(myImg.img_dB, cmap=cmap, extent=extent)\n",
    "#im1 = ax1.imshow(myImg.box_dB(3), cmap=cmap, extent=extent)\n",
    "im0 = ax0.imshow(myImg.img_dB, cmap=cmap, vmin=30, vmax=60)\n",
    "im1 = ax1.imshow(myImg.box_dB(3), cmap=cmap)\n",
    "dia.addColorBar(im0, ax0)\n",
    "dia.addColorBar(im1, ax1)"
   ]
  },
  {
   "cell_type": "code",
   "execution_count": 72,
   "metadata": {},
   "outputs": [
    {
     "data": {
      "text/plain": [
       "<matplotlib.legend.Legend at 0x7ff185af0cd0>"
      ]
     },
     "execution_count": 72,
     "metadata": {},
     "output_type": "execute_result"
    }
   ],
   "source": [
    "plt.figure()\n",
    "#for idx in range(345, 355, 1):\n",
    "#    plt.plot(myImg.img_dB.T[idx, :], label=f\"{idx}\")\n",
    "idx = 349\n",
    "plt.plot(np.arange(focusing.conf.yMin, focusing.conf.yMax, focusing.conf.d_y), myImg.img_dB.T[idx, :], label=f\"{idx}\")\n",
    "#idx = 211\n",
    "#plt.plot(np.arange(focusing.conf.yMin, focusing.conf.yMax, focusing.conf.d_y), myImg.img_dB.T[idx, :], label=f\"{idx}\")\n",
    "plt.grid()\n",
    "plt.legend()"
   ]
  },
  {
   "cell_type": "markdown",
   "metadata": {},
   "source": [
    "## pcolormesh box_filter"
   ]
  },
  {
   "cell_type": "code",
   "execution_count": 73,
   "metadata": {},
   "outputs": [],
   "source": [
    "z = myImg.box_dB(1)"
   ]
  },
  {
   "cell_type": "code",
   "execution_count": null,
   "metadata": {},
   "outputs": [],
   "source": [
    "fig, ax = plt.subplots(1,1)\n",
    "x = focusing.scene.X\n",
    "y = focusing.scene.Y\n",
    "im = ax.pcolormesh(x, y, z, cmap='jet')\n",
    "ax.set_aspect('equal')\n",
    "ax.plot(focusing.xa, focusing.ya)\n",
    "plt.colorbar(im)\n",
    "ax.grid()\n",
    "ax.plot(focusing.conf.ptsEpsg['corner'][0], focusing.conf.ptsEpsg['corner'][1], 'og', markeredgecolor = 'black')"
   ]
  },
  {
   "cell_type": "code",
   "execution_count": null,
   "metadata": {},
   "outputs": [],
   "source": [
    "vmin = 0\n",
    "vmax = 40\n",
    "\n",
    "fig, ax = plt.subplots(1,1)\n",
    "x = focusing.scene.X\n",
    "y = focusing.scene.Y\n",
    "im = ax.pcolormesh(x, y, z, cmap='jet', vmin=vmin, vmax=vmax)\n",
    "ax.set_aspect('equal')\n",
    "ax.plot(focusing.xa, focusing.ya)\n",
    "plt.colorbar(im)\n",
    "ax.grid()\n",
    "#focusing.addPtsEpsg(ax, ['corner'])\n",
    "#focusing.addPtsEpsg(ax, ['h0', 'h1', 'h2', 'h3'])"
   ]
  },
  {
   "cell_type": "markdown",
   "metadata": {},
   "source": [
    "## Dynamic range"
   ]
  },
  {
   "cell_type": "code",
   "execution_count": 31,
   "metadata": {},
   "outputs": [
    {
     "name": "stdout",
     "output_type": "stream",
     "text": [
      "min 15.3, max 58.6\n"
     ]
    }
   ],
   "source": [
    "imgDyn = myImg.dynamicRange(dynRange=60, db=1, size=3)"
   ]
  },
  {
   "cell_type": "code",
   "execution_count": 32,
   "metadata": {},
   "outputs": [],
   "source": [
    "fig, ax = plt.subplots(1,1)\n",
    "im = ax.pcolormesh(x, y, z, cmap=cmap, vmin=-10, vmax=30)\n",
    "dia.addColorBar(im, ax)\n",
    "ax.grid()\n",
    "focusing.addPtsEpsg(ax, ['corner'])\n",
    "focusing.addPtsEpsg(ax, ['h0', 'h1', 'h2', 'h3'])"
   ]
  },
  {
   "cell_type": "markdown",
   "metadata": {},
   "source": [
    "# Build GeoTIFF"
   ]
  },
  {
   "cell_type": "code",
   "execution_count": 33,
   "metadata": {},
   "outputs": [],
   "source": [
    "tiffName = os.path.join(focusing.out_dir, focusing.conf.name + \".tif\")"
   ]
  },
  {
   "cell_type": "code",
   "execution_count": 34,
   "metadata": {},
   "outputs": [],
   "source": [
    "myTiff = tdbp.Tiff(tiffName, focusing, z, cmap='gray')"
   ]
  },
  {
   "cell_type": "markdown",
   "metadata": {},
   "source": [
    "# Save focused image"
   ]
  },
  {
   "cell_type": "code",
   "execution_count": 81,
   "metadata": {},
   "outputs": [],
   "source": [
    "myImg.save(focusing)"
   ]
  },
  {
   "cell_type": "code",
   "execution_count": 76,
   "metadata": {},
   "outputs": [],
   "source": [
    "sig = 20 * np.log10(np.abs(np.fft.ifft(focusing.sa)))"
   ]
  },
  {
   "cell_type": "code",
   "execution_count": 77,
   "metadata": {},
   "outputs": [
    {
     "data": {
      "text/plain": [
       "<matplotlib.image.AxesImage at 0x7ff185ac5d60>"
      ]
     },
     "execution_count": 77,
     "metadata": {},
     "output_type": "execute_result"
    }
   ],
   "source": [
    "plt.imshow(sig[500:800:, 1500:3000], cmap='jet')"
   ]
  },
  {
   "cell_type": "code",
   "execution_count": 38,
   "metadata": {},
   "outputs": [
    {
     "data": {
      "text/plain": [
       "[<matplotlib.lines.Line2D at 0x7ff2afe2fd00>]"
      ]
     },
     "execution_count": 38,
     "metadata": {},
     "output_type": "execute_result"
    }
   ],
   "source": [
    "plt.figure()\n",
    "plt.plot(sig[700, :])"
   ]
  },
  {
   "cell_type": "code",
   "execution_count": null,
   "metadata": {},
   "outputs": [],
   "source": []
  }
 ],
 "metadata": {
  "kernelspec": {
   "display_name": "Python 3",
   "language": "python",
   "name": "python3"
  },
  "language_info": {
   "codemirror_mode": {
    "name": "ipython",
    "version": 3
   },
   "file_extension": ".py",
   "mimetype": "text/x-python",
   "name": "python",
   "nbconvert_exporter": "python",
   "pygments_lexer": "ipython3",
   "version": "3.8.3"
  },
  "toc": {
   "base_numbering": 1,
   "nav_menu": {},
   "number_sections": true,
   "sideBar": true,
   "skip_h1_title": false,
   "title_cell": "Table of Contents",
   "title_sidebar": "Contents",
   "toc_cell": false,
   "toc_position": {
    "height": "calc(100% - 180px)",
    "left": "10px",
    "top": "150px",
    "width": "332px"
   },
   "toc_section_display": true,
   "toc_window_display": true
  },
  "varInspector": {
   "cols": {
    "lenName": 16,
    "lenType": 16,
    "lenVar": 40
   },
   "kernels_config": {
    "python": {
     "delete_cmd_postfix": "",
     "delete_cmd_prefix": "del ",
     "library": "var_list.py",
     "varRefreshCmd": "print(var_dic_list())"
    },
    "r": {
     "delete_cmd_postfix": ") ",
     "delete_cmd_prefix": "rm(",
     "library": "var_list.r",
     "varRefreshCmd": "cat(var_dic_list()) "
    }
   },
   "types_to_exclude": [
    "module",
    "function",
    "builtin_function_or_method",
    "instance",
    "_Feature"
   ],
   "window_display": false
  }
 },
 "nbformat": 4,
 "nbformat_minor": 4
}
