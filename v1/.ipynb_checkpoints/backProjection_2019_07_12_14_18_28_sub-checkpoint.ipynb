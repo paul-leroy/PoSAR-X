{
 "cells": [
  {
   "cell_type": "markdown",
   "metadata": {},
   "source": [
    "# Initialization"
   ]
  },
  {
   "cell_type": "code",
   "execution_count": 1,
   "metadata": {},
   "outputs": [],
   "source": [
    "import numpy as np\n",
    "import matplotlib.pyplot as plt\n",
    "import scipy.signal as signal\n",
    "import scipy.interpolate as interp"
   ]
  },
  {
   "cell_type": "code",
   "execution_count": 2,
   "metadata": {},
   "outputs": [],
   "source": [
    "%matplotlib qt5\n",
    "eps = np.finfo(float).eps"
   ]
  },
  {
   "cell_type": "code",
   "execution_count": 3,
   "metadata": {},
   "outputs": [],
   "source": [
    "import sys\n",
    "import time\n",
    "import json"
   ]
  },
  {
   "cell_type": "markdown",
   "metadata": {},
   "source": [
    "## Load backprojection library"
   ]
  },
  {
   "cell_type": "code",
   "execution_count": 4,
   "metadata": {},
   "outputs": [],
   "source": [
    "sys.path.insert(0, \"/home/pleroy/DEV/processing/PoSAR-MC/backprojection\")"
   ]
  },
  {
   "cell_type": "code",
   "execution_count": 5,
   "metadata": {},
   "outputs": [],
   "source": [
    "from loadbackprojection import *"
   ]
  },
  {
   "cell_type": "code",
   "execution_count": 6,
   "metadata": {},
   "outputs": [],
   "source": [
    "libraryFilename = \"/home/pleroy/DEV/processing/PoSAR-MC/backprojection/ccpp/libbackprojection/liblibbackprojection.so\""
   ]
  },
  {
   "cell_type": "code",
   "execution_count": 7,
   "metadata": {},
   "outputs": [],
   "source": [
    "lib = LibBackProjection( libraryFilename )"
   ]
  },
  {
   "cell_type": "markdown",
   "metadata": {},
   "source": [
    "## Load other tools"
   ]
  },
  {
   "cell_type": "code",
   "execution_count": 8,
   "metadata": {},
   "outputs": [],
   "source": [
    "sys.path.insert(0, \"/home/pleroy/DEV/processing/focalization_python\")"
   ]
  },
  {
   "cell_type": "code",
   "execution_count": 9,
   "metadata": {},
   "outputs": [],
   "source": [
    "import posarutils.process.disp_PoSAR_img as disp\n",
    "from posarutils.process.disp_PoSAR_img import OPTt\n",
    "from posarutils.process.filtering import box_filter"
   ]
  },
  {
   "cell_type": "code",
   "execution_count": 10,
   "metadata": {},
   "outputs": [],
   "source": [
    "sys.path.insert(0, \"/home/pleroy/DEV/DIADEM\")\n",
    "import toolsdiadem.tools as dia"
   ]
  },
  {
   "cell_type": "code",
   "execution_count": 204,
   "metadata": {},
   "outputs": [],
   "source": [
    "sys.path.insert(0, \"/home/pleroy/DEV/processing/PoSAR-MC\")\n",
    "from posarmctools.epsgtools import *"
   ]
  },
  {
   "cell_type": "markdown",
   "metadata": {},
   "source": [
    "## Load parameters specific to the dataset"
   ]
  },
  {
   "cell_type": "code",
   "execution_count": 11,
   "metadata": {},
   "outputs": [],
   "source": [
    "from rsc.datasetconfig import *\n",
    "\n",
    "%load_ext autoreload\n",
    "%autoreload 2"
   ]
  },
  {
   "cell_type": "code",
   "execution_count": 12,
   "metadata": {},
   "outputs": [],
   "source": [
    "withPlots = 0"
   ]
  },
  {
   "cell_type": "markdown",
   "metadata": {},
   "source": [
    "# Read parameters from the XML file"
   ]
  },
  {
   "cell_type": "code",
   "execution_count": 13,
   "metadata": {},
   "outputs": [],
   "source": [
    "from posarutils.other.PosarMCParameters import *"
   ]
  },
  {
   "cell_type": "code",
   "execution_count": 14,
   "metadata": {},
   "outputs": [],
   "source": [
    "data_date = \"2019_07_12_14_18_28\"\n",
    "root_dir = \"/home/pleroy/DATA/PoSAR-X/PIMA-1/2019_07_12/\"\n",
    "data_dir = root_dir + data_date"
   ]
  },
  {
   "cell_type": "code",
   "execution_count": 15,
   "metadata": {},
   "outputs": [],
   "source": [
    "params_filename = data_dir + \"/\" + data_date + \"_parameters.xml\"\n",
    "params = PosarXParameters( params_filename )\n",
    "Tp = params.rampPeriod / 1e6\n",
    "B0 = ( params.stopFrequency - params.startFrequency ) * 1e6\n",
    "fc = ( params.stopFrequency + params.startFrequency ) * 1e6 / 2\n",
    "fs = params.samplingFrequency\n",
    "c = 3e8\n",
    "lambda_c = c / fc"
   ]
  },
  {
   "cell_type": "code",
   "execution_count": 16,
   "metadata": {},
   "outputs": [
    {
     "name": "stdout",
     "output_type": "stream",
     "text": [
      "rampsPerBuffer 500\n",
      "bufferSize 20000000.0\n",
      "buffersPerFile 2\n",
      "rampsPerFile 1000\n",
      "fileSize 40000000.0\n",
      "samplingFrequency 20000000.0\n",
      "samplesPerRamp 20000\n",
      "skipNSamples 0\n",
      "rampPeriod 1000\n",
      "startFrequency 9800\n",
      "stopFrequency 10100\n",
      "kc 416.785\n"
     ]
    }
   ],
   "source": [
    "params.print()"
   ]
  },
  {
   "cell_type": "markdown",
   "metadata": {},
   "source": [
    "# Load the analytic signal"
   ]
  },
  {
   "cell_type": "code",
   "execution_count": 205,
   "metadata": {},
   "outputs": [],
   "source": [
    "withHanning = 1\n",
    "nav = 1\n",
    "upOrDown = \"Up\"\n",
    "if withHanning:\n",
    "    hanning = \"_hanning\"\n",
    "else:\n",
    "    hanning = \"\"\n",
    "#epsg3xxx = epsg3948\n",
    "#epsgN = 3948\n",
    "#epsg3xxx = epsg3857\n",
    "#epsgN = 3857\n",
    "epsg3xxx = epsg32630\n",
    "epsgN = 32630"
   ]
  },
  {
   "cell_type": "code",
   "execution_count": 18,
   "metadata": {},
   "outputs": [
    {
     "name": "stdout",
     "output_type": "stream",
     "text": [
      "load /home/pleroy/DATA/PoSAR-X/PIMA-1/2019_07_12/2019_07_12_14_18_28/RD_files_0_46_rampUp_hanning.npy\n",
      "load /home/pleroy/DATA/PoSAR-X/PIMA-1/2019_07_12/2019_07_12_14_18_28/coupling_RD_files_0_46_rampUp_hanning.npy\n"
     ]
    }
   ],
   "source": [
    "firstFile = 0\n",
    "nbFiles = 47\n",
    "lastFile = firstFile + nbFiles - 1\n",
    "firstRamp = (firstFile) * params.rampsPerFile\n",
    "lastRamp = (lastFile) * params.rampsPerFile\n",
    "\n",
    "RD1_name = f'{data_dir}/RD_files_{firstFile}_{lastFile}_ramp{upOrDown}{hanning}.npy'\n",
    "coupling_name = f'{data_dir}/coupling_RD_files_{firstFile}_{lastFile}_ramp{upOrDown}{hanning}.npy'\n",
    "\n",
    "print( f\"load {RD1_name}\")\n",
    "print( f\"load {coupling_name}\")\n",
    "RD1 = np.load( RD1_name )\n",
    "coupling = np.load( coupling_name )\n",
    "\n",
    "# remove coupling from RD1 to build RD2\n",
    "#RD2 = RD1 - coupling\n",
    "nbPos = params.rampsPerFile * nbFiles"
   ]
  },
  {
   "cell_type": "code",
   "execution_count": 19,
   "metadata": {},
   "outputs": [],
   "source": [
    "if withPlots:\n",
    "    plt.figure()\n",
    "    plt.plot(np.abs(coupling))\n",
    "    plt.grid()"
   ]
  },
  {
   "cell_type": "markdown",
   "metadata": {},
   "source": [
    "# Load antenna positions"
   ]
  },
  {
   "cell_type": "code",
   "execution_count": 355,
   "metadata": {},
   "outputs": [
    {
     "name": "stdout",
     "output_type": "stream",
     "text": [
      "rampNumber_timeStamp_xyz_nav_a.npy\n",
      "xa_mean = 573525.46, ya_mean = 5322884.29, za_mean = 433.13\n"
     ]
    }
   ],
   "source": [
    "if nav:\n",
    "    filename = \"rampNumber_timeStamp_xyz_nav_a.npy\"\n",
    "else:\n",
    "    filename = \"rampNumber_timeStamp_xyz_gps_a.npy\"\n",
    "        \n",
    "xyz = np.load( data_dir + \"/\" + filename )\n",
    "xa = xyz[:,2]\n",
    "ya = xyz[:,3]\n",
    "za = xyz[:,4]\n",
    "xa_mean = np.mean(xa)\n",
    "ya_mean = np.mean(ya)\n",
    "za_mean = np.mean(za)\n",
    "print( filename )\n",
    "print( \"xa_mean = {:.2f}, ya_mean = {:.2f}, za_mean = {:.2f}\".format( xa_mean, ya_mean, za_mean ) )"
   ]
  },
  {
   "cell_type": "code",
   "execution_count": 353,
   "metadata": {},
   "outputs": [
    {
     "name": "stdout",
     "output_type": "stream",
     "text": [
      "RD1.shape = (47000, 5000), xyz.shape = (57000, 5)\n"
     ]
    }
   ],
   "source": [
    "print( \"RD1.shape = {}, xyz.shape = {}\".format( RD1.shape, xyz.shape ) )"
   ]
  },
  {
   "cell_type": "code",
   "execution_count": 115,
   "metadata": {
    "scrolled": true
   },
   "outputs": [],
   "source": [
    "if withPlots:\n",
    "    plt.figure()\n",
    "\n",
    "    title = data_date + \" selection {} to {}\".format( firstFile, lastFile )\n",
    "    \n",
    "    plt.suptitle( title )\n",
    "\n",
    "    plt.subplot(221)\n",
    "    plt.plot(xyz[:, 1], xyz[:, 2], label=\"x \")\n",
    "    plt.plot(xyz[firstRamp:lastRamp, 1], xyz[firstRamp:lastRamp, 2], 'orange', label=\"x selection\")\n",
    "    plt.grid()\n",
    "    plt.legend()\n",
    "\n",
    "    plt.subplot(222)\n",
    "    plt.plot(xyz[:, 1], xyz[:, 3], label=\"y \")\n",
    "    plt.plot(xyz[firstRamp:lastRamp, 1], xyz[firstRamp:lastRamp, 3], 'orange', label=\"y selection\")\n",
    "    plt.grid()\n",
    "    plt.legend()\n",
    "\n",
    "    plt.subplot(223)\n",
    "    plt.plot(xyz[:, 1], xyz[:, 4], label=\"z \")\n",
    "    plt.plot(xyz[firstRamp:lastRamp, 1], xyz[firstRamp:lastRamp, 4], 'orange', label=\"z selection\")\n",
    "    plt.grid()\n",
    "    plt.legend()\n",
    "\n",
    "    plt.subplot(224)\n",
    "    plt.plot(xyz[:, 2], xyz[:, 3], label=\"xy \")\n",
    "    plt.plot(xyz[firstRamp:lastRamp, 2], xyz[firstRamp:lastRamp, 3], 'orange', label=\"xy (selection)\")\n",
    "    ax = plt.gca()\n",
    "    ax.invert_xaxis()\n",
    "    ax.invert_yaxis()\n",
    "    ax.xaxis.tick_top()\n",
    "    ax.yaxis.tick_right()\n",
    "    plt.grid()\n",
    "    plt.legend()\n",
    "    \n",
    "    plt.savefig( data_dir + \"/\" + title + \".png\", bbox_inches='tight')"
   ]
  },
  {
   "cell_type": "markdown",
   "metadata": {},
   "source": [
    "# Scene geometry"
   ]
  },
  {
   "cell_type": "markdown",
   "metadata": {},
   "source": [
    "## Load data"
   ]
  },
  {
   "cell_type": "code",
   "execution_count": 194,
   "metadata": {},
   "outputs": [],
   "source": [
    "with open(data_dir + '/track_model.json') as json_file:  \n",
    "    data = json.load(json_file)\n",
    "    \n",
    "ux = data['ux']\n",
    "uy = data['uy']\n",
    "refX = data['origX']\n",
    "refY = data['origY']\n",
    "theta = np.arctan2(ux[1],ux[0])"
   ]
  },
  {
   "cell_type": "code",
   "execution_count": 195,
   "metadata": {},
   "outputs": [],
   "source": [
    "corner_epsg = np.load( f\"{root_dir}corner_epsg.npy\" )\n",
    "hangar_epsg = np.load( f\"{root_dir}hangar_epsg.npy\" )\n",
    "runaway_epsg = np.load( f\"{root_dir}runaway_epsg.npy\" )\n",
    "s_epsg = np.load( f\"{root_dir}s_epsg.npy\" )"
   ]
  },
  {
   "cell_type": "code",
   "execution_count": 196,
   "metadata": {},
   "outputs": [],
   "source": [
    "def addCorner( ax ):\n",
    "    ax.plot( corner_epsg[0], corner_epsg[1], 'o', markerfacecolor=\"None\", markeredgecolor = 'r' )\n",
    "def addHangar( ax ):\n",
    "    ax.plot( hangar_epsg[:,0], hangar_epsg[:,1], 'o', markerfacecolor=\"None\", markeredgecolor = 'r' )"
   ]
  },
  {
   "cell_type": "markdown",
   "metadata": {},
   "source": [
    "## Define geometry"
   ]
  },
  {
   "cell_type": "code",
   "execution_count": 386,
   "metadata": {},
   "outputs": [],
   "source": [
    "hScene = -1\n",
    "\n",
    "d_x = 0.5\n",
    "d_y = 0.5\n",
    "if 0: # 25 125 => 25 - 75 // 75 - 125\n",
    "    xMin = 75\n",
    "    xMax = 175\n",
    "    yMin = 350\n",
    "    yMax = 450\n",
    "if epsg3xxx == epsg3857:\n",
    "    xMin = 150\n",
    "    xMax = 250\n",
    "    yMin = 550\n",
    "    yMax = 650\n",
    "if epsg3xxx == epsg32630:\n",
    "    xMin = -100\n",
    "    xMax = 100\n",
    "    yMin = 350\n",
    "    yMax = 450\n",
    "shiftY = 0\n",
    "\n",
    "basex = np.arange(xMin, xMax, d_x)\n",
    "basey = np.arange(yMin, yMax, d_y)\n",
    "nbX = basex.size\n",
    "nbY = basey.size\n",
    "sceneTrackX, sceneTrackY = np.meshgrid(basex, basey)\n",
    "sceneX = ux[0] * sceneTrackX - ux[1] * sceneTrackY + refX \n",
    "sceneY = ux[1] * sceneTrackX + ux[0] * sceneTrackY + refY\n",
    "    \n",
    "sceneX_mean = np.mean(sceneX)\n",
    "sceneY_mean = np.mean(sceneY)"
   ]
  },
  {
   "cell_type": "code",
   "execution_count": 389,
   "metadata": {},
   "outputs": [],
   "source": [
    "xa_track =  ux[0] * (xa-refX) + ux[1] * (ya-refY)\n",
    "ya_track = -ux[1] * (xa-refX) + ux[0] * (ya-refY)"
   ]
  },
  {
   "cell_type": "code",
   "execution_count": 390,
   "metadata": {},
   "outputs": [],
   "source": [
    "subApertureLength = 100\n",
    "xCenter  = (xMax + xMin) / 2\n",
    "sub0_x0  = xMin - subApertureLength\n",
    "sub0_x1  = xCenter\n",
    "sub1_x0  = xCenter\n",
    "sub1_x1  = xMax + subApertureLength\n",
    "sub01_x0 = xMin - subApertureLength\n",
    "sub01_x1 = xMax + subApertureLength"
   ]
  },
  {
   "cell_type": "code",
   "execution_count": 391,
   "metadata": {},
   "outputs": [],
   "source": [
    "sub0_idx  = np.where( (xa_track>sub0_x0) & (xa_track<sub0_x1) )[0]\n",
    "sub0_xa   = xa[ sub0_idx ]\n",
    "sub0_ya   = ya[ sub0_idx ]\n",
    "sub0_za   = za[ sub0_idx ]\n",
    "sub1_idx  = np.where( (xa_track>sub1_x0) & (xa_track<sub1_x1) )[0]\n",
    "sub1_xa   = xa[ sub1_idx ]\n",
    "sub1_ya   = ya[ sub1_idx ]\n",
    "sub1_za   = za[ sub1_idx ]\n",
    "sub01_idx = np.where( (xa_track>sub01_x0) & (xa_track<sub01_x1) )[0]"
   ]
  },
  {
   "cell_type": "code",
   "execution_count": null,
   "metadata": {},
   "outputs": [],
   "source": []
  },
  {
   "cell_type": "code",
   "execution_count": 392,
   "metadata": {},
   "outputs": [],
   "source": [
    "if 1:\n",
    "    fig, ax = plt.subplots(1,1)\n",
    "    ax.plot( baseLineX, baseLineY, 'or', label = \"baseline\" )\n",
    "    ax.plot( sceneX[::10,::10], sceneY[::10,::10], \".k\" )\n",
    "    ax.plot( xa, ya, 'b', label=\"antenna positions\" )\n",
    "    ax.plot( sub0_xa, sub0_ya, 'gx', label=\"sub0\" )\n",
    "    ax.plot( sub1_xa, sub1_ya, 'm.', label=\"sub1\" )\n",
    "    ax.plot( xyz[firstRamp:lastRamp, 2], xyz[firstRamp:lastRamp, 3], 'limegreen', label=\"ramps\" )\n",
    "    ax.plot( refX, refY, 'ow', markeredgecolor='k' )\n",
    "    ax.set_aspect('equal')\n",
    "    ax.grid()\n",
    "    addCorner( ax )\n",
    "    addHangar( ax )\n",
    "    ax.legend()"
   ]
  },
  {
   "cell_type": "code",
   "execution_count": 292,
   "metadata": {},
   "outputs": [],
   "source": [
    "groundRange = 1 # 0 => slant range, 1 => ground range"
   ]
  },
  {
   "cell_type": "markdown",
   "metadata": {},
   "source": [
    "# Compute velocity"
   ]
  },
  {
   "cell_type": "code",
   "execution_count": 32,
   "metadata": {},
   "outputs": [],
   "source": [
    "def smooth(t, y, smoothing, order):\n",
    "    n = len(t)\n",
    "    result = np.zeros(n)\n",
    "\n",
    "    t = np.arange(-smoothing, smoothing+1)\n",
    "    \n",
    "    for i in range( smoothing, n - smoothing ):\n",
    "        start = i - smoothing\n",
    "        end   = i + smoothing + 1\n",
    "        p = np.polyfit( t, y[start:end], order )\n",
    "        result[i] = p[-2]\n",
    "\n",
    "    return result"
   ]
  },
  {
   "cell_type": "code",
   "execution_count": 33,
   "metadata": {},
   "outputs": [
    {
     "name": "stdout",
     "output_type": "stream",
     "text": [
      "Vxa\n",
      "Vya\n",
      "Vza\n"
     ]
    }
   ],
   "source": [
    "N = len(xa)\n",
    "ta = np.arange(N)\n",
    "smoothing = 1000\n",
    "order = 1\n",
    "print(\"Vxa\")\n",
    "Vxa = smooth( ta, xa, smoothing, order ) * 1000\n",
    "print(\"Vya\")\n",
    "Vya = smooth( ta, ya, smoothing, order ) * 1000\n",
    "print(\"Vza\")\n",
    "Vza = smooth( ta, za, smoothing, order ) * 1000\n",
    "Vxa_raw = np.diff(xa) * 1000\n",
    "Vya_raw = np.diff(ya) * 1000\n",
    "Vza_raw = np.diff(za) * 1000"
   ]
  },
  {
   "cell_type": "code",
   "execution_count": 34,
   "metadata": {},
   "outputs": [],
   "source": [
    "Vr = ( (Vxa*ux[0])**2 + (Vya*ux[1])**2)**0.5 # compute the projection of the velocity on the track direction"
   ]
  },
  {
   "cell_type": "code",
   "execution_count": 35,
   "metadata": {},
   "outputs": [],
   "source": [
    "fig, ax = plt.subplots(1,1)\n",
    "ax.plot(Vxa_raw, '.', label=\"Vxa_raw\")\n",
    "ax.plot(Vxa,          label=\"Vxa\")\n",
    "ax.plot(Vya_raw, '.', label=\"Vya_raw\")\n",
    "ax.plot(Vya,          label=\"Vya\")\n",
    "ax.plot(Vza_raw, '.', label=\"Vza_raw\")\n",
    "ax.plot(Vza,          label=\"Vza\")\n",
    "ax.plot(Vr,           label=\"Vr\")\n",
    "ax.legend()\n",
    "ax.grid()"
   ]
  },
  {
   "cell_type": "markdown",
   "metadata": {},
   "source": [
    "# Digital Terrain Elevation Model"
   ]
  },
  {
   "cell_type": "markdown",
   "metadata": {},
   "source": [
    "## Load data"
   ]
  },
  {
   "cell_type": "code",
   "execution_count": 37,
   "metadata": {},
   "outputs": [],
   "source": [
    "from osgeo import gdal"
   ]
  },
  {
   "cell_type": "code",
   "execution_count": 38,
   "metadata": {},
   "outputs": [],
   "source": [
    "src_filename = \"/home/pleroy/DATA/PoSAR-X/n48_w002_1arc_v3.dt2\"\n",
    "#src_filename = \"/home/pleroy/DATA/PoSAR-X/N48W002.hgt\"\n",
    "src_filename = \"/home/pleroy/DATA/PoSAR-X/N48W003.hgt\""
   ]
  },
  {
   "cell_type": "code",
   "execution_count": 39,
   "metadata": {},
   "outputs": [],
   "source": [
    "dataset = gdal.Open(src_filename, gdal.GA_ReadOnly)"
   ]
  },
  {
   "cell_type": "code",
   "execution_count": 40,
   "metadata": {},
   "outputs": [
    {
     "name": "stdout",
     "output_type": "stream",
     "text": [
      "Driver: SRTMHGT/SRTMHGT File Format\n",
      "Size is 3601 x 3601 x 1\n",
      "Projection is GEOGCS[\"WGS 84\",DATUM[\"WGS_1984\",SPHEROID[\"WGS 84\",6378137,298.257223563,AUTHORITY[\"EPSG\",\"7030\"]],AUTHORITY[\"EPSG\",\"6326\"]],PRIMEM[\"Greenwich\",0,AUTHORITY[\"EPSG\",\"8901\"]],UNIT[\"degree\",0.0174532925199433,AUTHORITY[\"EPSG\",\"9122\"]],AUTHORITY[\"EPSG\",\"4326\"]]\n",
      "Origin = (-3.000138888888889, 49.00013888888889)\n",
      "Pixel Size = (0.0002777777777777778, -0.0002777777777777778)\n"
     ]
    }
   ],
   "source": [
    "print(\"Driver: {}/{}\".format(dataset.GetDriver().ShortName,\n",
    "                             dataset.GetDriver().LongName))\n",
    "print(\"Size is {} x {} x {}\".format(dataset.RasterXSize,\n",
    "                                    dataset.RasterYSize,\n",
    "                                    dataset.RasterCount))\n",
    "print(\"Projection is {}\".format(dataset.GetProjection()))\n",
    "\n",
    "# Fetch the coefficients for transforming between \n",
    "# pixel/line (P,L) raster space => projection coordinates (Xp,Yp) space\n",
    "# Xp = GT[0] + P*GT[1] + L*GT[2]\n",
    "# Yp = GT[3] + P*GT[4] + L*GT[5]\n",
    "\n",
    "GT = dataset.GetGeoTransform()\n",
    "if GT:\n",
    "    print(\"Origin = ({}, {})\".format( GT[0], GT[3] ) )\n",
    "    print(\"Pixel Size = ({}, {})\".format( GT[1], GT[5] ) )"
   ]
  },
  {
   "cell_type": "code",
   "execution_count": 41,
   "metadata": {},
   "outputs": [
    {
     "name": "stdout",
     "output_type": "stream",
     "text": [
      "Band Type=Int16\n"
     ]
    }
   ],
   "source": [
    "band = dataset.GetRasterBand(1)\n",
    "print(\"Band Type={}\".format(gdal.GetDataTypeName(band.DataType)))"
   ]
  },
  {
   "cell_type": "code",
   "execution_count": 42,
   "metadata": {},
   "outputs": [],
   "source": [
    "XSize = band.XSize\n",
    "YSize = band.YSize\n",
    "dted_elevations = band.ReadAsArray(0, 0, XSize, YSize )"
   ]
  },
  {
   "cell_type": "code",
   "execution_count": 43,
   "metadata": {},
   "outputs": [],
   "source": [
    "dted_long = GT[0] + np.arange(XSize) * GT[1]\n",
    "dted_lat = GT[3] + np.arange(YSize) * GT[5]\n",
    "meshgrid_long, meshgrid_lat = np.meshgrid(dted_long, dted_lat)"
   ]
  },
  {
   "cell_type": "code",
   "execution_count": 44,
   "metadata": {},
   "outputs": [],
   "source": [
    "vmin = 0\n",
    "vmax = 300\n",
    "left = GT[0]\n",
    "right = GT[0] + XSize * GT[1]\n",
    "bottom = GT[3] + YSize * GT[5]\n",
    "top = GT[3]\n",
    "\n",
    "plt.figure()\n",
    "plt.imshow(dted_elevations, extent=(left, right, bottom, top), vmin=vmin, vmax=vmax, cmap='terrain')\n",
    "plt.colorbar()\n",
    "plt.grid()\n",
    "ax = plt.gca()"
   ]
  },
  {
   "cell_type": "code",
   "execution_count": 45,
   "metadata": {},
   "outputs": [],
   "source": [
    "rectBivariateSpline = interp.RectBivariateSpline( dted_lat[::-1], dted_long, dted_elevations[::-1,:] )"
   ]
  },
  {
   "cell_type": "markdown",
   "metadata": {},
   "source": [
    "## Plot elevations in XY"
   ]
  },
  {
   "cell_type": "code",
   "execution_count": 221,
   "metadata": {},
   "outputs": [],
   "source": [
    "dted_X, dted_Y = wgs84ToEpsg( (meshgrid_long, meshgrid_lat), epsg3xxx )"
   ]
  },
  {
   "cell_type": "code",
   "execution_count": 222,
   "metadata": {},
   "outputs": [],
   "source": [
    "if 0:\n",
    "    fig, ax = plt.subplots(1,1)\n",
    "    vmin = 0\n",
    "    vmax = 130\n",
    "    im = ax.pcolormesh( dted_X, dted_Y, dted_elevations, cmap='terrain', vmin=vmin, vmax=vmax)\n",
    "    #ax.set_xlim([ -10000, 13000])\n",
    "    #ax.set_ylim([ 0, 17000])\n",
    "    ax.plot( sceneX[::10,::10], sceneY[::10,::10], \".k\", label = \"scene\" )\n",
    "    ax.set_aspect(\"equal\")\n",
    "    ax.grid()\n",
    "    plt.colorbar(im)"
   ]
  },
  {
   "cell_type": "markdown",
   "metadata": {},
   "source": [
    "## Compute scene elevations"
   ]
  },
  {
   "cell_type": "code",
   "execution_count": 318,
   "metadata": {},
   "outputs": [],
   "source": [
    "scene_Long, scene_Lat = epsgToWgs84( (sceneX, sceneY), epsg3xxx )\n",
    "sceneZ = rectBivariateSpline.ev( scene_Lat, scene_Long)"
   ]
  },
  {
   "cell_type": "code",
   "execution_count": 319,
   "metadata": {},
   "outputs": [],
   "source": [
    "if 1:\n",
    "    fig, ax = plt.subplots(1,1)\n",
    "    cs = ax.contourf(\n",
    "        sceneX,\n",
    "        sceneY,\n",
    "        sceneZ,\n",
    "        vmin=0,\n",
    "        vmax=130,\n",
    "        cmap=\"terrain\")\n",
    "    ax.contour(cs, colors='k')\n",
    "    ax.grid()\n",
    "    ax.set_title(\"scene elevation \" + data_date)\n",
    "    dia.addColorBar( cs, ax )"
   ]
  },
  {
   "cell_type": "markdown",
   "metadata": {},
   "source": [
    "# Focalization"
   ]
  },
  {
   "cell_type": "code",
   "execution_count": 320,
   "metadata": {},
   "outputs": [],
   "source": [
    "sub_idx = sub01_idx"
   ]
  },
  {
   "cell_type": "code",
   "execution_count": 321,
   "metadata": {},
   "outputs": [],
   "source": [
    "RD = np.fft.ifftshift(RD1[sub_idx,:], 1)"
   ]
  },
  {
   "cell_type": "code",
   "execution_count": 322,
   "metadata": {},
   "outputs": [
    {
     "name": "stdout",
     "output_type": "stream",
     "text": [
      "Nf = 5000, Naz = 10572\n",
      "range from 0.00m to 2499.95m, resolution = 0.5m, oversampled = 0.05m, \n"
     ]
    }
   ],
   "source": [
    "sr = RD\n",
    "Naz = sr.shape[0]\n",
    "Nf = sr.shape[1]\n",
    "overSamplingRatio = 10\n",
    "Nover = overSamplingRatio * Nf\n",
    "rangeResolution = c / (2 * B0)\n",
    "r_base = np.arange( Nf ) * rangeResolution\n",
    "r_over = np.arange( Nover ) * rangeResolution / overSamplingRatio\n",
    "dr_over = r_over[1] - r_over[0]\n",
    "\n",
    "print( \"Nf = {}, Naz = {}\".format( Nf, Naz ) )\n",
    "print( \"range from {:.2f}m to {:.2f}m, resolution = {}m, oversampled = {}m, \".format(\n",
    "    r_over[0], r_over[-1], rangeResolution, rangeResolution / overSamplingRatio ) )"
   ]
  },
  {
   "cell_type": "code",
   "execution_count": 323,
   "metadata": {},
   "outputs": [],
   "source": [
    "lib.reload()"
   ]
  },
  {
   "cell_type": "code",
   "execution_count": 324,
   "metadata": {},
   "outputs": [
    {
     "data": {
      "text/plain": [
       "(400, 200)"
      ]
     },
     "execution_count": 324,
     "metadata": {},
     "output_type": "execute_result"
    }
   ],
   "source": [
    "nbX, nbY"
   ]
  },
  {
   "cell_type": "code",
   "execution_count": 325,
   "metadata": {},
   "outputs": [
    {
     "data": {
      "text/plain": [
       "0.1728059218044222"
      ]
     },
     "execution_count": 325,
     "metadata": {},
     "output_type": "execute_result"
    }
   ],
   "source": [
    "phi_a = 5 * np.pi / 180\n",
    "lambda_c / (4 * np.sin( phi_a / 2 ) )"
   ]
  },
  {
   "cell_type": "code",
   "execution_count": 326,
   "metadata": {},
   "outputs": [],
   "source": [
    "myParameters = MyParameters_LETG()\n",
    "myParameters.Nx = nbX\n",
    "myParameters.Ny = nbY\n",
    "myParameters.Nover = r_over.size\n",
    "myParameters.dx = dr_over\n",
    "myParameters.Naz = Naz\n",
    "myParameters.Nf = Nf\n",
    "myParameters.hScene = -1\n",
    "\n",
    "myParameters.phi_a_deg = 20 # lambda_c / (4 * sin( phi_a / 2 ) )\n",
    "# 20° => 4.3cm\n",
    "#  5° => 17.3cm\n",
    "myParameters.uxx = ux[0]\n",
    "myParameters.uxy = ux[1]\n",
    "myParameters.meanX = sceneX_mean\n",
    "myParameters.meanY = sceneY_mean\n",
    "myParameters.kc = params.kc"
   ]
  },
  {
   "cell_type": "code",
   "execution_count": 327,
   "metadata": {},
   "outputs": [
    {
     "name": "stdout",
     "output_type": "stream",
     "text": [
      "focusedImg.shape = (200, 400)\n",
      "execution time = 251.10546875\n"
     ]
    }
   ],
   "source": [
    "t = time.time()\n",
    "\n",
    "focusedImg  = np.zeros( (nbY, nbX), dtype=complex )\n",
    "print( \"focusedImg.shape = {}\".format( focusedImg.shape ) )\n",
    "\n",
    "#firstRamp = (firstFile) * params.rampsPerFile\n",
    "#xyz_alt = xyz[firstRamp:, :]\n",
    "xyz_alt = xyz[sub_idx, :]\n",
    "Vr_alt = Vr[sub_idx]\n",
    "\n",
    "lib.so.backProjectionOmpGroundRange_corr( sceneX.reshape(sceneX.size), \n",
    "                                         sceneY.reshape(sceneY.size),\n",
    "                                         sceneZ.reshape(sceneZ.size),\n",
    "                                         r_over,\n",
    "                                         sr.reshape(sr.size),\n",
    "                                         xyz_alt.reshape(xyz_alt.size), Vr_alt.reshape(Vr_alt.size),\n",
    "                                         focusedImg.reshape(focusedImg.size),\n",
    "                                         myParameters)\n",
    "\n",
    "elapsed = time.time() - t\n",
    "print(\"execution time = \" + str(elapsed))"
   ]
  },
  {
   "cell_type": "code",
   "execution_count": 233,
   "metadata": {},
   "outputs": [
    {
     "name": "stdout",
     "output_type": "stream",
     "text": [
      "min_dB = -48.53, max_dB = 18.19, med_dB = -7.16\n"
     ]
    }
   ],
   "source": [
    "min_dB = np.amin( 20 * np.log10(np.abs(focusedImg)) )\n",
    "max_dB = np.amax( 20 * np.log10(np.abs(focusedImg)) )\n",
    "med_dB = np.median( 20 * np.log10(np.abs(focusedImg)) )\n",
    "print(\"min_dB = {:.2f}, max_dB = {:.2f}, med_dB = {:.2f}\".format(min_dB, max_dB, med_dB))\n",
    "# gps min_dB = -57.20, max_dB = 44.13, med_dB = 4.99\n",
    "# nav min_dB = -57.88, max_dB = 44.48, med_dB = 2.38"
   ]
  },
  {
   "cell_type": "markdown",
   "metadata": {},
   "source": [
    "# Plot image"
   ]
  },
  {
   "cell_type": "markdown",
   "metadata": {},
   "source": [
    "## imshow"
   ]
  },
  {
   "cell_type": "code",
   "execution_count": 234,
   "metadata": {},
   "outputs": [],
   "source": [
    "cmap = 'gray'"
   ]
  },
  {
   "cell_type": "code",
   "execution_count": 235,
   "metadata": {},
   "outputs": [
    {
     "data": {
      "text/plain": [
       "<matplotlib.colorbar.Colorbar at 0x7faad1001908>"
      ]
     },
     "execution_count": 235,
     "metadata": {},
     "output_type": "execute_result"
    }
   ],
   "source": [
    "plt.figure()\n",
    "\n",
    "#plt.imshow( 20 * np.log10( box_filter( np.abs( imgGroundRange.reshape(nbX, nbY) ), 2 ) ), cmap=cmap )\n",
    "plt.imshow( 20 * np.log10( np.abs( focusedImg ) ), cmap=cmap )\n",
    "\n",
    "plt.colorbar()"
   ]
  },
  {
   "cell_type": "markdown",
   "metadata": {},
   "source": [
    "## imshow box_filter"
   ]
  },
  {
   "cell_type": "code",
   "execution_count": 180,
   "metadata": {},
   "outputs": [
    {
     "name": "stdout",
     "output_type": "stream",
     "text": [
      "im.shape = (200, 200)\n"
     ]
    },
    {
     "data": {
      "text/plain": [
       "<matplotlib.colorbar.Colorbar at 0x7faad1df9748>"
      ]
     },
     "execution_count": 180,
     "metadata": {},
     "output_type": "execute_result"
    }
   ],
   "source": [
    "plt.figure()\n",
    "\n",
    "plt.imshow( 20 * np.log10( box_filter( np.abs( focusedImg ), 4 ) ), cmap=cmap )\n",
    "\n",
    "plt.colorbar()"
   ]
  },
  {
   "cell_type": "markdown",
   "metadata": {},
   "source": [
    "## pcolormesh box_filter"
   ]
  },
  {
   "cell_type": "code",
   "execution_count": 277,
   "metadata": {},
   "outputs": [
    {
     "name": "stdout",
     "output_type": "stream",
     "text": [
      "im.shape = (200, 400)\n"
     ]
    }
   ],
   "source": [
    "if 0:\n",
    "    idx = np.where(focusedImg!= 0)\n",
    "    imgMin = np.amin( 20 * np.log10( np.abs( focusedImg[idx] ) ) )\n",
    "    altFocusedImg = focusedImg\n",
    "    idx = np.where(focusedImg == 0)\n",
    "    altImgGroundRange[idx] = imgMin\n",
    "    z = 20 * np.log10( box_filter( np.abs( altFocusedImg), 2 ) )\n",
    "else:\n",
    "    z = 20 * np.log10( box_filter( np.abs( focusedImg), 2 ) )"
   ]
  },
  {
   "cell_type": "code",
   "execution_count": 278,
   "metadata": {},
   "outputs": [],
   "source": [
    "fig, ax = plt.subplots(1,1)\n",
    "x = sceneX\n",
    "y = sceneY\n",
    "im = ax.pcolormesh( x, y, z, cmap=cmap )\n",
    "ax.set_aspect('equal')\n",
    "ax.plot( xa, ya )\n",
    "ax.plot(baseLineX, baseLineY, 'r')\n",
    "plt.colorbar(im)\n",
    "ax.grid()\n",
    "ax.plot( corner_epsg[0], corner_epsg[1], 'og', markerfacecolor='none', markeredgecolor = 'black' )\n",
    "dia.addColorBar( im, ax )"
   ]
  },
  {
   "cell_type": "code",
   "execution_count": 279,
   "metadata": {},
   "outputs": [],
   "source": [
    "vmin = -20\n",
    "vmax = 15\n",
    "\n",
    "fig, ax = plt.subplots(1,1)\n",
    "x = sceneX\n",
    "y = sceneY\n",
    "im = ax.pcolormesh( x, y, z, cmap=cmap, vmin=vmin, vmax=vmax )\n",
    "ax.set_aspect('equal')\n",
    "ax.plot( xa, ya )\n",
    "plt.colorbar( im )\n",
    "ax.grid()\n",
    "addCorner( ax )\n",
    "addHangar( ax )\n",
    "dia.addColorBar( im, ax )"
   ]
  },
  {
   "cell_type": "markdown",
   "metadata": {},
   "source": [
    "## Dynamic range"
   ]
  },
  {
   "cell_type": "code",
   "execution_count": null,
   "metadata": {},
   "outputs": [],
   "source": [
    "focusedImg.shape"
   ]
  },
  {
   "cell_type": "code",
   "execution_count": null,
   "metadata": {},
   "outputs": [],
   "source": [
    "idxStart = 0\n",
    "idxStop = 2000\n",
    "imgSlice = focusedImg[:,idxStart:idxStop]\n",
    "xSlice = sceneX[:,idxStart:idxStop]\n",
    "ySlice = sceneY[:,idxStart:idxStop]\n",
    "dynRange = 30\n",
    "db = 1\n",
    "box = 1\n",
    "\n",
    "if db:\n",
    "    idx = np.where(imgSlice!= 0)\n",
    "    imgSliceMin = np.amin( 20 * np.log10( np.abs( imgSlice[idx] ) ) )\n",
    "    idx = np.where(imgSlice == 0)\n",
    "    imgSlice[idx] = imgSliceMin\n",
    "    if box:\n",
    "        zSlice = 20 * np.log10( box_filter( np.abs( imgSlice ), 2 ) )\n",
    "    else:\n",
    "        zSlice = 20 * np.log10( np.abs( imgSlice) )\n",
    "else:\n",
    "    if box:\n",
    "        zSlice = box_filter( np.abs( imgSlice ), 2 )\n",
    "    else:\n",
    "        zSlice = np.abs( imgSlice )\n",
    "        \n",
    "med = np.median( zSlice )\n",
    "toPlot = np.minimum( np.maximum( zSlice, med - dynRange / 2 ), med + dynRange / 2 )\n",
    "print( f\"min {np.amin(toPlot):.1f}, max {np.amax(toPlot):.1f}\" )"
   ]
  },
  {
   "cell_type": "code",
   "execution_count": null,
   "metadata": {},
   "outputs": [],
   "source": [
    "fig, ax = plt.subplots(1,1)\n",
    "im = ax.pcolormesh( xSlice, ySlice, zSlice, cmap=cmap, vmin=-20, vmax=5 )\n",
    "dia.addColorBar( im, ax )\n",
    "ax.grid()\n",
    "addCorner( ax )\n",
    "addHangar( ax )"
   ]
  },
  {
   "cell_type": "markdown",
   "metadata": {},
   "source": [
    "# Build GeoTIFF"
   ]
  },
  {
   "cell_type": "markdown",
   "metadata": {},
   "source": [
    "**CPLErr GDALDataset::SetGeoTransform \t( \tdouble *  \tpadfTransform\t)**\n",
    "Set the affine transformation coefficients. \n",
    "\n",
    "**CPLErr GDALDataset::GetGeoTransform \t( \tdouble *  \tpadfTransform\t)**\n",
    "Fetch the affine transformation coefficients.\n",
    "\n",
    "Fetches the coefficients for transforming between pixel/line (P,L) raster space, and projection coordinates (Xp,Yp) space.\n",
    "\n",
    "Xp = padfTransform[0] + P \\* padfTransform[1] + L * padfTransform[2];\n",
    "\n",
    "Yp = padfTransform[3] + P \\* padfTransform[4] + L * padfTransform[5];\n",
    "\n",
    "In a north up image, padfTransform[1] is the pixel width, and padfTransform[5] is the pixel height. The upper left corner of the upper left pixel is at position (padfTransform[0],padfTransform[3]).\n",
    "\n",
    "The default transform is (0,1,0,0,0,1) and should be returned even when a CE_Failure error is returned, such as for formats that don't support transformation to projection coordinates.\n",
    "\n",
    "This method does the same thing as the C GDALGetGeoTransform() function."
   ]
  },
  {
   "cell_type": "code",
   "execution_count": 184,
   "metadata": {},
   "outputs": [],
   "source": [
    "from osgeo import gdal\n",
    "from osgeo import osr\n",
    "import json"
   ]
  },
  {
   "cell_type": "markdown",
   "metadata": {},
   "source": [
    "## Save tiff"
   ]
  },
  {
   "cell_type": "code",
   "execution_count": 328,
   "metadata": {},
   "outputs": [
    {
     "name": "stdout",
     "output_type": "stream",
     "text": [
      "im.shape = (200, 400)\n"
     ]
    }
   ],
   "source": [
    "imgAbs = 20 * np.log10( box_filter( np.abs( focusedImg ), 2 ) )\n",
    "tiffUpperleftx = sceneX[0][0]\n",
    "tiffUpperlefty = sceneY[0][0]\n",
    "xStart = sceneX[0][0]\n",
    "yStart = sceneY[0][0]\n",
    "xStop = sceneX[-1][-1]\n",
    "yStop = sceneY[-1][-1]"
   ]
  },
  {
   "cell_type": "code",
   "execution_count": 329,
   "metadata": {},
   "outputs": [
    {
     "data": {
      "text/plain": [
       "(573875.5624230887, 5323306.427999603)"
      ]
     },
     "execution_count": 329,
     "metadata": {},
     "output_type": "execute_result"
    }
   ],
   "source": [
    "tiffUpperleftx, tiffUpperlefty"
   ]
  },
  {
   "cell_type": "code",
   "execution_count": 330,
   "metadata": {},
   "outputs": [],
   "source": [
    "tiffName = f\"{data_dir}/{data_date}_sub0_13.tiff\""
   ]
  },
  {
   "cell_type": "code",
   "execution_count": 331,
   "metadata": {},
   "outputs": [],
   "source": [
    "plt.imsave(tiffName, imgAbs, cmap=cmap)"
   ]
  },
  {
   "cell_type": "markdown",
   "metadata": {},
   "source": [
    "## Add information to tiff"
   ]
  },
  {
   "cell_type": "code",
   "execution_count": 332,
   "metadata": {},
   "outputs": [],
   "source": [
    "src_ds = gdal.Open(tiffName, gdal.GA_Update)"
   ]
  },
  {
   "cell_type": "markdown",
   "metadata": {},
   "source": [
    "### SetGeoTransform"
   ]
  },
  {
   "cell_type": "code",
   "execution_count": 333,
   "metadata": {},
   "outputs": [
    {
     "name": "stdout",
     "output_type": "stream",
     "text": [
      "theta = -89.26597796485038 °\n"
     ]
    }
   ],
   "source": [
    "# Specify raster location through geotransform array\n",
    "# (upperleftx, scalex, skewx, upperlefty, skewy, scaley)\n",
    "# Scale = size of one pixel in units of raster projection\n",
    "theta = np.arctan2(data[\"ux\"][1], data[\"ux\"][0])\n",
    "print( f\"theta = {theta * 180 / np.pi} °\" )\n",
    "upperleftx = tiffUpperleftx\n",
    "upperlefty = tiffUpperlefty\n",
    "scalex = d_x * (-np.cos(theta))\n",
    "skewx  = d_x * (-np.sin(theta))\n",
    "skewy  = d_y * (-np.sin(theta))\n",
    "scaley = d_y * (+np.cos(theta))\n",
    "\n",
    "#Xp = padfTransform[0] + P * padfTransform[1] + L * padfTransform[2];\n",
    "#Yp = padfTransform[3] + P * padfTransform[4] + L * padfTransform[5];\n",
    "#Xp = upperleftx + P * scalex + L * skewx;\n",
    "#Yp = upperlefty + P * skewy  + L * scaley;\n",
    "gt = [upperleftx, scalex, skewx, upperlefty, skewy, scaley]\n",
    "\n",
    "# Set location\n",
    "src_ds.SetGeoTransform(gt)\n",
    "src_ds.FlushCache()                     # write to disk"
   ]
  },
  {
   "cell_type": "markdown",
   "metadata": {},
   "source": [
    "### SetProjection"
   ]
  },
  {
   "cell_type": "code",
   "execution_count": 334,
   "metadata": {},
   "outputs": [],
   "source": [
    "srs = osr.SpatialReference()            # establish encoding\n",
    "srs.ImportFromEPSG(epsgN)\n",
    "src_ds.SetProjection(srs.ExportToWkt()) # export coords to file\n",
    "src_ds.FlushCache()                     # write to disk"
   ]
  },
  {
   "cell_type": "markdown",
   "metadata": {},
   "source": [
    "# Save focused image"
   ]
  },
  {
   "cell_type": "code",
   "execution_count": null,
   "metadata": {},
   "outputs": [],
   "source": [
    "if groundRange: # [0] ground range, [1] slant range\n",
    "    focusedImageFilename = f\"/{data_date} {firstFile} {lastFile}\" \\\n",
    "    + f\" GR {yStart:.3f} {yStop:.3f} {d_y} AZ {xStart:.3f} {xStop:.3f} {d_x}\" \\\n",
    "    + f\" EL {hScene} PHI {myParameters.phi_a_deg} {upOrDown}\"\n",
    "else:\n",
    "    focusedImageFilename = f\"/{data_date} {firstFile} {lastFile}\" \\\n",
    "    + f\" {firstFile} {lastFile}\" \\\n",
    "    + f\" SR {yStart:.3f} {yStop:.3f} {d_y} AZ {xStart:.3f} {xStop:.3f} {d_x}\" \\\n",
    "    + f\" EL {hScene} PHI {myParameters.phi_a_deg} {upOrDown}\"\n",
    "    \n",
    "if withHanning:\n",
    "    focusedImageFilename = focusedImageFilename + \"Hann\"\n",
    "if nav:\n",
    "    focusedImageFilename = focusedImageFilename + \"Nav\"\n",
    "else:\n",
    "    focusedImageFilename = focusedImageFilename + \"Gps\"\n",
    "    \n",
    "print( focusedImageFilename )\n",
    "\n",
    "# /2018_06_27_12_39_39 0 49 GR 1743.32 1916.78 1.0 AZ 8050.16 6646.63 1.0 EL 50 PHI 20.0 rampDown Hann"
   ]
  },
  {
   "cell_type": "code",
   "execution_count": null,
   "metadata": {},
   "outputs": [],
   "source": [
    "np.save( data_dir + focusedImageFilename, focusedImg )"
   ]
  },
  {
   "cell_type": "markdown",
   "metadata": {},
   "source": [
    "# Compare images"
   ]
  },
  {
   "cell_type": "code",
   "execution_count": null,
   "metadata": {},
   "outputs": [],
   "source": [
    "name = \"2018_06_27_12_39_39 0 49 GR 1743.32 2224.30 1.0 AZ 8050.16 7040.87 1.0 EL 50 PHI 20.0 rampDown Hann nav.npy\"\n",
    "filename = data_dir + \"/\" + name\n",
    "img_nav = np.load( filename )"
   ]
  },
  {
   "cell_type": "code",
   "execution_count": null,
   "metadata": {},
   "outputs": [],
   "source": [
    "cmap=\"gray\"\n",
    "\n",
    "plt.figure()\n",
    "\n",
    "ax = plt.subplot(121)\n",
    "plt.imshow( 20 * np.log10( box_filter( np.abs( img_20 ), 2 ) ), cmap=cmap )\n",
    "plt.grid()\n",
    "plt.title(\"20\")\n",
    "plt.colorbar()\n",
    "\n",
    "plt.subplot(122, sharex=ax, sharey=ax)\n",
    "plt.imshow( 20 * np.log10( box_filter( np.abs( img_25 ), 2 ) ), cmap=cmap )\n",
    "plt.grid()\n",
    "plt.title(\"25\")\n",
    "plt.colorbar()"
   ]
  },
  {
   "cell_type": "code",
   "execution_count": null,
   "metadata": {},
   "outputs": [],
   "source": [
    "cmap=\"gray\"\n",
    "\n",
    "plt.figure()\n",
    "\n",
    "plt.pcolormesh( x, y, 20 * np.log10( box_filter( np.abs( img_20 ), 2 ) ), cmap=cmap )\n",
    "plt.plot(J1[0], J1[1], 'Dy', markerEdgecolor='k' )\n",
    "plt.plot(J4[0], J4[1], 'Dy', markerEdgecolor='k' )\n",
    "plt.plot(J5[0], J5[1], 'Dc', markerEdgecolor='k' )\n",
    "plt.axes().set_aspect('equal')\n",
    "plt.grid()\n",
    "plt.title(\"20\")"
   ]
  },
  {
   "cell_type": "code",
   "execution_count": null,
   "metadata": {},
   "outputs": [],
   "source": [
    "plt.figure()\n",
    "\n",
    "plt.pcolormesh( x, y, 20 * np.log10( box_filter( np.abs( img_25 ), 2 ) ), cmap=cmap )\n",
    "plt.plot(J1[0], J1[1], 'Dy', markerEdgecolor='k' )\n",
    "plt.plot(J4[0], J4[1], 'Dy', markerEdgecolor='k' )\n",
    "plt.plot(J5[0], J5[1], 'Dc', markerEdgecolor='k' )\n",
    "plt.axes().set_aspect('equal')\n",
    "plt.grid()\n",
    "plt.title(\"25\")"
   ]
  },
  {
   "cell_type": "code",
   "execution_count": null,
   "metadata": {},
   "outputs": [],
   "source": [
    "d_x = 1.\n",
    "d_y = 1.\n",
    "nbX = 501\n",
    "nbY = 501\n",
    "shiftY = 100\n",
    "baseLineX = J5[0] + ux[0] * np.arange(nbX)\n",
    "baseLineY = J5[1] + ux[1] * np.arange(nbX)\n",
    "sceneX_1 = baseLineX + uy[0] * shiftY\n",
    "sceneY_1 = baseLineY + uy[1] * shiftY\n",
    "\n",
    "for n in range(1, nbY):\n",
    "    newX = baseLineX + uy[0] * (n + shiftY)\n",
    "    newY = baseLineY + uy[1] * (n + shiftY)\n",
    "    sceneX_1 = np.concatenate((sceneX_1, newX))\n",
    "    sceneY_1 = np.concatenate((sceneY_1, newY))"
   ]
  },
  {
   "cell_type": "code",
   "execution_count": null,
   "metadata": {},
   "outputs": [],
   "source": [
    "plt.figure()\n",
    "\n",
    "ax = plt.subplot(121)\n",
    "x = sceneX_1.reshape(nbY, nbX)\n",
    "y = sceneY_1.reshape(nbY, nbX)\n",
    "plt.pcolormesh( x, y, 20 * np.log10( box_filter( np.abs( img_20 ), 2 ) ), cmap=cmap )\n",
    "plt.plot(J1[0], J1[1], 'Dy', markerEdgecolor='k' )\n",
    "plt.plot(J4[0], J4[1], 'Dy', markerEdgecolor='k' )\n",
    "plt.plot(J5[0], J5[1], 'Dc', markerEdgecolor='k' )\n",
    "plt.gca().set_aspect('equal')\n",
    "plt.grid()\n",
    "plt.title(\"20\")\n",
    "\n",
    "plt.subplot(122, sharex=ax, sharey=ax)\n",
    "x = sceneX.reshape(401, 401)\n",
    "y = sceneY.reshape(401, 401)\n",
    "plt.pcolormesh( x, y, 20 * np.log10( box_filter( np.abs( img_20_05 ), 2 ) ), cmap=cmap )\n",
    "plt.plot(J1[0], J1[1], 'Dy', markerEdgecolor='k' )\n",
    "plt.plot(J4[0], J4[1], 'Dy', markerEdgecolor='k' )\n",
    "plt.plot(J5[0], J5[1], 'Dc', markerEdgecolor='k' )\n",
    "plt.grid()\n",
    "plt.title(\"25\")"
   ]
  },
  {
   "cell_type": "markdown",
   "metadata": {},
   "source": [
    "# Save image as png"
   ]
  },
  {
   "cell_type": "code",
   "execution_count": null,
   "metadata": {},
   "outputs": [],
   "source": [
    "plt.imsave( data_dir + focusedImageFilename + \".png\",\n",
    "           20 * np.log10( box_filter( np.abs( np.flip( imgGroundRange.T, 1 ) ), 5 ) ), \n",
    "           cmap=\"gray\" )"
   ]
  },
  {
   "cell_type": "markdown",
   "metadata": {},
   "source": [
    "# WGS84 to ECEF"
   ]
  },
  {
   "cell_type": "code",
   "execution_count": null,
   "metadata": {},
   "outputs": [],
   "source": [
    "# LLA2ECEF - convert latitude, longitude, and altitude to\n",
    "#            earth-centered, earth-fixed (ECEF) cartesian\n",
    "# \n",
    "# USAGE:\n",
    "# [x,y,z] = lla2ecef(lat,lon,alt)\n",
    "# \n",
    "# x = ECEF X-coordinate (m)\n",
    "# y = ECEF Y-coordinate (m)\n",
    "# z = ECEF Z-coordinate (m)\n",
    "# lat = geodetic latitude (radians)\n",
    "# lon = longitude (radians)\n",
    "# alt = height above WGS84 ellipsoid (m)\n",
    "# \n",
    "# Notes: This function assumes the WGS84 model.\n",
    "#        Latitude is customary geodetic (not geocentric).\n",
    "# \n",
    "# Source: \"Department of Defense World Geodetic System 1984\"\n",
    "#         Page 4-4\n",
    "#         National Imagery and Mapping Agency\n",
    "#         Last updated June, 2004\n",
    "#         NIMA TR8350.2\n",
    "# \n",
    "# Michael Kleder, July 2005\n",
    "\n",
    "def lla2ecef(lat,lon,alt):\n",
    "\n",
    "    # WGS84 ellipsoid constants:\n",
    "    a = 6378137 # semi-major axis\n",
    "    e = 8.1819190842622e-2 # First Eccentricity\n",
    "\n",
    "    lat = lat * np.pi / 180\n",
    "    lon = lon * np.pi / 180\n",
    "    \n",
    "    # intermediate calculation\n",
    "    # (prime vertical radius of curvature)\n",
    "    N = a / np.sqrt(1 - e**2 * np.sin(lat)**2)\n",
    "\n",
    "    # results:\n",
    "    x = (N+alt) * np.cos(lat) * np.cos(lon)\n",
    "    y = (N+alt) * np.cos(lat) * np.sin(lon)\n",
    "    z = ((1-e**2) * N + alt) * np.sin(lat)\n",
    "\n",
    "    return (x, y, z)"
   ]
  },
  {
   "cell_type": "code",
   "execution_count": null,
   "metadata": {},
   "outputs": [],
   "source": [
    "disc_ecef = lla2ecef(disc[0],disc[1],discElevation)\n",
    "threePools_ecef = lla2ecef(threePools[0],threePools[1],threePoolsElevation)"
   ]
  },
  {
   "cell_type": "code",
   "execution_count": null,
   "metadata": {},
   "outputs": [],
   "source": [
    "def distance(a,b):\n",
    "    dx = (a[0]-b[0])**2\n",
    "    dy = (a[1]-b[1])**2\n",
    "    dz = (a[2]-b[2])**2\n",
    "    return (dx+dy+dz)**0.5"
   ]
  },
  {
   "cell_type": "code",
   "execution_count": null,
   "metadata": {},
   "outputs": [],
   "source": [
    "distance(disc_ecef, threePools_ecef)"
   ]
  },
  {
   "cell_type": "code",
   "execution_count": null,
   "metadata": {},
   "outputs": [],
   "source": [
    "distance( (disc_epsg[0], disc_epsg[1], discElevation),\n",
    "         (threePools_epsg[0], threePools_epsg[1], threePoolsElevation) )"
   ]
  },
  {
   "cell_type": "code",
   "execution_count": null,
   "metadata": {},
   "outputs": [],
   "source": [
    "antenna = [48.512965 , -1.538558]\n",
    "antenna_epsg = wgs84ToEpsg( antenna[::-1], epsg3948, shiftXY, origXY )\n",
    "antenna_elevation = 300\n",
    "antenna_ecef = lla2ecef(antenna[0],antenna[1],antenna_elevation)"
   ]
  },
  {
   "cell_type": "code",
   "execution_count": null,
   "metadata": {},
   "outputs": [],
   "source": [
    "distance(threePools_ecef, antenna_ecef)"
   ]
  },
  {
   "cell_type": "code",
   "execution_count": null,
   "metadata": {},
   "outputs": [],
   "source": [
    "distance( (antenna_epsg[0], antenna_epsg[1], antenna_elevation),\n",
    "         (threePools_epsg[0], threePools_epsg[1], threePoolsElevation) )"
   ]
  },
  {
   "cell_type": "code",
   "execution_count": null,
   "metadata": {},
   "outputs": [],
   "source": []
  }
 ],
 "metadata": {
  "kernelspec": {
   "display_name": "Python 3",
   "language": "python",
   "name": "python3"
  },
  "language_info": {
   "codemirror_mode": {
    "name": "ipython",
    "version": 3
   },
   "file_extension": ".py",
   "mimetype": "text/x-python",
   "name": "python",
   "nbconvert_exporter": "python",
   "pygments_lexer": "ipython3",
   "version": "3.7.3"
  },
  "toc": {
   "base_numbering": 1,
   "nav_menu": {},
   "number_sections": true,
   "sideBar": true,
   "skip_h1_title": false,
   "title_cell": "Table of Contents",
   "title_sidebar": "Contents",
   "toc_cell": false,
   "toc_position": {
    "height": "calc(100% - 180px)",
    "left": "10px",
    "top": "150px",
    "width": "332px"
   },
   "toc_section_display": true,
   "toc_window_display": true
  },
  "varInspector": {
   "cols": {
    "lenName": 16,
    "lenType": 16,
    "lenVar": 40
   },
   "kernels_config": {
    "python": {
     "delete_cmd_postfix": "",
     "delete_cmd_prefix": "del ",
     "library": "var_list.py",
     "varRefreshCmd": "print(var_dic_list())"
    },
    "r": {
     "delete_cmd_postfix": ") ",
     "delete_cmd_prefix": "rm(",
     "library": "var_list.r",
     "varRefreshCmd": "cat(var_dic_list()) "
    }
   },
   "types_to_exclude": [
    "module",
    "function",
    "builtin_function_or_method",
    "instance",
    "_Feature"
   ],
   "window_display": false
  }
 },
 "nbformat": 4,
 "nbformat_minor": 2
}
