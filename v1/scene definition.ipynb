{
 "cells": [
  {
   "cell_type": "code",
   "execution_count": 1,
   "metadata": {},
   "outputs": [],
   "source": [
    "import configparser, csv, json, os, sys\n",
    "import logging, importlib\n",
    "\n",
    "import numpy as np\n",
    "import matplotlib.pyplot as plt\n",
    "%matplotlib qt5\n",
    "\n",
    "%load_ext autoreload\n",
    "%autoreload 2\n",
    "\n",
    "sys.path.insert(0, \"/home/pleroy/DEV/processing/PoSAR-MC\")\n",
    "import posarmctools.ekfnavtools as ekf\n",
    "import posarmctools.epsgtools as epsg\n",
    "import posarmctools.posar as posar\n",
    "import posarmctools.sbg as sbg\n",
    "from posarmctools import getNotebookLogger"
   ]
  },
  {
   "cell_type": "code",
   "execution_count": 2,
   "metadata": {},
   "outputs": [],
   "source": [
    "sys.path.insert(0, \"/home/pleroy/DATA/PoSAR-X/PIMA-1\")"
   ]
  },
  {
   "cell_type": "code",
   "execution_count": 3,
   "metadata": {},
   "outputs": [],
   "source": [
    "conf = posar.FlightParams(\"/home/pleroy/DATA/PoSAR-X/PIMA-2/2020_06_23_flight.ini\")\n",
    "#epsg3xxx = epsg.epsg3857 # web mercator\n",
    "epsg3xxx = epsg.epsg3948"
   ]
  },
  {
   "cell_type": "code",
   "execution_count": 4,
   "metadata": {},
   "outputs": [],
   "source": [
    "pts, ptsEpsg, ptsDict = epsg.getReferencePoints(conf.refs, epsg3xxx)"
   ]
  },
  {
   "cell_type": "code",
   "execution_count": 5,
   "metadata": {},
   "outputs": [],
   "source": [
    "xA, yA = ptsEpsg['p2']\n",
    "xB, yB = ptsEpsg['p0']\n",
    "xCorner, yCorner = ptsEpsg['corner']\n",
    "p1_x, p1_y = ptsEpsg['p1']\n",
    "p3_x, p3_y = ptsEpsg['p3']\n",
    "dAB = ((xB - xA)**2 + (yB - yA)**2)**0.5\n",
    "xAB = (xB - xA) / dAB\n",
    "yAB = (yB - yA) / dAB\n",
    "ux = (xAB, yAB)\n",
    "uy = (-yAB, xAB)"
   ]
  },
  {
   "cell_type": "code",
   "execution_count": 6,
   "metadata": {},
   "outputs": [
    {
     "data": {
      "text/plain": [
       "349.66459565970047"
      ]
     },
     "execution_count": 6,
     "metadata": {},
     "output_type": "execute_result"
    }
   ],
   "source": [
    "dAB"
   ]
  },
  {
   "cell_type": "code",
   "execution_count": 7,
   "metadata": {},
   "outputs": [],
   "source": [
    "Dy = 350\n",
    "x0 = (xCorner - 2000 * ux[0] - Dy * uy[0], yCorner - 2000 * ux[1] - Dy * uy[1])\n",
    "x1 = (xCorner + 2000 * ux[0] - Dy * uy[0], yCorner + 2000 * ux[1] - Dy * uy[1])\n",
    "\n",
    "s0 = (xCorner - 1000 * ux[0] - Dy * uy[0], yCorner - 1000 * ux[1] - Dy * uy[1])\n",
    "s1 = (xCorner + 1000 * ux[0] - Dy * uy[0], yCorner + 1000 * ux[1] - Dy * uy[1])\n",
    "\n",
    "Dy = 500\n",
    "x2 = (xCorner - 2000 * ux[0] - Dy * uy[0], yCorner - 2000 * ux[1] - Dy * uy[1])\n",
    "x3 = (xCorner + 2000 * ux[0] - Dy * uy[0], yCorner + 2000 * ux[1] - Dy * uy[1])\n",
    "\n",
    "s2 = (xCorner - 1000 * ux[0] - Dy * uy[0], yCorner - 1000 * ux[1] - Dy * uy[1])\n",
    "s3 = (xCorner + 1000 * ux[0] - Dy * uy[0], yCorner + 1000 * ux[1] - Dy * uy[1])"
   ]
  },
  {
   "cell_type": "code",
   "execution_count": 8,
   "metadata": {},
   "outputs": [],
   "source": [
    "plt.figure()\n",
    "\n",
    "plt.plot(x0[0], x0[1], '.', label='x0')\n",
    "plt.plot(x1[0], x1[1], '.', label='x1')\n",
    "plt.plot(s0[0], s0[1], '.', label='s0')\n",
    "plt.plot(s1[0], s1[1], '.', label='s1')\n",
    "\n",
    "plt.plot(x0[0], x0[1], '.', label='x0')\n",
    "plt.plot(x1[0], x1[1], '.', label='x1')\n",
    "plt.plot(s0[0], s0[1], '.', label='s0')\n",
    "plt.plot(s1[0], s1[1], '.', label='s1')\n",
    "\n",
    "plt.plot(xCorner, yCorner, '.', label='corner')\n",
    "plt.plot(xA, yA, '.', label='p2')\n",
    "plt.plot(xB, yB, '.', label='p0')\n",
    "plt.plot(p1_x, p1_y, '.', label='p1')\n",
    "plt.plot(p3_x, p3_y, '.', label='p3')\n",
    "plt.legend()\n",
    "plt.grid()\n",
    "plt.gca().set_aspect(\"equal\")"
   ]
  },
  {
   "cell_type": "code",
   "execution_count": 9,
   "metadata": {},
   "outputs": [
    {
     "data": {
      "text/plain": [
       "'48.06559   -1.98388'"
      ]
     },
     "execution_count": 9,
     "metadata": {},
     "output_type": "execute_result"
    }
   ],
   "source": [
    "longlat = epsg.epsgToWgs84LongLat(x0, epsg3xxx)\n",
    "f\"{longlat[1]:.5f}   {longlat[0]:.5f}\""
   ]
  },
  {
   "cell_type": "code",
   "execution_count": 10,
   "metadata": {},
   "outputs": [],
   "source": [
    "s4 = (48.06586, -2.00112)\n",
    "s5 = (48.08265, -2.00112)"
   ]
  },
  {
   "cell_type": "code",
   "execution_count": 11,
   "metadata": {},
   "outputs": [],
   "source": [
    "def writePoint(myDict, key, xy_or_ll, dtype=\"xy\"):\n",
    "    if dtype == \"xy\":\n",
    "        latLong = epsg.epsgToWgs84LongLat(xy_or_ll, epsg3xxx)[::-1]\n",
    "    elif dtype == \"ll\":\n",
    "        latLong = xy_or_ll\n",
    "    else:\n",
    "        print(f\"error, unknown dtype: {dtype}\")\n",
    "        \n",
    "    myDict[key] = f\"{latLong[0]:.5f}, {latLong[1]:.5f}\""
   ]
  },
  {
   "cell_type": "code",
   "execution_count": 12,
   "metadata": {},
   "outputs": [
    {
     "name": "stdout",
     "output_type": "stream",
     "text": [
      "write /home/pleroy/DATA/PoSAR-X/PIMA-2/2020_06_25_points_tmp.ini\n"
     ]
    }
   ],
   "source": [
    "config = configparser.ConfigParser()\n",
    "config['points'] = {}\n",
    "\n",
    "writePoint(config['points'], 'x0', x0, dtype=\"xy\")\n",
    "writePoint(config['points'], 'x1', x1, dtype=\"xy\")\n",
    "writePoint(config['points'], 'x2', x2, dtype=\"xy\")\n",
    "writePoint(config['points'], 'x3', x3, dtype=\"xy\")\n",
    "\n",
    "writePoint(config['points'], 's0', s0, dtype=\"xy\")\n",
    "writePoint(config['points'], 's1', s1, dtype=\"xy\")\n",
    "writePoint(config['points'], 's2', s2, dtype=\"xy\")\n",
    "writePoint(config['points'], 's3', s3, dtype=\"xy\")\n",
    "\n",
    "writePoint(config['points'], 's4', s4, dtype=\"ll\")\n",
    "writePoint(config['points'], 's5', s5, dtype=\"ll\")\n",
    "\n",
    "filename = \"/home/pleroy/DATA/PoSAR-X/PIMA-2/2020_06_25_points_tmp.ini\"\n",
    "with open(filename, 'w') as configfile:\n",
    "    print(f\"write {filename}\")\n",
    "    config.write(configfile)"
   ]
  },
  {
   "cell_type": "code",
   "execution_count": null,
   "metadata": {},
   "outputs": [],
   "source": []
  }
 ],
 "metadata": {
  "kernelspec": {
   "display_name": "Python 3",
   "language": "python",
   "name": "python3"
  },
  "language_info": {
   "codemirror_mode": {
    "name": "ipython",
    "version": 3
   },
   "file_extension": ".py",
   "mimetype": "text/x-python",
   "name": "python",
   "nbconvert_exporter": "python",
   "pygments_lexer": "ipython3",
   "version": "3.8.5"
  }
 },
 "nbformat": 4,
 "nbformat_minor": 4
}
