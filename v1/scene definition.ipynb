{
 "cells": [
  {
   "cell_type": "code",
   "execution_count": 1,
   "metadata": {},
   "outputs": [],
   "source": [
    "import configparser, csv, json, os, sys\n",
    "import logging, importlib\n",
    "\n",
    "import numpy as np\n",
    "import matplotlib.pyplot as plt\n",
    "%matplotlib qt5\n",
    "\n",
    "%load_ext autoreload\n",
    "%autoreload 2\n",
    "\n",
    "sys.path.insert(0, \"/home/pleroy/DEV/posar\")\n",
    "import posarmctools.ekfnavtools as ekf\n",
    "import posarmctools.epsgtools as epsg\n",
    "import posarmctools.posar as posar\n",
    "import posarmctools.sbg as sbg\n",
    "from posarmctools import getNotebookLogger"
   ]
  },
  {
   "cell_type": "code",
   "execution_count": 2,
   "metadata": {},
   "outputs": [],
   "source": [
    "sys.path.insert(0, \"/home/pleroy/DATA/PoSAR-X/PIMA-1\")"
   ]
  },
  {
   "cell_type": "code",
   "execution_count": 3,
   "metadata": {},
   "outputs": [],
   "source": [
    "conf = posar.FlightParams(\"/home/pleroy/DATA/PoSAR-X/PIMA-2/2020_06_23_flight.ini\")\n",
    "#epsg3xxx = epsg.epsg3857 # web mercator\n",
    "epsg3xxx = epsg.epsg3948"
   ]
  },
  {
   "cell_type": "code",
   "execution_count": 13,
   "metadata": {},
   "outputs": [
    {
     "data": {
      "text/plain": [
       "'sceneReferencePoints.py'"
      ]
     },
     "execution_count": 13,
     "metadata": {},
     "output_type": "execute_result"
    }
   ],
   "source": [
    "conf.refs"
   ]
  },
  {
   "cell_type": "code",
   "execution_count": 4,
   "metadata": {},
   "outputs": [],
   "source": [
    "pts, ptsEpsg, ptsDict = epsg.getReferencePoints(conf.refs, epsg3xxx)"
   ]
  },
  {
   "cell_type": "code",
   "execution_count": 28,
   "metadata": {},
   "outputs": [],
   "source": [
    "xTarget, yTarget = ptsEpsg['corner']\n",
    "target = (xTarget, yTarget)"
   ]
  },
  {
   "cell_type": "markdown",
   "metadata": {},
   "source": [
    "# Utilisation de l'orientation de la piste"
   ]
  },
  {
   "cell_type": "code",
   "execution_count": 27,
   "metadata": {},
   "outputs": [],
   "source": [
    "xA, yA = ptsEpsg['p2']\n",
    "xB, yB = ptsEpsg['p0']\n",
    "p1_x, p1_y = ptsEpsg['p1']\n",
    "p3_x, p3_y = ptsEpsg['p3']\n",
    "dAB = ((xB - xA)**2 + (yB - yA)**2)**0.5\n",
    "xAB = (xB - xA) / dAB\n",
    "yAB = (yB - yA) / dAB\n",
    "ux = (xAB, yAB)\n",
    "uy = (-yAB, xAB)"
   ]
  },
  {
   "cell_type": "code",
   "execution_count": 6,
   "metadata": {},
   "outputs": [
    {
     "data": {
      "text/plain": [
       "349.66459565970047"
      ]
     },
     "execution_count": 6,
     "metadata": {},
     "output_type": "execute_result"
    }
   ],
   "source": [
    "dAB"
   ]
  },
  {
   "cell_type": "code",
   "execution_count": 7,
   "metadata": {},
   "outputs": [],
   "source": [
    "Dy = 350\n",
    "x0 = (xTarget - 2000 * ux[0] - Dy * uy[0], yTarget - 2000 * ux[1] - Dy * uy[1])\n",
    "x1 = (xTarget + 2000 * ux[0] - Dy * uy[0], yTarget + 2000 * ux[1] - Dy * uy[1])\n",
    "\n",
    "s0 = (xTarget - 1000 * ux[0] - Dy * uy[0], yTarget - 1000 * ux[1] - Dy * uy[1])\n",
    "s1 = (xTarget + 1000 * ux[0] - Dy * uy[0], yTarget + 1000 * ux[1] - Dy * uy[1])\n",
    "\n",
    "Dy = 500\n",
    "x2 = (xTarget - 2000 * ux[0] - Dy * uy[0], yTarget - 2000 * ux[1] - Dy * uy[1])\n",
    "x3 = (xTarget + 2000 * ux[0] - Dy * uy[0], yTarget + 2000 * ux[1] - Dy * uy[1])\n",
    "\n",
    "s2 = (xTarget - 1000 * ux[0] - Dy * uy[0], yTarget - 1000 * ux[1] - Dy * uy[1])\n",
    "s3 = (xTarget + 1000 * ux[0] - Dy * uy[0], yTarget + 1000 * ux[1] - Dy * uy[1])"
   ]
  },
  {
   "cell_type": "code",
   "execution_count": 8,
   "metadata": {},
   "outputs": [],
   "source": [
    "plt.figure()\n",
    "\n",
    "plt.plot(x0[0], x0[1], '.', label='x0')\n",
    "plt.plot(x1[0], x1[1], '.', label='x1')\n",
    "plt.plot(s0[0], s0[1], '.', label='s0')\n",
    "plt.plot(s1[0], s1[1], '.', label='s1')\n",
    "\n",
    "plt.plot(x0[0], x0[1], '.', label='x0')\n",
    "plt.plot(x1[0], x1[1], '.', label='x1')\n",
    "plt.plot(s0[0], s0[1], '.', label='s0')\n",
    "plt.plot(s1[0], s1[1], '.', label='s1')\n",
    "\n",
    "plt.plot(xTarget, yTarget, '.', label='corner')\n",
    "plt.plot(xA, yA, '.', label='p2')\n",
    "plt.plot(xB, yB, '.', label='p0')\n",
    "plt.plot(p1_x, p1_y, '.', label='p1')\n",
    "plt.plot(p3_x, p3_y, '.', label='p3')\n",
    "plt.legend()\n",
    "plt.grid()\n",
    "plt.gca().set_aspect(\"equal\")"
   ]
  },
  {
   "cell_type": "code",
   "execution_count": 9,
   "metadata": {},
   "outputs": [
    {
     "data": {
      "text/plain": [
       "'48.06559   -1.98388'"
      ]
     },
     "execution_count": 9,
     "metadata": {},
     "output_type": "execute_result"
    }
   ],
   "source": [
    "longlat = epsg.epsgToWgs84LongLat(x0, epsg3xxx)\n",
    "f\"{longlat[1]:.5f}   {longlat[0]:.5f}\""
   ]
  },
  {
   "cell_type": "code",
   "execution_count": 11,
   "metadata": {},
   "outputs": [],
   "source": [
    "def writePoint(myDict, key, xy_or_ll, dtype=\"xy\"):\n",
    "    if dtype == \"xy\":\n",
    "        latLong = epsg.epsgToWgs84LongLat(xy_or_ll, epsg3xxx)[::-1]\n",
    "    elif dtype == \"ll\":\n",
    "        latLong = xy_or_ll\n",
    "    else:\n",
    "        print(f\"error, unknown dtype: {dtype}\")\n",
    "        \n",
    "    myDict[key] = f\"{latLong[0]:.5f}, {latLong[1]:.5f}\""
   ]
  },
  {
   "cell_type": "code",
   "execution_count": 12,
   "metadata": {},
   "outputs": [
    {
     "name": "stdout",
     "output_type": "stream",
     "text": [
      "write /home/pleroy/DATA/PoSAR-X/PIMA-2/2020_06_25_points_tmp.ini\n"
     ]
    }
   ],
   "source": [
    "config = configparser.ConfigParser()\n",
    "config['points'] = {}\n",
    "\n",
    "writePoint(config['points'], 'x0', x0, dtype=\"xy\")\n",
    "writePoint(config['points'], 'x1', x1, dtype=\"xy\")\n",
    "writePoint(config['points'], 'x2', x2, dtype=\"xy\")\n",
    "writePoint(config['points'], 'x3', x3, dtype=\"xy\")\n",
    "\n",
    "writePoint(config['points'], 's0', s0, dtype=\"xy\")\n",
    "writePoint(config['points'], 's1', s1, dtype=\"xy\")\n",
    "writePoint(config['points'], 's2', s2, dtype=\"xy\")\n",
    "writePoint(config['points'], 's3', s3, dtype=\"xy\")\n",
    "\n",
    "writePoint(config['points'], 's4', s4, dtype=\"ll\")\n",
    "writePoint(config['points'], 's5', s5, dtype=\"ll\")\n",
    "\n",
    "filename = \"/home/pleroy/DATA/PoSAR-X/PIMA-2/2020_06_25_points_tmp.ini\"\n",
    "with open(filename, 'w') as configfile:\n",
    "    print(f\"write {filename}\")\n",
    "    config.write(configfile)"
   ]
  },
  {
   "cell_type": "markdown",
   "metadata": {},
   "source": [
    "# Utilisation des orientations standard\n",
    "Ce cas est plus simple, on définit un point de cible et on prends des orientations standard pour avoir des orientations horizontales et verticales."
   ]
  },
  {
   "cell_type": "code",
   "execution_count": 76,
   "metadata": {},
   "outputs": [],
   "source": [
    "def addOnPlot(p, label=None, color=None):\n",
    "    if color is None:\n",
    "        plt.plot(p[0], p[1], 'o', label=label, markeredgecolor='k')\n",
    "    else:\n",
    "        plt.plot(p[0], p[1], '.', color=color, label=label)\n",
    "    \n",
    "def addAllOnplot(x0, s0, s1, x1, suffix=None):\n",
    "    addOnPlot(x0, f'x0{suffix}')\n",
    "    addOnPlot(s0, color='k')\n",
    "    addOnPlot(s1, color='k')\n",
    "    addOnPlot(x1, color='k')\n",
    "    \n",
    "def points(ux, uy, target, Dy):\n",
    "    x0 = (target[0] - 2000 * ux[0] - Dy * uy[0], target[1] - 2000 * ux[1] - Dy * uy[1])\n",
    "    x1 = (target[0] + 2000 * ux[0] - Dy * uy[0], target[1] + 2000 * ux[1] - Dy * uy[1])\n",
    "    s0 = (target[0] - 1000 * ux[0] - Dy * uy[0], target[1] - 1000 * ux[1] - Dy * uy[1])\n",
    "    s1 = (target[0] + 1000 * ux[0] - Dy * uy[0], target[1] + 1000 * ux[1] - Dy * uy[1])\n",
    "    return x0, s0, s1, x1"
   ]
  },
  {
   "cell_type": "code",
   "execution_count": 81,
   "metadata": {},
   "outputs": [],
   "source": [
    "Dy = 350\n",
    "\n",
    "ux_a, uy_a = (1, 0), (0, 1)\n",
    "xs_a = points(ux_a, uy_a, target, Dy)\n",
    "\n",
    "ux_b, uy_b = (0, 1), (-1, 0)\n",
    "xs_b = points(ux_b, uy_b, target, Dy)\n",
    "\n",
    "ux_c, uy_c = (-1, 0), (0, -1)\n",
    "xs_c = points(ux_c, uy_c, target, Dy)\n",
    "\n",
    "ux_d, uy_d = (0, -1), (1, 0)\n",
    "xs_d = points(ux_d, uy_d, target, Dy)"
   ]
  },
  {
   "cell_type": "code",
   "execution_count": 82,
   "metadata": {},
   "outputs": [],
   "source": [
    "plt.figure()\n",
    "\n",
    "addAllOnplot(*xs_a, suffix=\"_a\")\n",
    "addAllOnplot(*xs_b, suffix=\"_b\")\n",
    "addAllOnplot(*xs_c, suffix=\"_c\")\n",
    "addAllOnplot(*xs_d, suffix=\"_d\")\n",
    "addOnPlot(target, 'target')\n",
    "\n",
    "plt.legend()\n",
    "plt.grid()\n",
    "plt.gca().set_aspect(\"equal\")"
   ]
  },
  {
   "cell_type": "markdown",
   "metadata": {},
   "source": [
    "Même démarche mais avec des orientations à 45°."
   ]
  },
  {
   "cell_type": "code",
   "execution_count": 79,
   "metadata": {},
   "outputs": [],
   "source": [
    "Dy = 350\n",
    "\n",
    "a = 2**0.5 / 2\n",
    "\n",
    "ux_a, uy_a = (a, a), (-a, a)\n",
    "xs_a = points(ux_a, uy_a, target, Dy)\n",
    "\n",
    "ux_b, uy_b = (-a, a), (-a, -a)\n",
    "xs_b = points(ux_b, uy_b, target, Dy)\n",
    "\n",
    "ux_c, uy_c = (-a, -a), (a, -a)\n",
    "xs_c = points(ux_c, uy_c, target, Dy)\n",
    "\n",
    "ux_d, uy_d = (a, -a), (a, a)\n",
    "xs_d = points(ux_d, uy_d, target, Dy)"
   ]
  },
  {
   "cell_type": "code",
   "execution_count": 80,
   "metadata": {},
   "outputs": [],
   "source": [
    "plt.figure()\n",
    "\n",
    "addAllOnplot(*xs_a, suffix=\"_a\")\n",
    "addAllOnplot(*xs_b, suffix=\"_b\")\n",
    "addAllOnplot(*xs_c, suffix=\"_c\")\n",
    "addAllOnplot(*xs_d, suffix=\"_d\")\n",
    "addOnPlot(target, 'target')\n",
    "\n",
    "plt.legend()\n",
    "plt.grid()\n",
    "plt.gca().set_aspect(\"equal\")"
   ]
  },
  {
   "cell_type": "code",
   "execution_count": null,
   "metadata": {},
   "outputs": [],
   "source": []
  }
 ],
 "metadata": {
  "kernelspec": {
   "display_name": "Python 3",
   "language": "python",
   "name": "python3"
  },
  "language_info": {
   "codemirror_mode": {
    "name": "ipython",
    "version": 3
   },
   "file_extension": ".py",
   "mimetype": "text/x-python",
   "name": "python",
   "nbconvert_exporter": "python",
   "pygments_lexer": "ipython3",
   "version": "3.9.0"
  }
 },
 "nbformat": 4,
 "nbformat_minor": 4
}
