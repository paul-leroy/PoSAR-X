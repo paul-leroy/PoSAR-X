{
 "cells": [
  {
   "cell_type": "code",
   "execution_count": 5,
   "metadata": {},
   "outputs": [],
   "source": [
    "import sys\n",
    "\n",
    "import numpy as np\n",
    "import matplotlib.pyplot as plt\n",
    "\n",
    "sys.path.insert(0, \"/home/pleroy/DEV/processing/PoSAR-MC\")\n",
    "import posarmctools.posar as posar\n",
    "import backprojection as tdbp\n",
    "\n",
    "# this is for the sceneReferencePoint.py module\n",
    "sys.path.insert(0, \"/home/pleroy/DATA/PoSAR-X/PIMA-1\")"
   ]
  },
  {
   "cell_type": "code",
   "execution_count": 6,
   "metadata": {},
   "outputs": [],
   "source": [
    "%matplotlib qt5"
   ]
  },
  {
   "cell_type": "code",
   "execution_count": 7,
   "metadata": {},
   "outputs": [
    {
     "name": "stdout",
     "output_type": "stream",
     "text": [
      "The autoreload extension is already loaded. To reload it, use:\n",
      "  %reload_ext autoreload\n"
     ]
    }
   ],
   "source": [
    "%load_ext autoreload\n",
    "%autoreload 2"
   ]
  },
  {
   "cell_type": "code",
   "execution_count": 8,
   "metadata": {},
   "outputs": [
    {
     "name": "stdout",
     "output_type": "stream",
     "text": [
      "rec_dir /home/pleroy/DATA/PoSAR-X/PIMA-2/2020_06_23/2020_06_23_18_36_24\n",
      "rec_dir /home/pleroy/DATA/PoSAR-X/PIMA-2/2020_06_23/2020_06_23_18_36_24\n"
     ]
    }
   ],
   "source": [
    "data_date = \"2020_06_23_18_36_24\"\n",
    "rec_dir = f\"/home/pleroy/DATA/PoSAR-X/PIMA-2/2020_06_23/{data_date}\"\n",
    "record = posar.Record(rec_dir, \"record\", \"bin\", version=\"X_v1\")\n",
    "#conf = tdbp.Conf(\"/home/pleroy/DATA/PoSAR-X/PIMA-1/2019_07_12/FOCUSING/2019_07_12_14_12_21.ini\")\n",
    "conf = tdbp.Conf(\"/home/pleroy/DATA/PoSAR-X/PIMA-2/2020_06_23/FOCUSING/2020_06_23_18_36_24.ini\")"
   ]
  },
  {
   "cell_type": "markdown",
   "metadata": {},
   "source": [
    "# Read the data"
   ]
  },
  {
   "cell_type": "code",
   "execution_count": 9,
   "metadata": {},
   "outputs": [
    {
     "name": "stdout",
     "output_type": "stream",
     "text": [
      "reading binaries from 0 to 82\n",
      "number of files to read 42, samplesPerFile 20000000\n",
      "samplesPerRamp 20000, rampsPerFile 1000\n",
      "reading /home/pleroy/DATA/PoSAR-X/PIMA-2/2020_06_23/2020_06_23_18_36_24/record0.bin\n",
      "reading /home/pleroy/DATA/PoSAR-X/PIMA-2/2020_06_23/2020_06_23_18_36_24/record2.bin\n",
      "reading /home/pleroy/DATA/PoSAR-X/PIMA-2/2020_06_23/2020_06_23_18_36_24/record4.bin\n",
      "reading /home/pleroy/DATA/PoSAR-X/PIMA-2/2020_06_23/2020_06_23_18_36_24/record6.bin\n",
      "reading /home/pleroy/DATA/PoSAR-X/PIMA-2/2020_06_23/2020_06_23_18_36_24/record8.bin\n",
      "reading /home/pleroy/DATA/PoSAR-X/PIMA-2/2020_06_23/2020_06_23_18_36_24/record10.bin\n",
      "reading /home/pleroy/DATA/PoSAR-X/PIMA-2/2020_06_23/2020_06_23_18_36_24/record12.bin\n",
      "reading /home/pleroy/DATA/PoSAR-X/PIMA-2/2020_06_23/2020_06_23_18_36_24/record14.bin\n",
      "reading /home/pleroy/DATA/PoSAR-X/PIMA-2/2020_06_23/2020_06_23_18_36_24/record16.bin\n",
      "reading /home/pleroy/DATA/PoSAR-X/PIMA-2/2020_06_23/2020_06_23_18_36_24/record18.bin\n",
      "reading /home/pleroy/DATA/PoSAR-X/PIMA-2/2020_06_23/2020_06_23_18_36_24/record20.bin\n",
      "reading /home/pleroy/DATA/PoSAR-X/PIMA-2/2020_06_23/2020_06_23_18_36_24/record22.bin\n",
      "reading /home/pleroy/DATA/PoSAR-X/PIMA-2/2020_06_23/2020_06_23_18_36_24/record24.bin\n",
      "reading /home/pleroy/DATA/PoSAR-X/PIMA-2/2020_06_23/2020_06_23_18_36_24/record26.bin\n",
      "reading /home/pleroy/DATA/PoSAR-X/PIMA-2/2020_06_23/2020_06_23_18_36_24/record28.bin\n",
      "reading /home/pleroy/DATA/PoSAR-X/PIMA-2/2020_06_23/2020_06_23_18_36_24/record30.bin\n",
      "reading /home/pleroy/DATA/PoSAR-X/PIMA-2/2020_06_23/2020_06_23_18_36_24/record32.bin\n",
      "reading /home/pleroy/DATA/PoSAR-X/PIMA-2/2020_06_23/2020_06_23_18_36_24/record34.bin\n",
      "reading /home/pleroy/DATA/PoSAR-X/PIMA-2/2020_06_23/2020_06_23_18_36_24/record36.bin\n",
      "reading /home/pleroy/DATA/PoSAR-X/PIMA-2/2020_06_23/2020_06_23_18_36_24/record38.bin\n",
      "reading /home/pleroy/DATA/PoSAR-X/PIMA-2/2020_06_23/2020_06_23_18_36_24/record40.bin\n",
      "reading /home/pleroy/DATA/PoSAR-X/PIMA-2/2020_06_23/2020_06_23_18_36_24/record42.bin\n",
      "reading /home/pleroy/DATA/PoSAR-X/PIMA-2/2020_06_23/2020_06_23_18_36_24/record44.bin\n",
      "reading /home/pleroy/DATA/PoSAR-X/PIMA-2/2020_06_23/2020_06_23_18_36_24/record46.bin\n",
      "reading /home/pleroy/DATA/PoSAR-X/PIMA-2/2020_06_23/2020_06_23_18_36_24/record48.bin\n",
      "reading /home/pleroy/DATA/PoSAR-X/PIMA-2/2020_06_23/2020_06_23_18_36_24/record50.bin\n",
      "reading /home/pleroy/DATA/PoSAR-X/PIMA-2/2020_06_23/2020_06_23_18_36_24/record52.bin\n",
      "reading /home/pleroy/DATA/PoSAR-X/PIMA-2/2020_06_23/2020_06_23_18_36_24/record54.bin\n",
      "reading /home/pleroy/DATA/PoSAR-X/PIMA-2/2020_06_23/2020_06_23_18_36_24/record56.bin\n",
      "reading /home/pleroy/DATA/PoSAR-X/PIMA-2/2020_06_23/2020_06_23_18_36_24/record58.bin\n",
      "reading /home/pleroy/DATA/PoSAR-X/PIMA-2/2020_06_23/2020_06_23_18_36_24/record60.bin\n",
      "reading /home/pleroy/DATA/PoSAR-X/PIMA-2/2020_06_23/2020_06_23_18_36_24/record62.bin\n",
      "reading /home/pleroy/DATA/PoSAR-X/PIMA-2/2020_06_23/2020_06_23_18_36_24/record64.bin\n",
      "reading /home/pleroy/DATA/PoSAR-X/PIMA-2/2020_06_23/2020_06_23_18_36_24/record66.bin\n",
      "reading /home/pleroy/DATA/PoSAR-X/PIMA-2/2020_06_23/2020_06_23_18_36_24/record68.bin\n",
      "reading /home/pleroy/DATA/PoSAR-X/PIMA-2/2020_06_23/2020_06_23_18_36_24/record70.bin\n",
      "reading /home/pleroy/DATA/PoSAR-X/PIMA-2/2020_06_23/2020_06_23_18_36_24/record72.bin\n",
      "reading /home/pleroy/DATA/PoSAR-X/PIMA-2/2020_06_23/2020_06_23_18_36_24/record74.bin\n",
      "reading /home/pleroy/DATA/PoSAR-X/PIMA-2/2020_06_23/2020_06_23_18_36_24/record76.bin\n",
      "reading /home/pleroy/DATA/PoSAR-X/PIMA-2/2020_06_23/2020_06_23_18_36_24/record78.bin\n",
      "reading /home/pleroy/DATA/PoSAR-X/PIMA-2/2020_06_23/2020_06_23_18_36_24/record80.bin\n",
      "reading /home/pleroy/DATA/PoSAR-X/PIMA-2/2020_06_23/2020_06_23_18_36_24/record82.bin\n"
     ]
    }
   ],
   "source": [
    "A_reshaped = record.readBins(\"ADLINKCh0\")"
   ]
  },
  {
   "cell_type": "markdown",
   "metadata": {},
   "source": [
    "**Check that the first ramp is an up ramp**"
   ]
  },
  {
   "cell_type": "code",
   "execution_count": 11,
   "metadata": {},
   "outputs": [],
   "source": [
    "fig, ax = plt.subplots(1,1)\n",
    "ax.plot( A_reshaped[0, :] )\n",
    "title = \"first acquisition \" + data_date\n",
    "ax.set_title(title)\n",
    "ax.grid()\n",
    "fig.savefig( f\"{rec_dir}/{title}.png\", bbox_inches='tight')"
   ]
  },
  {
   "cell_type": "markdown",
   "metadata": {},
   "source": [
    "**Set the shifted flag properly**"
   ]
  },
  {
   "cell_type": "markdown",
   "metadata": {},
   "source": [
    "## Save data"
   ]
  },
  {
   "cell_type": "markdown",
   "metadata": {},
   "source": [
    "# Build analytic signal"
   ]
  },
  {
   "cell_type": "code",
   "execution_count": null,
   "metadata": {},
   "outputs": [],
   "source": [
    "signal = tdbp.Signal(conf)"
   ]
  },
  {
   "cell_type": "code",
   "execution_count": null,
   "metadata": {},
   "outputs": [],
   "source": [
    "signal.build(A_reshaped)"
   ]
  },
  {
   "cell_type": "code",
   "execution_count": null,
   "metadata": {},
   "outputs": [],
   "source": [
    "signal.save()"
   ]
  },
  {
   "cell_type": "code",
   "execution_count": 13,
   "metadata": {},
   "outputs": [
    {
     "data": {
      "text/plain": [
       "0.9800652405157564"
      ]
     },
     "execution_count": 13,
     "metadata": {},
     "output_type": "execute_result"
    }
   ],
   "source": [
    "10*np.log10(0.354**2/2/50)+30"
   ]
  },
  {
   "cell_type": "code",
   "execution_count": null,
   "metadata": {},
   "outputs": [],
   "source": []
  }
 ],
 "metadata": {
  "kernelspec": {
   "display_name": "Python 3",
   "language": "python",
   "name": "python3"
  },
  "language_info": {
   "codemirror_mode": {
    "name": "ipython",
    "version": 3
   },
   "file_extension": ".py",
   "mimetype": "text/x-python",
   "name": "python",
   "nbconvert_exporter": "python",
   "pygments_lexer": "ipython3",
   "version": "3.8.3"
  },
  "toc": {
   "base_numbering": 1,
   "nav_menu": {},
   "number_sections": true,
   "sideBar": true,
   "skip_h1_title": false,
   "title_cell": "Table of Contents",
   "title_sidebar": "Contents",
   "toc_cell": false,
   "toc_position": {},
   "toc_section_display": true,
   "toc_window_display": true
  },
  "varInspector": {
   "cols": {
    "lenName": 16,
    "lenType": 16,
    "lenVar": 40
   },
   "kernels_config": {
    "python": {
     "delete_cmd_postfix": "",
     "delete_cmd_prefix": "del ",
     "library": "var_list.py",
     "varRefreshCmd": "print(var_dic_list())"
    },
    "r": {
     "delete_cmd_postfix": ") ",
     "delete_cmd_prefix": "rm(",
     "library": "var_list.r",
     "varRefreshCmd": "cat(var_dic_list()) "
    }
   },
   "types_to_exclude": [
    "module",
    "function",
    "builtin_function_or_method",
    "instance",
    "_Feature"
   ],
   "window_display": false
  }
 },
 "nbformat": 4,
 "nbformat_minor": 4
}
