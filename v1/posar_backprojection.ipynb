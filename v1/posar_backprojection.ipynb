{
 "cells": [
  {
   "cell_type": "markdown",
   "metadata": {},
   "source": [
    "# Initialization"
   ]
  },
  {
   "cell_type": "code",
   "execution_count": 1,
   "metadata": {},
   "outputs": [],
   "source": [
    "import logging, os, sys, time\n",
    "\n",
    "import numpy as np\n",
    "import matplotlib.pyplot as plt\n",
    "from scipy import signal\n",
    "\n",
    "sys.path.insert(0, \"/home/pleroy/DEV/posar\")\n",
    "import backprojection as tdbp\n",
    "from posarmctools import getNotebookLogger\n",
    "import posarutils.process.disp_PoSAR_img as disp\n",
    "from posarutils.process.disp_PoSAR_img import OPTt\n",
    "from posarutils.process.filtering import box_filter\n",
    "\n",
    "sys.path.insert(0, \"/home/pleroy/DEV/DIADEM\")\n",
    "import toolsdiadem.tools as dia\n",
    "\n",
    "# this is for the sceneReferencePoint.py module\n",
    "sys.path.insert(0, \"/home/pleroy/DATA/PoSAR-X/PIMA-1\")"
   ]
  },
  {
   "cell_type": "code",
   "execution_count": 2,
   "metadata": {},
   "outputs": [],
   "source": [
    "%matplotlib qt5\n",
    "eps = np.finfo(float).eps"
   ]
  },
  {
   "cell_type": "code",
   "execution_count": 3,
   "metadata": {},
   "outputs": [],
   "source": [
    "%load_ext autoreload\n",
    "%autoreload 2"
   ]
  },
  {
   "cell_type": "code",
   "execution_count": 4,
   "metadata": {},
   "outputs": [],
   "source": [
    "logger = getNotebookLogger(logging.INFO)"
   ]
  },
  {
   "cell_type": "code",
   "execution_count": 5,
   "metadata": {},
   "outputs": [],
   "source": [
    "libraryFilename = \"/home/pleroy/DEV/processing/PoSAR-MC/backprojection/ccpp/libbackprojection/liblibbackprojection.so\""
   ]
  },
  {
   "cell_type": "code",
   "execution_count": 6,
   "metadata": {},
   "outputs": [],
   "source": [
    "lib = tdbp.Lib(libraryFilename)"
   ]
  },
  {
   "cell_type": "markdown",
   "metadata": {},
   "source": [
    "# Load focusing configuration and data"
   ]
  },
  {
   "cell_type": "code",
   "execution_count": 7,
   "metadata": {},
   "outputs": [
    {
     "name": "stdout",
     "output_type": "stream",
     "text": [
      "======= Conf\n",
      "rec_dir /home/pleroy/DATA/PoSAR-X/PIMA-2/2020_06_25/2020_06_25_11_57_59\n",
      "======= Track\n",
      "======= Load analytic signal...\n",
      "load /home/pleroy/DATA/PoSAR-X/PIMA-2/2020_06_25/OUT/2020_06_25_11_57_59/Sa_files_0_56_rampUp_hanning.npy\n",
      "sa.shape (57000, 5000)\n",
      "load /home/pleroy/DATA/PoSAR-X/PIMA-2/2020_06_25/OUT/2020_06_25_11_57_59/avg_Sa_files_0_56_rampUp_hanning.npy\n",
      "avg.shape (1, 5000)\n",
      "existing analytic signal found and loaded\n",
      "======= Load antenna positions...\n",
      "load /home/pleroy/DATA/PoSAR-X/PIMA-2/2020_06_25/OUT/2020_06_25_11_57_59/n_time_xyz_nav_a_corr.npy\n",
      "xa.shape (57000,)\n",
      "xa_mean = 1326868.86, ya_mean = 7218882.67, za_mean = 501.46\n",
      "======= Load Digital Terrain Elevation Data...\n",
      "get dataset\n",
      "build meshgrids\n",
      "build rectBivariateSpline\n",
      "======= Scene\n",
      "buildSceneGroundRange\n",
      "======= Set focusingParameters\n",
      "Nf 5000, Naz 57000, phi_a_deg 3.438, azRes 0.250\n",
      "range from 0.00m to 1249.97m, resolution = 0.25m, oversampled = 0.025m, \n"
     ]
    }
   ],
   "source": [
    "focusingDir = \"/home/pleroy/DATA/PoSAR-X/PIMA-2/2020_06_25/FOCUSING\"\n",
    "\n",
    "ini = \"2020_06_25_11_57_59_c2_gr_hann_3.438.ini\"\n",
    "\n",
    "focusing = tdbp.Focusing(os.path.join(focusingDir, ini), tag=\"Sa\", alongTrack=1, pointsFile=\"ini\", corr=True)"
   ]
  },
  {
   "cell_type": "markdown",
   "metadata": {},
   "source": [
    "## Plot scene"
   ]
  },
  {
   "cell_type": "code",
   "execution_count": null,
   "metadata": {},
   "outputs": [],
   "source": [
    "fig, ax = plt.subplots(1,1)\n",
    "x = focusing.scene.X\n",
    "y = focusing.scene.Y\n",
    "ax.set_aspect('equal')\n",
    "ax.plot(focusing.xa, focusing.ya)\n",
    "ax.plot(x, y, '.k')\n",
    "ax.grid()\n",
    "focusing.addPtsEpsg(ax, ['c0', 'c1', 'c2', 'c3', 'c4'])\n",
    "focusing.addPtsEpsg(ax, ['h0', 'h1', 'h2', 'h3'])\n",
    "ax.plot(focusing.scene.targetX, focusing.scene.targetY, 'o', label=\"scene.target\")\n",
    "ax.plot(focusing.track.refX, focusing.track.refY, 'D', label=\"track.ref\")\n",
    "#ax.plot(focusing.scene.refX, focusing.scene.refY, 'D', label=\"scene.ref\")\n",
    "#ax.plot(focusing.scene.closestApproach[0], focusing.scene.closestApproach[1], 'o')"
   ]
  },
  {
   "cell_type": "markdown",
   "metadata": {},
   "source": [
    "# Focalization"
   ]
  },
  {
   "cell_type": "code",
   "execution_count": null,
   "metadata": {},
   "outputs": [],
   "source": [
    "t = time.time()\n",
    "\n",
    "focusedImg  = np.zeros( (focusing.scene.nY, focusing.scene.nX), dtype=complex )\n",
    "print( \"focusedImg.shape = {}\".format( focusedImg.shape ) )\n",
    "\n",
    "lib.so.backProjectionOmpGroundRange_LETG(focusing.scene.X.reshape(focusing.scene.X.size), \n",
    "                                         focusing.scene.Y.reshape(focusing.scene.Y.size),\n",
    "                                         focusing.sceneZ.reshape(focusing.sceneZ.size),\n",
    "                                         focusing.r_over,\n",
    "                                         focusing.sa.reshape(focusing.sa.size),\n",
    "                                         focusing.xyz.reshape(focusing.xyz.size), \n",
    "                                         focusedImg.reshape(focusedImg.size),\n",
    "                                         focusing.parameters)\n",
    "\n",
    "elapsed = time.time() - t\n",
    "print(\"execution time = \" + str(elapsed))"
   ]
  },
  {
   "cell_type": "code",
   "execution_count": null,
   "metadata": {},
   "outputs": [],
   "source": [
    "myImg = tdbp.Img(focusedImg)"
   ]
  },
  {
   "cell_type": "markdown",
   "metadata": {},
   "source": [
    "# Plot image"
   ]
  },
  {
   "cell_type": "markdown",
   "metadata": {},
   "source": [
    "## imshow"
   ]
  },
  {
   "cell_type": "code",
   "execution_count": null,
   "metadata": {},
   "outputs": [],
   "source": [
    "cmap = 'jet'"
   ]
  },
  {
   "cell_type": "code",
   "execution_count": null,
   "metadata": {},
   "outputs": [],
   "source": [
    "left = focusing.conf.xMax\n",
    "right = focusing.conf.xMin\n",
    "bottom = focusing.conf.yMax\n",
    "top = focusing.conf.yMin\n",
    "extent = [left, right, bottom, top]\n",
    "vmin = myImg.max_dB - 60 # 60 pour ground range, 40 pour slant range\n",
    "vmax = myImg.max_dB\n",
    "#vmin = myImg.med_dB - 15\n",
    "#vmax = myImg.med_dB + 15\n",
    "\n",
    "fig, ax0 = plt.subplots()\n",
    "im0 = ax0.imshow(myImg.dB, cmap=cmap, vmin=vmin, vmax=vmax, extent=extent)\n",
    "dia.addColorBar(im0, ax0)\n",
    "ax0.set_aspect('equal')"
   ]
  },
  {
   "cell_type": "markdown",
   "metadata": {},
   "source": [
    "## resample"
   ]
  },
  {
   "cell_type": "code",
   "execution_count": null,
   "metadata": {},
   "outputs": [],
   "source": [
    "fig, ax0 = plt.subplots(1, 1, figsize=(10, 5))\n",
    "im0 = ax0.imshow(myImg.dB, cmap='gray', vmin=0, vmax=40)\n",
    "dia.addColorBar(im0, ax0)"
   ]
  },
  {
   "cell_type": "markdown",
   "metadata": {},
   "source": [
    "## pcolormesh box_filter"
   ]
  },
  {
   "cell_type": "code",
   "execution_count": null,
   "metadata": {},
   "outputs": [],
   "source": [
    "z = myImg.box_dB(3)"
   ]
  },
  {
   "cell_type": "code",
   "execution_count": null,
   "metadata": {},
   "outputs": [],
   "source": [
    "fig, ax = plt.subplots(1,1)\n",
    "x = focusing.scene.X\n",
    "y = focusing.scene.Y\n",
    "im = ax.pcolormesh(x, y, z, cmap='jet', shading='auto')\n",
    "ax.set_aspect('equal')\n",
    "#ax.plot(focusing.xa, focusing.ya)\n",
    "plt.colorbar(im)\n",
    "ax.grid()\n",
    "#ax.plot(focusing.conf.ptsEpsg['corner'][0], focusing.conf.ptsEpsg['corner'][1], 'og', markeredgecolor = 'black')"
   ]
  },
  {
   "cell_type": "code",
   "execution_count": null,
   "metadata": {},
   "outputs": [],
   "source": [
    "vmin = 0\n",
    "vmax = 40\n",
    "\n",
    "fig, ax = plt.subplots(1,1)\n",
    "x = focusing.scene.X\n",
    "y = focusing.scene.Y\n",
    "im = ax.pcolormesh(x, y, z, cmap='jet', vmin=vmin, vmax=vmax, shading='auto')\n",
    "ax.set_aspect('equal')\n",
    "ax.plot(focusing.xa, focusing.ya)\n",
    "plt.colorbar(im)\n",
    "ax.grid()\n",
    "#focusing.addPtsEpsg(ax, ['corner'])\n",
    "#focusing.addPtsEpsg(ax, ['h0', 'h1', 'h2', 'h3'])"
   ]
  },
  {
   "cell_type": "markdown",
   "metadata": {},
   "source": [
    "## Dynamic range"
   ]
  },
  {
   "cell_type": "code",
   "execution_count": null,
   "metadata": {},
   "outputs": [],
   "source": [
    "imgDyn = myImg.dynamicRange(dynRange=70, db=1, size=3)"
   ]
  },
  {
   "cell_type": "code",
   "execution_count": null,
   "metadata": {},
   "outputs": [],
   "source": [
    "fig, ax = plt.subplots(1,1)\n",
    "im = ax.pcolormesh(x, y, z, cmap=cmap, vmin=-10, vmax=40, shading='auto')\n",
    "dia.addColorBar(im, ax)\n",
    "ax.grid()\n",
    "focusing.addPtsEpsg(ax, ['c2'])\n",
    "focusing.addPtsEpsg(ax, ['h0', 'h1', 'h2', 'h3'])"
   ]
  },
  {
   "cell_type": "markdown",
   "metadata": {},
   "source": [
    "# Build GeoTIFF"
   ]
  },
  {
   "cell_type": "code",
   "execution_count": null,
   "metadata": {},
   "outputs": [],
   "source": [
    "tiffName = os.path.join(focusing.out_dir, focusing.conf.name + \".tif\")"
   ]
  },
  {
   "cell_type": "code",
   "execution_count": null,
   "metadata": {},
   "outputs": [],
   "source": [
    "myTiff = tdbp.Tiff(tiffName, focusing, z, cmap='gray')"
   ]
  },
  {
   "cell_type": "markdown",
   "metadata": {},
   "source": [
    "# Save focused image"
   ]
  },
  {
   "cell_type": "code",
   "execution_count": null,
   "metadata": {},
   "outputs": [],
   "source": [
    "myImg.save(focusing)"
   ]
  },
  {
   "cell_type": "code",
   "execution_count": null,
   "metadata": {},
   "outputs": [],
   "source": [
    "myImg.saveAlt(focusing)"
   ]
  },
  {
   "cell_type": "code",
   "execution_count": null,
   "metadata": {},
   "outputs": [],
   "source": [
    "file = \"/home/pleroy/DATA/PoSAR-X/PIMA-2/2020_06_25/FOCUSING/2020_06_25_11_57_59/2020_06_25_11_57_59_sr_hann_3.438.data\"\n",
    "otherImg = np.fromfile(file, dtype='complex64').reshape(480, 700)"
   ]
  },
  {
   "cell_type": "code",
   "execution_count": null,
   "metadata": {},
   "outputs": [],
   "source": []
  }
 ],
 "metadata": {
  "kernelspec": {
   "display_name": "Python 3",
   "language": "python",
   "name": "python3"
  },
  "language_info": {
   "codemirror_mode": {
    "name": "ipython",
    "version": 3
   },
   "file_extension": ".py",
   "mimetype": "text/x-python",
   "name": "python",
   "nbconvert_exporter": "python",
   "pygments_lexer": "ipython3",
   "version": "3.9.0"
  },
  "toc": {
   "base_numbering": 1,
   "nav_menu": {},
   "number_sections": true,
   "sideBar": true,
   "skip_h1_title": false,
   "title_cell": "Table of Contents",
   "title_sidebar": "Contents",
   "toc_cell": false,
   "toc_position": {
    "height": "calc(100% - 180px)",
    "left": "10px",
    "top": "150px",
    "width": "332px"
   },
   "toc_section_display": true,
   "toc_window_display": true
  },
  "varInspector": {
   "cols": {
    "lenName": 16,
    "lenType": 16,
    "lenVar": 40
   },
   "kernels_config": {
    "python": {
     "delete_cmd_postfix": "",
     "delete_cmd_prefix": "del ",
     "library": "var_list.py",
     "varRefreshCmd": "print(var_dic_list())"
    },
    "r": {
     "delete_cmd_postfix": ") ",
     "delete_cmd_prefix": "rm(",
     "library": "var_list.r",
     "varRefreshCmd": "cat(var_dic_list()) "
    }
   },
   "types_to_exclude": [
    "module",
    "function",
    "builtin_function_or_method",
    "instance",
    "_Feature"
   ],
   "window_display": false
  }
 },
 "nbformat": 4,
 "nbformat_minor": 4
}
