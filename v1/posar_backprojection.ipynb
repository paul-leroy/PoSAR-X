{
 "cells": [
  {
   "cell_type": "markdown",
   "metadata": {},
   "source": [
    "# Initialization"
   ]
  },
  {
   "cell_type": "code",
   "execution_count": 1,
   "metadata": {},
   "outputs": [],
   "source": [
    "import logging, os, sys, time\n",
    "\n",
    "import numpy as np\n",
    "import matplotlib.pyplot as plt\n",
    "from scipy import signal\n",
    "\n",
    "sys.path.insert(0, \"/home/pleroy/DEV/posar\")\n",
    "import backprojection as tdbp\n",
    "from posarmctools import getNotebookLogger\n",
    "import posarutils.process.disp_PoSAR_img as disp\n",
    "from posarutils.process.disp_PoSAR_img import OPTt\n",
    "from posarutils.process.filtering import box_filter\n",
    "\n",
    "sys.path.insert(0, \"/home/pleroy/DEV/DIADEM\")\n",
    "import toolsdiadem.tools as dia\n",
    "\n",
    "# this is for the sceneReferencePoint.py module\n",
    "sys.path.insert(0, \"/home/pleroy/DATA/PoSAR-X/PIMA-1\")"
   ]
  },
  {
   "cell_type": "code",
   "execution_count": 2,
   "metadata": {},
   "outputs": [],
   "source": [
    "%matplotlib qt5\n",
    "eps = np.finfo(float).eps"
   ]
  },
  {
   "cell_type": "code",
   "execution_count": 3,
   "metadata": {},
   "outputs": [],
   "source": [
    "%load_ext autoreload\n",
    "%autoreload 2"
   ]
  },
  {
   "cell_type": "code",
   "execution_count": 4,
   "metadata": {},
   "outputs": [],
   "source": [
    "logger = getNotebookLogger(logging.INFO)"
   ]
  },
  {
   "cell_type": "code",
   "execution_count": 5,
   "metadata": {},
   "outputs": [],
   "source": [
    "libraryFilename = \"/home/pleroy/DEV/processing/PoSAR-MC/backprojection/ccpp/libbackprojection/liblibbackprojection.so\""
   ]
  },
  {
   "cell_type": "code",
   "execution_count": null,
   "metadata": {},
   "outputs": [],
   "source": [
    "lib = tdbp.Lib(libraryFilename)"
   ]
  },
  {
   "cell_type": "markdown",
   "metadata": {},
   "source": [
    "# Load focusing configuration and data"
   ]
  },
  {
   "cell_type": "code",
   "execution_count": null,
   "metadata": {},
   "outputs": [],
   "source": [
    "focusingDir = \"/home/pleroy/DATA/PoSAR-X/PIMA-2/2020_06_25/FOCUSING\"\n",
    "# ________________ 11_57_59 ________________\n",
    "#ini = \"2020_06_25_11_57_59_c2_gr_hann.ini\"\n",
    "#ini = \"2020_06_25_11_57_59_c2_gr_hann_3.438.ini\"\n",
    "ini = \"2020_06_25_11_57_59_c2_gr_noWin_3.438.ini\"\n",
    "#ini = \"2020_06_25_11_57_59_c2_gr_hann_3.438_down.ini\"\n",
    "#ini = \"2020_06_25_11_57_59_c2_gr_hann_down.ini\"\n",
    "#ini = \"2020_06_25_11_57_59_sr_hann.ini\"\n",
    "#ini = \"2020_06_25_11_57_59_sr_hann_3.438.ini\"\n",
    "#ini = \"2020_06_25_11_57_59_sr_noWin_3.438.ini\"\n",
    "#ini = \"2020_06_25_11_57_59_sr_noWin.ini\"\n",
    "#ini = \"2020_06_25_11_57_59_c2_sr_hann.ini\"\n",
    "#ini = \"2020_06_25_11_57_59_c2_sr_hann_3.438.ini\"\n",
    "#ini = \"2020_06_25_11_57_59_c2_sr_noWin_3.438.ini\"\n",
    "#ini = \"2020_06_25_11_57_59_c2_sr_noWin.ini\"\n",
    "# ________________ 12_01_28 ________________\n",
    "#ini = \"2020_06_25_12_01_28_c2_gr_hann.ini\"\n",
    "#ini = \"2020_06_25_12_01_28_sr_hann.ini\"\n",
    "#ini = \"2020_06_25_12_01_28_c2_sr_noWin.ini\"\n",
    "# ________________ 12_04_34 ________________\n",
    "#ini = \"2020_06_25_12_04_34.ini\"\n",
    "# ________________ 12_07_40 ________________\n",
    "#ini = \"2020_06_25_12_07_40_c2_gr_hann.ini\"\n",
    "#ini = \"2020_06_25_12_07_40_sr_hann.ini\"\n",
    "#ini = \"2020_06_25_12_07_40_sr_noWin.ini\"\n",
    "#ini = \"2020_06_25_12_07_40_mower_sr_noWin.ini\"\n",
    "#ini = \"2020_06_25_12_07_40_mower_sr_hann.ini\"\n",
    "#ini = \"2020_06_25_12_07_40_c2_sr_noWin.ini\"\n",
    "#ini = \"2020_06_25_12_07_40_c2_sr_hann.ini\"\n",
    "# ________________ 12_11_37 ________________\n",
    "#ini = \"2020_06_25_12_11_37_c2_gr_hann.ini\"\n",
    "#ini = \"2020_06_25_12_11_37_sr_hann.ini\"\n",
    "#ini = \"2020_06_25_12_11_37_c2_sr_noWin.ini\"\n",
    "\n",
    "focusing = tdbp.Focusing(os.path.join(focusingDir, ini), tag=\"Sa\", alongTrack=1, pointsFile=\"ini\", corr=True)"
   ]
  },
  {
   "cell_type": "markdown",
   "metadata": {},
   "source": [
    "## Compute scene elevations"
   ]
  },
  {
   "cell_type": "code",
   "execution_count": null,
   "metadata": {},
   "outputs": [],
   "source": [
    "focusing.rebuildScene()"
   ]
  },
  {
   "cell_type": "code",
   "execution_count": null,
   "metadata": {},
   "outputs": [],
   "source": [
    "fig, ax = plt.subplots(1,1)\n",
    "x = focusing.scene.X\n",
    "y = focusing.scene.Y\n",
    "ax.set_aspect('equal')\n",
    "ax.plot(focusing.xa, focusing.ya)\n",
    "ax.plot(x, y, '.k')\n",
    "ax.grid()\n",
    "focusing.addPtsEpsg(ax, ['c0', 'c1', 'c2', 'c3', 'c4'])\n",
    "focusing.addPtsEpsg(ax, ['h0', 'h1', 'h2', 'h3'])\n",
    "ax.plot(focusing.scene.targetX, focusing.scene.targetY, 'o', label=\"scene.target\")\n",
    "ax.plot(focusing.track.refX, focusing.track.refY, 'D', label=\"track.ref\")\n",
    "#ax.plot(focusing.scene.refX, focusing.scene.refY, 'D', label=\"scene.ref\")\n",
    "#ax.plot(focusing.scene.closestApproach[0], focusing.scene.closestApproach[1], 'o')"
   ]
  },
  {
   "cell_type": "markdown",
   "metadata": {},
   "source": [
    "# Focalization"
   ]
  },
  {
   "cell_type": "code",
   "execution_count": null,
   "metadata": {},
   "outputs": [],
   "source": [
    "if 0:\n",
    "    gate = np.zeros(focusing.sa.shape[1])\n",
    "    slice_ = slice(2000, 3500)\n",
    "    gate[slice_] = 1.\n",
    "    sa_aux = np.fft.fft(np.fft.ifft(focusing.sa, axis=1) * gate)\n",
    "slice_ = slice()"
   ]
  },
  {
   "cell_type": "code",
   "execution_count": null,
   "metadata": {},
   "outputs": [],
   "source": [
    "t = time.time()\n",
    "\n",
    "focusedImg  = np.zeros( (focusing.scene.nY, focusing.scene.nX), dtype=complex )\n",
    "print( \"focusedImg.shape = {}\".format( focusedImg.shape ) )\n",
    "\n",
    "lib.so.backProjectionOmpGroundRange_LETG(focusing.scene.X.reshape(focusing.scene.X.size), \n",
    "                                         focusing.scene.Y.reshape(focusing.scene.Y.size),\n",
    "                                         focusing.sceneZ.reshape(focusing.sceneZ.size),\n",
    "                                         focusing.r_over,\n",
    "                                         focusing.sa.reshape(focusing.sa.size),\n",
    "                                         focusing.xyz.reshape(focusing.xyz.size), \n",
    "                                         focusedImg.reshape(focusedImg.size),\n",
    "                                         focusing.parameters)\n",
    "\n",
    "elapsed = time.time() - t\n",
    "print(\"execution time = \" + str(elapsed))"
   ]
  },
  {
   "cell_type": "code",
   "execution_count": null,
   "metadata": {},
   "outputs": [],
   "source": [
    "myImg = tdbp.Img(focusedImg)\n",
    "# gr orig min_dB = -51.89, max_dB = 56.58, med_dB = 4.76\n",
    "# gr corr min_dB = -57.55, max_dB = 53.08, med_dB = 4.83\n",
    "# sr orig min_dB = -43.25, max_dB = 52.65, med_dB = 7.20\n",
    "# sr corr min_dB = -45.16, max_dB = 51.15, med_dB = 7.18\n",
    "# no Win orig min_dB = -32.96, max_dB = 61.69, med_dB = 24.67\n",
    "# no Win aux min_dB = -53.83, max_dB = 61.70, med_dB = 15.67\n",
    "# min_dB = -50.82, max_dB = 62.46, med_dB = 15.67"
   ]
  },
  {
   "cell_type": "markdown",
   "metadata": {},
   "source": [
    "# Plot image"
   ]
  },
  {
   "cell_type": "markdown",
   "metadata": {},
   "source": [
    "## imshow"
   ]
  },
  {
   "cell_type": "code",
   "execution_count": null,
   "metadata": {},
   "outputs": [],
   "source": [
    "cmap = 'jet'"
   ]
  },
  {
   "cell_type": "code",
   "execution_count": null,
   "metadata": {},
   "outputs": [],
   "source": [
    "left = focusing.conf.xMax\n",
    "right = focusing.conf.xMin\n",
    "bottom = focusing.conf.yMax\n",
    "top = focusing.conf.yMin\n",
    "extent = [left, right, bottom, top]\n",
    "vmin = myImg.max_dB - 60 # 60 pour ground range, 40 pour slant range\n",
    "vmax = myImg.max_dB\n",
    "#vmin = myImg.med_dB - 15\n",
    "#vmax = myImg.med_dB + 15\n",
    "\n",
    "axTitle = f\"{focusing.conf.data_date}\\n{focusing.conf.groundOrSlant}, {focusing.conf.phi_a_deg:.1f}°\"\\\n",
    "            + f\", dx {focusing.conf.d_x}, dy {focusing.conf.d_y}\"\\\n",
    "            + f\", {focusing.conf.window}, corr {focusing.corr}, {slice_}\"\n",
    "\n",
    "if 0:\n",
    "    fig, (ax0, ax1) = plt.subplots(1, 2, figsize=(10, 5), sharex=True, sharey=True)\n",
    "    #im0 = ax0.imshow(myImg.dB, cmap=cmap, extent=extent)\n",
    "    #im1 = ax1.imshow(myImg.box_dB(3), cmap=cmap, extent=extent)\n",
    "    #im0 = ax0.imshow(myImg.dB, cmap=cmap, vmin=vmin, vmax=vmax, extent=extent)\n",
    "    #im1 = ax1.imshow(myImg.dB(3), cmap=cmap, extent=extent)\n",
    "    dia.addColorBar(im0, ax0)\n",
    "    dia.addColorBar(im1, ax1)\n",
    "else:\n",
    "    fig, ax0 = plt.subplots()\n",
    "    im0 = ax0.imshow(myImg.dB, cmap=cmap, vmin=vmin, vmax=vmax, extent=extent)\n",
    "    #im0 = ax0.imshow(myImg.dB, cmap=cmap, extent=extent)\n",
    "    #im0 = ax0.imshow(myImg.dB, cmap=cmap, vmin=vmin, vmax=vmax)\n",
    "    dia.addColorBar(im0, ax0)\n",
    "    ax0.set_title(axTitle)\n",
    "    ax0.set_aspect('equal')"
   ]
  },
  {
   "cell_type": "code",
   "execution_count": null,
   "metadata": {},
   "outputs": [],
   "source": [
    "plt.figure()\n",
    "#for idx in range(345, 355, 1):\n",
    "#    plt.plot(myImg.img_dB.T[idx, :], label=f\"{idx}\")\n",
    "idx = 338\n",
    "toPlot = myImg.img_dB.T[idx, :]\n",
    "maxVal = np.amax(toPlot)\n",
    "xAxis = np.arange(focusing.conf.xMax, focusing.conf.xMin, -focusing.conf.d_x)\n",
    "yAxis = np.arange(focusing.conf.yMin, focusing.conf.yMax, focusing.conf.d_y)\n",
    "plt.plot(yAxis, toPlot, label=f\"coupe à x = {xAxis[idx]:.2f}\")\n",
    "plt.axhline(y=maxVal, color =\"green\", linestyle =\"--\") \n",
    "plt.axhline(y=maxVal - 3, color =\"green\", linestyle =\":\") \n",
    "plt.grid()\n",
    "plt.legend()\n",
    "plt.xlabel(\"y [m]\")\n",
    "plt.ylabel(\"[dB]\")"
   ]
  },
  {
   "cell_type": "code",
   "execution_count": null,
   "metadata": {},
   "outputs": [],
   "source": [
    "plt.figure()\n",
    "#for idx in range(345, 355, 1):\n",
    "#    plt.plot(myImg.img_dB.T[idx, :], label=f\"{idx}\")\n",
    "iy = 105\n",
    "toPlot = myImg.img_dB.T[:, iy]\n",
    "maxVal = np.amax(toPlot)\n",
    "xAxis = np.arange(focusing.conf.xMax, focusing.conf.xMin, -focusing.conf.d_x)\n",
    "yAxis = np.arange(focusing.conf.yMin, focusing.conf.yMax, focusing.conf.d_y)\n",
    "plt.plot(xAxis, toPlot, label=f\"coupe à y = {yAxis[iy]:.2f}\")\n",
    "plt.axhline(y=maxVal, color =\"green\", linestyle =\"--\") \n",
    "plt.axhline(y=maxVal - 3, color =\"green\", linestyle =\":\") \n",
    "plt.grid()\n",
    "plt.legend()\n",
    "plt.xlabel(\"x [m]\")\n",
    "plt.ylabel(\"[dB]\")"
   ]
  },
  {
   "cell_type": "markdown",
   "metadata": {},
   "source": [
    "## resample"
   ]
  },
  {
   "cell_type": "code",
   "execution_count": null,
   "metadata": {},
   "outputs": [],
   "source": [
    "coef = 4\n",
    "newImg = signal.resample(focusedImg, focusedImg.shape[0]*coef, axis=0)\n",
    "newImg = signal.resample(newImg, focusedImg.shape[1]*coef, axis=1)\n",
    "newMyImg = tdbp.Img(newImg)"
   ]
  },
  {
   "cell_type": "code",
   "execution_count": null,
   "metadata": {},
   "outputs": [],
   "source": [
    "plt.figure()\n",
    "#for idx in range(345, 355, 1):\n",
    "#    plt.plot(myImg.img_dB.T[idx, :], label=f\"{idx}\")\n",
    "idxAlt = idx * coef\n",
    "toPlot = newMyImg.img_dB.T[idxAlt, :]\n",
    "maxVal = np.amax(toPlot)\n",
    "xAxis = np.arange(focusing.conf.xMax, focusing.conf.xMin, -focusing.conf.d_x / coef)\n",
    "yAxis = np.arange(focusing.conf.yMin, focusing.conf.yMax, focusing.conf.d_y / coef)\n",
    "plt.plot(yAxis, toPlot, label=f\"coupe à x = {xAxis[idxAlt]:.2f}\")\n",
    "plt.axhline(y = maxVal, color =\"green\", linestyle =\"--\") \n",
    "plt.axhline(y = maxVal - 3, color =\"green\", linestyle =\":\") \n",
    "plt.grid()\n",
    "plt.legend()\n",
    "plt.xlabel(\"y [m]\")\n",
    "plt.ylabel(\"[dB]\")"
   ]
  },
  {
   "cell_type": "code",
   "execution_count": null,
   "metadata": {},
   "outputs": [],
   "source": [
    "fig, ax0 = plt.subplots(1, 1, figsize=(10, 5))\n",
    "im0 = ax0.imshow(newMyImg.dB, cmap='gray', vmin=0, vmax=40)\n",
    "dia.addColorBar(im0, ax0)"
   ]
  },
  {
   "cell_type": "markdown",
   "metadata": {},
   "source": [
    "## pcolormesh box_filter"
   ]
  },
  {
   "cell_type": "code",
   "execution_count": null,
   "metadata": {},
   "outputs": [],
   "source": [
    "z = myImg.box_dB(3)"
   ]
  },
  {
   "cell_type": "code",
   "execution_count": null,
   "metadata": {},
   "outputs": [],
   "source": [
    "fig, ax = plt.subplots(1,1)\n",
    "x = focusing.scene.X\n",
    "y = focusing.scene.Y\n",
    "im = ax.pcolormesh(x, y, z, cmap='jet')\n",
    "ax.set_aspect('equal')\n",
    "#ax.plot(focusing.xa, focusing.ya)\n",
    "plt.colorbar(im)\n",
    "ax.grid()\n",
    "#ax.plot(focusing.conf.ptsEpsg['corner'][0], focusing.conf.ptsEpsg['corner'][1], 'og', markeredgecolor = 'black')"
   ]
  },
  {
   "cell_type": "code",
   "execution_count": null,
   "metadata": {},
   "outputs": [],
   "source": [
    "vmin = 0\n",
    "vmax = 40\n",
    "\n",
    "fig, ax = plt.subplots(1,1)\n",
    "x = focusing.scene.X\n",
    "y = focusing.scene.Y\n",
    "im = ax.pcolormesh(x, y, z, cmap='jet', vmin=vmin, vmax=vmax)\n",
    "ax.set_aspect('equal')\n",
    "ax.plot(focusing.xa, focusing.ya)\n",
    "plt.colorbar(im)\n",
    "ax.grid()\n",
    "#focusing.addPtsEpsg(ax, ['corner'])\n",
    "#focusing.addPtsEpsg(ax, ['h0', 'h1', 'h2', 'h3'])"
   ]
  },
  {
   "cell_type": "markdown",
   "metadata": {},
   "source": [
    "## Dynamic range"
   ]
  },
  {
   "cell_type": "code",
   "execution_count": null,
   "metadata": {},
   "outputs": [],
   "source": [
    "imgDyn = myImg.dynamicRange(dynRange=70, db=1, size=3)"
   ]
  },
  {
   "cell_type": "code",
   "execution_count": null,
   "metadata": {},
   "outputs": [],
   "source": [
    "fig, ax = plt.subplots(1,1)\n",
    "im = ax.pcolormesh(x, y, z, cmap=cmap, vmin=-10, vmax=40)\n",
    "dia.addColorBar(im, ax)\n",
    "ax.grid()\n",
    "focusing.addPtsEpsg(ax, ['c2'])\n",
    "focusing.addPtsEpsg(ax, ['h0', 'h1', 'h2', 'h3'])"
   ]
  },
  {
   "cell_type": "markdown",
   "metadata": {},
   "source": [
    "# Build GeoTIFF"
   ]
  },
  {
   "cell_type": "code",
   "execution_count": null,
   "metadata": {},
   "outputs": [],
   "source": [
    "tiffName = os.path.join(focusing.out_dir, focusing.conf.name + \".tif\")"
   ]
  },
  {
   "cell_type": "code",
   "execution_count": null,
   "metadata": {},
   "outputs": [],
   "source": [
    "myTiff = tdbp.Tiff(tiffName, focusing, z, cmap='gray')"
   ]
  },
  {
   "cell_type": "markdown",
   "metadata": {},
   "source": [
    "# Save focused image"
   ]
  },
  {
   "cell_type": "code",
   "execution_count": null,
   "metadata": {},
   "outputs": [],
   "source": [
    "myImg.save(focusing)"
   ]
  },
  {
   "cell_type": "code",
   "execution_count": null,
   "metadata": {},
   "outputs": [],
   "source": [
    "myImg.saveAlt(focusing)"
   ]
  },
  {
   "cell_type": "code",
   "execution_count": null,
   "metadata": {},
   "outputs": [],
   "source": [
    "file = \"/home/pleroy/DATA/PoSAR-X/PIMA-2/2020_06_25/FOCUSING/2020_06_25_11_57_59/2020_06_25_11_57_59_sr_hann_3.438.data\"\n",
    "otherImg = np.fromfile(file, dtype='complex64').reshape(480, 700)"
   ]
  },
  {
   "cell_type": "code",
   "execution_count": null,
   "metadata": {},
   "outputs": [],
   "source": []
  }
 ],
 "metadata": {
  "kernelspec": {
   "display_name": "Python 3",
   "language": "python",
   "name": "python3"
  },
  "language_info": {
   "codemirror_mode": {
    "name": "ipython",
    "version": 3
   },
   "file_extension": ".py",
   "mimetype": "text/x-python",
   "name": "python",
   "nbconvert_exporter": "python",
   "pygments_lexer": "ipython3",
   "version": "3.9.0"
  },
  "toc": {
   "base_numbering": 1,
   "nav_menu": {},
   "number_sections": true,
   "sideBar": true,
   "skip_h1_title": false,
   "title_cell": "Table of Contents",
   "title_sidebar": "Contents",
   "toc_cell": false,
   "toc_position": {
    "height": "calc(100% - 180px)",
    "left": "10px",
    "top": "150px",
    "width": "332px"
   },
   "toc_section_display": true,
   "toc_window_display": true
  },
  "varInspector": {
   "cols": {
    "lenName": 16,
    "lenType": 16,
    "lenVar": 40
   },
   "kernels_config": {
    "python": {
     "delete_cmd_postfix": "",
     "delete_cmd_prefix": "del ",
     "library": "var_list.py",
     "varRefreshCmd": "print(var_dic_list())"
    },
    "r": {
     "delete_cmd_postfix": ") ",
     "delete_cmd_prefix": "rm(",
     "library": "var_list.r",
     "varRefreshCmd": "cat(var_dic_list()) "
    }
   },
   "types_to_exclude": [
    "module",
    "function",
    "builtin_function_or_method",
    "instance",
    "_Feature"
   ],
   "window_display": false
  }
 },
 "nbformat": 4,
 "nbformat_minor": 4
}
