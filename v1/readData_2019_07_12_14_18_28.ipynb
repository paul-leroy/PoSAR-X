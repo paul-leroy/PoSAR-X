{
 "cells": [
  {
   "cell_type": "code",
   "execution_count": 1,
   "metadata": {},
   "outputs": [],
   "source": [
    "import numpy as np\n",
    "import matplotlib.pyplot as plt"
   ]
  },
  {
   "cell_type": "code",
   "execution_count": 2,
   "metadata": {},
   "outputs": [],
   "source": [
    "%matplotlib qt5"
   ]
  },
  {
   "cell_type": "code",
   "execution_count": 3,
   "metadata": {},
   "outputs": [],
   "source": [
    "%load_ext autoreload\n",
    "%autoreload 2"
   ]
  },
  {
   "cell_type": "code",
   "execution_count": 4,
   "metadata": {},
   "outputs": [],
   "source": [
    "import sys"
   ]
  },
  {
   "cell_type": "code",
   "execution_count": 5,
   "metadata": {},
   "outputs": [],
   "source": [
    "sys.path.insert(0, \"/home/pleroy/DEV/processing/PoSAR-MC\")\n",
    "from posarmctools.readdata import *"
   ]
  },
  {
   "cell_type": "code",
   "execution_count": 6,
   "metadata": {},
   "outputs": [],
   "source": [
    "sys.path.insert(0, \"/home/pleroy/DEV/processing/focalization_python\")\n",
    "from posarutils.other.read_data_and_build_rd import *\n",
    "from posarutils.other.PosarMCParameters import *"
   ]
  },
  {
   "cell_type": "code",
   "execution_count": 7,
   "metadata": {},
   "outputs": [],
   "source": [
    "data_date = \"2019_07_12_14_18_28\"\n",
    "data_dir = f\"/home/pleroy/DATA/PoSAR-X/PIMA-1/2019_07_12/{data_date}\""
   ]
  },
  {
   "cell_type": "code",
   "execution_count": 8,
   "metadata": {},
   "outputs": [
    {
     "name": "stdout",
     "output_type": "stream",
     "text": [
      "rampsPerBuffer 500\n",
      "bufferSize 20000000.0\n",
      "buffersPerFile 2\n",
      "rampsPerFile 1000\n",
      "fileSize 40000000.0\n",
      "samplingFrequency 20000000.0\n",
      "samplesPerRamp 20000\n",
      "skipNSamples 0\n",
      "rampPeriod 1000\n",
      "startFrequency 9800\n",
      "stopFrequency 10100\n",
      "kc 416.785\n"
     ]
    }
   ],
   "source": [
    "params_filename = data_dir + \"/\" + data_date + \"_parameters.xml\"\n",
    "params = PosarXParameters( params_filename )\n",
    "params.print()"
   ]
  },
  {
   "cell_type": "code",
   "execution_count": 9,
   "metadata": {},
   "outputs": [
    {
     "name": "stdout",
     "output_type": "stream",
     "text": [
      "buffersPerFile = 2, samplesPerRamp = 20000, rampsPerFile = 1000\n"
     ]
    }
   ],
   "source": [
    "buffersPerFile = params.buffersPerFile\n",
    "samplesPerRamp = params.samplesPerRamp\n",
    "rampsPerFile = params.rampsPerFile\n",
    "samplesPerFile = samplesPerRamp * rampsPerFile\n",
    "\n",
    "print( \"buffersPerFile = {}, samplesPerRamp = {}, rampsPerFile = {}\".format(\n",
    "    buffersPerFile, samplesPerRamp, rampsPerFile )\n",
    "     )\n",
    "\n",
    "# selection in record\n",
    "firstFile = 0\n",
    "nbFiles = 47\n",
    "lastFile = firstFile + nbFiles - 1\n",
    "firstBuffer = firstFile * buffersPerFile"
   ]
  },
  {
   "cell_type": "markdown",
   "metadata": {},
   "source": [
    "# Read the data"
   ]
  },
  {
   "cell_type": "code",
   "execution_count": 10,
   "metadata": {},
   "outputs": [],
   "source": [
    "scalingFactor = 2 / 65535 \n",
    "offset = -32768"
   ]
  },
  {
   "cell_type": "code",
   "execution_count": 11,
   "metadata": {},
   "outputs": [],
   "source": [
    "timeSerie_A = np.zeros( samplesPerFile )\n",
    "adc_A = np.zeros( (nbFiles, samplesPerFile) )"
   ]
  },
  {
   "cell_type": "code",
   "execution_count": 12,
   "metadata": {},
   "outputs": [
    {
     "name": "stdout",
     "output_type": "stream",
     "text": [
      "k = 0, block = 0 / 92\n",
      "k = 1, block = 2 / 92\n",
      "k = 2, block = 4 / 92\n",
      "k = 3, block = 6 / 92\n",
      "k = 4, block = 8 / 92\n",
      "k = 5, block = 10 / 92\n",
      "k = 6, block = 12 / 92\n",
      "k = 7, block = 14 / 92\n",
      "k = 8, block = 16 / 92\n",
      "k = 9, block = 18 / 92\n",
      "k = 10, block = 20 / 92\n",
      "k = 11, block = 22 / 92\n",
      "k = 12, block = 24 / 92\n",
      "k = 13, block = 26 / 92\n",
      "k = 14, block = 28 / 92\n",
      "k = 15, block = 30 / 92\n",
      "k = 16, block = 32 / 92\n",
      "k = 17, block = 34 / 92\n",
      "k = 18, block = 36 / 92\n",
      "k = 19, block = 38 / 92\n",
      "k = 20, block = 40 / 92\n",
      "k = 21, block = 42 / 92\n",
      "k = 22, block = 44 / 92\n",
      "k = 23, block = 46 / 92\n",
      "k = 24, block = 48 / 92\n",
      "k = 25, block = 50 / 92\n",
      "k = 26, block = 52 / 92\n",
      "k = 27, block = 54 / 92\n",
      "k = 28, block = 56 / 92\n",
      "k = 29, block = 58 / 92\n",
      "k = 30, block = 60 / 92\n",
      "k = 31, block = 62 / 92\n",
      "k = 32, block = 64 / 92\n",
      "k = 33, block = 66 / 92\n",
      "k = 34, block = 68 / 92\n",
      "k = 35, block = 70 / 92\n",
      "k = 36, block = 72 / 92\n",
      "k = 37, block = 74 / 92\n",
      "k = 38, block = 76 / 92\n",
      "k = 39, block = 78 / 92\n",
      "k = 40, block = 80 / 92\n",
      "k = 41, block = 82 / 92\n",
      "k = 42, block = 84 / 92\n",
      "k = 43, block = 86 / 92\n",
      "k = 44, block = 88 / 92\n",
      "k = 45, block = 90 / 92\n",
      "k = 46, block = 92 / 92\n"
     ]
    }
   ],
   "source": [
    "lastBuffer = (nbFiles-1) * buffersPerFile + firstBuffer\n",
    "for k in range( nbFiles ):\n",
    "    \n",
    "    # read the data\n",
    "    nb = str( int( k * buffersPerFile + firstBuffer) )\n",
    "    filename = data_dir + \"/record\" + nb + \".bin\"\n",
    "    readFileADLINKCh0( filename, samplesPerFile, timeSerie_A )\n",
    "    \n",
    "    print(\"k = {}, block = {} / {}\".format(k, nb, lastBuffer))\n",
    "    \n",
    "    adc_A[ k, : ] = (timeSerie_A + offset) * scalingFactor"
   ]
  },
  {
   "cell_type": "code",
   "execution_count": 14,
   "metadata": {},
   "outputs": [],
   "source": [
    "A_reshaped = adc_A.reshape(nbFiles * rampsPerFile, samplesPerRamp)"
   ]
  },
  {
   "cell_type": "markdown",
   "metadata": {},
   "source": [
    "## Spectrum"
   ]
  },
  {
   "cell_type": "markdown",
   "metadata": {},
   "source": [
    "### No window"
   ]
  },
  {
   "cell_type": "code",
   "execution_count": 15,
   "metadata": {},
   "outputs": [],
   "source": [
    "samplesPerDownRamp = int(samplesPerRamp/2)"
   ]
  },
  {
   "cell_type": "code",
   "execution_count": 16,
   "metadata": {},
   "outputs": [],
   "source": [
    "fft_A = np.fft.ifft(A_reshaped[:, 0:samplesPerDownRamp], axis=1)"
   ]
  },
  {
   "cell_type": "code",
   "execution_count": 17,
   "metadata": {},
   "outputs": [
    {
     "name": "stderr",
     "output_type": "stream",
     "text": [
      "/home/pleroy/anaconda3/lib/python3.7/site-packages/ipykernel_launcher.py:1: RuntimeWarning: divide by zero encountered in log10\n",
      "  \"\"\"Entry point for launching an IPython kernel.\n"
     ]
    }
   ],
   "source": [
    "fft_abs = 20 * np.log10( np.abs( fft_A ) )"
   ]
  },
  {
   "cell_type": "code",
   "execution_count": 24,
   "metadata": {},
   "outputs": [],
   "source": [
    "fig, ax = plt.subplots(1,1)\n",
    "ax.imshow( fft_abs[::100, 500:2000] )\n",
    "title = \"no window \" + data_date\n",
    "ax.set_title(title)\n",
    "fig.savefig( f\"{data_dir}/{title}.png\" )"
   ]
  },
  {
   "cell_type": "markdown",
   "metadata": {},
   "source": [
    "### Hanning"
   ]
  },
  {
   "cell_type": "code",
   "execution_count": 19,
   "metadata": {},
   "outputs": [],
   "source": [
    "hanning = np.hanning(samplesPerDownRamp)"
   ]
  },
  {
   "cell_type": "code",
   "execution_count": 20,
   "metadata": {},
   "outputs": [],
   "source": [
    "fft_A_hanning = np.fft.ifft(A_reshaped[:, 0:samplesPerDownRamp]*hanning, axis=1)"
   ]
  },
  {
   "cell_type": "code",
   "execution_count": 21,
   "metadata": {},
   "outputs": [],
   "source": [
    "fft_abs_hanning = 20 * np.log10( np.abs( fft_A_hanning ) )"
   ]
  },
  {
   "cell_type": "code",
   "execution_count": 22,
   "metadata": {},
   "outputs": [],
   "source": [
    "fig, ax = plt.subplots(1,1)\n",
    "ax.imshow( fft_abs_hanning[::100, 500:2000])\n",
    "title = \"hanning \" + data_date\n",
    "ax.set_title(title)\n",
    "fig.savefig( f\"{data_dir}/{title}.png\" )"
   ]
  },
  {
   "cell_type": "markdown",
   "metadata": {},
   "source": [
    "### Compare data"
   ]
  },
  {
   "cell_type": "code",
   "execution_count": 23,
   "metadata": {},
   "outputs": [],
   "source": [
    "idxLine = 0\n",
    "fig, ax = plt.subplots(1,1)\n",
    "ax.plot( fft_abs[idxLine,:], label=\"raw\"  )\n",
    "ax.plot( fft_abs_hanning[idxLine,:], label=\"hanning\"  )\n",
    "ax.legend()\n",
    "ax.grid()"
   ]
  },
  {
   "cell_type": "markdown",
   "metadata": {},
   "source": [
    "# Build RD"
   ]
  },
  {
   "cell_type": "markdown",
   "metadata": {},
   "source": [
    "**Check that the first ramp is an up ramp**"
   ]
  },
  {
   "cell_type": "code",
   "execution_count": 25,
   "metadata": {},
   "outputs": [],
   "source": [
    "fig, ax = plt.subplots(1,1)\n",
    "ax.plot( A_reshaped[0, :] )\n",
    "title = \"first acquisition \" + data_date\n",
    "ax.set_title(title)\n",
    "ax.grid()\n",
    "fig.savefig( f\"{data_dir}/{title}.png\", bbox_inches='tight')"
   ]
  },
  {
   "cell_type": "markdown",
   "metadata": {},
   "source": [
    "**Set the shifted flag properly**"
   ]
  },
  {
   "cell_type": "code",
   "execution_count": 26,
   "metadata": {},
   "outputs": [
    {
     "name": "stdout",
     "output_type": "stream",
     "text": [
      "build rd from ramp up\n",
      "shape of the samples matrix = (47000, 20000)\n",
      "ramp down first in the data files\n",
      "with Hanning window\n"
     ]
    }
   ],
   "source": [
    "upOrDown = \"Up\"\n",
    "#upOrDown = \"Down\"\n",
    "\n",
    "if upOrDown == \"Down\":\n",
    "    rampDownFirst = 1\n",
    "    withHanning = 1\n",
    "    RDc = build_rd_from_data_rampDown( params, A_reshaped, rampDownFirst, withHanning )\n",
    "elif upOrDown == \"Up\":\n",
    "    rampUpFirst = 0\n",
    "    withHanning = 1\n",
    "    RDc = build_rd_from_data_rampUp( params, A_reshaped, rampUpFirst, withHanning )"
   ]
  },
  {
   "cell_type": "markdown",
   "metadata": {},
   "source": [
    "## Save data"
   ]
  },
  {
   "cell_type": "code",
   "execution_count": 27,
   "metadata": {},
   "outputs": [],
   "source": [
    "if withHanning:\n",
    "    hanning = \"_hanning\"\n",
    "else:\n",
    "    hanning = \"\""
   ]
  },
  {
   "cell_type": "code",
   "execution_count": 28,
   "metadata": {},
   "outputs": [
    {
     "name": "stdout",
     "output_type": "stream",
     "text": [
      "load /home/pleroy/DATA/PoSAR-X/PIMA-1/2019_07_12/2019_07_12_14_18_28/coupling_RD_files_0_46_rampUp_hanning.npy\n"
     ]
    }
   ],
   "source": [
    "coupling_RD = np.average(RDc, 0)\n",
    "coupling_name = f'{data_dir}/coupling_RD_files_{firstFile}_{lastFile}_ramp{upOrDown}{hanning}.npy'\n",
    "print( f\"load {coupling_name}\")\n",
    "np.save( coupling_name, coupling_RD )"
   ]
  },
  {
   "cell_type": "code",
   "execution_count": 29,
   "metadata": {},
   "outputs": [],
   "source": [
    "plt.figure()\n",
    "plt.plot(np.abs(coupling_RD), 'k', label='coupling')\n",
    "plt.legend()\n",
    "plt.grid()"
   ]
  },
  {
   "cell_type": "code",
   "execution_count": 30,
   "metadata": {},
   "outputs": [
    {
     "name": "stdout",
     "output_type": "stream",
     "text": [
      "load /home/pleroy/DATA/PoSAR-X/PIMA-1/2019_07_12/2019_07_12_14_18_28/RD_files_0_46_rampUp_hanning.npy\n"
     ]
    }
   ],
   "source": [
    "RD1_name = f'{data_dir}/RD_files_{firstFile}_{lastFile}_ramp{upOrDown}{hanning}.npy'\n",
    "print( f\"load {RD1_name}\")\n",
    "np.save( RD1_name, RDc) "
   ]
  },
  {
   "cell_type": "code",
   "execution_count": null,
   "metadata": {},
   "outputs": [],
   "source": []
  }
 ],
 "metadata": {
  "kernelspec": {
   "display_name": "Python 3",
   "language": "python",
   "name": "python3"
  },
  "language_info": {
   "codemirror_mode": {
    "name": "ipython",
    "version": 3
   },
   "file_extension": ".py",
   "mimetype": "text/x-python",
   "name": "python",
   "nbconvert_exporter": "python",
   "pygments_lexer": "ipython3",
   "version": "3.7.3"
  },
  "toc": {
   "base_numbering": 1,
   "nav_menu": {},
   "number_sections": true,
   "sideBar": true,
   "skip_h1_title": false,
   "title_cell": "Table of Contents",
   "title_sidebar": "Contents",
   "toc_cell": false,
   "toc_position": {},
   "toc_section_display": true,
   "toc_window_display": true
  },
  "varInspector": {
   "cols": {
    "lenName": 16,
    "lenType": 16,
    "lenVar": 40
   },
   "kernels_config": {
    "python": {
     "delete_cmd_postfix": "",
     "delete_cmd_prefix": "del ",
     "library": "var_list.py",
     "varRefreshCmd": "print(var_dic_list())"
    },
    "r": {
     "delete_cmd_postfix": ") ",
     "delete_cmd_prefix": "rm(",
     "library": "var_list.r",
     "varRefreshCmd": "cat(var_dic_list()) "
    }
   },
   "types_to_exclude": [
    "module",
    "function",
    "builtin_function_or_method",
    "instance",
    "_Feature"
   ],
   "window_display": false
  }
 },
 "nbformat": 4,
 "nbformat_minor": 2
}
