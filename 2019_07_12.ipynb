{
 "cells": [
  {
   "cell_type": "markdown",
   "metadata": {},
   "source": [
    "# Initialisation"
   ]
  },
  {
   "cell_type": "markdown",
   "metadata": {},
   "source": [
    "## Imports"
   ]
  },
  {
   "cell_type": "code",
   "execution_count": null,
   "metadata": {},
   "outputs": [],
   "source": [
    "import sys, os, csv\n",
    "import logging, importlib\n",
    "\n",
    "import numpy as np\n",
    "import matplotlib.pyplot as plt\n",
    "%matplotlib qt5\n",
    "\n",
    "%load_ext autoreload\n",
    "%autoreload 2"
   ]
  },
  {
   "cell_type": "code",
   "execution_count": null,
   "metadata": {},
   "outputs": [],
   "source": [
    "sys.path.insert(0, \"/home/pleroy/DEV/processing/PoSAR-MC\")\n",
    "from posarmctools.readdata import check_ini, getInfoRecords, checkTimestamps\n",
    "import posarmctools.ekfnavtools as ekf\n",
    "import posarmctools.epsgtools as epsg\n",
    "import posarmctools.sbg as sbg\n",
    "import posarmctools.posar as posar\n",
    "from posarmctools.get_notebook_name import get_notebook_name"
   ]
  },
  {
   "cell_type": "markdown",
   "metadata": {},
   "source": [
    "## Parameters"
   ]
  },
  {
   "cell_type": "code",
   "execution_count": null,
   "metadata": {},
   "outputs": [],
   "source": [
    "ini = \"/home/pleroy/DATA/PoSAR-X/PIMA-1/flight2.ini\"\n",
    "conf = posar.FlightParams(\"/home/pleroy/DATA/PoSAR-X/PIMA-1/flight2.ini\")\n",
    "root_dir = os.path.join(conf.dir_posar, conf.day)\n",
    "dir_out = os.path.join(conf.dir_posar, conf.day, \"OUT\")\n",
    "withPlots = 0\n",
    "epsg3xxx = epsg.epsg3857"
   ]
  },
  {
   "cell_type": "markdown",
   "metadata": {},
   "source": [
    "## Logger"
   ]
  },
  {
   "cell_type": "code",
   "execution_count": null,
   "metadata": {},
   "outputs": [],
   "source": [
    "modulename = get_notebook_name().split('/')[-1].split('.ipynb')[0]\n",
    "logger = logging.getLogger()\n",
    "logger.setLevel(logging.INFO)\n",
    "# create formatter\n",
    "formatter = logging.Formatter('%(asctime)s - %(name)s - %(levelname)s - %(message)s')\n",
    "logfile = modulename + \".log\"\n",
    "\n",
    "def loggingSetFh(name, formatter):\n",
    "    # create file handler which logs even debug messages\n",
    "    fh = logging.FileHandler(name, mode='w')\n",
    "    fh.setLevel(logging.DEBUG)\n",
    "    # set the formatter\n",
    "    fh.setFormatter(formatter)\n",
    "    logger.addHandler(fh)\n",
    "\n",
    "loggingSetFh(logfile, formatter)"
   ]
  },
  {
   "cell_type": "markdown",
   "metadata": {},
   "source": [
    "## EPSG transformations"
   ]
  },
  {
   "cell_type": "code",
   "execution_count": null,
   "metadata": {},
   "outputs": [],
   "source": [
    "if epsg3xxx == epsg.epsg3857:\n",
    "    epsgStr = \"epsg3857\"\n",
    "    \n",
    "if epsg3xxx == epsg.epsg3948:\n",
    "    epsgStr = \"epsg3948\""
   ]
  },
  {
   "cell_type": "markdown",
   "metadata": {},
   "source": [
    "## Scene remarkable points"
   ]
  },
  {
   "cell_type": "code",
   "execution_count": null,
   "metadata": {},
   "outputs": [],
   "source": [
    "sys.path.insert(0, \"/home/pleroy/DATA/PoSAR-X/PIMA-1\")"
   ]
  },
  {
   "cell_type": "code",
   "execution_count": null,
   "metadata": {},
   "outputs": [],
   "source": [
    "sceneReferencePoints = importlib.import_module(conf.refs.split('.py')[0])\n",
    "pts = epsg.getReferencePoints(sceneReferencePoints)\n",
    "ptsLongLat = {pt: pts[pt][::-1]\n",
    "              for pt in pts}\n",
    "ptsEpsg = {pt: epsg.wgs84LongLatToEpsg( ptsLongLat[pt], epsg3xxx )\n",
    "           for pt in pts}\n",
    "prefixes = epsg.getReferencePointPrefixes(pts)\n",
    "for prefix in prefixes:\n",
    "    np.save(f\"{prefix}_epsg\", \n",
    "            [ptsEpsg[pt] for pt in pts if pt.rstrip('0123456789') == prefix]\n",
    "            )"
   ]
  },
  {
   "cell_type": "code",
   "execution_count": null,
   "metadata": {},
   "outputs": [],
   "source": [
    "from matplotlib.cm import get_cmap"
   ]
  },
  {
   "cell_type": "markdown",
   "metadata": {},
   "source": [
    "# SBG data"
   ]
  },
  {
   "cell_type": "markdown",
   "metadata": {},
   "source": [
    "## data path definitions"
   ]
  },
  {
   "cell_type": "code",
   "execution_count": null,
   "metadata": {},
   "outputs": [],
   "source": [
    "logLoader = sbg.LogLoader(conf.dir_sbg, conf.session, conf.day, conf.sbg_hours)"
   ]
  },
  {
   "cell_type": "markdown",
   "metadata": {},
   "source": [
    "##  logGpsPos"
   ]
  },
  {
   "cell_type": "markdown",
   "metadata": {},
   "source": [
    "### Load data"
   ]
  },
  {
   "cell_type": "code",
   "execution_count": null,
   "metadata": {},
   "outputs": [],
   "source": [
    "gps = sbg.Log(\"sbgLogGpsPos.csv\", logLoader, delimiter=\",\")\n",
    "Lat, Long, Alt, Undulation, gpsPosStatus = [gps.data[:, gps.names.index(c)]\n",
    "                                            for c in ('latitude', 'longitude', 'altitude', 'undulation', 'status')]\n",
    "gpsPosStatus = gpsPosStatus.astype(\"uint32\")\n",
    "x, y = epsg.wgs84LongLatToEpsg( (Long, Lat), epsg3xxx )"
   ]
  },
  {
   "cell_type": "code",
   "execution_count": null,
   "metadata": {},
   "outputs": [],
   "source": [
    "gps_proj = epsg.wgs84LongLatToEpsg( (Long, Lat), epsg3xxx )\n",
    "np.save( root_dir + \"gps_epsg_transform\", gps_proj )"
   ]
  },
  {
   "cell_type": "code",
   "execution_count": null,
   "metadata": {},
   "outputs": [],
   "source": [
    "epsg.plotEpsgWithRemarkablePoints(x, y, gps, prefixes, ptsEpsg, epsgStr, conf.day)"
   ]
  },
  {
   "cell_type": "code",
   "execution_count": null,
   "metadata": {},
   "outputs": [],
   "source": [
    "posStatus = np.zeros( gpsPosStatus.shape )\n",
    "posType = np.zeros( gpsPosStatus.shape )\n",
    "for idx, val in enumerate(gpsPosStatus):\n",
    "    posStatus[idx] = val & 0b000011\n",
    "    posType[idx] = np.right_shift( (val & 0b111111000000), 6)"
   ]
  },
  {
   "cell_type": "code",
   "execution_count": null,
   "metadata": {},
   "outputs": [],
   "source": [
    "fig, ax = plt.subplots(1,1)\n",
    "ax.plot(gps.timestamps, posStatus, label='posStatus')\n",
    "ax.plot(gps.timestamps, posType, label='posType')\n",
    "ax.grid()\n",
    "ax.legend()"
   ]
  },
  {
   "cell_type": "markdown",
   "metadata": {},
   "source": [
    "### Plot navigation data jointly with track references"
   ]
  },
  {
   "cell_type": "code",
   "execution_count": null,
   "metadata": {},
   "outputs": [],
   "source": [
    "plt.figure()\n",
    "ax = plt.subplot(111)\n",
    "for idx, slice_ in enumerate(gps.slices):\n",
    "    ax.plot(Long[slice_], Lat[slice_], label=gps.loader.hours[idx])\n",
    "epsg.addRemarkablePoints(ax, prefixes, ptsLongLat)\n",
    "plt.title( f\"GPS data and track references\\n{conf.day} {conf.session} {conf.sbg_hours}\" )\n",
    "plt.grid()\n",
    "plt.legend()"
   ]
  },
  {
   "cell_type": "markdown",
   "metadata": {},
   "source": [
    "## logGpsVel"
   ]
  },
  {
   "cell_type": "code",
   "execution_count": null,
   "metadata": {},
   "outputs": [],
   "source": [
    "vel = sbg.Log(\"sbgLogGpsVel.dat\", logLoader)\n",
    "velNorth, velEast, velDown, course, gpsVelStatus = [vel.data[:, vel.names.index(c)]\n",
    "                                                    for c in ('velocityNorth', 'velocityEast', 'velocityDow', 'course', 'status')]\n",
    "Vel = ( velNorth**2 + velEast**2 + velDown**2) **0.5\n",
    "gpsVelStatus = gpsVelStatus.astype(\"uint32\")"
   ]
  },
  {
   "cell_type": "code",
   "execution_count": null,
   "metadata": {},
   "outputs": [],
   "source": [
    "# STATUS\n",
    "# 0 SBG_ECOM_VEL_SOL_COMPUTED     A valid solution has been computed.\n",
    "# 1 SBG_ECOM_VEL_INSUFFICIENT_OBS Not enough valid SV to compute a solution.\n",
    "# 2 SBG_ECOM_VEL_INTERNAL_ERROR   An internal error has occurred.\n",
    "# 3 SBG_ECOM_VEL_LIMIT            Velocity limit exceeded.\n",
    "# TYPE\n",
    "# 0 SBG_ECOM_VEL_NO_SOLUTION  No valid velocity solution available.\n",
    "# 1 SBG_ECOM_VEL_UNKNOWN_TYPE An unknown solution type has been computed.\n",
    "# 2 SBG_ECOM_VEL_DOPPLER      A Doppler velocity has been computed.\n",
    "# 3 SBG_ECOM_VEL_DIFFERENTIAL A velocity has been computed between two positions.\n",
    "velStatus = np.zeros( gpsVelStatus.shape )\n",
    "velType = np.zeros( gpsVelStatus.shape )\n",
    "for idx, val in enumerate(gpsVelStatus):\n",
    "    velStatus[idx] = val & 0b000011\n",
    "    velType[idx] = np.right_shift( (val & 0b111111000000), 6)"
   ]
  },
  {
   "cell_type": "code",
   "execution_count": null,
   "metadata": {},
   "outputs": [],
   "source": [
    "fig, ax = plt.subplots(1,1)\n",
    "ax.plot(vel.timestamps, velStatus, label='velStatus')\n",
    "ax.plot(vel.timestamps, velType, label='velType')\n",
    "ax.grid()\n",
    "ax.legend()"
   ]
  },
  {
   "cell_type": "markdown",
   "metadata": {},
   "source": [
    "## logUtcData"
   ]
  },
  {
   "cell_type": "code",
   "execution_count": null,
   "metadata": {},
   "outputs": [],
   "source": [
    "utc = sbg.LogUtcData(\"sbgLogUtcData.dat\", logLoader)"
   ]
  },
  {
   "cell_type": "markdown",
   "metadata": {},
   "source": [
    "## sbgLogEventB"
   ]
  },
  {
   "cell_type": "code",
   "execution_count": null,
   "metadata": {},
   "outputs": [],
   "source": [
    "eventB = sbg.LogEventB(\"sbgLogEventB.dat\", logLoader, utc=utc)"
   ]
  },
  {
   "cell_type": "code",
   "execution_count": null,
   "metadata": {},
   "outputs": [],
   "source": [
    "fig, ax = plt.subplots(1, 1)\n",
    "for slice_ in eventB.slices:\n",
    "    ax.plot(range(slice_.start, slice_.stop), eventB.data[slice_ ,0], 'x', label=\"eventB.data\")\n",
    "    ax.plot(range(slice_.start, slice_.stop), eventB.shiftedTimestamps[slice_], '.', label=\"eventB.shiftedTimestamps\")\n",
    "ax.legend()\n",
    "ax.grid()"
   ]
  },
  {
   "cell_type": "markdown",
   "metadata": {},
   "source": [
    "## logEkfEuler"
   ]
  },
  {
   "cell_type": "code",
   "execution_count": null,
   "metadata": {},
   "outputs": [],
   "source": [
    "euler = sbg.Log(\"sbgLogEkfEuler.dat\", logLoader)\n",
    "roll, pitch, yaw = [euler.data[:, euler.names.index(c)] for c in ('roll', 'pitch', 'yaw')]"
   ]
  },
  {
   "cell_type": "markdown",
   "metadata": {},
   "source": [
    "## logEkfNav"
   ]
  },
  {
   "cell_type": "code",
   "execution_count": null,
   "metadata": {},
   "outputs": [],
   "source": [
    "nav = sbg.Log(\"sbgLogEkfNav.dat\", logLoader)\n",
    "navLat, navLong, navAlt, navUndulation, navStatus = [nav.data[:, nav.names.index(c)]\n",
    "                                                     for c in ('Lat', 'Long', 'Alt', 'undulation', 'status')]\n",
    "nav_status = navStatus.astype(\"uint32\")"
   ]
  },
  {
   "cell_type": "code",
   "execution_count": null,
   "metadata": {},
   "outputs": [],
   "source": [
    "solution_mode = np.zeros( nav_status.shape )\n",
    "for idx, val in enumerate(nav_status):\n",
    "    solution_mode[idx] = val & 0b1111"
   ]
  },
  {
   "cell_type": "code",
   "execution_count": null,
   "metadata": {},
   "outputs": [],
   "source": [
    "fig, ax1 = plt.subplots(1,1)\n",
    "\n",
    "color = 'tab:blue'\n",
    "ax1.plot(nav.timestamps, solution_mode,color=color)\n",
    "ax1.set_ylabel('sbg_ecom_solution_mode', color=color)\n",
    "ax1.tick_params(axis='y', labelcolor=color)\n",
    "\n",
    "ax2 = ax1.twinx()  # instantiate a second axes that shares the same x-axis\n",
    "color = 'tab:red'\n",
    "ax2.plot(nav.timestamps, navAlt, color=color)\n",
    "ax2.set_ylabel('nav_Alt', color=color)\n",
    "ax2.tick_params(axis='y', labelcolor=color)\n",
    "ax2.plot(gps.timestamps, Alt, color='tab:green')\n",
    "ax2.grid()"
   ]
  },
  {
   "cell_type": "code",
   "execution_count": null,
   "metadata": {},
   "outputs": [],
   "source": [
    "nav_proj = epsg.wgs84LongLatToEpsg((navLong, navLat), epsg3xxx)\n",
    "np.save(os.path.join(dir_out, \"nav_epsg_transform\"), nav_proj)"
   ]
  },
  {
   "cell_type": "code",
   "execution_count": null,
   "metadata": {},
   "outputs": [],
   "source": [
    "fig, ax = plt.subplots(1, 1)\n",
    "ax.plot( nav_proj[0], nav_proj[1], label = \"nav\" )\n",
    "ax.plot( gps_proj[0], gps_proj[1], label = \"gps\" )\n",
    "epsg.addRemarkablePoints(ax, prefixes, ptsEpsg)\n",
    "ax.legend()\n",
    "ax.grid()\n",
    "ax.set_aspect('equal')\n",
    "title = \"comparison between nav and gps data\"\n",
    "ax.set_title(title)\n",
    "ax.set_xlim(gps_proj[0].min(), gps_proj[0].max())\n",
    "ax.set_ylim(gps_proj[1].min(), gps_proj[1].max())"
   ]
  },
  {
   "cell_type": "code",
   "execution_count": null,
   "metadata": {},
   "outputs": [],
   "source": [
    "plt.figure()\n",
    "plt.plot(nav.timestamps, navAlt, label = \"nav\")\n",
    "plt.plot(gps.timestamps, Alt, '.', label = \"gps\")\n",
    "plt.legend()\n",
    "plt.grid()"
   ]
  },
  {
   "cell_type": "markdown",
   "metadata": {},
   "source": [
    "# PoSAR-MC data"
   ]
  },
  {
   "cell_type": "code",
   "execution_count": null,
   "metadata": {},
   "outputs": [],
   "source": [
    "expectedPeriod = 1000000"
   ]
  },
  {
   "cell_type": "code",
   "execution_count": null,
   "metadata": {},
   "outputs": [],
   "source": [
    "loggingSetFh(logfile, formatter)"
   ]
  },
  {
   "cell_type": "code",
   "execution_count": null,
   "metadata": {},
   "outputs": [],
   "source": [
    "rec_dates = [ f\"{conf.day}_\" + h for h in conf.hours ]\n",
    "rec_dirs = [os.path.join(conf.dir_posar, conf.day, d) for d in rec_dates]\n",
    "records = [posar.Record(rec_dir, \"record\", \"bin\", utc=utc, period=expectedPeriod, version=\"X_v1\") for rec_dir in rec_dirs]"
   ]
  },
  {
   "cell_type": "code",
   "execution_count": null,
   "metadata": {},
   "outputs": [],
   "source": [
    "validFiles = [record.day_hour for idx, record in enumerate(records) if record.idxTime.size == 0]\n",
    "notValidFiles = [record.day_hour for idx, record in enumerate(records) if record.idxTime.size > 0]"
   ]
  },
  {
   "cell_type": "code",
   "execution_count": null,
   "metadata": {},
   "outputs": [],
   "source": [
    "print(f\"*** VALID FILES ***\\n{validFiles}\\n*** NOT VALID FILES ***\\n{notValidFiles})\")"
   ]
  },
  {
   "cell_type": "code",
   "execution_count": null,
   "metadata": {},
   "outputs": [],
   "source": [
    "fig, (ax, ax1) = plt.subplots(2, 1, sharex=True)\n",
    "\n",
    "for index, record in enumerate(records):\n",
    "    ax.plot(record.shiftedLogEvents, record.shiftedLogEvents, '.', label=f\"{record.day_hour}\")\n",
    "ax.vlines(utc.timestamps[utc.loopbacks[1:-1]], 0, 2**32 * (len(utc.loopbacks) - 2 + 0.5))\n",
    "ax.legend()\n",
    "ax.grid()\n",
    "\n",
    "for num, slice_ in enumerate(eventB.slices):\n",
    "    ax1.plot(eventB.shiftedTimestamps[slice_], eventB.shiftedTimestamps[slice_], '.', label=eventB.loader.hours[num])\n",
    "ax1.vlines(utc.timestamps[utc.loopbacks[1:-1]], 0, 2**32 * (len(utc.loopbacks) - 2 + 0.5))\n",
    "ax1.legend()\n",
    "ax1.grid()\n",
    "fig.suptitle(\"loopbacks during the records\")"
   ]
  },
  {
   "cell_type": "markdown",
   "metadata": {},
   "source": [
    "## Selected record"
   ]
  },
  {
   "cell_type": "code",
   "execution_count": null,
   "metadata": {},
   "outputs": [],
   "source": [
    "record = records[2]"
   ]
  },
  {
   "cell_type": "code",
   "execution_count": null,
   "metadata": {},
   "outputs": [],
   "source": [
    "fig, (ax, ax1) = plt.subplots(2,1, sharex=True)\n",
    "\n",
    "ax.plot(record.modificationTimestamps, 's',\n",
    "        markeredgecolor='black',\n",
    "        markerfacecolor='white',\n",
    "        label=f\"modificationTimestamps ({len(record.modificationTimestamps)})\")\n",
    "ax.plot(record.logEvents, 'x',\n",
    "        markeredgecolor='black',\n",
    "        markerfacecolor='white',\n",
    "        label=f\"posarTimestamps ({len(record.logEvents)})\")\n",
    "delta = record.logEvents[0] - record.modificationTimestamps[0]\n",
    "ax.plot(record.logEvents - delta, '.',\n",
    "        markeredgecolor='black',\n",
    "        markerfacecolor='white',\n",
    "        label=f\"posarTimestamps with constant shift ({len(record.logEvents)})\")\n",
    "ax.legend()\n",
    "ax.grid()\n",
    "ax.set_title(record.day_hour)\n",
    "\n",
    "diff = np.diff(record.modificationTimestamps)\n",
    "diff1 = np.diff(record.logEvents)\n",
    "diff2 = np.diff(record.modificationSeconds) * 1e6\n",
    "ax1.plot(diff, 's',\n",
    "         markeredgecolor='black',\n",
    "         markerfacecolor='white',\n",
    "         label=\"diff modificationTimestamps\")\n",
    "ax1.plot(diff1, 'x',\n",
    "         markeredgecolor='black',\n",
    "         markerfacecolor='white',\n",
    "         label=\"diff posarTimestamps\")\n",
    "ax1.plot(diff2, 'o',\n",
    "         markeredgecolor='black',\n",
    "         markerfacecolor='yellow',\n",
    "         label=\"diff modificationSeconds\")\n",
    "ax1.grid()\n",
    "ax1.legend()"
   ]
  },
  {
   "cell_type": "code",
   "execution_count": null,
   "metadata": {},
   "outputs": [],
   "source": [
    "delta = 20e6\n",
    "t0 = record.shiftedLogEvents[0] - delta\n",
    "t1 = record.shiftedLogEvents[-1] + delta\n",
    "idx = np.where((eventB.shiftedTimestamps>t0) & (eventB.shiftedTimestamps<t1))\n",
    "\n",
    "fig, (ax, ax1) = plt.subplots(2, 1, sharex=True)\n",
    "\n",
    "ax.plot(record.shiftedLogEvents/1e6, record.shiftedLogEvents/1e6,\n",
    "        \"o\", markeredgecolor=\"k\", color=\"w\", label=f\"PoSAR LogEventB {record.day_hour}\")\n",
    "ax.plot(eventB.shiftedTimestamps[idx]/1e6, eventB.shiftedTimestamps[idx]/1e6,\n",
    "        '.r', label=\"SBG LogEventB shiftedTimestamps\")\n",
    "ax.legend()\n",
    "ax.grid()\n",
    "\n",
    "ax1.plot(record.shiftedLogEvents[1:]/1e6, np.diff(record.shiftedLogEvents),\n",
    "         \"o\", markeredgecolor=\"k\", color=\"w\", label=f\"[diff] PoSAR LogEventB {record.day_hour}\")\n",
    "ax1.plot(eventB.shiftedTimestamps[idx][1:]/1e6, np.diff(eventB.shiftedTimestamps[idx]), \n",
    "         '.r', label=\"[diff] SBG LogEventB shiftedTimestamps\")\n",
    "ax1.grid()\n",
    "ax1.legend()\n",
    "ax1.set_xlim(t0/1e6, t1/1e6)\n",
    "\n",
    "fig.suptitle(\"loopbacks during the records\")"
   ]
  },
  {
   "cell_type": "markdown",
   "metadata": {},
   "source": [
    "### Read parameters"
   ]
  },
  {
   "cell_type": "code",
   "execution_count": null,
   "metadata": {},
   "outputs": [],
   "source": [
    "samplesPerRamp = record.parameters.samplesPerRamp\n",
    "rampsPerFile = record.parameters.rampsPerFile\n",
    "rampsPerBuffer = record.parameters.rampsPerBuffer\n",
    "samplesPerFile = record.parameters.samplesPerRamp * record.parameters.rampsPerFile\n",
    "buffersPerFile = record.parameters.buffersPerFile\n",
    "T_files = samplesPerFile / 10e6"
   ]
  },
  {
   "cell_type": "markdown",
   "metadata": {},
   "source": [
    "## Data interpolation"
   ]
  },
  {
   "cell_type": "markdown",
   "metadata": {},
   "source": [
    "### logEkfEuler"
   ]
  },
  {
   "cell_type": "code",
   "execution_count": null,
   "metadata": {},
   "outputs": [],
   "source": [
    "roll_selection = np.interp(record.shiftedLogEvents, euler.timestamps, roll)\n",
    "pitch_selection = np.interp(record.shiftedLogEvents, euler.timestamps, pitch)\n",
    "yaw_selection = np.interp(record.shiftedLogEvents, euler.timestamps, yaw)"
   ]
  },
  {
   "cell_type": "markdown",
   "metadata": {},
   "source": [
    "### logGpsPos"
   ]
  },
  {
   "cell_type": "code",
   "execution_count": null,
   "metadata": {},
   "outputs": [],
   "source": [
    "Lat_Long_Alt = ekf.getInterpolatedGps(record.shiftedLogEvents, gps.timestamps, Lat, Long, Alt)\n",
    "selectedEpsg = epsg.wgs84LongLatToEpsg((Lat_Long_Alt[1], Lat_Long_Alt[0]), epsg3xxx)"
   ]
  },
  {
   "cell_type": "markdown",
   "metadata": {},
   "source": [
    "### logGpsVel"
   ]
  },
  {
   "cell_type": "code",
   "execution_count": null,
   "metadata": {},
   "outputs": [],
   "source": [
    "Vel_course = ekf.getInterpolatedVelCourse(record.shiftedLogEvents, vel.timestamps, Vel, course)\n",
    "Vel_records = ekf.getInterpolatedVel(record.shiftedLogEvents, vel.timestamps, velNorth, velEast, velDown) "
   ]
  },
  {
   "cell_type": "markdown",
   "metadata": {},
   "source": [
    "## Plot navigation data and record periods"
   ]
  },
  {
   "cell_type": "code",
   "execution_count": null,
   "metadata": {},
   "outputs": [],
   "source": [
    "fig, ax = plt.subplots(1,1)\n",
    "\n",
    "for index, slice_ in enumerate(gps.slices):\n",
    "    ax.plot( x[slice_], y[slice_], label=gps.loader.hours[index] )\n",
    "    \n",
    "epsg.addRemarkablePoints(ax, prefixes, ptsEpsg)\n",
    "    \n",
    "ax.plot(selectedEpsg[0], selectedEpsg[1], \".r\", markeredgecolor='black', label=record.day_hour)\n",
    "u = np.sin(Vel_course[1] * np.pi / 180)\n",
    "v = np.cos(Vel_course[1] * np.pi / 180)\n",
    "u_yaw = np.sin(yaw_selection)\n",
    "v_yaw = np.cos(yaw_selection)\n",
    "#ax.quiver(selectedEpsg[0], selectedEpsg[1], u, v, units='xy')\n",
    "ax.quiver(selectedEpsg[0], selectedEpsg[1], u_yaw, v_yaw,\n",
    "          units='xy', scale=0.02, color='blue',\n",
    "          width=2, headwidth=3., headlength=4., label='yaw', zorder=10)\n",
    "ax.set_xlabel(\"x\")\n",
    "ax.set_ylabel(\"y\")\n",
    "ax.grid()\n",
    "ax.legend()\n",
    "title = epsgStr + \" \" + conf.day\n",
    "ax.set_title(title)\n",
    "ax.set_aspect('equal')\n",
    "fig.savefig( f\"{record.out_dir}/{title}.png\", bbox_inches='tight')"
   ]
  },
  {
   "cell_type": "code",
   "execution_count": null,
   "metadata": {},
   "outputs": [],
   "source": [
    "fig, ax = plt.subplots(1,1)\n",
    "ax.plot( Lat_Long_Alt[1], Lat_Long_Alt[0], \".r\", markeredgecolor='black', \n",
    "         label=record.day_hour )\n",
    "title = f\"record locations-{record.day_hour}\"\n",
    "ax.set_title(title)\n",
    "ax.set_xlabel(\"Longitude\")\n",
    "ax.set_ylabel(\"Latitude\")\n",
    "ax.legend()\n",
    "ax.grid()\n",
    "fig.savefig( f\"{record.out_dir}/{title}.png\", bbox_inches='tight')"
   ]
  },
  {
   "cell_type": "code",
   "execution_count": null,
   "metadata": {},
   "outputs": [],
   "source": [
    "fig, ax = plt.subplots(1,1)\n",
    "ax.plot( gps.timestamps, Alt )\n",
    "ax.plot( record.shiftedLogEvents, Lat_Long_Alt[2], \"yD\", markeredgecolor = 'black' )\n",
    "ax.grid()\n",
    "title = \"Altitude - \" + record.day_hour + \" - files {} to {}\".format(record.binNums[0], record.binNums[-1])\n",
    "ax.set_title( title )\n",
    "fig.savefig( f\"{record.out_dir}/{title}.png\", bbox_inches='tight')"
   ]
  },
  {
   "cell_type": "code",
   "execution_count": null,
   "metadata": {},
   "outputs": [],
   "source": [
    "files = \"files {} to {}\".format(record.binNums[0], record.binNums[-1])"
   ]
  },
  {
   "cell_type": "code",
   "execution_count": null,
   "metadata": {},
   "outputs": [],
   "source": [
    "plt.figure()\n",
    "\n",
    "title = \"altitude - velocity - course \" + record.day_hour\n",
    "\n",
    "plt.subplot(311)\n",
    "plt.title( title )\n",
    "plt.plot(record.shiftedLogEvents, Lat_Long_Alt[2], 'Dy', markeredgecolor = 'k', label=\"altitude \" + files)\n",
    "plt.legend()\n",
    "plt.grid()\n",
    "\n",
    "plt.subplot(312)\n",
    "plt.plot(record.shiftedLogEvents, Vel_course[0], 'Dy', markeredgecolor = 'k', label=\"velocity \" + files)\n",
    "plt.legend()\n",
    "plt.grid()\n",
    "\n",
    "courseInDeg = Vel_course[1]\n",
    "courseInRad = Vel_course[1] / 180 * np.pi\n",
    "courseUnWrapped = np.unwrap(courseInRad, discont=np.pi) * 180 / np.pi\n",
    "plt.subplot(313)\n",
    "plt.plot(record.shiftedLogEvents, courseInDeg, 'Dy', markeredgecolor = 'k', label=\"course \" + files)\n",
    "plt.legend()\n",
    "plt.grid()\n",
    "\n",
    "plt.savefig(record.out_dir + \"/\" + title + \".png\", bbox_inches='tight')"
   ]
  },
  {
   "cell_type": "code",
   "execution_count": null,
   "metadata": {},
   "outputs": [],
   "source": [
    "plt.figure()\n",
    "\n",
    "title = \"pitch - roll - yaw \" + record.day_hour\n",
    "\n",
    "plt.subplot(311)\n",
    "plt.title( title )\n",
    "plt.plot(record.shiftedLogEvents, pitch_selection * 180 / np.pi, 'Dy', markeredgecolor = 'k', label=\"pitch [°] \" + files)\n",
    "plt.legend()\n",
    "plt.grid()\n",
    "\n",
    "plt.subplot(312)\n",
    "plt.plot(record.shiftedLogEvents, roll_selection * 180 / np.pi, 'Dy', markeredgecolor = 'k',  label=\"roll [°] \" + files)\n",
    "plt.legend()\n",
    "plt.grid()\n",
    "\n",
    "plt.subplot(313)\n",
    "plt.plot(record.shiftedLogEvents, np.unwrap(yaw_selection) * 180 / np.pi, 'Dy', markeredgecolor = 'k',  label=\"yaw [°] \" + files)\n",
    "plt.legend()\n",
    "plt.grid()\n",
    "\n",
    "plt.savefig(record.out_dir + \"/\" + title + \".png\", bbox_inches='tight')"
   ]
  },
  {
   "cell_type": "code",
   "execution_count": null,
   "metadata": {},
   "outputs": [],
   "source": [
    "plt.figure(figsize=(8, 6))\n",
    "\n",
    "title = \"north - east - down \" + record.day_hour\n",
    "\n",
    "plt.subplot(311)\n",
    "plt.title( title )\n",
    "plt.plot(record.shiftedLogEvents, Vel_records[0], 'Dy', markeredgecolor = 'k', label=\"north [m/s] \" + files)\n",
    "plt.legend()\n",
    "plt.grid()\n",
    "\n",
    "plt.subplot(312)\n",
    "plt.plot(record.shiftedLogEvents, Vel_records[1], 'Dy', markeredgecolor = 'k',  label=\"east [m/s] \" + files)\n",
    "plt.legend()\n",
    "plt.grid()\n",
    "\n",
    "plt.subplot(313)\n",
    "plt.plot(record.shiftedLogEvents, Vel_records[2], 'Dy', markeredgecolor = 'k',  label=\"down [m/s] \" + files)\n",
    "plt.legend()\n",
    "plt.grid()\n",
    "\n",
    "plt.savefig(record.out_dir + \"/\" + title + \".png\", bbox_inches='tight')"
   ]
  },
  {
   "cell_type": "markdown",
   "metadata": {},
   "source": [
    "# Track approximation"
   ]
  },
  {
   "cell_type": "markdown",
   "metadata": {},
   "source": [
    "## Orientation vector"
   ]
  },
  {
   "cell_type": "code",
   "execution_count": null,
   "metadata": {},
   "outputs": [],
   "source": [
    "# East-West s0  => s1  14_12_21\n",
    "# West-East s2  => s3  14_14_43\n",
    "# South-North s4 => s5 14_18_28\n",
    "# North-South s6 => s7 14_21_00\n",
    "## xA, yA = s4_epsg\n",
    "## xB, yB = s5_epsg\n",
    "## JA = s4\n",
    "## JB = s5\n",
    "JA, JB = [pts[ref] for ref in conf.hours[record.hour]]\n",
    "xA, yA = ptsEpsg[conf.hours[record.hour][0]]\n",
    "xB, yB = ptsEpsg[conf.hours[record.hour][1]]"
   ]
  },
  {
   "cell_type": "code",
   "execution_count": null,
   "metadata": {},
   "outputs": [],
   "source": [
    "xAB = (xB - xA) / ( (xB - xA)**2 + (yB - yA)**2 )**0.5\n",
    "yAB = (yB - yA) / ( (xB - xA)**2 + (yB - yA)**2 )**0.5"
   ]
  },
  {
   "cell_type": "code",
   "execution_count": null,
   "metadata": {},
   "outputs": [],
   "source": [
    "# unit vectors\n",
    "ux = ( xAB, yAB )\n",
    "uy = ( -yAB, xAB )"
   ]
  },
  {
   "cell_type": "code",
   "execution_count": null,
   "metadata": {},
   "outputs": [],
   "source": [
    "# build sceneReferencePoint\n",
    "JA_epsg = epsg.wgs84LongLatToEpsg( (JA[1], JA[0]), epsg3xxx )\n",
    "JB_epsg = epsg.wgs84LongLatToEpsg( (JB[1], JB[0]), epsg3xxx )\n",
    "JAJB = ( (JA_epsg[0]+JB_epsg[0])/2,\n",
    "        (JA_epsg[1]+JB_epsg[1])/2 )\n",
    "shiftInY = 0\n",
    "sceneReferencePoint = JAJB[0] + shiftInY * uy[0], JAJB[1] + shiftInY * uy[1]"
   ]
  },
  {
   "cell_type": "code",
   "execution_count": null,
   "metadata": {},
   "outputs": [],
   "source": [
    "import json"
   ]
  },
  {
   "cell_type": "code",
   "execution_count": null,
   "metadata": {},
   "outputs": [],
   "source": [
    "track_model = { \"trackModel\" : \"model(x, p) = p[1]*x + p[2]\",\n",
    "               \"ux\" : (ux[0], ux[1]),\n",
    "               \"uy\" : (uy[0], uy[1]),\n",
    "               \"origX\" : sceneReferencePoint[0],\n",
    "               \"origY\" : sceneReferencePoint[1]\n",
    "              }"
   ]
  },
  {
   "cell_type": "code",
   "execution_count": null,
   "metadata": {},
   "outputs": [],
   "source": [
    "trackFilename = record.out_dir + \"/track_model.json\"\n",
    "with open( trackFilename, 'w' ) as f:\n",
    "    json.dump( track_model, f )"
   ]
  },
  {
   "cell_type": "code",
   "execution_count": null,
   "metadata": {},
   "outputs": [],
   "source": [
    "x_selection = np.interp(record.shiftedLogEvents, gps.timestamps, gps_proj[0])\n",
    "y_selection = np.interp(record.shiftedLogEvents, gps.timestamps, gps_proj[1])\n",
    "np.save(record.out_dir + \"/track_selection_proj\", np.stack((x_selection, y_selection), -1))"
   ]
  },
  {
   "cell_type": "code",
   "execution_count": null,
   "metadata": {},
   "outputs": [],
   "source": [
    "plt.figure()\n",
    "\n",
    "plt.plot( gps_proj[0], gps_proj[1], \"gray\" )\n",
    "\n",
    "plt.plot( x_selection, y_selection, 'Dy', markerEdgecolor='k',\n",
    "        label = \"files {} to {} \".format(record.binNums[0], record.binNums[-1]) + record.day_hour)\n",
    "\n",
    "ax = plt.gca()\n",
    "ax.set_aspect(\"equal\")\n",
    "plt.xlabel(\"location of the records in the scene coordinate system\\n\")\n",
    "plt.grid()\n",
    "plt.legend()\n",
    "ax = plt.gca()"
   ]
  },
  {
   "cell_type": "code",
   "execution_count": null,
   "metadata": {},
   "outputs": [],
   "source": [
    "tmpJA = epsg.wgs84LongLatToEpsg( (JA[1], JA[0]), epsg3xxx )\n",
    "tmpJB = epsg.wgs84LongLatToEpsg( (JB[1], JB[0]), epsg3xxx )\n",
    "                      \n",
    "plt.figure()\n",
    "plt.plot(gps_proj[0], gps_proj[1])\n",
    "plt.plot(tmpJA[0], tmpJA[1], 'o', markeredgecolor='k', label=\"JA\")\n",
    "plt.plot(tmpJB[0], tmpJB[1], 'o', markeredgecolor='k', label=\"JB\")\n",
    "plt.plot(JAJB[0], JAJB[1], 'o', markeredgecolor='k', label=\"reference track center\")\n",
    "plt.plot(sceneReferencePoint[0], sceneReferencePoint[1], 'o', markeredgecolor='k', label=\"scene reference point\")\n",
    "plt.gca().set_aspect(\"equal\")\n",
    "plt.grid()\n",
    "plt.legend()\n",
    "title = \"transformation from WGS84 to \" + epsgStr + \"\\n\" + record.day_hour\n",
    "plt.title(title)\n",
    "ax = plt.gca()"
   ]
  },
  {
   "cell_type": "markdown",
   "metadata": {},
   "source": [
    "# Interpolate navigation data for all ramps"
   ]
  },
  {
   "cell_type": "code",
   "execution_count": null,
   "metadata": {},
   "outputs": [],
   "source": [
    "# rampNumber timeStamp x y z\n",
    "nbRecordToAdd = 10\n",
    "\n",
    "rampNumber = np.arange( rampsPerFile * ( nbRecords[selectedRecord] + nbRecordToAdd ) )\n",
    "\n",
    "rampNumber_ext = np.arange(nbRecords[selectedRecord] + nbRecordToAdd) * rampsPerFile\n",
    "\n",
    "lastDelta = selectedTimeStamp[-1] - selectedTimeStamp[-2]\n",
    "# there is a difference between the number of valid timestamps and the number of records\n",
    "diffValidTimestampsNbRecords = selectedTimeStamp.size - nbRecords[selectedRecord]\n",
    "addedTimestamps = np.arange( 1, nbRecordToAdd - diffValidTimestampsNbRecords + 1 ) * lastDelta\n",
    "print(\"lastDelta = {}\".format(lastDelta) )\n",
    "timeStamp_ext_a = np.concatenate( (selectedTimeStamp, \n",
    "                                 selectedTimeStamp[-1] + addedTimestamps ) )"
   ]
  },
  {
   "cell_type": "code",
   "execution_count": null,
   "metadata": {},
   "outputs": [],
   "source": [
    "timestampsAllRamps = np.interp( rampNumber, rampNumber_ext, timeStamp_ext_a)"
   ]
  },
  {
   "cell_type": "markdown",
   "metadata": {},
   "source": [
    "## logGpsPos (a)\n",
    "Two options: numpy.interp vs scipy.interpolate.interp1d (with kind='linear')"
   ]
  },
  {
   "cell_type": "markdown",
   "metadata": {},
   "source": [
    "### xyz"
   ]
  },
  {
   "cell_type": "code",
   "execution_count": null,
   "metadata": {},
   "outputs": [],
   "source": [
    "gps_x = np.interp( timestampsAllRamps, gpsNewTimestamps, gps_proj[0] )\n",
    "gps_y = np.interp( timestampsAllRamps, gpsNewTimestamps, gps_proj[1] )\n",
    "gps_z = np.interp( timestampsAllRamps, gpsNewTimestamps, Alt )\n",
    "xyz_proj_allRamps = np.stack( (rampNumber, timestampsAllRamps, \n",
    "                               gps_x, gps_y, gps_z), -1 )"
   ]
  },
  {
   "cell_type": "code",
   "execution_count": null,
   "metadata": {},
   "outputs": [],
   "source": [
    "np.save( data_dir[selectedRecord] + \"/rampNumber_timeStamp_xyz_gps_a\", xyz_proj_allRamps )"
   ]
  },
  {
   "cell_type": "code",
   "execution_count": null,
   "metadata": {},
   "outputs": [],
   "source": [
    "plt.figure()\n",
    "plt.plot( gps_x, gps_y, '.b', label = 'ramps' )\n",
    "plt.plot( x_selection, y_selection, \n",
    "         'D', markerfacecolor='None', markeredgecolor='red',\n",
    "         label = \"files {} to {}\".format( firstRecord, nbRecords[selectedRecord] ) )\n",
    "plt.legend()\n",
    "plt.title(\"xy\")\n",
    "plt.grid()"
   ]
  },
  {
   "cell_type": "markdown",
   "metadata": {},
   "source": [
    "### lla latitude longitude altitude"
   ]
  },
  {
   "cell_type": "code",
   "execution_count": null,
   "metadata": {},
   "outputs": [],
   "source": [
    "allRamps_lat = np.interp( timestampsAllRamps, gpsNewTimestamps, Lat )\n",
    "allRamps_long = np.interp( timestampsAllRamps, gpsNewTimestamps, Long )\n",
    "allRamps_alt = np.interp( timestampsAllRamps, gpsNewTimestamps, Alt )\n",
    "latLongAlt_allRamps = np.stack( (rampNumber, timestampsAllRamps,\n",
    "                                 allRamps_lat, allRamps_long, allRamps_alt), -1 )"
   ]
  },
  {
   "cell_type": "code",
   "execution_count": null,
   "metadata": {},
   "outputs": [],
   "source": [
    "np.save( data_dir[selectedRecord] + \"/rampNumber_timeStamp_latLongAlt_gps_a\", latLongAlt_allRamps )"
   ]
  },
  {
   "cell_type": "markdown",
   "metadata": {},
   "source": [
    "## logEkfNav (a)"
   ]
  },
  {
   "cell_type": "code",
   "execution_count": null,
   "metadata": {},
   "outputs": [],
   "source": [
    "nav_x = np.interp( timestampsAllRamps, navNewTimestamps, nav_proj[0] )\n",
    "nav_y = np.interp( timestampsAllRamps, navNewTimestamps, nav_proj[1] )\n",
    "nav_z = np.interp( timestampsAllRamps, navNewTimestamps, nav_Alt )\n",
    "nav_u = np.interp( timestampsAllRamps, navNewTimestamps, nav_Undulation )\n",
    "nav_xyz_allRamps = np.stack( (rampNumber, timestampsAllRamps, \n",
    "                              nav_x, nav_y, nav_z), -1 )"
   ]
  },
  {
   "cell_type": "code",
   "execution_count": null,
   "metadata": {},
   "outputs": [],
   "source": [
    "np.save( data_dir[selectedRecord] + \"/rampNumber_timeStamp_xyz_nav_a\", nav_xyz_allRamps )"
   ]
  },
  {
   "cell_type": "code",
   "execution_count": null,
   "metadata": {},
   "outputs": [],
   "source": [
    "nav_allRamps_lat = np.interp( timestampsAllRamps, navNewTimestamps, nav_Lat )\n",
    "nav_allRamps_long = np.interp( timestampsAllRamps, navNewTimestamps, nav_Long )\n",
    "nav_allRamps_alt = np.interp( timestampsAllRamps, navNewTimestamps, nav_Alt )\n",
    "nav_latLongAlt_allRamps = np.stack( (rampNumber, timestampsAllRamps, \n",
    "                              nav_allRamps_lat, nav_allRamps_long, nav_allRamps_alt), -1 )"
   ]
  },
  {
   "cell_type": "code",
   "execution_count": null,
   "metadata": {},
   "outputs": [],
   "source": [
    "np.save( data_dir[selectedRecord] + \"/rampNumber_timeStamp_latLongAlt_nav_a\", nav_latLongAlt_allRamps )"
   ]
  },
  {
   "cell_type": "markdown",
   "metadata": {},
   "source": [
    "## Compare gps and nav"
   ]
  },
  {
   "cell_type": "code",
   "execution_count": null,
   "metadata": {},
   "outputs": [],
   "source": [
    "plt.figure()\n",
    "plt.plot( gps_x, gps_y, label=\"gps\" )\n",
    "plt.plot( nav_x, nav_y, label=\"nav\" )\n",
    "plt.legend()\n",
    "plt.grid()\n",
    "plt.title(\"x-y\")"
   ]
  },
  {
   "cell_type": "code",
   "execution_count": null,
   "metadata": {},
   "outputs": [],
   "source": [
    "plt.figure()\n",
    "plt.plot( gps_z, label=\"gps\"  )\n",
    "plt.plot( nav_z, label=\"nav\" )\n",
    "plt.legend()\n",
    "plt.grid()\n",
    "plt.title(\"z\")"
   ]
  },
  {
   "cell_type": "markdown",
   "metadata": {},
   "source": [
    "## logGpsPos (b)"
   ]
  },
  {
   "cell_type": "code",
   "execution_count": null,
   "metadata": {},
   "outputs": [],
   "source": [
    "# rampNumber timeStamp x y z\n",
    "\n",
    "timeStamp_ext_b = timeStamp_ext_a + params.rampPeriod / 2\n",
    "\n",
    "timeStamp = np.interp( rampNumber, rampNumber_ext, timeStamp_ext_b)\n",
    "x = np.interp( timeStamp, gpsNewTimestamps, gps_proj[0] )\n",
    "y = np.interp( timeStamp, gpsNewTimestamps, gps_proj[1] )\n",
    "z = np.interp( timeStamp, gpsNewTimestamps, Alt )\n",
    "xyz_proj_allRamps = np.stack( (rampNumber, timeStamp, x, y, z), -1 )"
   ]
  },
  {
   "cell_type": "code",
   "execution_count": null,
   "metadata": {},
   "outputs": [],
   "source": [
    "np.save( data_dir[selectedRecord] + \"/rampNumber_timeStamp_xyz_b\", xyz_proj_allRamps )"
   ]
  },
  {
   "cell_type": "markdown",
   "metadata": {},
   "source": [
    "# Test"
   ]
  },
  {
   "cell_type": "code",
   "execution_count": null,
   "metadata": {},
   "outputs": [],
   "source": [
    "import pyproj"
   ]
  },
  {
   "cell_type": "code",
   "execution_count": null,
   "metadata": {},
   "outputs": [],
   "source": [
    "a = pyproj.Proj(\"+init=EPSG:4326\")\n",
    "b = pyproj.Proj(\"EPSG:4326\")"
   ]
  },
  {
   "cell_type": "code",
   "execution_count": null,
   "metadata": {},
   "outputs": [],
   "source": [
    "a.definition_string"
   ]
  },
  {
   "cell_type": "code",
   "execution_count": null,
   "metadata": {},
   "outputs": [],
   "source": [
    "b.definition_string"
   ]
  },
  {
   "cell_type": "code",
   "execution_count": null,
   "metadata": {},
   "outputs": [],
   "source": [
    "pyproj.CRS(\"ESRI:54009\")"
   ]
  },
  {
   "cell_type": "code",
   "execution_count": null,
   "metadata": {},
   "outputs": [],
   "source": [
    "CRS(\"+init=ESRI:54009\")"
   ]
  },
  {
   "cell_type": "code",
   "execution_count": null,
   "metadata": {},
   "outputs": [],
   "source": []
  }
 ],
 "metadata": {
  "kernelspec": {
   "display_name": "Python 3",
   "language": "python",
   "name": "python3"
  },
  "language_info": {
   "codemirror_mode": {
    "name": "ipython",
    "version": 3
   },
   "file_extension": ".py",
   "mimetype": "text/x-python",
   "name": "python",
   "nbconvert_exporter": "python",
   "pygments_lexer": "ipython3",
   "version": "3.8.5"
  },
  "toc": {
   "base_numbering": 1,
   "nav_menu": {},
   "number_sections": true,
   "sideBar": true,
   "skip_h1_title": false,
   "title_cell": "Table of Contents",
   "title_sidebar": "Contents",
   "toc_cell": false,
   "toc_position": {
    "height": "calc(100% - 180px)",
    "left": "10px",
    "top": "150px",
    "width": "325px"
   },
   "toc_section_display": true,
   "toc_window_display": true
  },
  "toc-autonumbering": true,
  "toc-showcode": false,
  "toc-showmarkdowntxt": false,
  "toc-showtags": false,
  "varInspector": {
   "cols": {
    "lenName": 16,
    "lenType": 16,
    "lenVar": 40
   },
   "kernels_config": {
    "python": {
     "delete_cmd_postfix": "",
     "delete_cmd_prefix": "del ",
     "library": "var_list.py",
     "varRefreshCmd": "print(var_dic_list())"
    },
    "r": {
     "delete_cmd_postfix": ") ",
     "delete_cmd_prefix": "rm(",
     "library": "var_list.r",
     "varRefreshCmd": "cat(var_dic_list()) "
    }
   },
   "types_to_exclude": [
    "module",
    "function",
    "builtin_function_or_method",
    "instance",
    "_Feature"
   ],
   "window_display": false
  }
 },
 "nbformat": 4,
 "nbformat_minor": 4
}
