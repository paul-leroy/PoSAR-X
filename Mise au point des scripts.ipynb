{
 "cells": [
  {
   "cell_type": "code",
   "execution_count": 89,
   "metadata": {},
   "outputs": [],
   "source": [
    "import io\n",
    "import os\n",
    "import re\n",
    "import numpy as np\n",
    "import matplotlib.pyplot as plt\n",
    "import sys"
   ]
  },
  {
   "cell_type": "code",
   "execution_count": 117,
   "metadata": {},
   "outputs": [],
   "source": [
    "sys.path.insert(0, \"/home/pleroy/DEV/processing/PoSAR-MC\")\n",
    "import posarmctools.epsgtools as epsg\n",
    "import posarmctools.ekfnavtools as ekf"
   ]
  },
  {
   "cell_type": "code",
   "execution_count": 91,
   "metadata": {},
   "outputs": [],
   "source": [
    "from posarmctools.readdata import check_ini, getInfoRecords, checkTimestamps"
   ]
  },
  {
   "cell_type": "code",
   "execution_count": 92,
   "metadata": {},
   "outputs": [
    {
     "name": "stdout",
     "output_type": "stream",
     "text": [
      "The autoreload extension is already loaded. To reload it, use:\n",
      "  %reload_ext autoreload\n"
     ]
    }
   ],
   "source": [
    "%load_ext autoreload\n",
    "%autoreload 2"
   ]
  },
  {
   "cell_type": "markdown",
   "metadata": {},
   "source": [
    "# Check ini file"
   ]
  },
  {
   "cell_type": "code",
   "execution_count": null,
   "metadata": {},
   "outputs": [],
   "source": [
    "filename = \"/home/pleroy/DATA/PoSAR-X/PIMA-1/flight1.ini\"\n",
    "dir_sbg, session, sbg_hours, dir_posar, day, hours = check_ini(filename)"
   ]
  },
  {
   "cell_type": "markdown",
   "metadata": {},
   "source": [
    "# Check recorded file"
   ]
  },
  {
   "cell_type": "code",
   "execution_count": null,
   "metadata": {},
   "outputs": [],
   "source": [
    "selectedRecord = 0"
   ]
  },
  {
   "cell_type": "code",
   "execution_count": null,
   "metadata": {},
   "outputs": [],
   "source": [
    "data_dir = os.path.join(dir_posar, day, f\"{day}_{hours[selectedRecord]}\")\n",
    "num, idx = getInfoRecords(data_dir, \"record\", \"bin\")"
   ]
  },
  {
   "cell_type": "markdown",
   "metadata": {},
   "source": [
    "# Check timestamps"
   ]
  },
  {
   "cell_type": "code",
   "execution_count": null,
   "metadata": {},
   "outputs": [],
   "source": [
    "day_hour = day + \"_\" + hours[0]\n",
    "timestamps_filename = os.path.join(dir_posar, day, day_hour, f\"{day_hour}_timeStamps.data\")\n",
    "bufferNumber, timestamp = checkTimestamps(timestamps_filename, day_hour)"
   ]
  },
  {
   "cell_type": "code",
   "execution_count": null,
   "metadata": {},
   "outputs": [],
   "source": [
    "tuple('ABCD')"
   ]
  },
  {
   "cell_type": "code",
   "execution_count": null,
   "metadata": {},
   "outputs": [],
   "source": [
    "list(range(10))"
   ]
  },
  {
   "cell_type": "code",
   "execution_count": null,
   "metadata": {},
   "outputs": [],
   "source": [
    "iterable = 'ABCD'\n",
    "r = 2\n",
    "def myIter(iterable, r):\n",
    "    pool = tuple(iterable)\n",
    "    n = len(pool)\n",
    "    if r > n:\n",
    "        return\n",
    "    indices = list(range(r))\n",
    "    yield tuple(pool[i] for i in indices)\n",
    "    print(\"!!!\")\n",
    "    while True:\n",
    "        for i in reversed(range(r)):\n",
    "            if indices[i] != i + n - r:\n",
    "                break\n",
    "        else:\n",
    "            return\n",
    "        indices[i] += 1\n",
    "        for j in range(i+1, r):\n",
    "            indices[j] = indices[j-1] + 1\n",
    "        yield tuple(pool[i] for i in indices)"
   ]
  },
  {
   "cell_type": "code",
   "execution_count": null,
   "metadata": {},
   "outputs": [],
   "source": [
    "for it in myIter(iterable, r):\n",
    "    print(it)"
   ]
  },
  {
   "cell_type": "code",
   "execution_count": null,
   "metadata": {},
   "outputs": [],
   "source": [
    "class myDict(dict):\n",
    "    def __getattr__(self,key):\n",
    "        return self.get(key)\n",
    " \n",
    "    def __setattr__(self,key,value):\n",
    "        self[key] = value"
   ]
  },
  {
   "cell_type": "code",
   "execution_count": null,
   "metadata": {},
   "outputs": [],
   "source": [
    "t = myDict()"
   ]
  },
  {
   "cell_type": "code",
   "execution_count": null,
   "metadata": {},
   "outputs": [],
   "source": [
    "t.a0 = 4"
   ]
  },
  {
   "cell_type": "code",
   "execution_count": null,
   "metadata": {},
   "outputs": [],
   "source": [
    "t['a0']"
   ]
  },
  {
   "cell_type": "markdown",
   "metadata": {},
   "source": [
    "# Scene reference point"
   ]
  },
  {
   "cell_type": "code",
   "execution_count": 3,
   "metadata": {},
   "outputs": [],
   "source": [
    "sys.path.insert(0, \"/home/pleroy/DATA/PoSAR-X/PIMA-1\")"
   ]
  },
  {
   "cell_type": "code",
   "execution_count": 8,
   "metadata": {},
   "outputs": [
    {
     "ename": "SyntaxError",
     "evalue": "invalid syntax (<ipython-input-8-6f8112f30e86>, line 1)",
     "output_type": "error",
     "traceback": [
      "\u001b[0;36m  File \u001b[0;32m\"<ipython-input-8-6f8112f30e86>\"\u001b[0;36m, line \u001b[0;32m1\u001b[0m\n\u001b[0;31m    import \"sceneReferencePoints.py\"\u001b[0m\n\u001b[0m                                   ^\u001b[0m\n\u001b[0;31mSyntaxError\u001b[0m\u001b[0;31m:\u001b[0m invalid syntax\n"
     ]
    }
   ],
   "source": [
    "import sceneReferencePoints"
   ]
  },
  {
   "cell_type": "code",
   "execution_count": 5,
   "metadata": {},
   "outputs": [],
   "source": [
    "myVars = [var for var in dir(sceneReferencePoints) if var[:2] != '__' and var[-2:] != '__']\n",
    "refs = {}\n",
    "for var in myVars:\n",
    "    refs[var] = sceneReferencePoints.__dict__[var]"
   ]
  },
  {
   "cell_type": "code",
   "execution_count": 6,
   "metadata": {},
   "outputs": [
    {
     "data": {
      "text/plain": [
       "{'corner': [48.0577, -2.00845],\n",
       " 'h0': [48.05681666666667, -2.0078],\n",
       " 'h1': [48.05681666666667, -2.008016666666667],\n",
       " 'h2': [48.05668333333333, -2.0079833333333332],\n",
       " 'h3': [48.05668333333333, -2.0077833333333333],\n",
       " 'p0': [48.05755, -2.010483333333333],\n",
       " 'p1': [48.05733333333333, -2.0104],\n",
       " 'p2': [48.0584, -2.0059666666666667],\n",
       " 'p3': [48.05818333333333, -2.0058833333333332],\n",
       " 's0': [48.06081666666667, -1.9950166666666667],\n",
       " 's1': [48.060833333333335, -2.0218833333333333],\n",
       " 's2': [48.054566666666666, -2.0225666666666666],\n",
       " 's3': [48.05458333333333, -1.9954166666666668],\n",
       " 's4': [48.066716666666665, -2.0132166666666667],\n",
       " 's5': [48.049, -2.0132166666666667],\n",
       " 's6': [48.0486, -2.0038],\n",
       " 's7': [48.066916666666664, -2.0037666666666665],\n",
       " 'x0': [48.06101666666667, -1.98155],\n",
       " 'x1': [48.06078333333333, -2.03535],\n",
       " 'x2': [48.05455, -2.0356833333333335],\n",
       " 'x3': [48.054633333333335, -1.9822166666666665],\n",
       " 'x4': [48.0762, -2.0133],\n",
       " 'x5': [48.040166666666664, -2.01325],\n",
       " 'x6': [48.0399, -2.0037666666666665],\n",
       " 'x7': [48.075966666666666, -2.003816666666667]}"
      ]
     },
     "execution_count": 6,
     "metadata": {},
     "output_type": "execute_result"
    }
   ],
   "source": [
    "refs"
   ]
  },
  {
   "cell_type": "code",
   "execution_count": 7,
   "metadata": {},
   "outputs": [
    {
     "ename": "NameError",
     "evalue": "name 't' is not defined",
     "output_type": "error",
     "traceback": [
      "\u001b[0;31m---------------------------------------------------------------------------\u001b[0m",
      "\u001b[0;31mNameError\u001b[0m                                 Traceback (most recent call last)",
      "\u001b[0;32m<ipython-input-7-ea1fa4dc3bb2>\u001b[0m in \u001b[0;36m<module>\u001b[0;34m\u001b[0m\n\u001b[0;32m----> 1\u001b[0;31m \u001b[0mt\u001b[0m\u001b[0;34m[\u001b[0m\u001b[0mvar\u001b[0m\u001b[0;34m[\u001b[0m\u001b[0;36m0\u001b[0m\u001b[0;34m]\u001b[0m\u001b[0;34m]\u001b[0m\u001b[0;34m\u001b[0m\u001b[0;34m\u001b[0m\u001b[0m\n\u001b[0m",
      "\u001b[0;31mNameError\u001b[0m: name 't' is not defined"
     ]
    }
   ],
   "source": [
    "t[var[0]]"
   ]
  },
  {
   "cell_type": "code",
   "execution_count": 9,
   "metadata": {},
   "outputs": [],
   "source": [
    "import importlib"
   ]
  },
  {
   "cell_type": "code",
   "execution_count": 12,
   "metadata": {},
   "outputs": [],
   "source": [
    "sys.path.insert(0, \"/home/pleroy/DATA/PoSAR-X/PIMA-1\")"
   ]
  },
  {
   "cell_type": "code",
   "execution_count": 19,
   "metadata": {},
   "outputs": [
    {
     "name": "stdout",
     "output_type": "stream",
     "text": [
      "25 reference points converted from Long-Lat to EPSG\n"
     ]
    }
   ],
   "source": [
    "# import scene reference points\n",
    "refsFile = \"sceneReferencePoints\"\n",
    "sceneReferencePoints = importlib.import_module(refsFile)\n",
    "refs = epsg.getReferencePoints(sceneReferencePoints)\n",
    "refsEpsg = {}\n",
    "for key in refs:\n",
    "    refsEpsg[key + \"_epsg\"] = epsg.wgs84LongLatToEpsg( refs[key][::-1], epsg.epsg3857 )\n",
    "print(f\"{len(refsEpsg)} reference points converted from Long-Lat to EPSG\")\n"
   ]
  },
  {
   "cell_type": "code",
   "execution_count": 21,
   "metadata": {},
   "outputs": [
    {
     "data": {
      "text/plain": [
       "'sceneReferencePoints'"
      ]
     },
     "execution_count": 21,
     "metadata": {},
     "output_type": "execute_result"
    }
   ],
   "source": [
    "refsFile.split('.py')[0]"
   ]
  },
  {
   "cell_type": "markdown",
   "metadata": {},
   "source": [
    "## Look for prefixes in the reference points"
   ]
  },
  {
   "cell_type": "code",
   "execution_count": 43,
   "metadata": {},
   "outputs": [],
   "source": [
    "import re"
   ]
  },
  {
   "cell_type": "code",
   "execution_count": 82,
   "metadata": {},
   "outputs": [],
   "source": [
    "def getPrefixes(varDict):\n",
    "    prefixList = [var.rstrip('0123456789') for var in varDict]\n",
    "    prefixDict = dict.fromkeys(prefixList, 0)\n",
    "    for var in varDict:\n",
    "        prefix = var.rstrip('0123456789')\n",
    "        p = re.compile(f\"^{prefix}\\d*$\")\n",
    "        if p.match(var):\n",
    "            prefixDict[prefix] += 1\n",
    "    return prefixDict"
   ]
  },
  {
   "cell_type": "code",
   "execution_count": 83,
   "metadata": {},
   "outputs": [],
   "source": [
    "prefixDict = getPrefixes(refs)"
   ]
  },
  {
   "cell_type": "code",
   "execution_count": 84,
   "metadata": {},
   "outputs": [
    {
     "data": {
      "text/plain": [
       "{'corner': 1, 'h': 4, 'p': 4, 's': 8, 'x': 8}"
      ]
     },
     "execution_count": 84,
     "metadata": {},
     "output_type": "execute_result"
    }
   ],
   "source": [
    "prefixDict"
   ]
  },
  {
   "cell_type": "code",
   "execution_count": 79,
   "metadata": {},
   "outputs": [],
   "source": []
  },
  {
   "cell_type": "code",
   "execution_count": 80,
   "metadata": {},
   "outputs": [
    {
     "name": "stdout",
     "output_type": "stream",
     "text": [
      "prefix corner\n",
      "corner\n"
     ]
    }
   ],
   "source": [
    "print(f\"prefix {prefix}\")\n",
    "for ref in refs:\n",
    "    if p.match(ref):\n",
    "        print(ref)\n",
    "        prefixDict[ref] += 1"
   ]
  },
  {
   "cell_type": "code",
   "execution_count": 81,
   "metadata": {},
   "outputs": [
    {
     "data": {
      "text/plain": [
       "{'corner': 1, 'h': 0, 'p': 0, 's': 0, 'x': 0}"
      ]
     },
     "execution_count": 81,
     "metadata": {},
     "output_type": "execute_result"
    }
   ],
   "source": [
    "prefixDict"
   ]
  },
  {
   "cell_type": "code",
   "execution_count": 112,
   "metadata": {},
   "outputs": [
    {
     "name": "stdout",
     "output_type": "stream",
     "text": [
      "25 reference points converted from Long-Lat to EPSG\n",
      "{'corner': 1, 'h': 4, 'p': 4, 's': 8, 'x': 8}\n"
     ]
    }
   ],
   "source": [
    "sceneReferencePoints = importlib.import_module(\"sceneReferencePoints\")\n",
    "pts = epsg.getReferencePoints(sceneReferencePoints)\n",
    "prefixes = epsg.getReferencePointPrefixes(pts)\n",
    "ptsEpsg = {pt: epsg.wgs84LongLatToEpsg(pts[pt][::-1], epsg.epsg3857)\n",
    "           for pt in pts}\n",
    "print(f\"{len(ptsEpsg)} reference points converted from Long-Lat to EPSG\")\n",
    "print(prefixes)"
   ]
  },
  {
   "cell_type": "code",
   "execution_count": 116,
   "metadata": {},
   "outputs": [
    {
     "name": "stdout",
     "output_type": "stream",
     "text": [
      "corner\n",
      "[(-223579.63128375093, 6116459.432696062)]\n",
      "h\n",
      "[(-223507.27361473528, 6116312.3141455), (-223531.39283774048, 6116312.3141455), (-223527.68218804782, 6116290.107791078), (-223505.41828988894, 6116290.107791078)]\n",
      "p\n",
      "[(-223805.98091502956, 6116434.450122764), (-223796.70429079788, 6116398.364312055), (-223303.18788161268, 6116576.019000518), (-223293.911257381, 6116539.932594035)]\n",
      "s\n",
      "[(-222084.23945742747, 6116978.531520866), (-225075.0231100744, 6116981.307534891), (-225151.0914287827, 6115937.589617146), (-222128.7672537452, 6115940.365294195), (-224110.2541898657, 6117961.29664525), (-224110.2541898657, 6115010.563740962), (-223061.99565156052, 6114943.954962043), (-223058.28500186783, 6117994.612691343)]\n",
      "x\n",
      "[(-220585.1369814113, 6117011.843748446), (-226574.12558609052, 6116972.979495519), (-226611.23208302012, 6115934.813940995), (-220659.3499752733, 6115948.692330736), (-224119.53081409738, 6119541.174989634), (-224113.96483955838, 6113539.740288336), (-223058.28500186783, 6113495.34199282), (-223063.85097640683, 6119502.299269289)]\n"
     ]
    }
   ],
   "source": [
    "for prefix in prefixes:\n",
    "    print(f\"{prefix}\")\n",
    "    print( [ptsEpsg[pt] for pt in pts if pt.rstrip('0123456789') == prefix] )"
   ]
  },
  {
   "cell_type": "code",
   "execution_count": 115,
   "metadata": {},
   "outputs": [
    {
     "data": {
      "text/plain": [
       "['corner',\n",
       " 'h0',\n",
       " 'h1',\n",
       " 'h2',\n",
       " 'h3',\n",
       " 'p0',\n",
       " 'p1',\n",
       " 'p2',\n",
       " 'p3',\n",
       " 's0',\n",
       " 's1',\n",
       " 's2',\n",
       " 's3',\n",
       " 's4',\n",
       " 's5',\n",
       " 's6',\n",
       " 's7',\n",
       " 'x0',\n",
       " 'x1',\n",
       " 'x2',\n",
       " 'x3',\n",
       " 'x4',\n",
       " 'x5',\n",
       " 'x6',\n",
       " 'x7']"
      ]
     },
     "execution_count": 115,
     "metadata": {},
     "output_type": "execute_result"
    }
   ],
   "source": [
    "[pt for pt in pts]"
   ]
  },
  {
   "cell_type": "markdown",
   "metadata": {},
   "source": [
    "# Logging"
   ]
  },
  {
   "cell_type": "code",
   "execution_count": 100,
   "metadata": {},
   "outputs": [],
   "source": [
    "import logging"
   ]
  },
  {
   "cell_type": "code",
   "execution_count": 101,
   "metadata": {},
   "outputs": [
    {
     "ename": "NameError",
     "evalue": "name 'loglevel' is not defined",
     "output_type": "error",
     "traceback": [
      "\u001b[0;31m---------------------------------------------------------------------------\u001b[0m",
      "\u001b[0;31mNameError\u001b[0m                                 Traceback (most recent call last)",
      "\u001b[0;32m<ipython-input-101-127fa94b2444>\u001b[0m in \u001b[0;36m<module>\u001b[0;34m\u001b[0m\n\u001b[0;32m----> 1\u001b[0;31m \u001b[0mgetattr\u001b[0m\u001b[0;34m(\u001b[0m\u001b[0mlogging\u001b[0m\u001b[0;34m,\u001b[0m \u001b[0mloglevel\u001b[0m\u001b[0;34m)\u001b[0m\u001b[0;34m\u001b[0m\u001b[0;34m\u001b[0m\u001b[0m\n\u001b[0m",
      "\u001b[0;31mNameError\u001b[0m: name 'loglevel' is not defined"
     ]
    }
   ],
   "source": [
    "getattr(logging, loglevel)"
   ]
  },
  {
   "cell_type": "code",
   "execution_count": 102,
   "metadata": {},
   "outputs": [
    {
     "data": {
      "text/plain": [
       "<_StderrHandler stderr (WARNING)>"
      ]
     },
     "execution_count": 102,
     "metadata": {},
     "output_type": "execute_result"
    }
   ],
   "source": [
    "logging.lastResort"
   ]
  },
  {
   "cell_type": "code",
   "execution_count": 103,
   "metadata": {},
   "outputs": [
    {
     "data": {
      "text/plain": [
       "'__main__'"
      ]
     },
     "execution_count": 103,
     "metadata": {},
     "output_type": "execute_result"
    }
   ],
   "source": [
    "__name__"
   ]
  },
  {
   "cell_type": "markdown",
   "metadata": {},
   "source": [
    "# Load GPS Log"
   ]
  },
  {
   "cell_type": "code",
   "execution_count": 119,
   "metadata": {},
   "outputs": [],
   "source": [
    "iniFile = \"/home/pleroy/DATA/PoSAR-X/PIMA-1/flight1.ini\"\n",
    "refs, (dir_sbg, session, sbg_hours), (dir_posar, day, hours) = check_ini(iniFile)\n",
    "prefix = f\"{dir_sbg}/{session}/{day}/\"\n",
    "nbHours = len(sbg_hours)\n",
    "logEkfEuler = [f\"{prefix}{h}/sbgLogEkfEuler.dat\" for h in sbg_hours ]\n",
    "logEkfNav   = [f\"{prefix}{h}/sbgLogEkfNav.dat\"   for h in sbg_hours ]\n",
    "logUtcData  = [f\"{prefix}{h}/sbgLogUtcData.dat\"  for h in sbg_hours ]\n",
    "logGpsPos   = [f\"{prefix}{h}/sbgLogGpsPos.csv\"   for h in sbg_hours ]\n",
    "logGpsVel   = [f\"{prefix}{h}/sbgLogGpsVel.dat\"   for h in sbg_hours ]\n",
    "logEventB   = [f\"{prefix}{h}/sbgLogEventB.dat\"   for h in sbg_hours ]"
   ]
  },
  {
   "cell_type": "code",
   "execution_count": 120,
   "metadata": {},
   "outputs": [],
   "source": [
    "gps = ekf.loadLogGpsPos(logGpsPos, nbHours)"
   ]
  },
  {
   "cell_type": "code",
   "execution_count": 130,
   "metadata": {},
   "outputs": [
    {
     "data": {
      "text/plain": [
       "((2240, 6), (10735, 6))"
      ]
     },
     "execution_count": 130,
     "metadata": {},
     "output_type": "execute_result"
    }
   ],
   "source": [
    "gps[0].shape, gps[1].shape"
   ]
  },
  {
   "cell_type": "code",
   "execution_count": 145,
   "metadata": {},
   "outputs": [],
   "source": [
    "gps_all = np.vstack(gps)"
   ]
  },
  {
   "cell_type": "code",
   "execution_count": 146,
   "metadata": {},
   "outputs": [
    {
     "data": {
      "text/plain": [
       "(12975, 6)"
      ]
     },
     "execution_count": 146,
     "metadata": {},
     "output_type": "execute_result"
    }
   ],
   "source": [
    "gps_all.shape"
   ]
  },
  {
   "cell_type": "code",
   "execution_count": 138,
   "metadata": {},
   "outputs": [
    {
     "data": {
      "text/plain": [
       "77850"
      ]
     },
     "execution_count": 138,
     "metadata": {},
     "output_type": "execute_result"
    }
   ],
   "source": [
    "10735*6+2240*6"
   ]
  },
  {
   "cell_type": "code",
   "execution_count": null,
   "metadata": {},
   "outputs": [],
   "source": []
  }
 ],
 "metadata": {
  "kernelspec": {
   "display_name": "Python 3",
   "language": "python",
   "name": "python3"
  },
  "language_info": {
   "codemirror_mode": {
    "name": "ipython",
    "version": 3
   },
   "file_extension": ".py",
   "mimetype": "text/x-python",
   "name": "python",
   "nbconvert_exporter": "python",
   "pygments_lexer": "ipython3",
   "version": "3.7.3"
  },
  "toc": {
   "base_numbering": 1,
   "nav_menu": {},
   "number_sections": true,
   "sideBar": true,
   "skip_h1_title": false,
   "title_cell": "Table of Contents",
   "title_sidebar": "Contents",
   "toc_cell": false,
   "toc_position": {
    "height": "calc(100% - 180px)",
    "left": "10px",
    "top": "150px",
    "width": "329px"
   },
   "toc_section_display": true,
   "toc_window_display": true
  },
  "varInspector": {
   "cols": {
    "lenName": 16,
    "lenType": 16,
    "lenVar": 40
   },
   "kernels_config": {
    "python": {
     "delete_cmd_postfix": "",
     "delete_cmd_prefix": "del ",
     "library": "var_list.py",
     "varRefreshCmd": "print(var_dic_list())"
    },
    "r": {
     "delete_cmd_postfix": ") ",
     "delete_cmd_prefix": "rm(",
     "library": "var_list.r",
     "varRefreshCmd": "cat(var_dic_list()) "
    }
   },
   "types_to_exclude": [
    "module",
    "function",
    "builtin_function_or_method",
    "instance",
    "_Feature"
   ],
   "window_display": false
  }
 },
 "nbformat": 4,
 "nbformat_minor": 4
}
