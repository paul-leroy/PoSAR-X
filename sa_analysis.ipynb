{
 "cells": [
  {
   "cell_type": "code",
   "execution_count": 1,
   "metadata": {},
   "outputs": [],
   "source": [
    "import os, sys\n",
    "\n",
    "import numpy as np\n",
    "import matplotlib.pyplot as plt\n",
    "\n",
    "sys.path.insert(0, \"/home/pleroy/DEV/processing/PoSAR-MC\")\n",
    "import backprojection as tdbp\n",
    "\n",
    "sys.path.insert(0, \"/home/pleroy/DEV/DIADEM\")\n",
    "import toolsdiadem.tools as dia"
   ]
  },
  {
   "cell_type": "code",
   "execution_count": 2,
   "metadata": {},
   "outputs": [],
   "source": [
    "%matplotlib qt5"
   ]
  },
  {
   "cell_type": "code",
   "execution_count": 3,
   "metadata": {},
   "outputs": [],
   "source": [
    "%load_ext autoreload\n",
    "%autoreload 2"
   ]
  },
  {
   "cell_type": "code",
   "execution_count": 4,
   "metadata": {},
   "outputs": [],
   "source": [
    "focusingDir = \"/home/pleroy/DATA/PoSAR-X/PIMA-2/2020_06_25/FOCUSING\"\n",
    "ini = \"2020_06_25_11_57_59_c2_gr_hann_down.ini\""
   ]
  },
  {
   "cell_type": "code",
   "execution_count": 5,
   "metadata": {},
   "outputs": [
    {
     "name": "stderr",
     "output_type": "stream",
     "text": [
      "2020_06_25_11_57_59 *** buffers are not contiguous\n",
      "2020_06_25_11_57_59 *** BUT bufferNumber[56] == 4294967295\n"
     ]
    },
    {
     "name": "stdout",
     "output_type": "stream",
     "text": [
      "rec_dir /home/pleroy/DATA/PoSAR-X/PIMA-2/2020_06_25/2020_06_25_11_57_59\n"
     ]
    }
   ],
   "source": [
    "conf = tdbp.Conf(os.path.join(focusingDir, ini), pointsFile=\"ini\")"
   ]
  },
  {
   "cell_type": "code",
   "execution_count": 6,
   "metadata": {},
   "outputs": [
    {
     "name": "stdout",
     "output_type": "stream",
     "text": [
      "load /home/pleroy/DATA/PoSAR-X/PIMA-2/2020_06_25/OUT/2020_06_25_11_57_59/Sa_files_0_56_rampDown_hanning.npy\n",
      "sa.shape (57000, 5000)\n",
      "existing analytic signal found and loaded\n"
     ]
    }
   ],
   "source": [
    "mySignal = tdbp.Signal(conf)\n",
    "if mySignal.load() is False: # load signal.sa and signal.coupling\n",
    "    print(\"/!\\\\ signal.load() failed, try to build the analytic signal /!\\\\\")\n",
    "    record = posar.Record(self.conf.rec_dir, \"record\", \"bin\", version=\"X_v1\")\n",
    "    A_reshaped = record.readBins(\"ADLINKCh0\")\n",
    "    mySignal.build(A_reshaped)\n",
    "    mySignal.save()\n",
    "else:\n",
    "    print(\"existing analytic signal found and loaded\")\n",
    "    sa = mySignal.sa"
   ]
  },
  {
   "cell_type": "code",
   "execution_count": 7,
   "metadata": {},
   "outputs": [],
   "source": [
    "ifft_sa = np.fft.ifft(sa, axis=1)"
   ]
  },
  {
   "cell_type": "code",
   "execution_count": 12,
   "metadata": {},
   "outputs": [],
   "source": [
    "fft2d = np.fft.fft(ifft_sa, axis=0)"
   ]
  },
  {
   "cell_type": "code",
   "execution_count": 8,
   "metadata": {},
   "outputs": [],
   "source": [
    "abs_ifft_sa = 20 * np.log10(np.abs(ifft_sa))"
   ]
  },
  {
   "cell_type": "code",
   "execution_count": 13,
   "metadata": {},
   "outputs": [],
   "source": [
    "abs_fft2d = 20 * np.log10(np.abs(fft2d))"
   ]
  },
  {
   "cell_type": "code",
   "execution_count": 9,
   "metadata": {},
   "outputs": [],
   "source": [
    "max_abs = np.amax(abs_ifft_sa)\n",
    "vmax = np.amax(abs_ifft_sa[:, 100:])\n",
    "vmin = vmax - 30"
   ]
  },
  {
   "cell_type": "code",
   "execution_count": 10,
   "metadata": {},
   "outputs": [],
   "source": [
    "fig, ax = plt.subplots(1, 1)\n",
    "im = ax.imshow(abs_ifft_sa[20000:40000:100, 2100:2500], vmax=vmax, vmin=vmin, cmap='jet')\n",
    "ax.grid()\n",
    "dia.addColorBar(im, ax)"
   ]
  },
  {
   "cell_type": "code",
   "execution_count": 11,
   "metadata": {},
   "outputs": [],
   "source": [
    "fig, ax = plt.subplots(1, 1)\n",
    "im = ax.matshow(abs_ifft_sa[::100, 2100:2500], cmap='jet', vmax=vmax, vmin=vmin)\n",
    "ax.grid()\n",
    "dia.addColorBar(im, ax)"
   ]
  },
  {
   "cell_type": "code",
   "execution_count": 16,
   "metadata": {},
   "outputs": [],
   "source": [
    "fig, ax = plt.subplots(1, 1)\n",
    "im = ax.matshow(abs_fft2d[::100, 2100:2500], cmap='jet')\n",
    "ax.grid()\n",
    "dia.addColorBar(im, ax)"
   ]
  },
  {
   "cell_type": "code",
   "execution_count": null,
   "metadata": {},
   "outputs": [],
   "source": []
  }
 ],
 "metadata": {
  "kernelspec": {
   "display_name": "Python 3",
   "language": "python",
   "name": "python3"
  },
  "language_info": {
   "codemirror_mode": {
    "name": "ipython",
    "version": 3
   },
   "file_extension": ".py",
   "mimetype": "text/x-python",
   "name": "python",
   "nbconvert_exporter": "python",
   "pygments_lexer": "ipython3",
   "version": "3.8.5"
  }
 },
 "nbformat": 4,
 "nbformat_minor": 4
}
