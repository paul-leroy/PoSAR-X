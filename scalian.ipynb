{
 "cells": [
  {
   "cell_type": "code",
   "execution_count": 1,
   "metadata": {},
   "outputs": [],
   "source": [
    "import logging, os, sys, time\n",
    "\n",
    "import numpy as np\n",
    "import matplotlib.pyplot as plt\n",
    "\n",
    "sys.path.insert(0, \"/home/pleroy/DEV/processing/PoSAR-MC\")\n",
    "import backprojection as tdbp\n",
    "\n",
    "%load_ext autoreload\n",
    "%autoreload 2"
   ]
  },
  {
   "cell_type": "code",
   "execution_count": 2,
   "metadata": {},
   "outputs": [
    {
     "name": "stdout",
     "output_type": "stream",
     "text": [
      "======= Conf\n",
      "rec_dir /home/pleroy/DATA/PoSAR-X/PIMA-1/2019_07_12/2019_07_12_14_12_21\n",
      "/home/pleroy/DATA/PoSAR-X/PIMA-1/2019_07_12/SCALIAN/2019_07_12_14_12_21 created successfully (or already existing)\n",
      "======= Load analytic signal, upOrDown Up, window None...\n",
      "load /home/pleroy/DATA/PoSAR-X/PIMA-1/2019_07_12/OUT/2019_07_12_14_12_21/Sa_files_0_58_rampUp_None.npy\n",
      "sa.shape (59000, 5000)\n",
      "existing analytic signal found and loaded\n",
      "save /home/pleroy/DATA/PoSAR-X/PIMA-1/2019_07_12/SCALIAN/2019_07_12_14_12_21/Sa_2019_07_12_14_12_21_Up.data\n",
      "======= Load antenna positions Up...\n",
      "nav: 1, upOrDown Up, rampUpFirst 0\n",
      "load /home/pleroy/DATA/PoSAR-X/PIMA-1/2019_07_12/OUT/2019_07_12_14_12_21/n_time_lla_nav_b.npy\n",
      "xa.shape (59000,)\n",
      "xa_mean = 48.06, ya_mean = -2.01, za_mean = 449.61\n",
      "load /home/pleroy/DATA/PoSAR-X/PIMA-1/2019_07_12/OUT/2019_07_12_14_12_21/n_time_rpy_b.npy\n",
      "save /home/pleroy/DATA/PoSAR-X/PIMA-1/2019_07_12/SCALIAN/2019_07_12_14_12_21/Sa_2019_07_12_14_12_21_Up.track\n",
      "write /home/pleroy/DATA/PoSAR-X/PIMA-1/2019_07_12/SCALIAN/2019_07_12_14_12_21/Sa_2019_07_12_14_12_21_Up.ini\n",
      "======= Load analytic signal, upOrDown Down, window None...\n",
      "load /home/pleroy/DATA/PoSAR-X/PIMA-1/2019_07_12/OUT/2019_07_12_14_12_21/Sa_files_0_58_rampDown_None.npy\n",
      "sa.shape (59000, 5000)\n",
      "existing analytic signal found and loaded\n",
      "save /home/pleroy/DATA/PoSAR-X/PIMA-1/2019_07_12/SCALIAN/2019_07_12_14_12_21/Sa_2019_07_12_14_12_21_Down.data\n",
      "======= Load antenna positions Down...\n",
      "nav: 1, upOrDown Down, rampUpFirst 0\n",
      "load /home/pleroy/DATA/PoSAR-X/PIMA-1/2019_07_12/OUT/2019_07_12_14_12_21/n_time_lla_nav_a.npy\n",
      "xa.shape (59000,)\n",
      "xa_mean = 48.06, ya_mean = -2.01, za_mean = 449.61\n",
      "load /home/pleroy/DATA/PoSAR-X/PIMA-1/2019_07_12/OUT/2019_07_12_14_12_21/n_time_rpy_a.npy\n",
      "save /home/pleroy/DATA/PoSAR-X/PIMA-1/2019_07_12/SCALIAN/2019_07_12_14_12_21/Sa_2019_07_12_14_12_21_Down.track\n",
      "write /home/pleroy/DATA/PoSAR-X/PIMA-1/2019_07_12/SCALIAN/2019_07_12_14_12_21/Sa_2019_07_12_14_12_21_Down.ini\n"
     ]
    }
   ],
   "source": [
    "scalian = tdbp.Scalian(\"/home/pleroy/DATA/PoSAR-X/PIMA-1/2019_07_12/FOCUSING/2019_07_12_14_12_21.ini\")\n",
    "#scalian = tdbp.Scalian(\"/home/pleroy/DATA/PoSAR-X/PIMA-1/2019_07_12/FOCUSING/2019_07_12_14_14_43.ini\")\n",
    "#scalian = tdbp.Scalian(\"/home/pleroy/DATA/PoSAR-X/PIMA-1/2019_07_12/FOCUSING/2019_07_12_14_18_28.ini\")"
   ]
  },
  {
   "cell_type": "code",
   "execution_count": null,
   "metadata": {},
   "outputs": [],
   "source": []
  }
 ],
 "metadata": {
  "kernelspec": {
   "display_name": "Python 3",
   "language": "python",
   "name": "python3"
  },
  "language_info": {
   "codemirror_mode": {
    "name": "ipython",
    "version": 3
   },
   "file_extension": ".py",
   "mimetype": "text/x-python",
   "name": "python",
   "nbconvert_exporter": "python",
   "pygments_lexer": "ipython3",
   "version": "3.8.5"
  }
 },
 "nbformat": 4,
 "nbformat_minor": 4
}
