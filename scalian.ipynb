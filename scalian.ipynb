{
 "cells": [
  {
   "cell_type": "code",
   "execution_count": 1,
   "metadata": {},
   "outputs": [],
   "source": [
    "import logging, os, sys, time\n",
    "\n",
    "import numpy as np\n",
    "import matplotlib.pyplot as plt\n",
    "\n",
    "sys.path.insert(0, \"/home/pleroy/DEV/processing/PoSAR-MC\")\n",
    "import backprojection as tdbp\n",
    "\n",
    "%load_ext autoreload\n",
    "%autoreload 2"
   ]
  },
  {
   "cell_type": "code",
   "execution_count": 31,
   "metadata": {},
   "outputs": [],
   "source": [
    "%matplotlib qt5"
   ]
  },
  {
   "cell_type": "code",
   "execution_count": 4,
   "metadata": {},
   "outputs": [
    {
     "name": "stderr",
     "output_type": "stream",
     "text": [
      "/home/pleroy/DEV/processing/PoSAR-MC/backprojection/Scalian.py:26: SyntaxWarning: \"is\" with a literal. Did you mean \"==\"?\n",
      "  if mode is \"default\":\n",
      "2020_06_25_11_57_59 *** buffers are not contiguous\n",
      "2020_06_25_11_57_59 *** BUT bufferNumber[56] == 4294967295\n"
     ]
    },
    {
     "name": "stdout",
     "output_type": "stream",
     "text": [
      "======= Conf\n",
      "rec_dir /home/pleroy/DATA/PoSAR-X/PIMA-2/2020_06_25/2020_06_25_11_57_59\n",
      "/home/pleroy/DATA/PoSAR-X/PIMA-2/2020_06_25/SCALIAN/2020_06_25_11_57_59 created successfully (or already existing)\n",
      "======= Load analytic signal, upOrDown Up, window None...\n",
      "load /home/pleroy/DATA/PoSAR-X/PIMA-2/2020_06_25/OUT/2020_06_25_11_57_59/Sa_files_0_56_rampUp_None.npy\n",
      "sa.shape (57000, 5000)\n",
      "load /home/pleroy/DATA/PoSAR-X/PIMA-2/2020_06_25/OUT/2020_06_25_11_57_59/avg_Sa_files_0_56_rampUp_None.npy\n",
      "avg.shape (1, 5000)\n",
      "existing analytic signal found and loaded\n",
      "save /home/pleroy/DATA/PoSAR-X/PIMA-2/2020_06_25/SCALIAN/2020_06_25_11_57_59/Sa_2020_06_25_11_57_59_Up.data\n",
      "======= Load antenna positions Up...\n",
      "nav: 1, upOrDown Up, rampUpFirst 0\n",
      "load /home/pleroy/DATA/PoSAR-X/PIMA-2/2020_06_25/OUT/2020_06_25_11_57_59/n_time_lla_nav_b.npy\n",
      "xa.shape (57000,)\n",
      "xa_mean = 48.06, ya_mean = -2.01, za_mean = 500.65\n",
      "load /home/pleroy/DATA/PoSAR-X/PIMA-2/2020_06_25/OUT/2020_06_25_11_57_59/n_time_rpy_b.npy\n",
      "save /home/pleroy/DATA/PoSAR-X/PIMA-2/2020_06_25/SCALIAN/2020_06_25_11_57_59/Sa_2020_06_25_11_57_59_Up.track\n",
      "write /home/pleroy/DATA/PoSAR-X/PIMA-2/2020_06_25/SCALIAN/2020_06_25_11_57_59/Sa_2020_06_25_11_57_59_Up.ini\n",
      "======= Load analytic signal, upOrDown Down, window None...\n",
      "load /home/pleroy/DATA/PoSAR-X/PIMA-2/2020_06_25/OUT/2020_06_25_11_57_59/Sa_files_0_56_rampDown_None.npy\n",
      "sa.shape (57000, 5000)\n",
      "load /home/pleroy/DATA/PoSAR-X/PIMA-2/2020_06_25/OUT/2020_06_25_11_57_59/avg_Sa_files_0_56_rampDown_None.npy\n",
      "avg.shape (1, 5000)\n",
      "existing analytic signal found and loaded\n",
      "save /home/pleroy/DATA/PoSAR-X/PIMA-2/2020_06_25/SCALIAN/2020_06_25_11_57_59/Sa_2020_06_25_11_57_59_Down.data\n",
      "======= Load antenna positions Down...\n",
      "nav: 1, upOrDown Down, rampUpFirst 0\n",
      "load /home/pleroy/DATA/PoSAR-X/PIMA-2/2020_06_25/OUT/2020_06_25_11_57_59/n_time_lla_nav_a.npy\n",
      "xa.shape (57000,)\n",
      "xa_mean = 48.06, ya_mean = -2.01, za_mean = 500.65\n",
      "load /home/pleroy/DATA/PoSAR-X/PIMA-2/2020_06_25/OUT/2020_06_25_11_57_59/n_time_rpy_a.npy\n",
      "save /home/pleroy/DATA/PoSAR-X/PIMA-2/2020_06_25/SCALIAN/2020_06_25_11_57_59/Sa_2020_06_25_11_57_59_Down.track\n",
      "write /home/pleroy/DATA/PoSAR-X/PIMA-2/2020_06_25/SCALIAN/2020_06_25_11_57_59/Sa_2020_06_25_11_57_59_Down.ini\n"
     ]
    }
   ],
   "source": [
    "# PIMA-1\n",
    "#scalian = tdbp.Scalian(\"/home/pleroy/DATA/PoSAR-X/PIMA-1/2019_07_12/FOCUSING/2019_07_12_14_12_21.ini\")\n",
    "#scalian = tdbp.Scalian(\"/home/pleroy/DATA/PoSAR-X/PIMA-1/2019_07_12/FOCUSING/2019_07_12_14_14_43.ini\")\n",
    "#scalian = tdbp.Scalian(\"/home/pleroy/DATA/PoSAR-X/PIMA-1/2019_07_12/FOCUSING/2019_07_12_14_18_28.ini\")\n",
    "# PIMA-2\n",
    "focusingDir = \"/home/pleroy/DATA/PoSAR-X/PIMA-2/2020_06_25/FOCUSING\"\n",
    "ini = \"2020_06_25_11_57_59_c2_gr_hann_3.438.ini\"\n",
    "scalian = tdbp.Scalian(os.path.join(focusingDir, ini), pointsFile=\"ini\")"
   ]
  },
  {
   "cell_type": "code",
   "execution_count": 7,
   "metadata": {},
   "outputs": [
    {
     "name": "stderr",
     "output_type": "stream",
     "text": [
      "2020_06_25_11_57_59 *** buffers are not contiguous\n",
      "2020_06_25_11_57_59 *** BUT bufferNumber[56] == 4294967295\n"
     ]
    },
    {
     "name": "stdout",
     "output_type": "stream",
     "text": [
      "======= Conf\n",
      "rec_dir /home/pleroy/DATA/PoSAR-X/PIMA-2/2020_06_25/2020_06_25_11_57_59\n",
      "/home/pleroy/DATA/PoSAR-X/PIMA-2/2020_06_25/SCALIAN/2020_06_25_11_57_59 created successfully (or already existing)\n",
      "mode is None, nothing read, neither posar data nor navigation data\n"
     ]
    }
   ],
   "source": [
    "scalian = tdbp.Scalian(os.path.join(focusingDir, ini), pointsFile=\"ini\", mode=None)"
   ]
  },
  {
   "cell_type": "code",
   "execution_count": 16,
   "metadata": {},
   "outputs": [],
   "source": [
    "c2 = [48.057767, -2.008120]"
   ]
  },
  {
   "cell_type": "code",
   "execution_count": 35,
   "metadata": {},
   "outputs": [
    {
     "name": "stdout",
     "output_type": "stream",
     "text": [
      "load /home/pleroy/DATA/PoSAR-X/PIMA-2/2020_06_25/OUT/2020_06_25_11_57_59/n_time_lla_nav_b.npy\n",
      "lat.shape (57000,)\n",
      "lat_mean = 48.06, lon_mean = -2.01, alt_mean = 500.65\n",
      "load /home/pleroy/DATA/PoSAR-X/PIMA-2/2020_06_25/OUT/2020_06_25_11_57_59/n_time_rpy_b.npy\n",
      "load /home/pleroy/DATA/PoSAR-X/PIMA-2/2020_06_25/OUT/2020_06_25_11_57_59/n_time_xyz_nav_b.npy\n",
      "xa.shape (57000,)\n",
      "xa_mean = 1326869.61, ya_mean = 7218883.31, za_mean = 500.65\n",
      "======= Track\n",
      "A (1326881.2140861552, 7218878.947115751)\n",
      "C (1326978.8681851616, 7218542.383890306)\n",
      "min_distanceRefTrackXY 8.273812602701213, idx 27449\n",
      "slice(17449, 37449, None)\n",
      "save /home/pleroy/DATA/PoSAR-X/PIMA-2/2020_06_25/SCALIAN/2020_06_25_11_57_59/Sa_2020_06_25_11_57_59_Up_20000.track\n",
      "======= Load analytic signal, upOrDown Up, window None...\n",
      "load /home/pleroy/DATA/PoSAR-X/PIMA-2/2020_06_25/OUT/2020_06_25_11_57_59/Sa_files_0_56_rampUp_None.npy\n",
      "sa.shape (57000, 5000)\n",
      "load /home/pleroy/DATA/PoSAR-X/PIMA-2/2020_06_25/OUT/2020_06_25_11_57_59/avg_Sa_files_0_56_rampUp_None.npy\n",
      "avg.shape (1, 5000)\n",
      "existing analytic signal found and loaded\n",
      "save /home/pleroy/DATA/PoSAR-X/PIMA-2/2020_06_25/SCALIAN/2020_06_25_11_57_59/Sa_2020_06_25_11_57_59_Up_20000.data\n",
      "write /home/pleroy/DATA/PoSAR-X/PIMA-2/2020_06_25/SCALIAN/2020_06_25_11_57_59/Sa_2020_06_25_11_57_59_Up_20000.ini\n"
     ]
    }
   ],
   "source": [
    "scalian.extract_data(c2, nbPointsToKeep=20000)"
   ]
  },
  {
   "cell_type": "code",
   "execution_count": null,
   "metadata": {},
   "outputs": [],
   "source": []
  }
 ],
 "metadata": {
  "kernelspec": {
   "display_name": "Python 3",
   "language": "python",
   "name": "python3"
  },
  "language_info": {
   "codemirror_mode": {
    "name": "ipython",
    "version": 3
   },
   "file_extension": ".py",
   "mimetype": "text/x-python",
   "name": "python",
   "nbconvert_exporter": "python",
   "pygments_lexer": "ipython3",
   "version": "3.8.5"
  }
 },
 "nbformat": 4,
 "nbformat_minor": 4
}
