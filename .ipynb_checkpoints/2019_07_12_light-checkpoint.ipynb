{
 "cells": [
  {
   "cell_type": "markdown",
   "metadata": {},
   "source": [
    "# Initialisation"
   ]
  },
  {
   "cell_type": "markdown",
   "metadata": {},
   "source": [
    "## Imports"
   ]
  },
  {
   "cell_type": "code",
   "execution_count": 61,
   "metadata": {},
   "outputs": [
    {
     "name": "stdout",
     "output_type": "stream",
     "text": [
      "The autoreload extension is already loaded. To reload it, use:\n",
      "  %reload_ext autoreload\n"
     ]
    }
   ],
   "source": [
    "import sys, os, csv, json\n",
    "import logging, importlib\n",
    "\n",
    "import numpy as np\n",
    "import matplotlib.pyplot as plt\n",
    "%matplotlib qt5\n",
    "\n",
    "%load_ext autoreload\n",
    "%autoreload 2\n",
    "\n",
    "sys.path.insert(0, \"/home/pleroy/DEV/processing/PoSAR-MC\")\n",
    "import posarmctools.ekfnavtools as ekf\n",
    "import posarmctools.epsgtools as epsg\n",
    "import posarmctools.posar as posar\n",
    "import posarmctools.sbg as sbg\n",
    "from posarmctools import getNotebookLogger"
   ]
  },
  {
   "cell_type": "code",
   "execution_count": 62,
   "metadata": {},
   "outputs": [],
   "source": [
    "import pyproj"
   ]
  },
  {
   "cell_type": "markdown",
   "metadata": {},
   "source": [
    "## Parameters"
   ]
  },
  {
   "cell_type": "code",
   "execution_count": 65,
   "metadata": {},
   "outputs": [],
   "source": [
    "conf = posar.FlightParams(\"/home/pleroy/DATA/PoSAR-X/PIMA-1/flight2.ini\")\n",
    "root_dir = os.path.join(conf.dir_posar, conf.day)\n",
    "out_dir = os.path.join(conf.dir_posar, conf.day, \"OUT\")\n",
    "withPlots = 0\n",
    "epsg3xxx = epsg.epsg3948\n",
    "epsgStr = \"epsg3948\""
   ]
  },
  {
   "cell_type": "markdown",
   "metadata": {},
   "source": [
    "## Logger"
   ]
  },
  {
   "cell_type": "code",
   "execution_count": 66,
   "metadata": {},
   "outputs": [],
   "source": [
    "logger = getNotebookLogger()"
   ]
  },
  {
   "cell_type": "markdown",
   "metadata": {},
   "source": [
    "## Scene remarkable points"
   ]
  },
  {
   "cell_type": "code",
   "execution_count": 67,
   "metadata": {},
   "outputs": [],
   "source": [
    "sys.path.insert(0, \"/home/pleroy/DATA/PoSAR-X/PIMA-1\")"
   ]
  },
  {
   "cell_type": "code",
   "execution_count": 68,
   "metadata": {},
   "outputs": [],
   "source": [
    "pts, ptsEpsg, ptsDict = epsg.getReferencePoints(conf.refs, epsg3xxx)"
   ]
  },
  {
   "cell_type": "code",
   "execution_count": 69,
   "metadata": {},
   "outputs": [],
   "source": [
    "np.save(os.path.join(root_dir, \"OUT\", \"corner_epsg\"), ptsEpsg[\"corner\"])\n",
    "np.save(os.path.join(root_dir, \"OUT\", \"hangar_epsg\"), [ptsEpsg[key] for key in (\"h0\", \"h1\", \"h2\", \"h3\")])\n",
    "np.save(os.path.join(root_dir, \"OUT\", \"runaway_epsg\"), [ptsEpsg[key] for key in (\"p0\", \"p1\", \"p2\", \"p3\")])\n",
    "np.save(os.path.join(root_dir, \"OUT\", \"s_epsg\"), [ptsEpsg[key] for key in (\"s0\", \"s1\", \"s2\", \"s3\", \"s4\", \"s5\", \"s6\", \"s7\")])"
   ]
  },
  {
   "cell_type": "markdown",
   "metadata": {},
   "source": [
    "# SBG data"
   ]
  },
  {
   "cell_type": "markdown",
   "metadata": {},
   "source": [
    "## data path definitions"
   ]
  },
  {
   "cell_type": "code",
   "execution_count": 70,
   "metadata": {},
   "outputs": [],
   "source": [
    "logLoader = sbg.LogLoader(conf.dir_sbg, conf.session, conf.day, conf.sbg_hours)"
   ]
  },
  {
   "cell_type": "code",
   "execution_count": 71,
   "metadata": {},
   "outputs": [],
   "source": [
    "gps = sbg.LogGpsPos(\"sbgLogGpsPos.csv\", logLoader, delimiter=\",\")"
   ]
  },
  {
   "cell_type": "code",
   "execution_count": 72,
   "metadata": {},
   "outputs": [],
   "source": [
    "x, y = epsg.wgs84LongLatToEpsg( (gps.long, gps.lat), epsg3xxx )\n",
    "gpsEpsg = epsg.wgs84LongLatToEpsg( (gps.long, gps.lat), epsg3xxx )\n",
    "np.save( out_dir + \"/gps_epsg_transform\", gpsEpsg)"
   ]
  },
  {
   "cell_type": "code",
   "execution_count": 73,
   "metadata": {},
   "outputs": [],
   "source": [
    "vel = sbg.LogGpsVel(\"sbgLogGpsVel.dat\", logLoader)"
   ]
  },
  {
   "cell_type": "code",
   "execution_count": 74,
   "metadata": {},
   "outputs": [
    {
     "name": "stdout",
     "output_type": "stream",
     "text": [
      "start ... 0:6:56.525\n",
      "no loopback detected\n",
      "stop ... 12:35:46.905\n"
     ]
    }
   ],
   "source": [
    "utc = sbg.LogUtcData(\"sbgLogUtcData.dat\", logLoader)"
   ]
  },
  {
   "cell_type": "code",
   "execution_count": 75,
   "metadata": {},
   "outputs": [],
   "source": [
    "eventB = sbg.LogEventB(\"sbgLogEventB.dat\", logLoader, utc=utc)"
   ]
  },
  {
   "cell_type": "code",
   "execution_count": 76,
   "metadata": {},
   "outputs": [],
   "source": [
    "euler = sbg.LogEkfEuler(\"sbgLogEkfEuler.dat\", logLoader)"
   ]
  },
  {
   "cell_type": "code",
   "execution_count": 77,
   "metadata": {},
   "outputs": [],
   "source": [
    "nav = sbg.LogEkfNav(\"sbgLogEkfNav.dat\", logLoader)"
   ]
  },
  {
   "cell_type": "code",
   "execution_count": 78,
   "metadata": {},
   "outputs": [],
   "source": [
    "navEpsg = epsg.wgs84LongLatToEpsg((nav.long, nav.lat), epsg3xxx)\n",
    "np.save(os.path.join(out_dir, \"nav_epsg_transform\"), navEpsg)"
   ]
  },
  {
   "cell_type": "markdown",
   "metadata": {},
   "source": [
    "# PoSAR-MC data"
   ]
  },
  {
   "cell_type": "code",
   "execution_count": 79,
   "metadata": {},
   "outputs": [],
   "source": [
    "expectedPeriod = 1000000"
   ]
  },
  {
   "cell_type": "code",
   "execution_count": 80,
   "metadata": {},
   "outputs": [
    {
     "name": "stdout",
     "output_type": "stream",
     "text": [
      "rec_dir /home/pleroy/DATA/PoSAR-X/PIMA-1/2019_07_12/2019_07_12_14_12_21\n",
      "rec_dir /home/pleroy/DATA/PoSAR-X/PIMA-1/2019_07_12/2019_07_12_14_14_43\n",
      "rec_dir /home/pleroy/DATA/PoSAR-X/PIMA-1/2019_07_12/2019_07_12_14_18_28\n",
      "rec_dir /home/pleroy/DATA/PoSAR-X/PIMA-1/2019_07_12/2019_07_12_14_21_00\n"
     ]
    }
   ],
   "source": [
    "rec_dates = [f\"{conf.day}_\" + h for h in conf.hours]\n",
    "rec_dirs = [os.path.join(conf.dir_posar, conf.day, d) for d in rec_dates]\n",
    "records = [posar.Record(rec_dir, \"record\", \"bin\", utc=utc, period=expectedPeriod, version=\"X_v1\") for rec_dir in rec_dirs]"
   ]
  },
  {
   "cell_type": "code",
   "execution_count": 81,
   "metadata": {},
   "outputs": [],
   "source": [
    "validFiles = [record.day_hour for idx, record in enumerate(records) if record.idxTime.size == 0]\n",
    "notValidFiles = [record.day_hour for idx, record in enumerate(records) if record.idxTime.size > 0]"
   ]
  },
  {
   "cell_type": "code",
   "execution_count": 82,
   "metadata": {},
   "outputs": [
    {
     "name": "stdout",
     "output_type": "stream",
     "text": [
      "*** VALID FILES ***\n",
      "['2019_07_12_14_12_21', '2019_07_12_14_14_43', '2019_07_12_14_18_28', '2019_07_12_14_21_00']\n",
      "*** NOT VALID FILES ***\n",
      "[])\n"
     ]
    }
   ],
   "source": [
    "print(f\"*** VALID FILES ***\\n{validFiles}\\n*** NOT VALID FILES ***\\n{notValidFiles})\")"
   ]
  },
  {
   "cell_type": "markdown",
   "metadata": {},
   "source": [
    "## Selected record and data interpolation"
   ]
  },
  {
   "cell_type": "code",
   "execution_count": 101,
   "metadata": {},
   "outputs": [],
   "source": [
    "record = records[1]"
   ]
  },
  {
   "cell_type": "code",
   "execution_count": 102,
   "metadata": {},
   "outputs": [],
   "source": [
    "roll_selection = np.interp(record.shiftedLogEvents, euler.timestamps, euler.roll)\n",
    "pitch_selection = np.interp(record.shiftedLogEvents, euler.timestamps, euler.pitch)\n",
    "yaw_selection = np.interp(record.shiftedLogEvents, euler.timestamps, euler.yaw)"
   ]
  },
  {
   "cell_type": "code",
   "execution_count": 103,
   "metadata": {},
   "outputs": [],
   "source": [
    "Lat_Long_Alt = ekf.getInterpolatedGps(record.shiftedLogEvents, gps)\n",
    "selectedEpsg = epsg.wgs84LongLatToEpsg((Lat_Long_Alt[1], Lat_Long_Alt[0]), epsg3xxx)"
   ]
  },
  {
   "cell_type": "code",
   "execution_count": 104,
   "metadata": {},
   "outputs": [],
   "source": [
    "Vel_course = ekf.getInterpolatedVelCourse(record.shiftedLogEvents, vel)\n",
    "Vel_records = ekf.getInterpolatedVel(record.shiftedLogEvents, vel) "
   ]
  },
  {
   "cell_type": "code",
   "execution_count": 105,
   "metadata": {},
   "outputs": [],
   "source": [
    "x_selection = np.interp(record.shiftedLogEvents, gps.timestamps, gpsEpsg[0])\n",
    "y_selection = np.interp(record.shiftedLogEvents, gps.timestamps, gpsEpsg[1])\n",
    "np.save(record.out_dir + \"/track_selection_proj\", np.stack((x_selection, y_selection), -1))"
   ]
  },
  {
   "cell_type": "code",
   "execution_count": 106,
   "metadata": {},
   "outputs": [],
   "source": [
    "fig, ax = plt.subplots(1,1)\n",
    "\n",
    "for index, slice_ in enumerate(gps.slices):\n",
    "    ax.plot( x[slice_], y[slice_], label=gps.loader.hours[index] )\n",
    "    \n",
    "epsg.addRemarkablePoints(ax, ptsDict, ptsEpsg)\n",
    "    \n",
    "ax.plot(selectedEpsg[0], selectedEpsg[1], \".r\", markeredgecolor='black', label=record.day_hour)\n",
    "u = np.sin(Vel_course[1] * np.pi / 180)\n",
    "v = np.cos(Vel_course[1] * np.pi / 180)\n",
    "u_yaw = np.sin(yaw_selection)\n",
    "v_yaw = np.cos(yaw_selection)\n",
    "#ax.quiver(selectedEpsg[0], selectedEpsg[1], u, v, units='xy')\n",
    "ax.quiver(selectedEpsg[0], selectedEpsg[1], u_yaw, v_yaw,\n",
    "          units='xy', scale=0.02, color='blue',\n",
    "          width=2, headwidth=3., headlength=4., label='yaw', zorder=10)\n",
    "ax.set_xlabel(\"x\")\n",
    "ax.set_ylabel(\"y\")\n",
    "ax.grid()\n",
    "ax.legend()\n",
    "title = epsgStr + \" \" + conf.day\n",
    "ax.set_title(title)\n",
    "ax.set_aspect('equal')\n",
    "fig.savefig( f\"{record.out_dir}/{title}.png\", bbox_inches='tight')"
   ]
  },
  {
   "cell_type": "markdown",
   "metadata": {},
   "source": [
    "# Track approximation"
   ]
  },
  {
   "cell_type": "markdown",
   "metadata": {},
   "source": [
    "## Orientation vector"
   ]
  },
  {
   "cell_type": "code",
   "execution_count": 107,
   "metadata": {},
   "outputs": [],
   "source": [
    "JA, JB = [pts[ref] for ref in conf.hours[record.hour]]\n",
    "xA, yA = ptsEpsg[conf.hours[record.hour][0]]\n",
    "xB, yB = ptsEpsg[conf.hours[record.hour][1]]\n",
    "xAB = (xB - xA) / ( (xB - xA)**2 + (yB - yA)**2 )**0.5\n",
    "yAB = (yB - yA) / ( (xB - xA)**2 + (yB - yA)**2 )**0.5\n",
    "ux = ( xAB, yAB )\n",
    "uy = ( -yAB, xAB )\n",
    "\n",
    "# build sceneReferencePoint\n",
    "JA_epsg = epsg.wgs84LongLatToEpsg((JA[1], JA[0]), epsg3xxx)\n",
    "JB_epsg = epsg.wgs84LongLatToEpsg((JB[1], JB[0]), epsg3xxx)\n",
    "JAJB = ( (JA_epsg[0]+JB_epsg[0])/2,\n",
    "        (JA_epsg[1]+JB_epsg[1])/2 )\n",
    "shiftInY = 0\n",
    "sceneReferencePoint = JAJB[0] + shiftInY * uy[0], JAJB[1] + shiftInY * uy[1]"
   ]
  },
  {
   "cell_type": "code",
   "execution_count": 108,
   "metadata": {},
   "outputs": [],
   "source": [
    "track_model = {\"trackModel\" : \"model(x, p) = p[1]*x + p[2]\",\n",
    "               \"ux\" : (ux[0], ux[1]),\n",
    "               \"uy\" : (uy[0], uy[1]),\n",
    "               \"origX\" : sceneReferencePoint[0],\n",
    "               \"origY\" : sceneReferencePoint[1]\n",
    "              }"
   ]
  },
  {
   "cell_type": "code",
   "execution_count": 109,
   "metadata": {},
   "outputs": [],
   "source": [
    "trackFilename = record.out_dir + \"/track_model.json\"\n",
    "with open( trackFilename, 'w' ) as f:\n",
    "    json.dump( track_model, f )"
   ]
  },
  {
   "cell_type": "markdown",
   "metadata": {},
   "source": [
    "# Interpolate navigation data for all ramps"
   ]
  },
  {
   "cell_type": "markdown",
   "metadata": {},
   "source": [
    "## logGpsPos (a)\n",
    "Two options: numpy.interp vs scipy.interpolate.interp1d (with kind='linear')"
   ]
  },
  {
   "cell_type": "code",
   "execution_count": 110,
   "metadata": {},
   "outputs": [],
   "source": [
    "gps_x = np.interp(record.timestamps_allRamps, gps.timestamps, gpsEpsg[0])\n",
    "gps_y = np.interp(record.timestamps_allRamps, gps.timestamps, gpsEpsg[1])\n",
    "gps_z = np.interp(record.timestamps_allRamps, gps.timestamps, gps.alt)\n",
    "xyz_proj_allRamps = np.stack((record.rampNumber_allRamps, record.timestamps_allRamps, gps_x, gps_y, gps_z), -1)\n",
    "np.save(record.out_dir + \"/rampNumber_timeStamp_xyz_gps_a\", xyz_proj_allRamps)"
   ]
  },
  {
   "cell_type": "code",
   "execution_count": 111,
   "metadata": {},
   "outputs": [],
   "source": [
    "allRamps_lat = np.interp(record.timestamps_allRamps, gps.timestamps, gps.lat )\n",
    "allRamps_long = np.interp(record.timestamps_allRamps, gps.timestamps, gps.long )\n",
    "allRamps_alt = np.interp(record.timestamps_allRamps, gps.timestamps, gps.alt )\n",
    "latLongAlt_allRamps = np.stack(\n",
    "    (record.rampNumber_allRamps, record.timestamps_allRamps, allRamps_lat, allRamps_long, allRamps_alt), -1 )\n",
    "np.save(record.out_dir + \"/rampNumber_timeStamp_latLongAlt_gps_a\", latLongAlt_allRamps)"
   ]
  },
  {
   "cell_type": "markdown",
   "metadata": {},
   "source": [
    "## logEkfNav (a)"
   ]
  },
  {
   "cell_type": "code",
   "execution_count": 112,
   "metadata": {},
   "outputs": [],
   "source": [
    "nav_x = np.interp(record.timestamps_allRamps, nav.timestamps, navEpsg[0] )\n",
    "nav_y = np.interp(record.timestamps_allRamps, nav.timestamps, navEpsg[1] )\n",
    "nav_z = np.interp(record.timestamps_allRamps, nav.timestamps, nav.alt )\n",
    "nav_u = np.interp(record.timestamps_allRamps, nav.timestamps, nav.undulation )\n",
    "nav_xyz_allRamps = np.stack(\n",
    "    (record.rampNumber_allRamps, record.timestamps_allRamps, nav_x, nav_y, nav_z), -1)\n",
    "np.save(record.out_dir + \"/rampNumber_timeStamp_xyz_nav_a\", nav_xyz_allRamps )"
   ]
  },
  {
   "cell_type": "code",
   "execution_count": 113,
   "metadata": {},
   "outputs": [],
   "source": [
    "nav_allRamps_lat = np.interp(record.timestamps_allRamps, nav.timestamps, nav.lat )\n",
    "nav_allRamps_long = np.interp(record.timestamps_allRamps, nav.timestamps, nav.long )\n",
    "nav_allRamps_alt = np.interp(record.timestamps_allRamps, nav.timestamps, nav.alt )\n",
    "nav_latLongAlt_allRamps = np.stack(\n",
    "    (record.rampNumber_allRamps, record.timestamps_allRamps, nav_allRamps_lat, nav_allRamps_long, nav_allRamps_alt), -1 )\n",
    "np.save(record.out_dir + \"/rampNumber_timeStamp_latLongAlt_nav_a\", nav_latLongAlt_allRamps)"
   ]
  },
  {
   "cell_type": "markdown",
   "metadata": {},
   "source": [
    "## logGpsPos (b)"
   ]
  },
  {
   "cell_type": "code",
   "execution_count": 114,
   "metadata": {},
   "outputs": [],
   "source": [
    "timestamps_allRamps_b = record.timestamps_allRamps + record.parameters.rampPeriod / 2\n",
    "\n",
    "gps_x_b = np.interp(timestamps_allRamps_b, gps.timestamps, gpsEpsg[0])\n",
    "gps_y_b = np.interp(timestamps_allRamps_b, gps.timestamps, gpsEpsg[1])\n",
    "gps_z_b = np.interp(timestamps_allRamps_b, gps.timestamps, gps.alt)\n",
    "xyz_proj_allRamps_b = np.stack((record.rampNumber_allRamps, timestamps_allRamps_b, gps_x_b, gps_y_b, gps_z_b), -1)\n",
    "np.save(record.out_dir + \"/rampNumber_timeStamp_xyz_gps_b\", xyz_proj_allRamps_b)"
   ]
  },
  {
   "cell_type": "code",
   "execution_count": 115,
   "metadata": {},
   "outputs": [],
   "source": [
    "allRamps_lat_b  = np.interp(timestamps_allRamps_b, gps.timestamps, gps.lat )\n",
    "allRamps_long_b = np.interp(timestamps_allRamps_b, gps.timestamps, gps.long )\n",
    "allRamps_alt_b  = np.interp(timestamps_allRamps_b, gps.timestamps, gps.alt )\n",
    "latLongAlt_allRamps_b = np.stack(\n",
    "    (record.rampNumber_allRamps, timestamps_allRamps_b, allRamps_lat_b, allRamps_long_b, allRamps_alt_b), -1 )\n",
    "np.save(record.out_dir + \"/rampNumber_timeStamp_latLongAlt_gps_b\", latLongAlt_allRamps_b)"
   ]
  },
  {
   "cell_type": "markdown",
   "metadata": {},
   "source": [
    "## logEkfNav (b)"
   ]
  },
  {
   "cell_type": "code",
   "execution_count": 116,
   "metadata": {},
   "outputs": [],
   "source": [
    "nav_x_b = np.interp(timestamps_allRamps_b, nav.timestamps, navEpsg[0])\n",
    "nav_y_b = np.interp(timestamps_allRamps_b, nav.timestamps, navEpsg[1])\n",
    "nav_z_b = np.interp(timestamps_allRamps_b, nav.timestamps, nav.alt)\n",
    "nav_u_b = np.interp(timestamps_allRamps_b, nav.timestamps, nav.undulation)\n",
    "nav_xyz_allRamps_b = np.stack(\n",
    "    (record.rampNumber_allRamps, timestamps_allRamps_b, nav_x_b, nav_y_b, nav_z_b), -1)\n",
    "np.save(record.out_dir + \"/rampNumber_timeStamp_xyz_nav_b\", nav_xyz_allRamps_b)"
   ]
  },
  {
   "cell_type": "code",
   "execution_count": 117,
   "metadata": {},
   "outputs": [],
   "source": [
    "nav_allRamps_lat_b  = np.interp(timestamps_allRamps_b, nav.timestamps, nav.lat)\n",
    "nav_allRamps_long_b = np.interp(timestamps_allRamps_b, nav.timestamps, nav.long)\n",
    "nav_allRamps_alt_b  = np.interp(timestamps_allRamps_b, nav.timestamps, nav.alt)\n",
    "nav_latLongAlt_allRamps_b = np.stack(\n",
    "    (record.rampNumber_allRamps, timestamps_allRamps_b, nav_allRamps_lat_b, nav_allRamps_long_b, nav_allRamps_alt_b), -1 )\n",
    "np.save(record.out_dir + \"/rampNumber_timeStamp_latLongAlt_nav_b\", nav_latLongAlt_allRamps_b)"
   ]
  },
  {
   "cell_type": "markdown",
   "metadata": {},
   "source": [
    "## Compare gps and nav"
   ]
  },
  {
   "cell_type": "code",
   "execution_count": null,
   "metadata": {},
   "outputs": [],
   "source": [
    "plt.figure()\n",
    "plt.plot(gps_x, gps_y, '.', label=\"gps\")\n",
    "plt.plot(nav_x, nav_y, label=\"nav\")\n",
    "plt.plot(selectedEpsg[0], selectedEpsg[1], 'o', label=\"selectedEpsg\")\n",
    "\n",
    "plt.legend()\n",
    "plt.grid()\n",
    "plt.title(\"x-y\")"
   ]
  },
  {
   "cell_type": "code",
   "execution_count": null,
   "metadata": {},
   "outputs": [],
   "source": [
    "plt.figure()\n",
    "plt.plot(record.timestamps_allRamps, gps_z, label=\"gps\")\n",
    "plt.plot(record.timestamps_allRamps, nav_z, label=\"nav\")\n",
    "plt.plot(record.shiftedLogEvents, Lat_Long_Alt[2], 'o', label=\"selected Alt\")\n",
    "plt.legend()\n",
    "plt.grid()\n",
    "plt.title(\"z\")"
   ]
  },
  {
   "cell_type": "code",
   "execution_count": null,
   "metadata": {},
   "outputs": [],
   "source": []
  }
 ],
 "metadata": {
  "kernelspec": {
   "display_name": "Python 3",
   "language": "python",
   "name": "python3"
  },
  "language_info": {
   "codemirror_mode": {
    "name": "ipython",
    "version": 3
   },
   "file_extension": ".py",
   "mimetype": "text/x-python",
   "name": "python",
   "nbconvert_exporter": "python",
   "pygments_lexer": "ipython3",
   "version": "3.8.3"
  },
  "toc": {
   "base_numbering": 1,
   "nav_menu": {},
   "number_sections": true,
   "sideBar": true,
   "skip_h1_title": false,
   "title_cell": "Table of Contents",
   "title_sidebar": "Contents",
   "toc_cell": false,
   "toc_position": {
    "height": "calc(100% - 180px)",
    "left": "10px",
    "top": "150px",
    "width": "325px"
   },
   "toc_section_display": true,
   "toc_window_display": true
  },
  "toc-autonumbering": true,
  "toc-showcode": false,
  "toc-showmarkdowntxt": false,
  "toc-showtags": false,
  "varInspector": {
   "cols": {
    "lenName": 16,
    "lenType": 16,
    "lenVar": 40
   },
   "kernels_config": {
    "python": {
     "delete_cmd_postfix": "",
     "delete_cmd_prefix": "del ",
     "library": "var_list.py",
     "varRefreshCmd": "print(var_dic_list())"
    },
    "r": {
     "delete_cmd_postfix": ") ",
     "delete_cmd_prefix": "rm(",
     "library": "var_list.r",
     "varRefreshCmd": "cat(var_dic_list()) "
    }
   },
   "types_to_exclude": [
    "module",
    "function",
    "builtin_function_or_method",
    "instance",
    "_Feature"
   ],
   "window_display": false
  }
 },
 "nbformat": 4,
 "nbformat_minor": 4
}
