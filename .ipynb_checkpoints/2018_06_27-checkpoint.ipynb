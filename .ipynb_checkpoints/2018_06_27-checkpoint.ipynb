{
 "cells": [
  {
   "cell_type": "markdown",
   "metadata": {},
   "source": [
    "# Initialisation"
   ]
  },
  {
   "cell_type": "markdown",
   "metadata": {},
   "source": [
    "## Imports"
   ]
  },
  {
   "cell_type": "code",
   "execution_count": 1,
   "metadata": {},
   "outputs": [],
   "source": [
    "import sys, os, csv\n",
    "import logging, importlib\n",
    "\n",
    "import numpy as np\n",
    "import matplotlib.pyplot as plt\n",
    "%matplotlib qt5\n",
    "\n",
    "%load_ext autoreload\n",
    "%autoreload 2"
   ]
  },
  {
   "cell_type": "code",
   "execution_count": 3,
   "metadata": {},
   "outputs": [],
   "source": [
    "sys.path.insert(0, \"/home/pleroy/DEV/processing/PoSAR-MC\")\n",
    "from posarmctools.readdata import check_ini, getInfoRecords, checkTimestamps\n",
    "import posarmctools.ekfnavtools as ekf\n",
    "import posarmctools.epsgtools as epsg\n",
    "import posarmctools.sbg as sbg\n",
    "import posarmctools.posar as posar\n",
    "from posarmctools.get_notebook_name import get_notebook_name"
   ]
  },
  {
   "cell_type": "markdown",
   "metadata": {},
   "source": [
    "## Parameters"
   ]
  },
  {
   "cell_type": "code",
   "execution_count": 4,
   "metadata": {},
   "outputs": [],
   "source": [
    "#ini = \"/home/pleroy/DATA/PoSAR-X/PIMA-1/flight1.ini\"\n",
    "ini = \"/home/pleroy/DATA/PoSAR-X/PIMA-1/flight_letg_2018_06_27.ini\"\n",
    "refs, (dir_sbg, session, sbg_hours), (dir_posar, day, hours) = check_ini(ini)\n",
    "root_dir = os.path.join(dir_posar, day)\n",
    "withPlots = 0\n",
    "epsg3xxx = epsg.epsg3857"
   ]
  },
  {
   "cell_type": "code",
   "execution_count": 39,
   "metadata": {},
   "outputs": [
    {
     "name": "stdout",
     "output_type": "stream",
     "text": [
      "/home/pleroy/DATA/PoSAR-C/2018_06_27_LETG/2018_06_27/jde/OUT created successfully\n"
     ]
    }
   ],
   "source": [
    "dir_out = os.path.join(dir_posar, \"OUT\")\n",
    "try:\n",
    "    os.makedirs(dir_out, exist_ok = True) \n",
    "    print(f\"{dir_out} created successfully\") \n",
    "except OSError as error: \n",
    "    print(f\"{dir_out} can not be created\") "
   ]
  },
  {
   "cell_type": "markdown",
   "metadata": {},
   "source": [
    "## Logger"
   ]
  },
  {
   "cell_type": "code",
   "execution_count": 5,
   "metadata": {},
   "outputs": [],
   "source": [
    "modulename = get_notebook_name().split('/')[-1].split('.ipynb')[0]\n",
    "logger = logging.getLogger()\n",
    "logger.setLevel(logging.INFO)\n",
    "# create formatter\n",
    "formatter = logging.Formatter('%(asctime)s - %(name)s - %(levelname)s - %(message)s')\n",
    "logfile = modulename + \".log\"\n",
    "\n",
    "def loggingSetFh(name, formatter):\n",
    "    # create file handler which logs even debug messages\n",
    "    fh = logging.FileHandler(name, mode='w')\n",
    "    fh.setLevel(logging.DEBUG)\n",
    "    # set the formatter\n",
    "    fh.setFormatter(formatter)\n",
    "    logger.addHandler(fh)\n",
    "\n",
    "loggingSetFh(logfile, formatter)"
   ]
  },
  {
   "cell_type": "markdown",
   "metadata": {},
   "source": [
    "## EPSG transformations"
   ]
  },
  {
   "cell_type": "code",
   "execution_count": 6,
   "metadata": {},
   "outputs": [],
   "source": [
    "if epsg3xxx == epsg.epsg3857:\n",
    "    epsgStr = \"epsg3857\"\n",
    "    \n",
    "if epsg3xxx == epsg.epsg3948:\n",
    "    epsgStr = \"epsg3948\""
   ]
  },
  {
   "cell_type": "markdown",
   "metadata": {},
   "source": [
    "## Scene remarkable points"
   ]
  },
  {
   "cell_type": "code",
   "execution_count": 7,
   "metadata": {},
   "outputs": [],
   "source": [
    "sys.path.insert(0, \"/home/pleroy/DATA/PoSAR-X/PIMA-1\")"
   ]
  },
  {
   "cell_type": "code",
   "execution_count": 8,
   "metadata": {},
   "outputs": [],
   "source": [
    "sceneReferencePoints = importlib.import_module(refs.split('.py')[0])\n",
    "pts = epsg.getReferencePoints(sceneReferencePoints)\n",
    "ptsLongLat = {pt: pts[pt][::-1] for pt in pts}\n",
    "ptsEpsg = {pt: epsg.wgs84LongLatToEpsg( ptsLongLat[pt], epsg3xxx ) for pt in pts}\n",
    "prefixes = epsg.getReferencePointPrefixes(pts)\n",
    "for prefix in prefixes:\n",
    "    np.save(f\"{prefix}_epsg\", \n",
    "            [ptsEpsg[pt] for pt in pts if pt.rstrip('0123456789') == prefix]\n",
    "            )"
   ]
  },
  {
   "cell_type": "code",
   "execution_count": 186,
   "metadata": {},
   "outputs": [
    {
     "data": {
      "text/plain": [
       "{'J': [1, 2, 3, 4, 5, 6, 7, 8, 9, 10, 11, 12]}"
      ]
     },
     "execution_count": 186,
     "metadata": {},
     "output_type": "execute_result"
    }
   ],
   "source": [
    "prefixes"
   ]
  },
  {
   "cell_type": "code",
   "execution_count": 9,
   "metadata": {},
   "outputs": [],
   "source": [
    "from matplotlib.cm import get_cmap"
   ]
  },
  {
   "cell_type": "markdown",
   "metadata": {},
   "source": [
    "# SBG data"
   ]
  },
  {
   "cell_type": "markdown",
   "metadata": {},
   "source": [
    "## data path definitions"
   ]
  },
  {
   "cell_type": "code",
   "execution_count": 10,
   "metadata": {},
   "outputs": [],
   "source": [
    "logLoader = sbg.LogLoader(dir_sbg, session, day, sbg_hours)"
   ]
  },
  {
   "cell_type": "markdown",
   "metadata": {},
   "source": [
    "##  logGpsPos"
   ]
  },
  {
   "cell_type": "markdown",
   "metadata": {},
   "source": [
    "### Load data"
   ]
  },
  {
   "cell_type": "code",
   "execution_count": 11,
   "metadata": {},
   "outputs": [],
   "source": [
    "gps = sbg.Log(\"sbgLogGpsPos.csv\", logLoader, delimiter=\",\")\n",
    "Lat, Long, Alt, Undulation, gpsPosStatus = [gps.data[:, gps.names.index(c)]\n",
    "                                            for c in ('latitude', 'longitude', 'altitude', 'undulation', 'status')]\n",
    "gpsPosStatus = gpsPosStatus.astype(\"uint32\")\n",
    "x, y = epsg.wgs84LongLatToEpsg( (Long, Lat), epsg3xxx )"
   ]
  },
  {
   "cell_type": "code",
   "execution_count": 12,
   "metadata": {},
   "outputs": [],
   "source": [
    "epsg.plotEpsgWithRemarkablePoints(x, y, gps, prefixes, ptsEpsg, epsgStr, day)"
   ]
  },
  {
   "cell_type": "code",
   "execution_count": 185,
   "metadata": {},
   "outputs": [
    {
     "data": {
      "text/plain": [
       "{'J': [1, 2, 3, 4, 5, 6, 7, 8, 9, 10, 11, 12]}"
      ]
     },
     "execution_count": 185,
     "metadata": {},
     "output_type": "execute_result"
    }
   ],
   "source": [
    "prefixes"
   ]
  },
  {
   "cell_type": "code",
   "execution_count": 13,
   "metadata": {},
   "outputs": [],
   "source": [
    "posStatus = np.zeros( gpsPosStatus.shape )\n",
    "posType = np.zeros( gpsPosStatus.shape )\n",
    "for idx, val in enumerate(gpsPosStatus):\n",
    "    posStatus[idx] = val & 0b000011\n",
    "    posType[idx] = np.right_shift( (val & 0b111111000000), 6)"
   ]
  },
  {
   "cell_type": "code",
   "execution_count": 14,
   "metadata": {},
   "outputs": [
    {
     "data": {
      "text/plain": [
       "[<matplotlib.lines.Line2D at 0x7f70b2195310>]"
      ]
     },
     "execution_count": 14,
     "metadata": {},
     "output_type": "execute_result"
    }
   ],
   "source": [
    "plt.figure()\n",
    "plt.subplot(411)\n",
    "plt.plot(Lat)\n",
    "plt.subplot(412)\n",
    "plt.plot(Long)\n",
    "plt.subplot(413)\n",
    "plt.plot(Alt)\n",
    "plt.subplot(414)\n",
    "plt.plot(Undulation)"
   ]
  },
  {
   "cell_type": "code",
   "execution_count": 16,
   "metadata": {},
   "outputs": [
    {
     "data": {
      "text/plain": [
       "<matplotlib.legend.Legend at 0x7f70b2b87e10>"
      ]
     },
     "execution_count": 16,
     "metadata": {},
     "output_type": "execute_result"
    }
   ],
   "source": [
    "fig, ax = plt.subplots(1,1)\n",
    "ax.plot(gps.timestamps, posStatus, label='posStatus')\n",
    "ax.plot(gps.timestamps, posType, label='posType')\n",
    "ax.grid()\n",
    "ax.legend()"
   ]
  },
  {
   "cell_type": "markdown",
   "metadata": {},
   "source": [
    "### Plot navigation data jointly with track references"
   ]
  },
  {
   "cell_type": "code",
   "execution_count": 17,
   "metadata": {},
   "outputs": [
    {
     "data": {
      "text/plain": [
       "<matplotlib.legend.Legend at 0x7f70b02de8d0>"
      ]
     },
     "execution_count": 17,
     "metadata": {},
     "output_type": "execute_result"
    }
   ],
   "source": [
    "plt.figure()\n",
    "ax = plt.subplot(111)\n",
    "ax.plot( Long, Lat )\n",
    "epsg.addRemarkablePoints(ax, prefixes, ptsLongLat)\n",
    "plt.title( f\"GPS data and track references\\n{day} {session} {sbg_hours}\" )\n",
    "plt.grid()\n",
    "plt.legend()"
   ]
  },
  {
   "cell_type": "code",
   "execution_count": 19,
   "metadata": {},
   "outputs": [],
   "source": [
    "plt.figure()\n",
    "for idx, slice_ in enumerate(gps.slices):\n",
    "    plt.plot( x[slice_], y[slice_], label=hours[idx] )\n",
    "\n",
    "ax = plt.gca()\n",
    "epsg.addRemarkablePoints(ax, prefixes, ptsEpsg)\n",
    "\n",
    "plt.xlabel(\"x\")\n",
    "plt.ylabel(\"y\")\n",
    "plt.grid()\n",
    "plt.legend()\n",
    "title = f\"{epsgStr} {day}\"\n",
    "plt.title(title)\n",
    "plt.gca().set_aspect('equal')"
   ]
  },
  {
   "cell_type": "code",
   "execution_count": 20,
   "metadata": {},
   "outputs": [],
   "source": [
    "gps_proj = epsg.wgs84LongLatToEpsg( (Long, Lat), epsg3xxx )\n",
    "np.save( root_dir + \"gps_epsg_transform\", gps_proj )"
   ]
  },
  {
   "cell_type": "markdown",
   "metadata": {},
   "source": [
    "## logGpsVel"
   ]
  },
  {
   "cell_type": "code",
   "execution_count": 21,
   "metadata": {},
   "outputs": [],
   "source": [
    "vel = sbg.Log(\"sbgLogGpsVel.dat\", logLoader)\n",
    "velNorth, velEast, velDown, course, gpsVelStatus = [vel.data[:, vel.names.index(c)]\n",
    "                                                    for c in ('velocityNorth', 'velocityEast', 'velocityDown', 'course', 'status')]\n",
    "Vel = ( velNorth**2 + velEast**2 + velDown**2) **0.5\n",
    "gpsVelStatus = gpsVelStatus.astype(\"uint32\")"
   ]
  },
  {
   "cell_type": "code",
   "execution_count": 22,
   "metadata": {},
   "outputs": [],
   "source": [
    "# STATUS\n",
    "# 0 SBG_ECOM_VEL_SOL_COMPUTED     A valid solution has been computed.\n",
    "# 1 SBG_ECOM_VEL_INSUFFICIENT_OBS Not enough valid SV to compute a solution.\n",
    "# 2 SBG_ECOM_VEL_INTERNAL_ERROR   An internal error has occurred.\n",
    "# 3 SBG_ECOM_VEL_LIMIT            Velocity limit exceeded.\n",
    "# TYPE\n",
    "# 0 SBG_ECOM_VEL_NO_SOLUTION  No valid velocity solution available.\n",
    "# 1 SBG_ECOM_VEL_UNKNOWN_TYPE An unknown solution type has been computed.\n",
    "# 2 SBG_ECOM_VEL_DOPPLER      A Doppler velocity has been computed.\n",
    "# 3 SBG_ECOM_VEL_DIFFERENTIAL A velocity has been computed between two positions.\n",
    "velStatus = np.zeros( gpsVelStatus.shape )\n",
    "velType = np.zeros( gpsVelStatus.shape )\n",
    "for idx, val in enumerate(gpsVelStatus):\n",
    "    velStatus[idx] = val & 0b000011\n",
    "    velType[idx] = np.right_shift( (val & 0b111111000000), 6)"
   ]
  },
  {
   "cell_type": "code",
   "execution_count": 24,
   "metadata": {},
   "outputs": [
    {
     "data": {
      "text/plain": [
       "<matplotlib.legend.Legend at 0x7f70b174db90>"
      ]
     },
     "execution_count": 24,
     "metadata": {},
     "output_type": "execute_result"
    }
   ],
   "source": [
    "fig, ax = plt.subplots(1,1)\n",
    "ax.plot(vel.timestamps, velStatus, label='velStatus')\n",
    "ax.plot(vel.timestamps, velType, label='velType')\n",
    "ax.grid()\n",
    "ax.legend()"
   ]
  },
  {
   "cell_type": "markdown",
   "metadata": {},
   "source": [
    "## logUtcData"
   ]
  },
  {
   "cell_type": "code",
   "execution_count": 25,
   "metadata": {},
   "outputs": [
    {
     "name": "stdout",
     "output_type": "stream",
     "text": [
      "start ... 9:13:50.750\n",
      "loop 0 ... 9:26:17.515\n",
      "loop 1 ... 10:37:52.480\n",
      "loop 2 ... 11:49:27.450\n",
      "stop ... 12:45:37.775\n"
     ]
    }
   ],
   "source": [
    "utc = sbg.LogUtcData(\"sbgLogUtcData.dat\", logLoader)"
   ]
  },
  {
   "cell_type": "markdown",
   "metadata": {},
   "source": [
    "## sbgLogEventB"
   ]
  },
  {
   "cell_type": "code",
   "execution_count": 26,
   "metadata": {},
   "outputs": [],
   "source": [
    "eventB = sbg.LogEventB(\"sbgLogEventB.dat\", logLoader, utc=utc)"
   ]
  },
  {
   "cell_type": "code",
   "execution_count": 28,
   "metadata": {},
   "outputs": [],
   "source": [
    "fig, ax = plt.subplots(1, 1)\n",
    "for slice_ in eventB.slices:\n",
    "    ax.plot(range(slice_.start, slice_.stop) , eventB.data[slice_ ,0], 'x', label=\"eventB.data\")\n",
    "    ax.plot(range(slice_.start, slice_.stop) , eventB.shiftedTimestamps[slice_ ], '.', label=\"eventB.shiftedTimestamps\")\n",
    "ax.legend()\n",
    "ax.grid()"
   ]
  },
  {
   "cell_type": "markdown",
   "metadata": {},
   "source": [
    "## logEkfEuler"
   ]
  },
  {
   "cell_type": "code",
   "execution_count": 29,
   "metadata": {},
   "outputs": [],
   "source": [
    "euler = sbg.Log(\"sbgLogEkfEuler.dat\", logLoader)\n",
    "roll, pitch, yaw = [euler.data[:, euler.names.index(c)] for c in ('roll', 'pitch', 'yaw')]"
   ]
  },
  {
   "cell_type": "markdown",
   "metadata": {},
   "source": [
    "## logEkfNav"
   ]
  },
  {
   "cell_type": "code",
   "execution_count": 30,
   "metadata": {},
   "outputs": [],
   "source": [
    "nav = sbg.Log(\"sbgLogEkfNav.dat\", logLoader)\n",
    "navLat, navLong, navAlt, navUndulation, navStatus = [nav.data[:, nav.names.index(c)]\n",
    "                                                     for c in ('Lat', 'Long', 'Alt', 'undulation', 'status')]\n",
    "nav_status = navStatus.astype(\"uint32\")"
   ]
  },
  {
   "cell_type": "code",
   "execution_count": 31,
   "metadata": {},
   "outputs": [],
   "source": [
    "solution_mode = np.zeros( nav_status.shape )\n",
    "for idx, val in enumerate(nav_status):\n",
    "    solution_mode[idx] = val & 0b1111"
   ]
  },
  {
   "cell_type": "code",
   "execution_count": 35,
   "metadata": {},
   "outputs": [],
   "source": [
    "fig, ax1 = plt.subplots(1,1)\n",
    "\n",
    "color = 'tab:blue'\n",
    "ax1.plot(nav.timestamps, solution_mode,color=color)\n",
    "ax1.set_ylabel('sbg_ecom_solution_mode', color=color)\n",
    "ax1.tick_params(axis='y', labelcolor=color)\n",
    "\n",
    "ax2 = ax1.twinx()  # instantiate a second axes that shares the same x-axis\n",
    "color = 'tab:red'\n",
    "ax2.plot(nav.timestamps, navAlt, color=color)\n",
    "ax2.set_ylabel('navAlt', color=color)\n",
    "ax2.tick_params(axis='y', labelcolor=color)\n",
    "ax2.plot(gps.timestamps, Alt, color='tab:green')\n",
    "ax2.grid()"
   ]
  },
  {
   "cell_type": "code",
   "execution_count": 40,
   "metadata": {},
   "outputs": [],
   "source": [
    "nav_proj = epsg.wgs84LongLatToEpsg((navLong, navLat), epsg3xxx)\n",
    "np.save(os.path.join(dir_out, \"nav_epsg_transform\"), nav_proj)"
   ]
  },
  {
   "cell_type": "code",
   "execution_count": 41,
   "metadata": {},
   "outputs": [
    {
     "data": {
      "text/plain": [
       "Text(0.5, 1.0, 'comparison between nav and gps data')"
      ]
     },
     "execution_count": 41,
     "metadata": {},
     "output_type": "execute_result"
    },
    {
     "name": "stderr",
     "output_type": "stream",
     "text": [
      "/home/pleroy/anaconda3/lib/python3.7/site-packages/ipykernel/eventloops.py:106: UserWarning: Creating legend with loc=\"best\" can be slow with large amounts of data.\n",
      "  app.exec_()\n"
     ]
    }
   ],
   "source": [
    "plt.figure()\n",
    "plt.plot( nav_proj[0], nav_proj[1], label = \"nav\" )\n",
    "plt.plot( gps_proj[0], gps_proj[1], label = \"gps\" )\n",
    "ax = plt.gca()\n",
    "epsg.addRemarkablePoints(ax, prefixes, ptsEpsg)\n",
    "plt.legend()\n",
    "plt.grid()\n",
    "plt.gca().set_aspect('equal')\n",
    "title = \"comparison between nav and gps data\"\n",
    "plt.title(title)"
   ]
  },
  {
   "cell_type": "code",
   "execution_count": 42,
   "metadata": {},
   "outputs": [
    {
     "name": "stderr",
     "output_type": "stream",
     "text": [
      "/home/pleroy/anaconda3/lib/python3.7/site-packages/ipykernel/eventloops.py:106: UserWarning: Creating legend with loc=\"best\" can be slow with large amounts of data.\n",
      "  app.exec_()\n"
     ]
    }
   ],
   "source": [
    "plt.figure()\n",
    "plt.plot(nav.timestamps, navAlt, label = \"nav\")\n",
    "plt.plot(gps.timestamps, Alt, '.', label = \"gps\")\n",
    "plt.legend()\n",
    "plt.grid()"
   ]
  },
  {
   "cell_type": "markdown",
   "metadata": {},
   "source": [
    "# PoSAR-MC data"
   ]
  },
  {
   "cell_type": "code",
   "execution_count": 43,
   "metadata": {},
   "outputs": [],
   "source": [
    "expectedPeriod = 900000\n",
    "args_record = 0"
   ]
  },
  {
   "cell_type": "code",
   "execution_count": 170,
   "metadata": {},
   "outputs": [],
   "source": [
    "loggingSetFh(logfile, formatter)"
   ]
  },
  {
   "cell_type": "code",
   "execution_count": 173,
   "metadata": {},
   "outputs": [
    {
     "name": "stdout",
     "output_type": "stream",
     "text": [
      "rec_dir /home/pleroy/DATA/PoSAR-C/2018_06_27_LETG/2018_06_27/jde/2018_06_27_12_39_39\n",
      "rec_dir /home/pleroy/DATA/PoSAR-C/2018_06_27_LETG/2018_06_27/jde/2018_06_27_12_45_51\n",
      "rec_dir /home/pleroy/DATA/PoSAR-C/2018_06_27_LETG/2018_06_27/jde/2018_06_27_12_52_49\n",
      "rec_dir /home/pleroy/DATA/PoSAR-C/2018_06_27_LETG/2018_06_27/jde/2018_06_27_12_59_03\n",
      "rec_dir /home/pleroy/DATA/PoSAR-C/2018_06_27_LETG/2018_06_27/jde/2018_06_27_13_05_40\n",
      "rec_dir /home/pleroy/DATA/PoSAR-C/2018_06_27_LETG/2018_06_27/jde/2018_06_27_13_11_42\n",
      "rec_dir /home/pleroy/DATA/PoSAR-C/2018_06_27_LETG/2018_06_27/jde/2018_06_27_13_18_13\n",
      "rec_dir /home/pleroy/DATA/PoSAR-C/2018_06_27_LETG/2018_06_27/jde/2018_06_27_13_24_11\n",
      "rec_dir /home/pleroy/DATA/PoSAR-C/2018_06_27_LETG/2018_06_27/jde/2018_06_27_13_30_53\n",
      "rec_dir /home/pleroy/DATA/PoSAR-C/2018_06_27_LETG/2018_06_27/jde/2018_06_27_13_36_46\n",
      "rec_dir /home/pleroy/DATA/PoSAR-C/2018_06_27_LETG/2018_06_27/jde/2018_06_27_13_43_13\n",
      "rec_dir /home/pleroy/DATA/PoSAR-C/2018_06_27_LETG/2018_06_27/jde/2018_06_27_13_49_07\n",
      "inner loopback detected at [24]\n"
     ]
    }
   ],
   "source": [
    "rec_dates = [ f\"{day}_\" + h for h in hours ]\n",
    "rec_dirs = [os.path.join(dir_posar, d) for d in rec_dates]\n",
    "records = [posar.Record(rec_dir, \"record\", \"bin\", utc=utc, period=expectedPeriod, version=\"C_v2\") for rec_dir in rec_dirs]"
   ]
  },
  {
   "cell_type": "code",
   "execution_count": 174,
   "metadata": {},
   "outputs": [
    {
     "data": {
      "text/plain": [
       "'/home/pleroy/DATA/PoSAR-C/2018_06_27_LETG/2018_06_27/jde/OUT/2018_06_27_12_52_49'"
      ]
     },
     "execution_count": 174,
     "metadata": {},
     "output_type": "execute_result"
    }
   ],
   "source": [
    "records[2].out_dir"
   ]
  },
  {
   "cell_type": "code",
   "execution_count": 126,
   "metadata": {},
   "outputs": [],
   "source": [
    "validFiles = [record.day_hour for idx, record in enumerate(records) if record.idxTime.size == 0]\n",
    "notValidFiles = [record.day_hour for idx, record in enumerate(records) if record.idxTime.size > 0]"
   ]
  },
  {
   "cell_type": "code",
   "execution_count": 127,
   "metadata": {},
   "outputs": [
    {
     "name": "stdout",
     "output_type": "stream",
     "text": [
      "*** VALID FILES ***\n",
      "['2018_06_27_12_45_51', '2018_06_27_12_52_49', '2018_06_27_12_59_03', '2018_06_27_13_11_42', '2018_06_27_13_18_13', '2018_06_27_13_24_11', '2018_06_27_13_30_53', '2018_06_27_13_36_46']\n",
      "*** NOT VALID FILES ***\n",
      "['2018_06_27_12_39_39', '2018_06_27_13_05_40', '2018_06_27_13_43_13', '2018_06_27_13_49_07'])\n"
     ]
    }
   ],
   "source": [
    "print(f\"*** VALID FILES ***\\n{validFiles}\\n*** NOT VALID FILES ***\\n{notValidFiles})\")"
   ]
  },
  {
   "cell_type": "code",
   "execution_count": 194,
   "metadata": {},
   "outputs": [
    {
     "data": {
      "text/plain": [
       "Text(0.5, 0.98, 'loopbacks during the records')"
      ]
     },
     "execution_count": 194,
     "metadata": {},
     "output_type": "execute_result"
    }
   ],
   "source": [
    "fig, (ax, ax1) = plt.subplots(2, 1, sharex=True)\n",
    "\n",
    "for index, record in enumerate(records):\n",
    "    ax.plot(record.shiftedLogEvents, record.shiftedLogEvents, '.', label=f\"{record.day_hour}\")\n",
    "ax.vlines(utc.timestamps[utc.loopbacks[1:-1]], 0, 2**32 * (len(utc.loopbacks) - 2 + 0.5))\n",
    "ax.legend()\n",
    "ax.grid()\n",
    "\n",
    "for num, slice_ in enumerate(eventB.slices):\n",
    "    ax1.plot(eventB.shiftedTimestamps[slice_], eventB.shiftedTimestamps[slice_], '.', label=eventB.loader.hours[num])\n",
    "ax1.vlines(utc.timestamps[utc.loopbacks[1:-1]], 0, 2**32 * (len(utc.loopbacks) - 2 + 0.5))\n",
    "ax1.legend()\n",
    "ax1.grid()\n",
    "fig.suptitle(\"loopbacks during the records\")"
   ]
  },
  {
   "cell_type": "code",
   "execution_count": 193,
   "metadata": {},
   "outputs": [
    {
     "data": {
      "text/plain": [
       "<matplotlib.legend.Legend at 0x7f70a0529210>"
      ]
     },
     "execution_count": 193,
     "metadata": {},
     "output_type": "execute_result"
    }
   ],
   "source": [
    "fig, (ax, ax1) = plt.subplots(2,1, sharex=True)\n",
    "\n",
    "ax.plot(record.modificationTimestamps, 's',\n",
    "        markeredgecolor='black',\n",
    "        markerfacecolor='white',\n",
    "        label=f\"modificationTimestamps ({len(record.modificationTimestamps)})\")\n",
    "ax.plot(record.logEvents, 'x',\n",
    "        markeredgecolor='black',\n",
    "        markerfacecolor='white',\n",
    "        label=f\"posarTimestamps ({len(record.logEvents)})\")\n",
    "delta = record.logEvents[0] - record.modificationTimestamps[0]\n",
    "ax.plot(record.logEvents - delta, '.',\n",
    "        markeredgecolor='black',\n",
    "        markerfacecolor='white',\n",
    "        label=f\"posarTimestamps with constant shift ({len(record.logEvents)})\")\n",
    "ax.legend()\n",
    "ax.grid()\n",
    "ax.set_title(record.day_hour)\n",
    "\n",
    "diff = np.diff(record.modificationTimestamps)\n",
    "diff1 = np.diff(record.logEvents)\n",
    "diff2 = np.diff(record.modificationSeconds) * 1e6\n",
    "ax1.plot(diff, 's',\n",
    "         markeredgecolor='black',\n",
    "         markerfacecolor='white',\n",
    "         label=\"diff modificationTimestamps\")\n",
    "ax1.plot(diff1, 'x',\n",
    "         markeredgecolor='black',\n",
    "         markerfacecolor='white',\n",
    "         label=\"diff posarTimestamps\")\n",
    "ax1.plot(diff2, 'o',\n",
    "         markeredgecolor='black',\n",
    "         markerfacecolor='yellow',\n",
    "         label=\"diff modificationSeconds\")\n",
    "ax1.grid()\n",
    "ax1.legend()"
   ]
  },
  {
   "cell_type": "code",
   "execution_count": 192,
   "metadata": {},
   "outputs": [
    {
     "data": {
      "text/plain": [
       "<matplotlib.legend.Legend at 0x7f70a08465d0>"
      ]
     },
     "execution_count": 192,
     "metadata": {},
     "output_type": "execute_result"
    }
   ],
   "source": [
    "fig, ax = plt.subplots(1, 1)\n",
    "toPlot = np.array(record.modificationSeconds) * 1e6\n",
    "ax.plot(toPlot, np.ones(len(toPlot)), 'x',\n",
    "        markeredgecolor='black',\n",
    "        markerfacecolor='white',\n",
    "        label=f\"modificationSeconds ({len(record.modificationTimestamps)})\")\n",
    "ax.grid()\n",
    "ax.legend()"
   ]
  },
  {
   "cell_type": "markdown",
   "metadata": {},
   "source": [
    "## Selected record"
   ]
  },
  {
   "cell_type": "code",
   "execution_count": 181,
   "metadata": {},
   "outputs": [],
   "source": [
    "record = records[2]"
   ]
  },
  {
   "cell_type": "code",
   "execution_count": 97,
   "metadata": {},
   "outputs": [
    {
     "data": {
      "text/plain": [
       "Text(0.5, 0.98, 'loopbacks during the records')"
      ]
     },
     "execution_count": 97,
     "metadata": {},
     "output_type": "execute_result"
    }
   ],
   "source": [
    "t0 = record.shiftedLogEvents[0]\n",
    "t1 = record.shiftedLogEvents[-1]\n",
    "delta = 10e6\n",
    "idx = np.where((eventB.shiftedTimestamps>t0-delta) & (eventB.shiftedTimestamps<t1+delta))\n",
    "\n",
    "fig, (ax, ax1) = plt.subplots(2, 1, sharex=True)\n",
    "\n",
    "ax.plot(record.shiftedLogEvents/1e6, record.shiftedLogEvents/1e6,\n",
    "        \"o\", markeredgecolor=\"k\", color=\"w\", label=f\"PoSAR LogEventB {record.day_hour}\")\n",
    "ax.plot(eventB.shiftedTimestamps[idx]/1e6, eventB.shiftedTimestamps[idx]/1e6,\n",
    "        '.r', label=\"SBG LogEventB shiftedTimestamps\")\n",
    "ax.legend()\n",
    "ax.grid()\n",
    "\n",
    "ax1.plot(record.shiftedLogEvents[1:]/1e6, np.diff(record.shiftedLogEvents),\n",
    "         \"o\", markeredgecolor=\"k\", color=\"w\", label=f\"[diff] PoSAR LogEventB {record.day_hour}\")\n",
    "ax1.plot(eventB.shiftedTimestamps[idx][1:]/1e6, np.diff(eventB.shiftedTimestamps[idx]), \n",
    "         '.r', label=\"[diff] SBG LogEventB shiftedTimestamps\")\n",
    "ax1.grid()\n",
    "ax1.legend()\n",
    "\n",
    "fig.suptitle(\"loopbacks during the records\")"
   ]
  },
  {
   "cell_type": "markdown",
   "metadata": {},
   "source": [
    "### Read parameters"
   ]
  },
  {
   "cell_type": "code",
   "execution_count": 99,
   "metadata": {},
   "outputs": [],
   "source": [
    "samplesPerRamp = record.parameters.samplesPerRamp\n",
    "rampsPerFile = record.parameters.rampsPerFile\n",
    "rampsPerBuffer = record.parameters.rampsPerBuffer\n",
    "samplesPerFile = record.parameters.samplesPerRamp * params.rampsPerFile\n",
    "buffersPerFile = record.parameters.buffersPerFile\n",
    "T_files = samplesPerFile / 10e6"
   ]
  },
  {
   "cell_type": "markdown",
   "metadata": {},
   "source": [
    "## Data interpolation"
   ]
  },
  {
   "cell_type": "code",
   "execution_count": 117,
   "metadata": {},
   "outputs": [],
   "source": [
    "def getInterpolatedGps(x, xp, Lat, Long, Alt):\n",
    "    Lat_interp = np.interp(x, xp, Lat)\n",
    "    Long_interp  = np.interp(x, xp, Long)\n",
    "    Alt_interp  = np.interp(x, xp, Alt)\n",
    "    return Lat_interp, Long_interp, Alt_interp\n",
    "\n",
    "def getInterpolatedVelCourse(x, xp, Vel, course):\n",
    "    Vel_record = np.interp(x, xp, Vel)\n",
    "    course_record  = np.interp(x, xp, course)\n",
    "    return Vel_record, course_record\n",
    "\n",
    "def getInterpolatedVel(x, xp, North, East, Down):\n",
    "    velNorth_records = np.interp(x, xp, North)\n",
    "    velEast_records  = np.interp(x, xp, East)\n",
    "    velDown_records  = np.interp(x, xp, Down)\n",
    "    return velNorth_records, velEast_records, velDown_records"
   ]
  },
  {
   "cell_type": "markdown",
   "metadata": {},
   "source": [
    "### logEkfEuler"
   ]
  },
  {
   "cell_type": "code",
   "execution_count": 119,
   "metadata": {},
   "outputs": [],
   "source": [
    "roll_selection = np.interp(record.shiftedLogEvents, euler.timestamps, roll)\n",
    "pitch_selection = np.interp(record.shiftedLogEvents, euler.timestamps, pitch)\n",
    "yaw_selection = np.interp(record.shiftedLogEvents, euler.timestamps, yaw)"
   ]
  },
  {
   "cell_type": "markdown",
   "metadata": {},
   "source": [
    "### logGpsPos"
   ]
  },
  {
   "cell_type": "code",
   "execution_count": 120,
   "metadata": {},
   "outputs": [],
   "source": [
    "Lat_Long_Alt = getInterpolatedGps(record.shiftedLogEvents, gps.timestamps, Lat, Long, Alt)\n",
    "selectedEpsg = epsg.wgs84LongLatToEpsg((Lat_Long_Alt[1], Lat_Long_Alt[0]), epsg3xxx)"
   ]
  },
  {
   "cell_type": "markdown",
   "metadata": {},
   "source": [
    "### logGpsVel"
   ]
  },
  {
   "cell_type": "code",
   "execution_count": 121,
   "metadata": {},
   "outputs": [],
   "source": [
    "Vel_course = getInterpolatedVelCourse(record.shiftedLogEvents, vel.timestamps, Vel, course)\n",
    "Vel_records = getInterpolatedVel(record.shiftedLogEvents, vel.timestamps, velNorth, velEast, velDown) "
   ]
  },
  {
   "cell_type": "markdown",
   "metadata": {},
   "source": [
    "## Plot navigation data and record periods"
   ]
  },
  {
   "cell_type": "code",
   "execution_count": 151,
   "metadata": {},
   "outputs": [],
   "source": [
    "fig, ax = plt.subplots(1,1)\n",
    "\n",
    "for index, slice_ in enumerate(gps.slices):\n",
    "    ax.plot( x[slice_], y[slice_], label=gps.loader.hours[index] )\n",
    "    \n",
    "epsg.addRemarkablePoints(ax, prefixes, ptsEpsg)\n",
    "    \n",
    "ax.plot( selectedEpsg[0], selectedEpsg[1], \".r\", markeredgecolor='black', label=record.day_hour )\n",
    "ax.set_xlabel(\"x\")\n",
    "ax.set_ylabel(\"y\")\n",
    "ax.grid()\n",
    "ax.legend()\n",
    "title = epsgStr + \" \" + day\n",
    "ax.set_title(title)\n",
    "ax.set_aspect('equal')\n",
    "fig.savefig( f\"{record.out_dir}/{title}.png\", bbox_inches='tight')"
   ]
  },
  {
   "cell_type": "code",
   "execution_count": 152,
   "metadata": {},
   "outputs": [],
   "source": [
    "fig, ax = plt.subplots(1,1)\n",
    "ax.plot( Lat_Long_Alt[1], Lat_Long_Alt[0], \".r\", markeredgecolor='black', \n",
    "         label=record.day_hour )\n",
    "title = f\"record locations-{record.day_hour}\"\n",
    "ax.set_title(title)\n",
    "ax.set_xlabel(\"Longitude\")\n",
    "ax.set_ylabel(\"Latitude\")\n",
    "ax.legend()\n",
    "ax.grid()\n",
    "fig.savefig( f\"{record.out_dir}/{title}.png\", bbox_inches='tight')"
   ]
  },
  {
   "cell_type": "code",
   "execution_count": 153,
   "metadata": {},
   "outputs": [],
   "source": [
    "fig, ax = plt.subplots(1,1)\n",
    "ax.plot( gps.timestamps, Alt )\n",
    "ax.plot( record.shiftedLogEvents, Lat_Long_Alt[2], \"yD\", markeredgecolor = 'black' )\n",
    "ax.grid()\n",
    "title = \"Altitude - \" + record.day_hour + \" - files {} to {}\".format(record.binNums[0], record.binNums[-1])\n",
    "ax.set_title( title )\n",
    "fig.savefig( f\"{record.out_dir}/{title}.png\", bbox_inches='tight')"
   ]
  },
  {
   "cell_type": "code",
   "execution_count": 154,
   "metadata": {},
   "outputs": [],
   "source": [
    "files = \"files {} to {}\".format(record.binNums[0], record.binNums[-1])"
   ]
  },
  {
   "cell_type": "code",
   "execution_count": 159,
   "metadata": {},
   "outputs": [],
   "source": [
    "plt.figure()\n",
    "\n",
    "title = \"altitude - velocity - course \" + record.day_hour\n",
    "\n",
    "plt.subplot(311)\n",
    "plt.title( title )\n",
    "plt.plot(record.shiftedLogEvents, Lat_Long_Alt[2], 'Dy', markeredgecolor = 'k', label=\"altitude \" + files)\n",
    "plt.legend()\n",
    "plt.grid()\n",
    "\n",
    "plt.subplot(312)\n",
    "plt.plot(record.shiftedLogEvents, Vel_course[0], 'Dy', markeredgecolor = 'k', label=\"velocity \" + files)\n",
    "plt.legend()\n",
    "plt.grid()\n",
    "\n",
    "courseInDeg = Vel_course[1]\n",
    "courseInRad = Vel_course[1] / 180 * np.pi\n",
    "courseUnWrapped = np.unwrap(courseInRad, discont=np.pi) * 180 / np.pi\n",
    "plt.subplot(313)\n",
    "plt.plot(record.shiftedLogEvents, courseInDeg, 'Dy', markeredgecolor = 'k', label=\"course \" + files)\n",
    "plt.legend()\n",
    "plt.grid()\n",
    "\n",
    "plt.savefig(record.out_dir + \"/\" + title + \".png\", bbox_inches='tight')"
   ]
  },
  {
   "cell_type": "code",
   "execution_count": 183,
   "metadata": {},
   "outputs": [],
   "source": [
    "plt.figure()\n",
    "\n",
    "title = \"pitch - roll - yaw \" + record.day_hour\n",
    "\n",
    "plt.subplot(311)\n",
    "plt.title( title )\n",
    "plt.plot(record.shiftedLogEvents, pitch_selection * 180 / np.pi, 'Dy', markeredgecolor = 'k', label=\"pitch [°] \" + files)\n",
    "plt.legend()\n",
    "plt.grid()\n",
    "\n",
    "plt.subplot(312)\n",
    "plt.plot(record.shiftedLogEvents, roll_selection * 180 / np.pi, 'Dy', markeredgecolor = 'k',  label=\"roll [°] \" + files)\n",
    "plt.legend()\n",
    "plt.grid()\n",
    "\n",
    "plt.subplot(313)\n",
    "plt.plot(record.shiftedLogEvents, np.unwrap(yaw_selection) * 180 / np.pi, 'Dy', markeredgecolor = 'k',  label=\"yaw [°] \" + files)\n",
    "plt.legend()\n",
    "plt.grid()\n",
    "\n",
    "plt.savefig(record.out_dir + \"/\" + title + \".png\", bbox_inches='tight')"
   ]
  },
  {
   "cell_type": "code",
   "execution_count": 184,
   "metadata": {},
   "outputs": [],
   "source": [
    "plt.figure(figsize=(8, 6))\n",
    "\n",
    "title = \"north - east - down \" + record.day_hour\n",
    "\n",
    "plt.subplot(311)\n",
    "plt.title( title )\n",
    "plt.plot(record.shiftedLogEvents, Vel_records[0], 'Dy', markeredgecolor = 'k', label=\"north [m/s] \" + files)\n",
    "plt.legend()\n",
    "plt.grid()\n",
    "\n",
    "plt.subplot(312)\n",
    "plt.plot(record.shiftedLogEvents, Vel_records[1], 'Dy', markeredgecolor = 'k',  label=\"east [m/s] \" + files)\n",
    "plt.legend()\n",
    "plt.grid()\n",
    "\n",
    "plt.subplot(313)\n",
    "plt.plot(record.shiftedLogEvents, Vel_records[2], 'Dy', markeredgecolor = 'k',  label=\"down [m/s] \" + files)\n",
    "plt.legend()\n",
    "plt.grid()\n",
    "\n",
    "plt.savefig(record.out_dir + \"/\" + title + \".png\", bbox_inches='tight')"
   ]
  },
  {
   "cell_type": "code",
   "execution_count": 179,
   "metadata": {},
   "outputs": [
    {
     "data": {
      "text/plain": [
       "'/home/pleroy/DATA/PoSAR-C/2018_06_27_LETG/2018_06_27/jde/2018_06_27_12_52_49'"
      ]
     },
     "execution_count": 179,
     "metadata": {},
     "output_type": "execute_result"
    }
   ],
   "source": [
    "record.out_dir"
   ]
  },
  {
   "cell_type": "markdown",
   "metadata": {},
   "source": [
    "# Track approximation"
   ]
  },
  {
   "cell_type": "markdown",
   "metadata": {},
   "source": [
    "## Orientation vector"
   ]
  },
  {
   "cell_type": "code",
   "execution_count": null,
   "metadata": {},
   "outputs": [],
   "source": [
    "# East-West s0  => s1  14_12_21\n",
    "# West-East s2  => s3  14_14_43\n",
    "# South-North s4 => s5 14_18_28\n",
    "# North-South s6 => s7 14_21_00\n",
    "xA, yA = s4_epsg\n",
    "xB, yB = s5_epsg\n",
    "JA = s4\n",
    "JB = s5"
   ]
  },
  {
   "cell_type": "code",
   "execution_count": null,
   "metadata": {},
   "outputs": [],
   "source": [
    "xAB = (xB - xA) / ( (xB - xA)**2 + (yB - yA)**2 )**0.5\n",
    "yAB = (yB - yA) / ( (xB - xA)**2 + (yB - yA)**2 )**0.5"
   ]
  },
  {
   "cell_type": "code",
   "execution_count": null,
   "metadata": {},
   "outputs": [],
   "source": [
    "# unit vectors\n",
    "ux = ( xAB, yAB )\n",
    "uy = ( -yAB, xAB )"
   ]
  },
  {
   "cell_type": "code",
   "execution_count": null,
   "metadata": {},
   "outputs": [],
   "source": [
    "# build sceneReferencePoint\n",
    "JA_epsg = epsg.wgs84ToEpsg( (JA[1], JA[0]), epsg3xxx )\n",
    "JB_epsg = epsg.wgs84ToEpsg( (JB[1], JB[0]), epsg3xxx )\n",
    "JAJB = ( (JA_epsg[0]+JB_epsg[0])/2,\n",
    "        (JA_epsg[1]+JB_epsg[1])/2 )\n",
    "shiftInY = 0\n",
    "sceneReferencePoint = JAJB[0] + shiftInY * uy[0], JAJB[1] + shiftInY * uy[1]"
   ]
  },
  {
   "cell_type": "code",
   "execution_count": null,
   "metadata": {},
   "outputs": [],
   "source": [
    "import json"
   ]
  },
  {
   "cell_type": "code",
   "execution_count": null,
   "metadata": {},
   "outputs": [],
   "source": [
    "track_model = { \"trackModel\" : \"model(x, p) = p[1]*x + p[2]\",\n",
    "               \"ux\" : (ux[0], ux[1]),\n",
    "               \"uy\" : (uy[0], uy[1]),\n",
    "               \"origX\" : sceneReferencePoint[0],\n",
    "               \"origY\" : sceneReferencePoint[1]\n",
    "              }"
   ]
  },
  {
   "cell_type": "code",
   "execution_count": null,
   "metadata": {},
   "outputs": [],
   "source": [
    "track_model"
   ]
  },
  {
   "cell_type": "code",
   "execution_count": null,
   "metadata": {},
   "outputs": [],
   "source": [
    "trackFilename = data_dir[selectedRecord] + \"/track_model.json\"\n",
    "with open( trackFilename, 'w' ) as f:\n",
    "    json.dump( track_model, f )"
   ]
  },
  {
   "cell_type": "code",
   "execution_count": null,
   "metadata": {},
   "outputs": [],
   "source": [
    "x_selection = np.interp( selectedTimeStamp, gpsNewTimestamps, gps_proj[0] )\n",
    "y_selection = np.interp( selectedTimeStamp, gpsNewTimestamps, gps_proj[1] )\n",
    "np.save( data_dir[selectedRecord] + \"/track_selection_proj\", np.stack( (x_selection, y_selection ), -1 ) )"
   ]
  },
  {
   "cell_type": "code",
   "execution_count": null,
   "metadata": {},
   "outputs": [],
   "source": [
    "plt.figure()\n",
    "\n",
    "plt.plot( gps_proj[0], gps_proj[1], \"gray\" )\n",
    "\n",
    "plt.plot( x_selection, y_selection, 'Dy', markerEdgecolor='k',\n",
    "        label = \"files {} to {} \".format( firstRecord, nbRecords[selectedRecord] ) + data_date[selectedRecord] )\n",
    "\n",
    "ax = plt.gca()\n",
    "ax.set_aspect(\"equal\")\n",
    "plt.xlabel(\"location of the records in the scene coordinate system\\n\")\n",
    "plt.grid()\n",
    "plt.legend()\n",
    "ax = plt.gca()"
   ]
  },
  {
   "cell_type": "code",
   "execution_count": null,
   "metadata": {},
   "outputs": [],
   "source": [
    "tmpJA = epsg.wgs84ToEpsg( (JA[1], JA[0]), epsg3xxx )\n",
    "tmpJB = epsg.wgs84ToEpsg( (JB[1], JB[0]), epsg3xxx )\n",
    "                      \n",
    "plt.figure()\n",
    "plt.plot(gps_proj[0], gps_proj[1])\n",
    "plt.plot(tmpJA[0], tmpJA[1], 'o', markeredgecolor='k', label=\"JA\")\n",
    "plt.plot(tmpJB[0], tmpJB[1], 'o', markeredgecolor='k', label=\"JB\")\n",
    "plt.plot(JAJB[0], JAJB[1], 'o', markeredgecolor='k', label=\"reference track center\")\n",
    "plt.plot(sceneReferencePoint[0], sceneReferencePoint[1], 'o', markeredgecolor='k', label=\"scene reference point\")\n",
    "plt.gca().set_aspect(\"equal\")\n",
    "plt.grid()\n",
    "plt.legend()\n",
    "title = \"transformation from WGS84 to \" + epsgStr + \"\\n\" + data_dir[selectedRecord]\n",
    "plt.title(title)\n",
    "ax = plt.gca()"
   ]
  },
  {
   "cell_type": "markdown",
   "metadata": {
    "toc-hr-collapsed": true,
    "toc-nb-collapsed": true
   },
   "source": [
    "# Interpolate navigation data for all ramps"
   ]
  },
  {
   "cell_type": "code",
   "execution_count": null,
   "metadata": {},
   "outputs": [],
   "source": [
    "# rampNumber timeStamp x y z\n",
    "nbRecordToAdd = 10\n",
    "\n",
    "rampNumber = np.arange( rampsPerFile * ( nbRecords[selectedRecord] + nbRecordToAdd ) )\n",
    "\n",
    "rampNumber_ext = np.arange(nbRecords[selectedRecord] + nbRecordToAdd) * rampsPerFile\n",
    "\n",
    "lastDelta = selectedTimeStamp[-1] - selectedTimeStamp[-2]\n",
    "# there is a difference between the number of valid timestamps and the number of records\n",
    "diffValidTimestampsNbRecords = selectedTimeStamp.size - nbRecords[selectedRecord]\n",
    "addedTimestamps = np.arange( 1, nbRecordToAdd - diffValidTimestampsNbRecords + 1 ) * lastDelta\n",
    "print(\"lastDelta = {}\".format(lastDelta) )\n",
    "timeStamp_ext_a = np.concatenate( (selectedTimeStamp, \n",
    "                                 selectedTimeStamp[-1] + addedTimestamps ) )"
   ]
  },
  {
   "cell_type": "code",
   "execution_count": null,
   "metadata": {},
   "outputs": [],
   "source": [
    "timestampsAllRamps = np.interp( rampNumber, rampNumber_ext, timeStamp_ext_a)"
   ]
  },
  {
   "cell_type": "markdown",
   "metadata": {},
   "source": [
    "## logGpsPos (a)\n",
    "Two options: numpy.interp vs scipy.interpolate.interp1d (with kind='linear')"
   ]
  },
  {
   "cell_type": "markdown",
   "metadata": {},
   "source": [
    "### xyz"
   ]
  },
  {
   "cell_type": "code",
   "execution_count": null,
   "metadata": {},
   "outputs": [],
   "source": [
    "gps_x = np.interp( timestampsAllRamps, gpsNewTimestamps, gps_proj[0] )\n",
    "gps_y = np.interp( timestampsAllRamps, gpsNewTimestamps, gps_proj[1] )\n",
    "gps_z = np.interp( timestampsAllRamps, gpsNewTimestamps, Alt )\n",
    "xyz_proj_allRamps = np.stack( (rampNumber, timestampsAllRamps, \n",
    "                               gps_x, gps_y, gps_z), -1 )"
   ]
  },
  {
   "cell_type": "code",
   "execution_count": null,
   "metadata": {},
   "outputs": [],
   "source": [
    "np.save( data_dir[selectedRecord] + \"/rampNumber_timeStamp_xyz_gps_a\", xyz_proj_allRamps )"
   ]
  },
  {
   "cell_type": "code",
   "execution_count": null,
   "metadata": {},
   "outputs": [],
   "source": [
    "plt.figure()\n",
    "plt.plot( gps_x, gps_y, '.b', label = 'ramps' )\n",
    "plt.plot( x_selection, y_selection, \n",
    "         'D', markerfacecolor='None', markeredgecolor='red',\n",
    "         label = \"files {} to {}\".format( firstRecord, nbRecords[selectedRecord] ) )\n",
    "plt.legend()\n",
    "plt.title(\"xy\")\n",
    "plt.grid()"
   ]
  },
  {
   "cell_type": "markdown",
   "metadata": {},
   "source": [
    "### lla latitude longitude altitude"
   ]
  },
  {
   "cell_type": "code",
   "execution_count": null,
   "metadata": {},
   "outputs": [],
   "source": [
    "allRamps_lat = np.interp( timestampsAllRamps, gpsNewTimestamps, Lat )\n",
    "allRamps_long = np.interp( timestampsAllRamps, gpsNewTimestamps, Long )\n",
    "allRamps_alt = np.interp( timestampsAllRamps, gpsNewTimestamps, Alt )\n",
    "latLongAlt_allRamps = np.stack( (rampNumber, timestampsAllRamps,\n",
    "                                 allRamps_lat, allRamps_long, allRamps_alt), -1 )"
   ]
  },
  {
   "cell_type": "code",
   "execution_count": null,
   "metadata": {},
   "outputs": [],
   "source": [
    "np.save( data_dir[selectedRecord] + \"/rampNumber_timeStamp_latLongAlt_gps_a\", latLongAlt_allRamps )"
   ]
  },
  {
   "cell_type": "markdown",
   "metadata": {},
   "source": [
    "## logEkfNav (a)"
   ]
  },
  {
   "cell_type": "code",
   "execution_count": null,
   "metadata": {},
   "outputs": [],
   "source": [
    "nav_x = np.interp( timestampsAllRamps, navNewTimestamps, nav_proj[0] )\n",
    "nav_y = np.interp( timestampsAllRamps, navNewTimestamps, nav_proj[1] )\n",
    "nav_z = np.interp( timestampsAllRamps, navNewTimestamps, nav_Alt )\n",
    "nav_u = np.interp( timestampsAllRamps, navNewTimestamps, nav_Undulation )\n",
    "nav_xyz_allRamps = np.stack( (rampNumber, timestampsAllRamps, \n",
    "                              nav_x, nav_y, nav_z), -1 )"
   ]
  },
  {
   "cell_type": "code",
   "execution_count": null,
   "metadata": {},
   "outputs": [],
   "source": [
    "np.save( data_dir[selectedRecord] + \"/rampNumber_timeStamp_xyz_nav_a\", nav_xyz_allRamps )"
   ]
  },
  {
   "cell_type": "code",
   "execution_count": null,
   "metadata": {},
   "outputs": [],
   "source": [
    "nav_allRamps_lat = np.interp( timestampsAllRamps, navNewTimestamps, nav_Lat )\n",
    "nav_allRamps_long = np.interp( timestampsAllRamps, navNewTimestamps, nav_Long )\n",
    "nav_allRamps_alt = np.interp( timestampsAllRamps, navNewTimestamps, nav_Alt )\n",
    "nav_latLongAlt_allRamps = np.stack( (rampNumber, timestampsAllRamps, \n",
    "                              nav_allRamps_lat, nav_allRamps_long, nav_allRamps_alt), -1 )"
   ]
  },
  {
   "cell_type": "code",
   "execution_count": null,
   "metadata": {},
   "outputs": [],
   "source": [
    "np.save( data_dir[selectedRecord] + \"/rampNumber_timeStamp_latLongAlt_nav_a\", nav_latLongAlt_allRamps )"
   ]
  },
  {
   "cell_type": "markdown",
   "metadata": {},
   "source": [
    "## Compare gps and nav"
   ]
  },
  {
   "cell_type": "code",
   "execution_count": null,
   "metadata": {},
   "outputs": [],
   "source": [
    "plt.figure()\n",
    "plt.plot( gps_x, gps_y, label=\"gps\" )\n",
    "plt.plot( nav_x, nav_y, label=\"nav\" )\n",
    "plt.legend()\n",
    "plt.grid()\n",
    "plt.title(\"x-y\")"
   ]
  },
  {
   "cell_type": "code",
   "execution_count": null,
   "metadata": {},
   "outputs": [],
   "source": [
    "plt.figure()\n",
    "plt.plot( gps_z, label=\"gps\"  )\n",
    "plt.plot( nav_z, label=\"nav\" )\n",
    "plt.legend()\n",
    "plt.grid()\n",
    "plt.title(\"z\")"
   ]
  },
  {
   "cell_type": "markdown",
   "metadata": {},
   "source": [
    "## logGpsPos (b)"
   ]
  },
  {
   "cell_type": "code",
   "execution_count": null,
   "metadata": {},
   "outputs": [],
   "source": [
    "# rampNumber timeStamp x y z\n",
    "\n",
    "timeStamp_ext_b = timeStamp_ext_a + params.rampPeriod / 2\n",
    "\n",
    "timeStamp = np.interp( rampNumber, rampNumber_ext, timeStamp_ext_b)\n",
    "x = np.interp( timeStamp, gpsNewTimestamps, gps_proj[0] )\n",
    "y = np.interp( timeStamp, gpsNewTimestamps, gps_proj[1] )\n",
    "z = np.interp( timeStamp, gpsNewTimestamps, Alt )\n",
    "xyz_proj_allRamps = np.stack( (rampNumber, timeStamp, x, y, z), -1 )"
   ]
  },
  {
   "cell_type": "code",
   "execution_count": null,
   "metadata": {},
   "outputs": [],
   "source": [
    "np.save( data_dir[selectedRecord] + \"/rampNumber_timeStamp_xyz_b\", xyz_proj_allRamps )"
   ]
  },
  {
   "cell_type": "code",
   "execution_count": null,
   "metadata": {},
   "outputs": [],
   "source": []
  }
 ],
 "metadata": {
  "kernelspec": {
   "display_name": "Python 3",
   "language": "python",
   "name": "python3"
  },
  "language_info": {
   "codemirror_mode": {
    "name": "ipython",
    "version": 3
   },
   "file_extension": ".py",
   "mimetype": "text/x-python",
   "name": "python",
   "nbconvert_exporter": "python",
   "pygments_lexer": "ipython3",
   "version": "3.7.6"
  },
  "toc": {
   "base_numbering": 1,
   "nav_menu": {},
   "number_sections": true,
   "sideBar": true,
   "skip_h1_title": false,
   "title_cell": "Table of Contents",
   "title_sidebar": "Contents",
   "toc_cell": false,
   "toc_position": {
    "height": "calc(100% - 180px)",
    "left": "10px",
    "top": "150px",
    "width": "325px"
   },
   "toc_section_display": true,
   "toc_window_display": true
  },
  "toc-autonumbering": true,
  "toc-showcode": false,
  "toc-showmarkdowntxt": false,
  "toc-showtags": false,
  "varInspector": {
   "cols": {
    "lenName": 16,
    "lenType": 16,
    "lenVar": 40
   },
   "kernels_config": {
    "python": {
     "delete_cmd_postfix": "",
     "delete_cmd_prefix": "del ",
     "library": "var_list.py",
     "varRefreshCmd": "print(var_dic_list())"
    },
    "r": {
     "delete_cmd_postfix": ") ",
     "delete_cmd_prefix": "rm(",
     "library": "var_list.r",
     "varRefreshCmd": "cat(var_dic_list()) "
    }
   },
   "types_to_exclude": [
    "module",
    "function",
    "builtin_function_or_method",
    "instance",
    "_Feature"
   ],
   "window_display": false
  }
 },
 "nbformat": 4,
 "nbformat_minor": 4
}
