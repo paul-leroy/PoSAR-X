{
 "cells": [
  {
   "cell_type": "markdown",
   "metadata": {},
   "source": [
    "# Initialisation"
   ]
  },
  {
   "cell_type": "markdown",
   "metadata": {},
   "source": [
    "## Imports"
   ]
  },
  {
   "cell_type": "code",
   "execution_count": 1,
   "metadata": {},
   "outputs": [],
   "source": [
    "import sys, os, csv, json\n",
    "import logging, importlib\n",
    "\n",
    "import numpy as np\n",
    "import matplotlib.pyplot as plt\n",
    "%matplotlib qt5\n",
    "\n",
    "%load_ext autoreload\n",
    "%autoreload 2\n",
    "\n",
    "sys.path.insert(0, \"/home/pleroy/DEV/processing/PoSAR-MC\")\n",
    "import posarmctools.ekfnavtools as ekf\n",
    "import posarmctools.epsgtools as epsg\n",
    "import posarmctools.posar as posar\n",
    "import posarmctools.sbg as sbg\n",
    "from posarmctools import getNotebookLogger"
   ]
  },
  {
   "cell_type": "code",
   "execution_count": 2,
   "metadata": {},
   "outputs": [],
   "source": [
    "import pyproj"
   ]
  },
  {
   "cell_type": "markdown",
   "metadata": {},
   "source": [
    "## Parameters"
   ]
  },
  {
   "cell_type": "code",
   "execution_count": 3,
   "metadata": {},
   "outputs": [],
   "source": [
    "conf = posar.FlightParams(\"/home/pleroy/DATA/PoSAR-X/PIMA-1/flight2.ini\")\n",
    "root_dir = os.path.join(conf.dir_posar, conf.day)\n",
    "out_dir = os.path.join(conf.dir_posar, conf.day, \"OUT\")\n",
    "withPlots = 0\n",
    "epsg3xxx = epsg.epsg3948\n",
    "epsgStr = \"epsg3948\""
   ]
  },
  {
   "cell_type": "markdown",
   "metadata": {},
   "source": [
    "## Logger"
   ]
  },
  {
   "cell_type": "code",
   "execution_count": 4,
   "metadata": {},
   "outputs": [],
   "source": [
    "logger = getNotebookLogger()"
   ]
  },
  {
   "cell_type": "markdown",
   "metadata": {},
   "source": [
    "## Scene remarkable points"
   ]
  },
  {
   "cell_type": "code",
   "execution_count": 5,
   "metadata": {},
   "outputs": [],
   "source": [
    "sys.path.insert(0, \"/home/pleroy/DATA/PoSAR-X/PIMA-1\")"
   ]
  },
  {
   "cell_type": "code",
   "execution_count": 6,
   "metadata": {},
   "outputs": [],
   "source": [
    "pts, ptsEpsg, ptsDict = epsg.getReferencePoints(conf.refs, epsg3xxx)"
   ]
  },
  {
   "cell_type": "code",
   "execution_count": 7,
   "metadata": {},
   "outputs": [],
   "source": [
    "np.save(os.path.join(root_dir, \"OUT\", \"corner_epsg\"), ptsEpsg[\"corner\"])\n",
    "np.save(os.path.join(root_dir, \"OUT\", \"hangar_epsg\"), [ptsEpsg[key] for key in (\"h0\", \"h1\", \"h2\", \"h3\")])\n",
    "np.save(os.path.join(root_dir, \"OUT\", \"runaway_epsg\"), [ptsEpsg[key] for key in (\"p0\", \"p1\", \"p2\", \"p3\")])\n",
    "np.save(os.path.join(root_dir, \"OUT\", \"s_epsg\"), [ptsEpsg[key] for key in (\"s0\", \"s1\", \"s2\", \"s3\", \"s4\", \"s5\", \"s6\", \"s7\")])"
   ]
  },
  {
   "cell_type": "markdown",
   "metadata": {},
   "source": [
    "# SBG data"
   ]
  },
  {
   "cell_type": "markdown",
   "metadata": {},
   "source": [
    "## data path definitions"
   ]
  },
  {
   "cell_type": "code",
   "execution_count": 8,
   "metadata": {},
   "outputs": [],
   "source": [
    "logLoader = sbg.LogLoader(conf.dir_sbg, conf.session, conf.day, conf.sbg_hours)"
   ]
  },
  {
   "cell_type": "code",
   "execution_count": 9,
   "metadata": {},
   "outputs": [],
   "source": [
    "gps = sbg.LogGpsPos(\"sbgLogGpsPos.csv\", logLoader, delimiter=\",\")"
   ]
  },
  {
   "cell_type": "code",
   "execution_count": 10,
   "metadata": {},
   "outputs": [],
   "source": [
    "x, y = epsg.wgs84LongLatToEpsg( (gps.long, gps.lat), epsg3xxx )\n",
    "gpsEpsg = epsg.wgs84LongLatToEpsg( (gps.long, gps.lat), epsg3xxx )\n",
    "np.save( out_dir + \"/gps_epsg_transform\", gpsEpsg)"
   ]
  },
  {
   "cell_type": "code",
   "execution_count": 11,
   "metadata": {},
   "outputs": [],
   "source": [
    "vel = sbg.LogGpsVel(\"sbgLogGpsVel.dat\", logLoader)"
   ]
  },
  {
   "cell_type": "code",
   "execution_count": 12,
   "metadata": {},
   "outputs": [
    {
     "name": "stdout",
     "output_type": "stream",
     "text": [
      "start ... 0:6:56.525\n",
      "no loopback detected\n",
      "stop ... 12:35:46.905\n"
     ]
    }
   ],
   "source": [
    "utc = sbg.LogUtcData(\"sbgLogUtcData.dat\", logLoader)"
   ]
  },
  {
   "cell_type": "code",
   "execution_count": 13,
   "metadata": {},
   "outputs": [],
   "source": [
    "eventB = sbg.LogEventB(\"sbgLogEventB.dat\", logLoader, utc=utc)"
   ]
  },
  {
   "cell_type": "code",
   "execution_count": 14,
   "metadata": {},
   "outputs": [],
   "source": [
    "euler = sbg.LogEkfEuler(\"sbgLogEkfEuler.dat\", logLoader)"
   ]
  },
  {
   "cell_type": "code",
   "execution_count": 15,
   "metadata": {},
   "outputs": [],
   "source": [
    "nav = sbg.LogEkfNav(\"sbgLogEkfNav.dat\", logLoader)"
   ]
  },
  {
   "cell_type": "code",
   "execution_count": 16,
   "metadata": {},
   "outputs": [],
   "source": [
    "navEpsg = epsg.wgs84LongLatToEpsg((nav.long, nav.lat), epsg3xxx)\n",
    "np.save(os.path.join(out_dir, \"nav_epsg_transform\"), navEpsg)"
   ]
  },
  {
   "cell_type": "markdown",
   "metadata": {},
   "source": [
    "# PoSAR-MC data"
   ]
  },
  {
   "cell_type": "code",
   "execution_count": 130,
   "metadata": {},
   "outputs": [],
   "source": [
    "expectedPeriod = 1000000"
   ]
  },
  {
   "cell_type": "code",
   "execution_count": 131,
   "metadata": {},
   "outputs": [
    {
     "name": "stdout",
     "output_type": "stream",
     "text": [
      "rec_dir /home/pleroy/DATA/PoSAR-X/PIMA-1/2019_07_12/2019_07_12_14_12_21\n",
      "rec_dir /home/pleroy/DATA/PoSAR-X/PIMA-1/2019_07_12/2019_07_12_14_14_43\n",
      "rec_dir /home/pleroy/DATA/PoSAR-X/PIMA-1/2019_07_12/2019_07_12_14_18_28\n",
      "rec_dir /home/pleroy/DATA/PoSAR-X/PIMA-1/2019_07_12/2019_07_12_14_21_00\n"
     ]
    }
   ],
   "source": [
    "rec_dates = [f\"{conf.day}_\" + h for h in conf.hours]\n",
    "rec_dirs = [os.path.join(conf.dir_posar, conf.day, d) for d in rec_dates]\n",
    "records = [posar.Record(rec_dir, \"record\", \"bin\", utc=utc, period=expectedPeriod, version=\"X_v1\") for rec_dir in rec_dirs]"
   ]
  },
  {
   "cell_type": "code",
   "execution_count": 132,
   "metadata": {},
   "outputs": [],
   "source": [
    "validFiles = [record.day_hour for idx, record in enumerate(records) if record.idxTime.size == 0]\n",
    "notValidFiles = [record.day_hour for idx, record in enumerate(records) if record.idxTime.size > 0]"
   ]
  },
  {
   "cell_type": "code",
   "execution_count": 133,
   "metadata": {},
   "outputs": [
    {
     "name": "stdout",
     "output_type": "stream",
     "text": [
      "*** VALID FILES ***\n",
      "['2019_07_12_14_12_21', '2019_07_12_14_14_43', '2019_07_12_14_18_28', '2019_07_12_14_21_00']\n",
      "*** NOT VALID FILES ***\n",
      "[])\n"
     ]
    }
   ],
   "source": [
    "print(f\"*** VALID FILES ***\\n{validFiles}\\n*** NOT VALID FILES ***\\n{notValidFiles})\")"
   ]
  },
  {
   "cell_type": "markdown",
   "metadata": {},
   "source": [
    "# Build record data"
   ]
  },
  {
   "cell_type": "code",
   "execution_count": 166,
   "metadata": {},
   "outputs": [],
   "source": [
    "record = records[3]"
   ]
  },
  {
   "cell_type": "code",
   "execution_count": 167,
   "metadata": {},
   "outputs": [],
   "source": [
    "roll_selection = np.interp(record.shiftedLogEvents, euler.timestamps, euler.roll)\n",
    "pitch_selection = np.interp(record.shiftedLogEvents, euler.timestamps, euler.pitch)\n",
    "yaw_selection = np.interp(record.shiftedLogEvents, euler.timestamps, euler.yaw)\n",
    "Lat_Long_Alt = ekf.getInterpolatedGps(record.shiftedLogEvents, gps)\n",
    "selectedEpsg = epsg.wgs84LongLatToEpsg((Lat_Long_Alt[1], Lat_Long_Alt[0]), epsg3xxx)\n",
    "Vel_course = ekf.getInterpolatedVelCourse(record.shiftedLogEvents, vel)\n",
    "Vel_records = ekf.getInterpolatedVel(record.shiftedLogEvents, vel)\n",
    "x_selection = np.interp(record.shiftedLogEvents, gps.timestamps, gpsEpsg[0])\n",
    "y_selection = np.interp(record.shiftedLogEvents, gps.timestamps, gpsEpsg[1])\n",
    "np.save(record.out_dir + \"/track_selection_proj\", np.stack((x_selection, y_selection), -1))"
   ]
  },
  {
   "cell_type": "markdown",
   "metadata": {},
   "source": [
    "## Track approximation"
   ]
  },
  {
   "cell_type": "code",
   "execution_count": 168,
   "metadata": {},
   "outputs": [],
   "source": [
    "JA, JB = [pts[ref] for ref in conf.hours[record.hour]]\n",
    "xA, yA = ptsEpsg[conf.hours[record.hour][0]]\n",
    "xB, yB = ptsEpsg[conf.hours[record.hour][1]]\n",
    "xAB = (xB - xA) / ( (xB - xA)**2 + (yB - yA)**2 )**0.5\n",
    "yAB = (yB - yA) / ( (xB - xA)**2 + (yB - yA)**2 )**0.5\n",
    "ux = ( xAB, yAB )\n",
    "uy = ( -yAB, xAB )\n",
    "\n",
    "# build sceneReferencePoint\n",
    "JA_epsg = epsg.wgs84LongLatToEpsg((JA[1], JA[0]), epsg3xxx)\n",
    "JB_epsg = epsg.wgs84LongLatToEpsg((JB[1], JB[0]), epsg3xxx)\n",
    "JAJB = ( (JA_epsg[0]+JB_epsg[0])/2,\n",
    "        (JA_epsg[1]+JB_epsg[1])/2 )\n",
    "shiftInY = 0\n",
    "sceneReferencePoint = JAJB[0] + shiftInY * uy[0], JAJB[1] + shiftInY * uy[1]\n",
    "\n",
    "track_model = {\"trackModel\" : \"model(x, p) = p[1]*x + p[2]\",\n",
    "               \"ux\" : (ux[0], ux[1]),\n",
    "               \"uy\" : (uy[0], uy[1]),\n",
    "               \"origX\" : sceneReferencePoint[0],\n",
    "               \"origY\" : sceneReferencePoint[1]\n",
    "              }\n",
    "\n",
    "trackFilename = record.out_dir + \"/track_model.json\"\n",
    "with open( trackFilename, 'w' ) as f:\n",
    "    json.dump( track_model, f )"
   ]
  },
  {
   "cell_type": "markdown",
   "metadata": {},
   "source": [
    "## Interpolate navigation data for all ramps"
   ]
  },
  {
   "cell_type": "code",
   "execution_count": 169,
   "metadata": {},
   "outputs": [],
   "source": [
    "# GPS\n",
    "\n",
    "gps_xyz_a, gps_xyz_b = epsg.interpolate_xyz(record, gps, gpsEpsg)\n",
    "np.save(record.out_dir + \"/rampNumber_timeStamp_xyz_gps_a\", gps_xyz_a)\n",
    "np.save(record.out_dir + \"/rampNumber_timeStamp_xyz_gps_b\", gps_xyz_b)\n",
    "gps_lla_a, gps_lla_b = epsg.interpolate_lla(record, gps)\n",
    "np.save(record.out_dir + \"/rampNumber_timeStamp_lla_gps_a\", gps_lla_a)\n",
    "np.save(record.out_dir + \"/rampNumber_timeStamp_lla_gps_b\", gps_lla_b)\n",
    "\n",
    "# NAV\n",
    "\n",
    "nav_xyz_a, nav_xyz_b = epsg.interpolate_xyz(record, nav, navEpsg)\n",
    "np.save(record.out_dir + \"/n_time_xyz_nav_a\", nav_xyz_a)\n",
    "np.save(record.out_dir + \"/n_time_xyz_nav_b\", nav_xyz_b)\n",
    "nav_lla_a, nav_lla_b = epsg.interpolate_lla(record, nav)\n",
    "np.save(record.out_dir + \"/n_time_lla_nav_a\", nav_lla_a)\n",
    "np.save(record.out_dir + \"/n_time_lla_nav_b\", nav_lla_b)"
   ]
  },
  {
   "cell_type": "markdown",
   "metadata": {},
   "source": [
    "# Plots"
   ]
  },
  {
   "cell_type": "markdown",
   "metadata": {},
   "source": [
    "## Compare gps and nav"
   ]
  },
  {
   "cell_type": "code",
   "execution_count": 157,
   "metadata": {},
   "outputs": [
    {
     "data": {
      "text/plain": [
       "Text(0.5, 1.0, 'x-y')"
      ]
     },
     "execution_count": 157,
     "metadata": {},
     "output_type": "execute_result"
    }
   ],
   "source": [
    "plt.figure()\n",
    "plt.plot(gps_xyz_a[:, 2], gps_xyz_a[:, 3], '.', label=\"gps\")\n",
    "plt.plot(nav_xyz_a[:, 2], nav_xyz_a[:, 3], label=\"nav\")\n",
    "plt.plot(selectedEpsg[0], selectedEpsg[1], 'o', label=\"selectedEpsg\")\n",
    "\n",
    "plt.legend()\n",
    "plt.grid()\n",
    "plt.title(\"x-y\")"
   ]
  },
  {
   "cell_type": "code",
   "execution_count": 155,
   "metadata": {},
   "outputs": [
    {
     "data": {
      "text/plain": [
       "Text(0.5, 1.0, 'z')"
      ]
     },
     "execution_count": 155,
     "metadata": {},
     "output_type": "execute_result"
    }
   ],
   "source": [
    "plt.figure()\n",
    "plt.plot(gps_xyz_a[:, 1], gps_xyz_a[:, 4], label=\"gps_a\")\n",
    "plt.plot(nav_xyz_a[:, 1], nav_xyz_a[:, 4], label=\"nav_a\")\n",
    "plt.plot(record.shiftedLogEvents, Lat_Long_Alt[2], 'o', label=\"record.shiftedLogEvents\")\n",
    "plt.plot(record.shiftedLogEvents[0:record.nBins], Lat_Long_Alt[2][0:record.nBins], \n",
    "         'or', label=\"record.shiftedLogEvents [nBins]\", markeredgecolor='k')\n",
    "                                                                  \n",
    "plt.legend()\n",
    "plt.grid()\n",
    "plt.title(\"z\")"
   ]
  },
  {
   "cell_type": "markdown",
   "metadata": {},
   "source": [
    "## Trajectory"
   ]
  },
  {
   "cell_type": "code",
   "execution_count": 156,
   "metadata": {},
   "outputs": [],
   "source": [
    "fig, ax = plt.subplots(1,1)\n",
    "\n",
    "for index, slice_ in enumerate(gps.slices):\n",
    "    ax.plot( x[slice_], y[slice_], label=gps.loader.hours[index] )\n",
    "    \n",
    "epsg.addRemarkablePoints(ax, ptsDict, ptsEpsg)\n",
    "    \n",
    "ax.plot(selectedEpsg[0], selectedEpsg[1], \".r\", markeredgecolor='black', label=record.day_hour)\n",
    "u = np.sin(Vel_course[1] * np.pi / 180)\n",
    "v = np.cos(Vel_course[1] * np.pi / 180)\n",
    "u_yaw = np.sin(yaw_selection)\n",
    "v_yaw = np.cos(yaw_selection)\n",
    "ax.quiver(selectedEpsg[0], selectedEpsg[1], u_yaw, v_yaw,\n",
    "          units='xy', scale=0.02, color='blue',\n",
    "          width=2, headwidth=3., headlength=4., label='yaw', zorder=10)\n",
    "ax.set_xlabel(\"x\")\n",
    "ax.set_ylabel(\"y\")\n",
    "ax.grid()\n",
    "ax.legend()\n",
    "title = epsgStr + \" \" + conf.day\n",
    "ax.set_title(title)\n",
    "ax.set_aspect('equal')\n",
    "fig.savefig(f\"{record.out_dir}/{title}.png\", bbox_inches='tight')"
   ]
  },
  {
   "cell_type": "code",
   "execution_count": 86,
   "metadata": {},
   "outputs": [],
   "source": [
    "fig, ax = plt.subplots(1,1)\n",
    "\n",
    "epsg.addRemarkablePoint(ax, ptsEpsg['corner'])\n",
    "    \n",
    "ax.plot(selectedEpsg[0], selectedEpsg[1], \".r\", markeredgecolor='black', label=record.day_hour)\n",
    "u = np.sin(Vel_course[1] * np.pi / 180)\n",
    "v = np.cos(Vel_course[1] * np.pi / 180)\n",
    "u_yaw = np.sin(yaw_selection)\n",
    "v_yaw = np.cos(yaw_selection)\n",
    "ax.quiver(selectedEpsg[0], selectedEpsg[1], u_yaw, v_yaw,\n",
    "          units='xy', scale=0.02, color='blue',\n",
    "          width=2, headwidth=3., headlength=4., label='yaw', zorder=10)\n",
    "ax.quiver(selectedEpsg[0], selectedEpsg[1], u, v,\n",
    "          units='xy', scale=0.02, color='orange',\n",
    "          width=2, headwidth=3., headlength=4., label='course', zorder=10)\n",
    "ax.set_xlabel(\"x\")\n",
    "ax.set_ylabel(\"y\")\n",
    "ax.grid()\n",
    "ax.legend()\n",
    "title = \"quiver \" + epsgStr + \" \" + conf.day\n",
    "ax.set_title(title)\n",
    "ax.set_aspect('equal')\n",
    "fig.savefig(f\"{record.out_dir}/{title}.png\", bbox_inches='tight')"
   ]
  },
  {
   "cell_type": "markdown",
   "metadata": {},
   "source": [
    "## sbgLogEvents"
   ]
  },
  {
   "cell_type": "code",
   "execution_count": 66,
   "metadata": {},
   "outputs": [
    {
     "data": {
      "text/plain": [
       "Text(0.5, 0.98, 'loopbacks during the records')"
      ]
     },
     "execution_count": 66,
     "metadata": {},
     "output_type": "execute_result"
    }
   ],
   "source": [
    "delta = 20e6\n",
    "t0 = record.shiftedLogEvents[0] - delta\n",
    "t1 = record.shiftedLogEvents[-1] + delta\n",
    "idx = np.where((eventB.shiftedTimestamps>t0) & (eventB.shiftedTimestamps<t1))\n",
    "\n",
    "fig, (ax, ax1) = plt.subplots(2, 1, sharex=True)\n",
    "\n",
    "ax.plot(record.shiftedLogEvents/1e6, record.shiftedLogEvents/1e6,\n",
    "        \"o\", markeredgecolor=\"k\", color=\"w\", label=f\"PoSAR LogEventB {record.day_hour}\")\n",
    "ax.plot(eventB.shiftedTimestamps[idx]/1e6, eventB.shiftedTimestamps[idx]/1e6,\n",
    "        '.r', label=\"SBG LogEventB shiftedTimestamps\")\n",
    "ax.legend()\n",
    "ax.grid()\n",
    "\n",
    "ax1.plot(record.shiftedLogEvents[1:]/1e6, np.diff(record.shiftedLogEvents),\n",
    "         \"o\", markeredgecolor=\"k\", color=\"w\", label=f\"[diff] PoSAR LogEventB {record.day_hour}\")\n",
    "ax1.plot(eventB.shiftedTimestamps[idx][1:]/1e6, np.diff(eventB.shiftedTimestamps[idx]), \n",
    "         '.r', label=\"[diff] SBG LogEventB shiftedTimestamps\")\n",
    "ax1.grid()\n",
    "ax1.legend()\n",
    "ax1.set_xlim(t0/1e6, t1/1e6)\n",
    "\n",
    "fig.suptitle(\"loopbacks during the records\")"
   ]
  },
  {
   "cell_type": "code",
   "execution_count": null,
   "metadata": {},
   "outputs": [],
   "source": []
  }
 ],
 "metadata": {
  "kernelspec": {
   "display_name": "Python 3",
   "language": "python",
   "name": "python3"
  },
  "language_info": {
   "codemirror_mode": {
    "name": "ipython",
    "version": 3
   },
   "file_extension": ".py",
   "mimetype": "text/x-python",
   "name": "python",
   "nbconvert_exporter": "python",
   "pygments_lexer": "ipython3",
   "version": "3.8.3"
  },
  "toc": {
   "base_numbering": 1,
   "nav_menu": {},
   "number_sections": true,
   "sideBar": true,
   "skip_h1_title": false,
   "title_cell": "Table of Contents",
   "title_sidebar": "Contents",
   "toc_cell": false,
   "toc_position": {
    "height": "calc(100% - 180px)",
    "left": "10px",
    "top": "150px",
    "width": "325px"
   },
   "toc_section_display": true,
   "toc_window_display": true
  },
  "toc-autonumbering": true,
  "toc-showcode": false,
  "toc-showmarkdowntxt": false,
  "toc-showtags": false,
  "varInspector": {
   "cols": {
    "lenName": 16,
    "lenType": 16,
    "lenVar": 40
   },
   "kernels_config": {
    "python": {
     "delete_cmd_postfix": "",
     "delete_cmd_prefix": "del ",
     "library": "var_list.py",
     "varRefreshCmd": "print(var_dic_list())"
    },
    "r": {
     "delete_cmd_postfix": ") ",
     "delete_cmd_prefix": "rm(",
     "library": "var_list.r",
     "varRefreshCmd": "cat(var_dic_list()) "
    }
   },
   "types_to_exclude": [
    "module",
    "function",
    "builtin_function_or_method",
    "instance",
    "_Feature"
   ],
   "window_display": false
  }
 },
 "nbformat": 4,
 "nbformat_minor": 4
}
