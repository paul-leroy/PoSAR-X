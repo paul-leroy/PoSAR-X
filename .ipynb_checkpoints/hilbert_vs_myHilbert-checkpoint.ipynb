{
 "cells": [
  {
   "cell_type": "code",
   "execution_count": 1,
   "metadata": {},
   "outputs": [],
   "source": [
    "import numpy as np\n",
    "import scipy.signal as signal"
   ]
  },
  {
   "cell_type": "code",
   "execution_count": 13,
   "metadata": {},
   "outputs": [],
   "source": [
    "def RD_realtocomp(s):\n",
    "    Nf  = s.size\n",
    "    # if Nf is a multiple of 2, fftshift(fftshift(X)) = X\n",
    "    if ( Nf % 2 ) != 0 :\n",
    "        error( \"Nf should be a multiple of 2\" )\n",
    "\n",
    "    h = np.zeros(Nf)\n",
    "    h[ 0 ] = 1\n",
    "    h[ int( Nf / 2) ] = 1\n",
    "    h[ 1 : int(Nf / 2) ] = 2\n",
    "\n",
    "    RDs = np.fft.ifft(np.fft.fftshift(s))\n",
    "    RDh = RDs * h\n",
    "    RDc = np.fft.fftshift(np.fft.fft(RDh))\n",
    "\n",
    "    return RDc[::2]\n",
    "\n",
    "def RD_realtocomp_np(s):\n",
    "    Nf  = s.size\n",
    "    # if Nf is a multiple of 2, fftshift(fftshift(X)) = X\n",
    "    if ( Nf % 2 ) != 0 :\n",
    "        error( \"Nf should be a multiple of 2\" )\n",
    "    return np.conjugate(signal.hilbert(s))[::2]"
   ]
  },
  {
   "cell_type": "code",
   "execution_count": 14,
   "metadata": {},
   "outputs": [],
   "source": [
    "a = np.random.rand(10)"
   ]
  },
  {
   "cell_type": "code",
   "execution_count": 15,
   "metadata": {},
   "outputs": [
    {
     "data": {
      "text/plain": [
       "array([0.39353922, 0.92060895, 0.11902563, 0.74503356, 0.60450705,\n",
       "       0.82452613, 0.13037045, 0.18256018, 0.66541074, 0.3043163 ])"
      ]
     },
     "execution_count": 15,
     "metadata": {},
     "output_type": "execute_result"
    }
   ],
   "source": [
    "a"
   ]
  },
  {
   "cell_type": "code",
   "execution_count": 16,
   "metadata": {},
   "outputs": [
    {
     "data": {
      "text/plain": [
       "array([0.39353922+0.46108291j, 0.11902563-0.03248219j,\n",
       "       0.60450705-0.05831417j, 0.13037045-0.45919357j,\n",
       "       0.66541074+0.08890701j])"
      ]
     },
     "execution_count": 16,
     "metadata": {},
     "output_type": "execute_result"
    }
   ],
   "source": [
    "RD_realtocomp(a)"
   ]
  },
  {
   "cell_type": "code",
   "execution_count": 17,
   "metadata": {},
   "outputs": [
    {
     "data": {
      "text/plain": [
       "array([0.39353922+0.46108291j, 0.11902563-0.03248219j,\n",
       "       0.60450705-0.05831417j, 0.13037045-0.45919357j,\n",
       "       0.66541074+0.08890701j])"
      ]
     },
     "execution_count": 17,
     "metadata": {},
     "output_type": "execute_result"
    }
   ],
   "source": [
    "RD_realtocomp_np(a)"
   ]
  },
  {
   "cell_type": "code",
   "execution_count": null,
   "metadata": {},
   "outputs": [],
   "source": []
  }
 ],
 "metadata": {
  "kernelspec": {
   "display_name": "Python 3",
   "language": "python",
   "name": "python3"
  },
  "language_info": {
   "codemirror_mode": {
    "name": "ipython",
    "version": 3
   },
   "file_extension": ".py",
   "mimetype": "text/x-python",
   "name": "python",
   "nbconvert_exporter": "python",
   "pygments_lexer": "ipython3",
   "version": "3.8.3"
  }
 },
 "nbformat": 4,
 "nbformat_minor": 4
}
