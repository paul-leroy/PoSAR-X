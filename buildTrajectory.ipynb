{
 "cells": [
  {
   "cell_type": "code",
   "execution_count": 1,
   "metadata": {},
   "outputs": [],
   "source": [
    "import numpy as np\n",
    "import numexpr as ne\n",
    "import matplotlib.pyplot as plt"
   ]
  },
  {
   "cell_type": "code",
   "execution_count": 2,
   "metadata": {},
   "outputs": [],
   "source": [
    "%matplotlib qt5"
   ]
  },
  {
   "cell_type": "code",
   "execution_count": 3,
   "metadata": {},
   "outputs": [],
   "source": [
    "import sys"
   ]
  },
  {
   "cell_type": "code",
   "execution_count": 4,
   "metadata": {},
   "outputs": [],
   "source": [
    "%load_ext autoreload\n",
    "%autoreload 2"
   ]
  },
  {
   "cell_type": "code",
   "execution_count": 5,
   "metadata": {},
   "outputs": [],
   "source": [
    "sys.path.insert(0, \"/home/pleroy/DEV/processing/PoSAR-MC\")\n",
    "import rsc.monterfil as monterfil\n",
    "sys.path.insert(0, \"/home/pleroy/DEV/processing/PoSAR-MC\")\n",
    "from posarmctools.ekfnavtools import *"
   ]
  },
  {
   "cell_type": "code",
   "execution_count": 6,
   "metadata": {},
   "outputs": [],
   "source": [
    "from mpl_toolkits.basemap.proj import pyproj"
   ]
  },
  {
   "cell_type": "code",
   "execution_count": 7,
   "metadata": {},
   "outputs": [],
   "source": [
    "# Define some common projections using EPSG codes\n",
    "wgs84 = pyproj.Proj(\"+init=EPSG:4326\") # LatLon with WGS84 datum used by GPS units and Google Earth\n",
    "epsg3857 = pyproj.Proj(\"+init=EPSG:3857\") # WGS84 / Pseudo Mercator\n",
    "epsg3395 = pyproj.Proj(\"+init=EPSG:3395\") # WGS84 / World Mercator\n",
    "epsg3948 = pyproj.Proj(\"+init=EPSG:3948\") # RGF93 / CC48 Projected coordinate system\n",
    "\n",
    "epsg3xxx = epsg3948 # epsg3857 does not seem to keep distances"
   ]
  },
  {
   "cell_type": "code",
   "execution_count": null,
   "metadata": {},
   "outputs": [],
   "source": [
    "def transform( Long_Lat, shift=0, orig=(0,0) ):\n",
    "    \n",
    "    if shift:\n",
    "        epsg = pyproj.transform(wgs84, epsg3xxx, Long_Lat[0], Long_Lat[1])\n",
    "        epsg = (epsg[0] - orig[0], epsg[1] - orig[1])\n",
    "    else:\n",
    "        epsg = pyproj.transform(wgs84, epsg3xxx, Long_Lat[0], Long_Lat[1])\n",
    "        \n",
    "    return epsg"
   ]
  },
  {
   "cell_type": "code",
   "execution_count": null,
   "metadata": {},
   "outputs": [],
   "source": [
    "def getLatLong( a, b ):\n",
    "    Da = float(a.split(\"°\")[0])\n",
    "    r = a.split(\"°\")[1]\n",
    "    Ma = float(r.split(\"'\")[0])\n",
    "    r = r.split(\"'\")[1]\n",
    "    Sa = float(r.split(\"N\")[0])\n",
    "    \n",
    "    Db = float(b.split(\"°\")[0])\n",
    "    r = b.split(\"°\")[1]\n",
    "    Mb = float(r.split(\"'\")[0])\n",
    "    r = r.split(\"'\")[1]\n",
    "    Sb = float(r.split(\"W\")[0])\n",
    "    \n",
    "    return ( Da + Ma/60 + Sa/3600, -(Db + Mb/60 + Sb/3600) )"
   ]
  },
  {
   "cell_type": "code",
   "execution_count": null,
   "metadata": {},
   "outputs": [],
   "source": [
    "if epsg3xxx == epsg3857:\n",
    "    origXY = (-180000, 6183000) # epsg 3857\n",
    "    shiftXY = 1\n",
    "    xlim = 17500\n",
    "    ylim = 17500\n",
    "    epsgStr = \"epsg3857\"\n",
    "    \n",
    "if epsg3xxx == epsg3948:\n",
    "    origXY = (1360000, 7260000)\n",
    "    shiftXY = 1\n",
    "    #xlim = 11000\n",
    "    #ylim = 12000\n",
    "    xmin = 1358000\n",
    "    xmax = 1371000\n",
    "    ymin = 7260000\n",
    "    ymax = 7272500\n",
    "    epsgStr = \"epsg3948\""
   ]
  },
  {
   "cell_type": "code",
   "execution_count": null,
   "metadata": {},
   "outputs": [],
   "source": [
    "epsg_runaway = transform( (runaway[:,1],runaway[:,0]) )\n",
    "epsg_concreteBlocks = transform( (concreteBlocks[:,1], concreteBlocks[:,0]) )"
   ]
  },
  {
   "cell_type": "code",
   "execution_count": null,
   "metadata": {},
   "outputs": [],
   "source": [
    "fig, ax = plt.subplots(1,1)\n",
    "plotRunaway( ax )\n",
    "plotConcreteBlocks( ax )\n",
    "ax.plot(concreteBlock0[1], concreteBlock0[0], \"rx\", markeredgecolor = 'black')\n",
    "ax.grid()\n",
    "fig.suptitle( \"GPS data and Monterfil runaway\" )"
   ]
  },
  {
   "cell_type": "code",
   "execution_count": null,
   "metadata": {},
   "outputs": [],
   "source": [
    "fig, ax = plt.subplots(1,1)\n",
    "ax.plot(epsg_runaway[0], epsg_runaway[1], \"og\", markeredgecolor = 'black')\n",
    "ax.plot(epsg_concreteBlocks[0], epsg_concreteBlocks[1], \"ow\", markeredgecolor = 'black')\n",
    "ax.grid()\n",
    "ax.set_aspect(\"equal\")\n",
    "fig.suptitle( \"GPS data and Monterfil runaway\" )"
   ]
  },
  {
   "cell_type": "code",
   "execution_count": null,
   "metadata": {},
   "outputs": [],
   "source": []
  }
 ],
 "metadata": {
  "kernelspec": {
   "display_name": "Python 3",
   "language": "python",
   "name": "python3"
  },
  "language_info": {
   "codemirror_mode": {
    "name": "ipython",
    "version": 3
   },
   "file_extension": ".py",
   "mimetype": "text/x-python",
   "name": "python",
   "nbconvert_exporter": "python",
   "pygments_lexer": "ipython3",
   "version": "3.7.3"
  },
  "toc": {
   "base_numbering": 1,
   "nav_menu": {},
   "number_sections": true,
   "sideBar": true,
   "skip_h1_title": false,
   "title_cell": "Table of Contents",
   "title_sidebar": "Contents",
   "toc_cell": false,
   "toc_position": {},
   "toc_section_display": true,
   "toc_window_display": true
  },
  "varInspector": {
   "cols": {
    "lenName": 16,
    "lenType": 16,
    "lenVar": 40
   },
   "kernels_config": {
    "python": {
     "delete_cmd_postfix": "",
     "delete_cmd_prefix": "del ",
     "library": "var_list.py",
     "varRefreshCmd": "print(var_dic_list())"
    },
    "r": {
     "delete_cmd_postfix": ") ",
     "delete_cmd_prefix": "rm(",
     "library": "var_list.r",
     "varRefreshCmd": "cat(var_dic_list()) "
    }
   },
   "types_to_exclude": [
    "module",
    "function",
    "builtin_function_or_method",
    "instance",
    "_Feature"
   ],
   "window_display": false
  }
 },
 "nbformat": 4,
 "nbformat_minor": 2
}
