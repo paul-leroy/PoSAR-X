{
 "cells": [
  {
   "cell_type": "code",
   "execution_count": 1,
   "metadata": {},
   "outputs": [],
   "source": [
    "import numpy as np\n",
    "import matplotlib.pyplot as plt"
   ]
  },
  {
   "cell_type": "code",
   "execution_count": 2,
   "metadata": {},
   "outputs": [],
   "source": [
    "%matplotlib qt5"
   ]
  },
  {
   "cell_type": "code",
   "execution_count": 3,
   "metadata": {},
   "outputs": [],
   "source": [
    "import sys"
   ]
  },
  {
   "cell_type": "code",
   "execution_count": 4,
   "metadata": {},
   "outputs": [],
   "source": [
    "sys.path.insert(0, \"/home/pleroy/DEV/DIADEM\")\n",
    "import toolsdiadem.tools as dia"
   ]
  },
  {
   "cell_type": "code",
   "execution_count": 5,
   "metadata": {},
   "outputs": [],
   "source": [
    "pi = np.pi"
   ]
  },
  {
   "cell_type": "code",
   "execution_count": 31,
   "metadata": {},
   "outputs": [],
   "source": [
    "def SIF( t, fc, tau, alpha ):\n",
    "    s = np.exp( - 1j * 2 * np.pi * (fc * tau + alpha * tau * t - 1/2 * alpha * tau**2) )\n",
    "    return s\n",
    "    \n",
    "def SIF_withoutRVP( t, fc, tau, alpha ):\n",
    "    s = np.exp( - 1j * 2 * np.pi * (fc * tau + alpha * tau * t) )\n",
    "    return s\n",
    "    \n",
    "def SIF_Kr_Kx( Kr, Kx, x1 ):\n",
    "    return np.exp( - 1j*R*(Kr**2-Kx**2)**0.5 - 1j*Kx*x1 )\n",
    "  \n",
    "def SIF_Kr_Kx_alt( Kr, Kx, x1 ):\n",
    "    return np.exp( - 1j*R*(Kr**2-Kx**2)**0.5 - 1j*Kx*x1 ) * np.exp( 1j*Kx*v*t )\n",
    "    \n",
    "def antenna(theta, beta_bw):\n",
    "    return np.sinc( 0.886 * theta / beta_bw ) # Cumming p.138, (4.27)\n",
    "\n",
    "def KxFromKr(Kr, Kc, theta):\n",
    "    Kx = (Kr + Kc) * np.tan( theta )\n",
    "\n",
    "def gate(theta, beta_bw):\n",
    "    if -beta_bw/2 < theta and theta < beta_bw/2:\n",
    "        val = 1\n",
    "    else:\n",
    "        val = 0\n",
    "    return val"
   ]
  },
  {
   "cell_type": "markdown",
   "metadata": {},
   "source": [
    "# Strimap FMCW"
   ]
  },
  {
   "cell_type": "code",
   "execution_count": 7,
   "metadata": {},
   "outputs": [
    {
     "name": "stdout",
     "output_type": "stream",
     "text": [
      "K = 0.33\n"
     ]
    }
   ],
   "source": [
    "fc = 10e9\n",
    "B = 500e6\n",
    "fs = 10e6\n",
    "Ts = 1 / fs\n",
    "PRI = 1e-3\n",
    "PRF = 1 / PRI\n",
    "alpha = B / PRI\n",
    "R = 403 # 2.7us round trip\n",
    "v = 30\n",
    "c = 3e8\n",
    "fr = fc # fr = fc + alpha * t\n",
    "Tp = PRI\n",
    "delta_fr  = 1 / Tp\n",
    "theta_az  = 10 # antenna beamwidth 10°\n",
    "gamma_s   = 20  # instantaneous squint angle 20°\n",
    "gamma_min = gamma_s - theta_az/2  # minimum angle under which a scatterer is illuminated\n",
    "gamma_max = gamma_s + theta_az/2  # maximum angle under which a scatterer is illuminated\n",
    "BDi_a     = 2 * v / c * fc * np.sin( theta_az * np.pi/180 ) # instantaneous Doppler bandwidth\n",
    "BDi_b     = 2 * v / c * fc * (np.sin( ( gamma_s + theta_az/2 ) * np.pi/180 ) \n",
    "                              - np.sin( ( gamma_s - theta_az/2 ) * np.pi / 180 ) )\n",
    "BDi = BDi_b\n",
    "BD        = 2 * v / c * fc * (np.sin( gamma_max * np.pi/180 ) \n",
    "                              - np.sin( gamma_min * np.pi/180 ) ) # entire Doppler bandwidth\n",
    "eta = 1 # eta = Tp / PRI = 1 for continuous wave sensors\n",
    "mu = PRF / BDi\n",
    "xi = BDi / BD\n",
    "K = eta / (mu * xi) # BD / delta_fr = eta / (mu * xi)\n",
    "print( f\"K = {K:.2f}\" )"
   ]
  },
  {
   "cell_type": "code",
   "execution_count": 8,
   "metadata": {},
   "outputs": [
    {
     "name": "stdout",
     "output_type": "stream",
     "text": [
      " -187.9 -146.7 -108.0\n"
     ]
    }
   ],
   "source": [
    "if 1:\n",
    "    xStart  = - R * np.tan( gamma_max * np.pi/180 )\n",
    "    xStop   = - R * np.tan( gamma_min * np.pi/180 )\n",
    "    xCenter = - R * np.tan( gamma_s * np.pi/180 )\n",
    "    \n",
    "print( f\" {xStart:.1f} {xCenter:.1f} {xStop:.1f}\" )"
   ]
  },
  {
   "cell_type": "code",
   "execution_count": 9,
   "metadata": {},
   "outputs": [
    {
     "name": "stdout",
     "output_type": "stream",
     "text": [
      "x1 = 0.0, xn from -187.9 to -108.0, Nx = 2665\n"
     ]
    }
   ],
   "source": [
    "t  = np.arange(-PRI/2, PRI/2, Ts)\n",
    "Nr = t.size\n",
    "xn = np.arange(xStart, xStop, v * PRI)\n",
    "Nx = xn.size\n",
    "x1 = 0\n",
    "print( f\"x1 = {x1:.1f}, xn from {xn[0]:.1f} to {xn[-1]:.1f}, Nx = {Nx}\" )\n",
    "s_raw = np.zeros((Nr, Nx), dtype=complex)\n",
    "for n in range(Nx):\n",
    "    d0 = ( R**2 + (xn[n] - x1)**2 )**0.5\n",
    "    phi = np.arcsin( ( x1 - xn[n] ) / d0 ) * 180 / np.pi\n",
    "    tau = 2 * ( R**2 + (xn[n] + v*t - x1)**2 )**0.5 / c\n",
    "    s_raw[:, n] = SIF_withoutRVP( t, fc, tau, alpha ) * gate( gamma_s-phi, theta_az )**2"
   ]
  },
  {
   "cell_type": "code",
   "execution_count": 10,
   "metadata": {},
   "outputs": [],
   "source": [
    "if 0:\n",
    "    im, ax = plt.subplots(1,1)\n",
    "    #ax.plot( 20 * np.log10( np.abs( np.fft.ifft( np.fft.fftshift( np.imag( s_raw[:,0] ) ) ) ) ) )\n",
    "    ax.plot( np.real( s_raw[0,:] ) )"
   ]
  },
  {
   "cell_type": "markdown",
   "metadata": {},
   "source": [
    "## Windowing"
   ]
  },
  {
   "cell_type": "code",
   "execution_count": 11,
   "metadata": {},
   "outputs": [],
   "source": [
    "window_x = np.hamming(Nx)\n",
    "window_r = np.hamming(Nr).reshape(-1,1)"
   ]
  },
  {
   "cell_type": "code",
   "execution_count": 12,
   "metadata": {},
   "outputs": [],
   "source": [
    "withWindowing = 0\n",
    "if withWindowing:\n",
    "    s = s_raw * window_r\n",
    "else:\n",
    "    s = s_raw"
   ]
  },
  {
   "cell_type": "code",
   "execution_count": 13,
   "metadata": {},
   "outputs": [],
   "source": [
    "fft_s = np.fft.fft( s, axis=1 )\n",
    "ifft_s = np.fft.ifft( s, axis=0 )"
   ]
  },
  {
   "cell_type": "code",
   "execution_count": 14,
   "metadata": {},
   "outputs": [
    {
     "name": "stderr",
     "output_type": "stream",
     "text": [
      "/home/pleroy/anaconda3/lib/python3.7/site-packages/ipykernel_launcher.py:2: RuntimeWarning: divide by zero encountered in log10\n",
      "  \n"
     ]
    },
    {
     "data": {
      "text/plain": [
       "Text(0.5, 1.0, 'ifft_s')"
      ]
     },
     "execution_count": 14,
     "metadata": {},
     "output_type": "execute_result"
    }
   ],
   "source": [
    "fig, ax = plt.subplots(1,1)\n",
    "im = ax.imshow( 20 * np.log10( np.abs( ifft_s ) ), cmap='jet' )\n",
    "dia.addColorBar( im, ax, aspect=\"auto\" )\n",
    "ax.set_title( \"ifft_s\" )"
   ]
  },
  {
   "cell_type": "code",
   "execution_count": 15,
   "metadata": {},
   "outputs": [
    {
     "data": {
      "text/plain": [
       "Text(0.5, 1.0, 'fft_s')"
      ]
     },
     "execution_count": 15,
     "metadata": {},
     "output_type": "execute_result"
    }
   ],
   "source": [
    "fig, ax = plt.subplots(1,1)\n",
    "im = ax.imshow( 20 * np.log10( np.abs( fft_s ) ), cmap='jet' )\n",
    "dia.addColorBar( im, ax, aspect=\"auto\" )\n",
    "ax.set_title( \"fft_s\" )"
   ]
  },
  {
   "cell_type": "code",
   "execution_count": 16,
   "metadata": {},
   "outputs": [
    {
     "data": {
      "text/plain": [
       "Text(0.5, 1.0, 'fft_s')"
      ]
     },
     "execution_count": 16,
     "metadata": {},
     "output_type": "execute_result"
    }
   ],
   "source": [
    "fig, ax = plt.subplots(1,1)\n",
    "im = ax.imshow( np.angle( fft_s ), cmap='jet' )\n",
    "dia.addColorBar( im, ax, aspect=\"auto\" )\n",
    "ax.set_title( \"fft_s\" )"
   ]
  },
  {
   "cell_type": "code",
   "execution_count": 17,
   "metadata": {},
   "outputs": [
    {
     "data": {
      "text/plain": [
       "[<matplotlib.lines.Line2D at 0x7f32a4032668>]"
      ]
     },
     "execution_count": 17,
     "metadata": {},
     "output_type": "execute_result"
    }
   ],
   "source": [
    "fig, ax = plt.subplots(1,1)\n",
    "plt.plot( 20 * np.log10( np.abs( fft_s[0,:]) ) )"
   ]
  },
  {
   "cell_type": "markdown",
   "metadata": {},
   "source": [
    "# Matched filtering"
   ]
  },
  {
   "cell_type": "code",
   "execution_count": 38,
   "metadata": {},
   "outputs": [
    {
     "name": "stdout",
     "output_type": "stream",
     "text": [
      "Nx = 2665, Krr.shape (10000, 1), Kxx.shape (1, 2665)\n"
     ]
    }
   ],
   "source": [
    "fr = alpha * ( fc / alpha + t )\n",
    "Kr = 4 * pi / c * fr\n",
    "Kc = 4 * pi / c * fc\n",
    "if 1:\n",
    "    Tx = v * PRI\n",
    "    fx = np.fft.fftfreq( Nx, v * PRI )\n",
    "    #fx = np.arange( 0, 1/(Tx), 1/(Nx*Tx) )\n",
    "    Kx = pi * fx\n",
    "\n",
    "Krr, Kxx = np.meshgrid( Kr, Kx, sparse=True, indexing='ij')\n",
    "print( f\"Nx = {Nx}, Krr.shape {Krr.shape}, Kxx.shape {Kxx.shape}\" )"
   ]
  },
  {
   "cell_type": "code",
   "execution_count": 39,
   "metadata": {},
   "outputs": [],
   "source": [
    "matchedFilter = SIF_Kr_Kx( Krr, Kxx, 0 )"
   ]
  },
  {
   "cell_type": "code",
   "execution_count": 40,
   "metadata": {},
   "outputs": [],
   "source": [
    "fig, ax = plt.subplots(1,1)\n",
    "im = ax.imshow( 20 * np.log10( np.abs( np.fft.ifft2( matchedFilter ) ) ),cmap='jet' )\n",
    "#im = ax.imshow( 20 * np.log10( np.abs( matchedFilter ) ),cmap='jet' )\n",
    "dia.addColorBar( im, ax, aspect=\"auto\" )"
   ]
  },
  {
   "cell_type": "code",
   "execution_count": null,
   "metadata": {},
   "outputs": [],
   "source": [
    "fft_s_filtered = fft_s * np.conjugate( matchedFilter )\n",
    "#fft_s_filtered = fft_s * matchedFilter"
   ]
  },
  {
   "cell_type": "code",
   "execution_count": null,
   "metadata": {},
   "outputs": [],
   "source": [
    "fig, ax = plt.subplots(1,1)\n",
    "im = ax.imshow( np.log10( np.abs( fft_s_filtered ) ),cmap='jet' )\n",
    "ax.set_title( \"fft_s_filtered\" )\n",
    "dia.addColorBar( im, ax, aspect=\"auto\" )"
   ]
  },
  {
   "cell_type": "code",
   "execution_count": null,
   "metadata": {},
   "outputs": [],
   "source": [
    "fig, ax = plt.subplots(1,1)\n",
    "im = ax.imshow( np.angle( fft_s_filtered ),cmap='jet' )\n",
    "ax.set_title( \"fft_s_filtered\" )\n",
    "dia.addColorBar( im, ax, aspect=\"auto\" )"
   ]
  },
  {
   "cell_type": "code",
   "execution_count": null,
   "metadata": {},
   "outputs": [],
   "source": [
    "fig, ax = plt.subplots(1,1)\n",
    "ax.plot( np.real(s[0,:]), label='real' )\n",
    "ax.plot( np.imag(s[0,:]), label='imag' )\n",
    "ax.legend()\n",
    "ax.grid()"
   ]
  },
  {
   "cell_type": "markdown",
   "metadata": {},
   "source": [
    "# Spotlight FMCW"
   ]
  },
  {
   "cell_type": "code",
   "execution_count": null,
   "metadata": {},
   "outputs": [],
   "source": [
    "fc = 10e9\n",
    "B = 500e6\n",
    "PRI = 4e-3\n",
    "PRF = 1 / PRI\n",
    "alpha = B / PRI\n",
    "R = 120\n",
    "v = 40\n",
    "c = 3e8\n",
    "fr = fc # fr = fc + alpha * t\n",
    "Tp = PRI\n",
    "delta_fr  = 1 / Tp\n",
    "theta_az  = 20 # antenna beamwidth 20°\n",
    "gamma_s   = 10  # instantaneous squint angle 20°\n",
    "gamma_max = gamma_s + theta_az / 2 # antenna beamwidth 20°, squint angle 10°\n",
    "gamma_min = gamma_s - theta_az / 2\n",
    "BDi       = 2 * v / c * fc * np.sin( theta_az * np.pi/180 ) # instantaneous Doppler bandwidth\n",
    "BD        = 2 * v / c * fc * ( np.sin( gamma_max * np.pi/180 ) \n",
    "                              - np.sin( gamma_min * np.pi/180 ) ) # entire Doppler bandwidth\n",
    "eta = 1 # eta = Tp / PRI = 1 for continuous wave sensors\n",
    "mu = PRF / BDi\n",
    "xi = BDi / BD\n",
    "K = eta / (mu * xi) # BD / delta_fr = eta / (mu * xi)\n",
    "print( f\"K = {K:.2f}\" )"
   ]
  },
  {
   "cell_type": "markdown",
   "metadata": {},
   "source": [
    "# Test"
   ]
  },
  {
   "cell_type": "code",
   "execution_count": null,
   "metadata": {},
   "outputs": [],
   "source": [
    "Kr = Kc\n",
    "a = np.exp( -1j * Kr * (R**2+xn**2)**0.5 )"
   ]
  },
  {
   "cell_type": "code",
   "execution_count": null,
   "metadata": {},
   "outputs": [],
   "source": [
    "fft_a = np.fft.fft(a)"
   ]
  },
  {
   "cell_type": "code",
   "execution_count": null,
   "metadata": {},
   "outputs": [],
   "source": [
    "fx = np.fft.fftfreq( Nx, v * PRI )\n",
    "Kx = pi * fx\n",
    "fft_a_alt = np.exp( -1j * R * (Kr**2-Kx**2)**0.5 )"
   ]
  },
  {
   "cell_type": "code",
   "execution_count": null,
   "metadata": {},
   "outputs": [],
   "source": [
    "plt.figure()\n",
    "plt.subplot(2,1,1)\n",
    "plt.plot(np.real(fft_a),     label='fft_a')\n",
    "plt.plot(np.real(fft_a_alt), label='fft_a_alt')\n",
    "plt.legend()\n",
    "plt.subplot(2,1,2)\n",
    "plt.plot(np.imag(fft_a),     label='fft_a')\n",
    "plt.plot(np.imag(fft_a_alt), label='fft_a_alt')\n",
    "plt.legend()"
   ]
  },
  {
   "cell_type": "code",
   "execution_count": null,
   "metadata": {},
   "outputs": [],
   "source": [
    "plt.figure()\n",
    "plt.plot(np.angle(fft_a),     label='fft_at')\n",
    "plt.plot(np.angle(fft_a_alt), label='fft_a_alt')\n",
    "plt.legend()"
   ]
  },
  {
   "cell_type": "code",
   "execution_count": null,
   "metadata": {},
   "outputs": [],
   "source": []
  }
 ],
 "metadata": {
  "kernelspec": {
   "display_name": "Python 3",
   "language": "python",
   "name": "python3"
  },
  "language_info": {
   "codemirror_mode": {
    "name": "ipython",
    "version": 3
   },
   "file_extension": ".py",
   "mimetype": "text/x-python",
   "name": "python",
   "nbconvert_exporter": "python",
   "pygments_lexer": "ipython3",
   "version": "3.7.3"
  },
  "toc": {
   "base_numbering": 1,
   "nav_menu": {},
   "number_sections": true,
   "sideBar": true,
   "skip_h1_title": false,
   "title_cell": "Table of Contents",
   "title_sidebar": "Contents",
   "toc_cell": false,
   "toc_position": {
    "height": "calc(100% - 180px)",
    "left": "10px",
    "top": "150px",
    "width": "343.4px"
   },
   "toc_section_display": true,
   "toc_window_display": true
  },
  "varInspector": {
   "cols": {
    "lenName": 16,
    "lenType": 16,
    "lenVar": 40
   },
   "kernels_config": {
    "python": {
     "delete_cmd_postfix": "",
     "delete_cmd_prefix": "del ",
     "library": "var_list.py",
     "varRefreshCmd": "print(var_dic_list())"
    },
    "r": {
     "delete_cmd_postfix": ") ",
     "delete_cmd_prefix": "rm(",
     "library": "var_list.r",
     "varRefreshCmd": "cat(var_dic_list()) "
    }
   },
   "types_to_exclude": [
    "module",
    "function",
    "builtin_function_or_method",
    "instance",
    "_Feature"
   ],
   "window_display": false
  }
 },
 "nbformat": 4,
 "nbformat_minor": 2
}
