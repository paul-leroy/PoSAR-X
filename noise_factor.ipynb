{
 "cells": [
  {
   "cell_type": "code",
   "execution_count": 1,
   "metadata": {},
   "outputs": [],
   "source": [
    "import numpy as np"
   ]
  },
  {
   "cell_type": "code",
   "execution_count": 2,
   "metadata": {},
   "outputs": [],
   "source": [
    "def noise_factor(N2_ON, N2_OFF, N12_ON, N12_OFF, ENR, G=None):\n",
    "    T0 = 290\n",
    "    Ts_OFF = 290\n",
    "    Ts_ON = Ts_OFF + T0 * 10**(ENR/10)\n",
    "    print(f\"Ts_ON {Ts_ON:.2f}\")\n",
    "    \n",
    "    Y2 = 10**((N2_ON - N2_OFF) / 10)\n",
    "    T2 = (Ts_ON - Y2 * Ts_OFF) / (Y2 - 1)\n",
    "    \n",
    "    Y12 = 10**((N12_ON - N12_OFF) / 10)\n",
    "    T12 = (Ts_ON - Y12 * Ts_OFF) / (Y12 - 1)\n",
    "    \n",
    "    if G == None:\n",
    "        G1 = (10**(N12_ON / 10) - 10**(N12_OFF / 10)) / (10**(N2_ON / 10) - 10**(N2_OFF / 10))\n",
    "    else:\n",
    "        G1 = 10**(G / 10)\n",
    "    T1 = T12 - T2 / G1\n",
    "    F = 1 + T1 / T0\n",
    "    NF = 10 * np.log10(F)\n",
    "    \n",
    "    print(f\"T2 {T2:.2f} K, T12 {T12:.2f} K\")\n",
    "    print(f\"Y2 {Y2:.2f}, Y12 {Y12:.2f}\")\n",
    "    print(f\"G1 {10 * np.log10(G1):.2f} dB\")\n",
    "    print(f\"T1 {T1:.2f} K\")\n",
    "    print(f\"F {F:.2f}, NF {NF:.2f}\")"
   ]
  },
  {
   "cell_type": "markdown",
   "metadata": {},
   "source": [
    "Noise factor $$ F = \\frac{S_i/N_i}{S_o/N_o} $$\n",
    "Noise figure $$ NF = 10 * log(F) $$\n",
    "Excess Noise Ratio $$ ENR = \\frac{T_s^{ON} - T_s^{OFF}}{T_0} $$"
   ]
  },
  {
   "cell_type": "markdown",
   "metadata": {},
   "source": [
    "# Source de bruit utilisée sans atténuateur"
   ]
  },
  {
   "cell_type": "code",
   "execution_count": 3,
   "metadata": {},
   "outputs": [
    {
     "name": "stdout",
     "output_type": "stream",
     "text": [
      "Ts_ON 13393.82\n",
      "T2 1642.61 K, T12 291.09 K\n",
      "Y2 7.78, Y12 23.55\n",
      "G1 45.82 dB\n",
      "T1 291.05 K\n",
      "F 2.00, NF 3.02\n"
     ]
    }
   ],
   "source": [
    "N2_ON = -126.99\n",
    "N2_OFF = -135.90\n",
    "N12_ON = -81.58\n",
    "N12_OFF = -95.30\n",
    "\n",
    "noise_factor(N2_ON, N2_OFF, N12_ON, N12_OFF, ENR=16.55) # 16.55 dB @10GHz"
   ]
  },
  {
   "cell_type": "code",
   "execution_count": 4,
   "metadata": {},
   "outputs": [
    {
     "name": "stdout",
     "output_type": "stream",
     "text": [
      "Ts_ON 13393.82\n",
      "T2 163.06 K, T12 6967.99 K\n",
      "Y2 29.92, Y12 2.81\n",
      "G1 22.77 dB\n",
      "T1 6967.13 K\n",
      "F 25.02, NF 13.98\n"
     ]
    }
   ],
   "source": [
    "N2_ON = -112.02\n",
    "N2_OFF = -126.78\n",
    "N12_ON = -87.48\n",
    "N12_OFF = -91.96\n",
    "\n",
    "noise_factor(N2_ON, N2_OFF, N12_ON, N12_OFF, ENR=16.55) # 16.55 dB @10GHz"
   ]
  },
  {
   "cell_type": "markdown",
   "metadata": {},
   "source": [
    "# Atténuateur 10dB en sortie de la source de bruit"
   ]
  },
  {
   "cell_type": "code",
   "execution_count": 5,
   "metadata": {},
   "outputs": [
    {
     "name": "stdout",
     "output_type": "stream",
     "text": [
      "Ts_ON 1600.38\n",
      "T2 225.90 K, T12 2350.65 K\n",
      "Y2 3.54, Y12 1.50\n",
      "G1 27.58 dB\n",
      "T1 2350.25 K\n",
      "F 9.10, NF 9.59\n"
     ]
    }
   ],
   "source": [
    "N2_ON = -121.5\n",
    "N2_OFF = -126.99\n",
    "N12_ON = -90.57\n",
    "N12_OFF = -92.32\n",
    "\n",
    "noise_factor(N2_ON, N2_OFF, N12_ON, N12_OFF, ENR=16.55-10) # 16.55 dB @10GHz"
   ]
  },
  {
   "cell_type": "code",
   "execution_count": 6,
   "metadata": {},
   "outputs": [
    {
     "name": "stdout",
     "output_type": "stream",
     "text": [
      "Ts_ON 1600.38\n",
      "T2 1607.89 K, T12 237.66 K\n",
      "Y2 1.69, Y12 3.48\n",
      "G1 45.50 dB\n",
      "T1 237.62 K\n",
      "F 1.82, NF 2.60\n"
     ]
    }
   ],
   "source": [
    "N2_ON = -133.49\n",
    "N2_OFF = -135.77\n",
    "N12_ON = -90.41\n",
    "N12_OFF = -95.83\n",
    "\n",
    "noise_factor(N2_ON, N2_OFF, N12_ON, N12_OFF, ENR=16.55-10) # 16.55 dB @10GHz"
   ]
  },
  {
   "cell_type": "code",
   "execution_count": 7,
   "metadata": {},
   "outputs": [
    {
     "data": {
      "text/plain": [
       "slice(10, 20, None)"
      ]
     },
     "execution_count": 7,
     "metadata": {},
     "output_type": "execute_result"
    }
   ],
   "source": [
    "slice(10, 20)"
   ]
  },
  {
   "cell_type": "markdown",
   "metadata": {},
   "source": [
    "# Mesures avec câble compris dans la calibration sans atténuateur"
   ]
  },
  {
   "cell_type": "code",
   "execution_count": 8,
   "metadata": {},
   "outputs": [
    {
     "name": "stdout",
     "output_type": "stream",
     "text": [
      "Ts_ON 10698.74\n",
      "T2 2897.20 K, T12 168.26 K\n",
      "Y2 4.27, Y12 23.71\n",
      "G1 45.69 dB\n",
      "T1 168.18 K\n",
      "F 1.58, NF 1.99\n"
     ]
    }
   ],
   "source": [
    "N2_ON = -126.47\n",
    "N2_OFF = -132.77\n",
    "N12_ON = -81.75\n",
    "N12_OFF = -95.5\n",
    "\n",
    "noise_factor(N2_ON, N2_OFF, N12_ON, N12_OFF, ENR=16.55-1) # 16.55 dB @10GHz"
   ]
  },
  {
   "cell_type": "markdown",
   "metadata": {},
   "source": [
    "# Mesure du facteur de bruit d'un quadripôle"
   ]
  },
  {
   "cell_type": "code",
   "execution_count": 11,
   "metadata": {},
   "outputs": [
    {
     "name": "stdout",
     "output_type": "stream",
     "text": [
      "P0_dB -173.98 dBm\n"
     ]
    }
   ],
   "source": [
    "kB = 1.38e-23\n",
    "P0_dB = 10 * np.log10(kB * 290) + 30\n",
    "print(f\"P0_dB {P0_dB:.2f} dBm\")"
   ]
  },
  {
   "cell_type": "markdown",
   "metadata": {},
   "source": [
    "## Câble non pris en compte / -70dBm source"
   ]
  },
  {
   "cell_type": "code",
   "execution_count": 20,
   "metadata": {},
   "outputs": [
    {
     "name": "stdout",
     "output_type": "stream",
     "text": [
      "Fq 1.74 dB\n"
     ]
    }
   ],
   "source": [
    "# Etape 1\n",
    "P1_dB = -140.1\n",
    "# Etape 2\n",
    "P2_dB = -135.9\n",
    "# Etape 3\n",
    "P3_dB = -133.2\n",
    "# Etape 4\n",
    "P4_dB = -104.4\n",
    "#\n",
    "P0 = 10**(P0_dB / 10)\n",
    "P1 = 10**(P1_dB / 10)\n",
    "P2 = 10**(P2_dB / 10)\n",
    "P3 = 10**(P3_dB / 10)\n",
    "P4 = 10**(P4_dB / 10)\n",
    "Fq = (P1 - P0) / P0 * (P3 - P2) / (P4 - P3)\n",
    "Fq_dB = 10 * np.log10(Fq)\n",
    "print(f\"Fq {Fq_dB:.2f} dB\")"
   ]
  },
  {
   "cell_type": "markdown",
   "metadata": {},
   "source": [
    "## Prise en compte du câble / -60dBm source"
   ]
  },
  {
   "cell_type": "code",
   "execution_count": 21,
   "metadata": {},
   "outputs": [
    {
     "name": "stdout",
     "output_type": "stream",
     "text": [
      "Fq 0.56 dB\n"
     ]
    }
   ],
   "source": [
    "# Etape 1\n",
    "P1_dB = -131.50\n",
    "# Etape 2\n",
    "P2_dB = -136.07\n",
    "# Etape 3\n",
    "P3_dB = -133.12\n",
    "# Etape 4\n",
    "P4_dB = -94.27\n",
    "#\n",
    "P0 = 10**(P0_dB / 10)\n",
    "P1 = 10**(P1_dB / 10)\n",
    "P2 = 10**(P2_dB / 10)\n",
    "P3 = 10**(P3_dB / 10)\n",
    "P4 = 10**(P4_dB / 10)\n",
    "Fq = (P1 - P0) / P0 * (P3 - P2) / (P4 - P3)\n",
    "Fq_dB = 10 * np.log10(Fq)\n",
    "print(f\"Fq {Fq_dB:.2f} dB\")"
   ]
  },
  {
   "cell_type": "markdown",
   "metadata": {},
   "source": [
    "## Prise en compte du câble / -70dBm source"
   ]
  },
  {
   "cell_type": "code",
   "execution_count": 22,
   "metadata": {},
   "outputs": [
    {
     "name": "stdout",
     "output_type": "stream",
     "text": [
      "Fq 2.01 dB\n"
     ]
    }
   ],
   "source": [
    "# Etape 1\n",
    "P1_dB = -139.88\n",
    "# Etape 2\n",
    "P2_dB = -136.09\n",
    "# Etape 3\n",
    "P3_dB = -133.08\n",
    "# Etape 4\n",
    "P4_dB = -104.00\n",
    "#\n",
    "P0 = 10**(P0_dB / 10)\n",
    "P1 = 10**(P1_dB / 10)\n",
    "P2 = 10**(P2_dB / 10)\n",
    "P3 = 10**(P3_dB / 10)\n",
    "P4 = 10**(P4_dB / 10)\n",
    "Fq = (P1 - P0) / P0 * (P3 - P2) / (P4 - P3)\n",
    "Fq_dB = 10 * np.log10(Fq)\n",
    "print(f\"Fq {Fq_dB:.2f} dB\")"
   ]
  },
  {
   "cell_type": "markdown",
   "metadata": {},
   "source": [
    "## Prise en compte du câble / -50dBm source"
   ]
  },
  {
   "cell_type": "code",
   "execution_count": 30,
   "metadata": {},
   "outputs": [
    {
     "name": "stdout",
     "output_type": "stream",
     "text": [
      "Fq 0.18 dB\n",
      "Fq2 0.18 dB\n"
     ]
    }
   ],
   "source": [
    "# Etape 1\n",
    "P1_dB = -121.8\n",
    "# Etape 2\n",
    "P2_dB = -136.08\n",
    "# Etape 3\n",
    "P3_dB = -133.15\n",
    "# Etape 4\n",
    "P4_dB = -84.24\n",
    "#\n",
    "P0 = 10**(P0_dB / 10)\n",
    "P1 = 10**(P1_dB / 10)\n",
    "P2 = 10**(P2_dB / 10)\n",
    "P3 = 10**(P3_dB / 10)\n",
    "P4 = 10**(P4_dB / 10)\n",
    "Fq = (P1 - P0) / P0 * (P3 - P2) / (P4 - P3)\n",
    "Fq2 = P1 / P0 * (P3 - P2) / P4\n",
    "Fq_dB = 10 * np.log10(Fq)\n",
    "Fq_dB2 = 10 * np.log10(Fq2)\n",
    "print(f\"Fq {Fq_dB:.2f} dB\")\n",
    "print(f\"Fq2 {Fq_dB:.2f} dB\")"
   ]
  },
  {
   "cell_type": "markdown",
   "metadata": {},
   "source": [
    "## Prise en compte du câble / -40dBm source /!\\ ADC over range /!\\"
   ]
  },
  {
   "cell_type": "code",
   "execution_count": 28,
   "metadata": {},
   "outputs": [
    {
     "name": "stdout",
     "output_type": "stream",
     "text": [
      "Fq -5.45 dB\n"
     ]
    }
   ],
   "source": [
    "# Etape 1\n",
    "P1_dB = -111.80\n",
    "# Etape 2\n",
    "P2_dB = -136.08\n",
    "# Etape 3\n",
    "P3_dB = -133.15\n",
    "# Etape 4\n",
    "P4_dB = -68.61\n",
    "#\n",
    "P0 = 10**(P0_dB / 10)\n",
    "P1 = 10**(P1_dB / 10)\n",
    "P2 = 10**(P2_dB / 10)\n",
    "P3 = 10**(P3_dB / 10)\n",
    "P4 = 10**(P4_dB / 10)\n",
    "Fq = (P1 - P0) / P0 * (P3 - P2) / (P4 - P3)\n",
    "Fq_dB = 10 * np.log10(Fq)\n",
    "print(f\"Fq {Fq_dB:.2f} dB\")"
   ]
  },
  {
   "cell_type": "code",
   "execution_count": null,
   "metadata": {},
   "outputs": [],
   "source": []
  }
 ],
 "metadata": {
  "kernelspec": {
   "display_name": "Python 3",
   "language": "python",
   "name": "python3"
  },
  "language_info": {
   "codemirror_mode": {
    "name": "ipython",
    "version": 3
   },
   "file_extension": ".py",
   "mimetype": "text/x-python",
   "name": "python",
   "nbconvert_exporter": "python",
   "pygments_lexer": "ipython3",
   "version": "3.8.5"
  }
 },
 "nbformat": 4,
 "nbformat_minor": 4
}
